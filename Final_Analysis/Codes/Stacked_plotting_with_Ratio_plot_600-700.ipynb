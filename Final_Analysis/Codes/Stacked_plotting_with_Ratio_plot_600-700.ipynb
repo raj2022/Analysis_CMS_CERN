{
 "cells": [
  {
   "cell_type": "code",
   "execution_count": 1,
   "metadata": {},
   "outputs": [
    {
     "name": "stdout",
     "output_type": "stream",
     "text": [
      "Welcome to JupyROOT 6.20/06\n"
     ]
    }
   ],
   "source": [
    "import ROOT\n",
    "import sys\n",
    "import os\n",
    "import numpy as np\n",
    "from ROOT import TCanvas, TColor, TGaxis, TH1F, TPad\n",
    "from ROOT import kBlack, kBlue, kRed"
   ]
  },
  {
   "cell_type": "code",
   "execution_count": 2,
   "metadata": {},
   "outputs": [],
   "source": [
    "stack_i = ROOT.THStack(\"\", \"\")\n",
    "ROOT.gROOT.SetBatch()\n",
    "ROOT.gStyle.SetOptStat(0)"
   ]
  },
  {
   "cell_type": "code",
   "execution_count": 3,
   "metadata": {},
   "outputs": [
    {
     "name": "stdout",
     "output_type": "stream",
     "text": [
      "TFile**\t\t/eos/user/s/sraj/M.Sc._Thesis/Plot_M.Sc._thesis/Final_training/MyrootFile_test_with_weight_after_testing_on_training_Tprime_600-700_all_five_background.root\t\n",
      " TFile*\t\t/eos/user/s/sraj/M.Sc._Thesis/Plot_M.Sc._thesis/Final_training/MyrootFile_test_with_weight_after_testing_on_training_Tprime_600-700_all_five_background.root\t\n",
      "  KEY: TH1D\tdatafile;1\tdatafile\n",
      "  KEY: TH1D\tttgg;1\tttgg\n",
      "  KEY: TH1D\tttjets;1\tttjets\n",
      "  KEY: TH1D\tdiphotongamma;1\tdiphotongamma\n",
      "  KEY: TH1D\tgjets;1\tgjets\n",
      "  KEY: TH1D\tttgjets;1\tttgjets\n",
      "  KEY: TH1D\tTprime_600;1\tTprime_600\n",
      "  KEY: TH1D\tTprime_700;1\tTprime_700\n",
      "  KEY: TH1D\tSMHiggs;1\tSMHiggs\n"
     ]
    }
   ],
   "source": [
    "infile = ROOT.TFile(\"/eos/user/s/sraj/M.Sc._Thesis/Plot_M.Sc._thesis/Final_training/MyrootFile_test_with_weight_after_testing_on_training_Tprime_600-700_all_five_background.root\",\" READ \")\n",
    "infile.ls();"
   ]
  },
  {
   "cell_type": "code",
   "execution_count": 4,
   "metadata": {},
   "outputs": [],
   "source": [
    "hist_data = infile.Get(\"datafile\")\n",
    "hist_1 = infile.Get(\"ttgg\")\n",
    "hist_2 = infile.Get(\"ttjets\")\n",
    "hist_3 = infile.Get(\"diphotongamma\")\n",
    "hist_4 = infile.Get(\"gjets\")\n",
    "hist_5 = infile.Get(\"ttgjets\")\n",
    "hist_6 = infile.Get(\"Tprime_600\")\n",
    "hist_7 = infile.Get(\"Tprime_700\")\n",
    "hist_8 = infile.Get(\"SMHiggs\")"
   ]
  },
  {
   "cell_type": "code",
   "execution_count": 5,
   "metadata": {},
   "outputs": [],
   "source": [
    "c1 = ROOT.TCanvas(\"c1\", \"\",600,600)\n",
    "h1 = ROOT.TH1D(\"h1\", \"h1\", 40, 0, 1)\n",
    "totalMC= ROOT.TH1D(\"totalMC\", \"Events;DNN score;\",40,0,1)\n"
   ]
  },
  {
   "cell_type": "code",
   "execution_count": 6,
   "metadata": {},
   "outputs": [],
   "source": [
    "h1.Add(hist_data)\n",
    "h1.SetMarkerStyle(20)\n",
    "h1.SetMarkerSize(1)\n",
    "h1.SetMarkerColor(1)\n",
    "h1.SetLineWidth(1)\n",
    "h1.SetLineColor(1)\n",
    "\n",
    "totalMC.Add(hist_1)\n",
    "totalMC.Add(hist_2)\n",
    "totalMC.Add(hist_3)\n",
    "totalMC.Add(hist_4)\n",
    "totalMC.Add(hist_5)\n",
    "# totalMC.Add(hist_8)\n",
    "totalMCYield=totalMC.Integral()\n",
    "DataYield= h1.Integral()\n",
    "DataMC_scaleF=DataYield/totalMCYield  "
   ]
  },
  {
   "cell_type": "code",
   "execution_count": 7,
   "metadata": {},
   "outputs": [],
   "source": [
    "hist_1.Scale(DataMC_scaleF)\n",
    "hist_2.Scale(DataMC_scaleF)\n",
    "hist_3.Scale(DataMC_scaleF)\n",
    "hist_4.Scale(DataMC_scaleF)\n",
    "hist_5.Scale(DataMC_scaleF)\n",
    "hist_6.Scale(DataMC_scaleF)\n",
    "hist_7.Scale(DataMC_scaleF)\n",
    "hist_8.Scale(DataMC_scaleF)"
   ]
  },
  {
   "cell_type": "code",
   "execution_count": 8,
   "metadata": {},
   "outputs": [],
   "source": [
    "hist_1.SetFillColor(32)\n",
    "hist_2.SetFillColor(49)\n",
    "hist_3.SetFillColor(39)\n",
    "hist_4.SetFillColor(4)\n",
    "hist_5.SetFillColor(46)\n",
    "hist_8.SetFillColor(41)"
   ]
  },
  {
   "cell_type": "code",
   "execution_count": 9,
   "metadata": {},
   "outputs": [
    {
     "name": "stderr",
     "output_type": "stream",
     "text": [
      "Warning in <TGraphAsymmErrors::Divide>: Number of graph points is different than histogram bins - 4 points have been skipped\n"
     ]
    },
    {
     "data": {
      "image/png": "[encoded data removed]",
      "text/plain": [
       "<IPython.core.display.Image object>"
      ]
     },
     "metadata": {},
     "output_type": "display_data"
    }
   ],
   "source": [
    "# stack_i.Add(hist_0)\n",
    "# hist_0.SetFillColor(7)\n",
    "stack_i.Add(hist_1)\n",
    "stack_i.Add(hist_2)\n",
    "stack_i.Add(hist_3)\n",
    "stack_i.Add(hist_4)\n",
    "stack_i.Add(hist_5)\n",
    "# stack_i.Add(hist_8)\n",
    "\n",
    "hist_6.Scale(500)\n",
    "hist_7.Scale(500)\n",
    "\n",
    "legend = ROOT.TLegend()\n",
    "\n",
    "hist_6.SetLineWidth(2)\n",
    "hist_6.SetLineColor(1)\n",
    "hist_7.SetLineWidth(2)\n",
    "hist_7.SetLineColor(2)\n",
    "\n",
    "legend = ROOT.TLegend(0.30,0.7,0.8,0.9)\n",
    "legend.SetNColumns(3)\n",
    "legend.AddEntry(hist_data)\n",
    "legend.AddEntry(hist_1)\n",
    "legend.AddEntry(hist_2)\n",
    "legend.AddEntry(hist_3)\n",
    "legend.AddEntry(hist_4)\n",
    "legend.AddEntry(hist_5)\n",
    "\n",
    "stack_i.Draw(\"hist\")\n",
    "hist_6.Draw(\"SAME hist\")\n",
    "hist_7.Draw(\"SAME hist\")\n",
    "legend.AddEntry(hist_6)\n",
    "legend.AddEntry(hist_7)\n",
    "hist_data.Draw(\"E0 x0 SAME\")\n",
    "\n",
    "rp = ROOT.TRatioPlot(stack_i,h1)\n",
    "# rp.GetLowYaxis().SetNdivisions(1000)\n",
    "# rp.GetLowerRefYaxis().SetRangeUser(0,2)\n",
    "\n",
    "tex1 = ROOT.TLatex(0.10, 0.95, \"#bf{CMS} #it{Simulation Premilinary}\")\n",
    "tex1.SetNDC()\n",
    "tex1.SetTextAlign(13)\n",
    "tex1.SetTextFont(42)\n",
    "tex1.SetTextSize(0.04)\n",
    "tex1.SetLineWidth(2)\n",
    "\n",
    "tex2 = ROOT.TLatex(0.71, 0.95, \"3000 fb^{-1} (14 TeV)\")\n",
    "tex2.SetNDC()\n",
    "tex2.SetTextAlign(13)\n",
    "tex2.SetTextFont(42)\n",
    "tex2.SetTextSize(0.04)\n",
    "tex2.SetLineWidth(2)\n",
    "\n",
    "\n",
    "\n",
    "\n",
    "tex1.Draw()\n",
    "tex2.Draw()\n",
    "totalMC.SetTitle(\"Events\")\n",
    "totalMC.SetMaximum(2)\n",
    "totalMC.Draw()\n",
    "c1.SetLogy()\n",
    "legend.Draw()\n",
    "rp.Draw()\n",
    "c1.Draw()"
   ]
  },
  {
   "cell_type": "code",
   "execution_count": null,
   "metadata": {},
   "outputs": [],
   "source": [
    "# from ROOT import gROOT \n",
    "# gROOT.GetListOfCanvases().Draw()"
   ]
  },
  {
   "cell_type": "code",
   "execution_count": null,
   "metadata": {},
   "outputs": [],
   "source": []
  },
  {
   "cell_type": "code",
   "execution_count": null,
   "metadata": {},
   "outputs": [],
   "source": []
  }
 ],
 "metadata": {
  "kernelspec": {
   "display_name": "Python 3",
   "language": "python",
   "name": "python3"
  },
  "language_info": {
   "codemirror_mode": {
    "name": "ipython",
    "version": 3
   },
   "file_extension": ".py",
   "mimetype": "text/x-python",
   "name": "python",
   "nbconvert_exporter": "python",
   "pygments_lexer": "ipython3",
   "version": "3.7.6"
  }
 },
 "nbformat": 4,
 "nbformat_minor": 2
}
