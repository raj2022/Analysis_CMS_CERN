{
 "cells": [
  {
   "cell_type": "markdown",
   "metadata": {},
   "source": [
    "## Training with TPrime 600GeV to 700GeV & all five As  background (tth, thq, VH, VHq, and gg)\n",
    "\n",
    ">This is the training of signal and bacground to get the output as a HDF5 file. The output file futher used to test on the TPrime at 600 GeV, 625GeV, 650GeV, 675GeV, 700GeV, 800GeV, 900GeV, 1000GeV, 1100GeV, and 1200GeV as signal.\n",
    "<br>\n",
    "> All the training is to check on how our model behaves.<br>\n",
    "> NExt also check the btraining output with the all other testing on the datafiles.<br>\n",
    "> The output after the testing on the differrent files were saved in a root file.\n",
    "> Further plotted the [stacked plot](https://github.com/raj2022/HiggsAnalysis/blob/main/Final_Analysis/Stacked_plotting_600_700_with_increased_nodes.ipynb)\n"
   ]
  },
  {
   "cell_type": "code",
   "execution_count": 1,
   "metadata": {},
   "outputs": [
    {
     "name": "stderr",
     "output_type": "stream",
     "text": [
      "Using TensorFlow backend.\n"
     ]
    },
    {
     "name": "stdout",
     "output_type": "stream",
     "text": [
      "Welcome to JupyROOT 6.20/06\n"
     ]
    }
   ],
   "source": [
    "#importing basic modules\n",
    "import numpy as np\n",
    "import pandas as pd\n",
    "import math\n",
    "import glob\n",
    "import sys\n",
    "import matplotlib.pyplot as plt\n",
    "import seaborn as sns\n",
    "sns.set(color_codes = True)\n",
    "sns.set_palette(sns.color_palette(\"muted\"))\n",
    "\n",
    "#import all modules related to Keras\n",
    "import keras\n",
    "from keras.models import Sequential, load_model\n",
    "from keras.layers import Dense, activations\n",
    "from keras.callbacks import EarlyStopping, ModelCheckpoint, Callback\n",
    "from keras.optimizers import adam, adadelta, adagrad\n",
    "\n",
    "#importing all ROOT modules\n",
    "import ROOT\n",
    "from itertools import tee, islice\n",
    "from ROOT import TFile, TCanvas, TPad, TPaveLabel, TPaveText, TTree, TH1F, TF1\n",
    "from root_numpy import root2array, tree2array, array2tree, array2root\n",
    "from ROOT import gROOT, AddressOf\n",
    "from root_numpy import root2array, rec2array\n",
    "\n",
    "#importing sklearn modules\n",
    "from sklearn.tree import DecisionTreeClassifier\n",
    "from sklearn.ensemble import AdaBoostClassifier\n",
    "from sklearn.metrics import classification_report, roc_auc_score\n",
    "import matplotlib.ticker as ticker\n",
    "from sklearn.neural_network import MLPClassifier\n",
    "from sklearn.model_selection import train_test_split\n",
    "from sklearn import metrics\n",
    "from sklearn.discriminant_analysis import LinearDiscriminantAnalysis as LDA\n",
    "from sklearn.neural_network import MLPClassifier\n",
    "from sklearn.svm import SVC\n",
    "from sklearn import tree"
   ]
  },
  {
   "cell_type": "markdown",
   "metadata": {},
   "source": [
    "# Importing and Reading all the signal datasets \n",
    "Tprime from 600GeV to 700GeV will be used as the signal. Importing from the eos."
   ]
  },
  {
   "cell_type": "code",
   "execution_count": 2,
   "metadata": {},
   "outputs": [],
   "source": [
    "Tprime_600 = '/eos/user/p/prsaha/for_Shivam/output_TprimeBToTH_Hgg_M-600_LH_TuneCP5_PSweights_13TeV-madgraph_pythia8.root'\n",
    "Tprime_625 = '/eos/user/p/prsaha/for_Shivam/output_TprimeBToTH_Hgg_M-625_LH_TuneCP5_PSweights_13TeV-madgraph_pythia8.root'\n",
    "Tprime_650 = '/eos/user/p/prsaha/for_Shivam/output_TprimeBToTH_Hgg_M-650_LH_TuneCP5_PSweights_13TeV-madgraph_pythia8.root'\n",
    "Tprime_675 = '/eos/user/p/prsaha/for_Shivam/output_TprimeBToTH_Hgg_M-675_LH_TuneCP5_PSweights_13TeV-madgraph_pythia8.root'\n",
    "Tprime_700 = '/eos/user/p/prsaha/for_Shivam/output_TprimeBToTH_Hgg_M-700_LH_TuneCP5_PSweights_13TeV-madgraph_pythia8.root'\n"
   ]
  },
  {
   "cell_type": "markdown",
   "metadata": {},
   "source": [
    "### Reading from the trees in the .root files"
   ]
  },
  {
   "cell_type": "code",
   "execution_count": 3,
   "metadata": {},
   "outputs": [],
   "source": [
    "treeName_600 = \"tagsDumper/trees/Tprime_600_13TeV_THQLeptonicTag\"\n",
    "treeName_625 = \"tagsDumper/trees/Tprime_625_13TeV_THQLeptonicTag\"\n",
    "treeName_650 = \"tagsDumper/trees/Tprime_650_13TeV_THQLeptonicTag\"\n",
    "treeName_675 = \"tagsDumper/trees/Tprime_675_13TeV_THQLeptonicTag\"\n",
    "treeName_700 = \"tagsDumper/trees/Tprime_700_13TeV_THQLeptonicTag\""
   ]
  },
  {
   "cell_type": "markdown",
   "metadata": {},
   "source": [
    "#### All the input variables from the ROOT file used in the training"
   ]
  },
  {
   "cell_type": "code",
   "execution_count": 4,
   "metadata": {},
   "outputs": [],
   "source": [
    "columns = ['dipho_leadPt',  'dipho_mass',  'dipho_leadEta',  'dipho_subleadEta', 'dipho_leadIDMVA',\n",
    "           'dipho_subleadIDMVA',              'dipho_lead_haspixelseed',   'dipho_sublead_haspixelseed',\n",
    "           'n_jets',  'n_bjets',  'n_centraljets',  'lepton_charge',   'lepton_leadPt',  'lepton_leadEta',\n",
    "            'fwdjet1_pt',       'fwdjet1_eta', 'fwdjet1_discr', 'top_mt',   'dr_tHchainfwdjet',  'dr_leptonbjet',\n",
    "             'dr_leptonfwdjet',      'dr_bjetfwdjet',      'dr_leadphofwdjet',    'dr_subleadphofwdjet',\n",
    "             'bjet1_pt',  'bjet2_pt',  'bjet3_pt', 'bjet1_eta', 'bjet2_eta',    'bjet3_eta', 'bjet1_discr',\n",
    "             'bjet2_discr',   'bjet3_discr',     'jet1_pt',     'jet2_pt',  'jet3_pt',   'jet1_eta', 'jet2_eta',\n",
    "             'jet3_eta',              'jet1_discr',              'jet2_discr',              'jet3_discr']\n",
    "             "
   ]
  },
  {
   "cell_type": "markdown",
   "metadata": {},
   "source": [
    "\n",
    "#### Reading the input variables from the ROOT file used in the training"
   ]
  },
  {
   "cell_type": "code",
   "execution_count": 5,
   "metadata": {},
   "outputs": [],
   "source": [
    "signal_Tprime_600 = root2array(Tprime_600, treeName_600, columns)   #Signal TPrime at 600GeV\n",
    "signal_Tprime_625 = root2array(Tprime_625, treeName_625, columns)   #Signal TPrime at 625GeV\n",
    "signal_Tprime_650 = root2array(Tprime_650, treeName_650, columns)   #Signal TPrime at 650GeV\n",
    "signal_Tprime_675 = root2array(Tprime_675, treeName_675, columns)   #Signal TPrime at 675GeV\n",
    "signal_Tprime_700 = root2array(Tprime_700, treeName_700, columns)   #Signal TPrime at 700GeV\n"
   ]
  },
  {
   "cell_type": "markdown",
   "metadata": {},
   "source": [
    "##### Converting into the pandas dataframes"
   ]
  },
  {
   "cell_type": "code",
   "execution_count": 6,
   "metadata": {},
   "outputs": [],
   "source": [
    "signal_Tprime600= pd.DataFrame(signal_Tprime_600)\n",
    "signal_Tprime625= pd.DataFrame(signal_Tprime_625)\n",
    "signal_Tprime650= pd.DataFrame(signal_Tprime_650)\n",
    "signal_Tprime675= pd.DataFrame(signal_Tprime_675)\n",
    "signal_Tprime700= pd.DataFrame(signal_Tprime_700)"
   ]
  },
  {
   "cell_type": "code",
   "execution_count": 7,
   "metadata": {},
   "outputs": [
    {
     "name": "stdout",
     "output_type": "stream",
     "text": [
      "shape of the signal_Tprime at 600GeV is: (81013, 42) \n",
      "\n",
      "shape of the signal_Tprime at 625GeV is: (84479, 42) \n",
      "\n",
      "shape of the signal_Tprime at 650GeV is: (91640, 42) \n",
      "\n",
      "shape of the signal_Tprime at 675GeV is: (88237, 42) \n",
      "\n",
      "shape of the signal_Tprime at 700GeV is: (92703, 42) \n",
      "\n"
     ]
    }
   ],
   "source": [
    "# Reading the shapes and size of the data\n",
    "print('shape of the signal_Tprime at 600GeV is:',signal_Tprime600.shape, '\\n')\n",
    "print('shape of the signal_Tprime at 625GeV is:',signal_Tprime625.shape, '\\n')\n",
    "print('shape of the signal_Tprime at 650GeV is:',signal_Tprime650.shape, '\\n')\n",
    "print('shape of the signal_Tprime at 675GeV is:',signal_Tprime675.shape, '\\n')\n",
    "print('shape of the signal_Tprime at 700GeV is:',signal_Tprime700.shape, '\\n')"
   ]
  },
  {
   "cell_type": "markdown",
   "metadata": {},
   "source": [
    "# Importing and Reading all the Background datasets \n",
    "ttH, tHq, VH, VHq, ggH will be used as the signal."
   ]
  },
  {
   "cell_type": "code",
   "execution_count": 8,
   "metadata": {},
   "outputs": [],
   "source": [
    "back_1 = '/eos/home-s/sraj/M.Sc._Thesis/data_files/output_TTGG_0Jets_TuneCP5_13TeV_amcatnlo_madspin_pythia8.root'\n",
    "back_01= '/eos/home-s/sraj/M.Sc._Thesis/data_files/output_ttHJetToGG_M125_13TeV_amcatnloFXFX_madspin_pythia8.root'\n",
    "back_02 = '/eos/home-s/sraj/M.Sc._Thesis/data_files/output_VBFHToGG_M125_13TeV_amcatnlo_pythia8.root'\n",
    "back_03 = '/eos/home-s/sraj/M.Sc._Thesis/data_files/output_VHToGG_M125_13TeV_amcatnloFXFX_madspin_pythia8.root'\n",
    "back_04 = '/eos/home-s/sraj/M.Sc._Thesis/data_files/output_THQ_ctcvcp_HToGG_M125_13TeV-madgraph-pythia8.root'\n",
    "back_05= '/eos/home-s/sraj/M.Sc._Thesis/data_files/output_GluGluHToGG_M125_TuneCP5_13TeV-amcatnloFXFX-pythia8.root'"
   ]
  },
  {
   "cell_type": "markdown",
   "metadata": {},
   "source": [
    "#### Reading from the trees"
   ]
  },
  {
   "cell_type": "code",
   "execution_count": 12,
   "metadata": {},
   "outputs": [],
   "source": [
    "treeName_back_1 =\"tagsDumper/trees/ttgg_13TeV_THQLeptonicTag\" \n",
    "treeName_back_05 = \"tagsDumper/trees/ggh_125_13TeV_THQLeptonicTag\"\n",
    "treeName_back_04 = \"tagsDumper/trees/thq_125_13TeV_THQLeptonicTag\"\n",
    "treeName_back_03 = \"tagsDumper/trees/vh_125_13TeV_THQLeptonicTag\"\n",
    "treeName_back_02 = 'tagsDumper/trees/vbf_125_13TeV_THQLeptonicTag'\n",
    "treeName_back_01 = \"tagsDumper/trees/tth_125_13TeV_THQLeptonicTag\"\n"
   ]
  },
  {
   "cell_type": "code",
   "execution_count": 13,
   "metadata": {},
   "outputs": [],
   "source": [
    "columns = ['dipho_leadPt',  'dipho_mass',  'dipho_leadEta',  'dipho_subleadEta', 'dipho_leadIDMVA',\n",
    "           'dipho_subleadIDMVA',              'dipho_lead_haspixelseed',   'dipho_sublead_haspixelseed',\n",
    "           'n_jets',  'n_bjets',  'n_centraljets',  'lepton_charge',   'lepton_leadPt',  'lepton_leadEta',\n",
    "            'fwdjet1_pt',       'fwdjet1_eta', 'fwdjet1_discr', 'top_mt',   'dr_tHchainfwdjet',  'dr_leptonbjet',\n",
    "             'dr_leptonfwdjet',      'dr_bjetfwdjet',      'dr_leadphofwdjet',    'dr_subleadphofwdjet',\n",
    "             'bjet1_pt',  'bjet2_pt',  'bjet3_pt', 'bjet1_eta', 'bjet2_eta',    'bjet3_eta', 'bjet1_discr',\n",
    "             'bjet2_discr',   'bjet3_discr',     'jet1_pt',     'jet2_pt',  'jet3_pt',   'jet1_eta', 'jet2_eta',\n",
    "             'jet3_eta',              'jet1_discr',              'jet2_discr',              'jet3_discr']\n",
    "             "
   ]
  },
  {
   "cell_type": "code",
   "execution_count": 14,
   "metadata": {},
   "outputs": [],
   "source": [
    "back_ttgg = root2array(back_1, treeName_back_1, columns)     # ttgg background(Not using this)\n",
    "back_tth = root2array(back_01, treeName_back_01, columns)      \n",
    "back_vbf = root2array(back_02, treeName_back_02, columns)\n",
    "back_vh = root2array(back_03, treeName_back_03, columns)\n",
    "back_thq = root2array(back_04, treeName_back_04, columns)\n",
    "back_ggh = root2array(back_05, treeName_back_05, columns)\n"
   ]
  },
  {
   "cell_type": "code",
   "execution_count": 15,
   "metadata": {},
   "outputs": [],
   "source": [
    "back_tth = pd.DataFrame(back_tth)          #tth background dataframe \n",
    "back_vbf = pd.DataFrame(back_vbf)             #vbf background dataframe \n",
    "back_vh = pd.DataFrame(back_vh)             #vh background dataframe \n",
    "back_thq = pd.DataFrame(back_thq) #thq background dataframe \n",
    "back_ggh = pd.DataFrame(back_ggh) #ggh background dataframe \n",
    "back_ttgg = pd.DataFrame(back_ttgg) #ttgg as the background converted into the data frame"
   ]
  },
  {
   "cell_type": "code",
   "execution_count": 16,
   "metadata": {},
   "outputs": [
    {
     "name": "stdout",
     "output_type": "stream",
     "text": [
      "Shape of the ttgg backgground (55847, 42) \n",
      "\n",
      "Shape of the tth backgground (92486, 42) \n",
      "\n",
      "Shape of the thq backgground (338874, 42) \n",
      "\n",
      "Shape of the ggh backgground (529, 42) \n",
      "\n",
      "Shape of the vh backgground (8080, 42) \n",
      "\n",
      "Shape of the vbf backgground (1199, 42) \n",
      "\n"
     ]
    }
   ],
   "source": [
    "print('Shape of the ttgg backgground', back_ttgg.shape, '\\n')\n",
    "print('Shape of the tth backgground', back_tth.shape, '\\n')\n",
    "print('Shape of the thq backgground', back_thq.shape, '\\n')\n",
    "print('Shape of the ggh backgground', back_ggh.shape, '\\n')\n",
    "print('Shape of the vh backgground', back_vh.shape, '\\n')\n",
    "print('Shape of the vbf backgground', back_vbf.shape, '\\n')\n",
    "# print('Total shape', back_ttgg.shape + back_tth.shape + back_thq.shape + back_ggh.shape+ back_vh.shape+back_vbf.shape )\n"
   ]
  },
  {
   "cell_type": "code",
   "execution_count": 17,
   "metadata": {},
   "outputs": [
    {
     "data": {
      "text/plain": [
       "<matplotlib.axes._subplots.AxesSubplot at 0x7f8851fa1510>"
      ]
     },
     "execution_count": 17,
     "metadata": {},
     "output_type": "execute_result"
    },
    {
     "data": {
      "image/png": "[encoded data removed]",
      "text/plain": [
       "<Figure size 432x288 with 1 Axes>"
      ]
     },
     "metadata": {
      "needs_background": "light"
     },
     "output_type": "display_data"
    }
   ],
   "source": [
    "signal_Tprime600['dipho_subleadEta'].plot.hist(bins=100, histtype = 'step', edgecolor = 'purple', alpha = 1,  density=True, fill= False,color = 'orange', label = 'data' )\n",
    "signal_Tprime700['dipho_subleadEta'].plot.hist(bins=100, histtype = 'step', edgecolor = 'green', alpha = 1,  density=True, fill= False,color = 'red', label = 'data' )\n",
    "back_tth['dipho_subleadEta'].plot.hist(bins=100, histtype = 'step', edgecolor = 'red', alpha = 1,  density=True, fill= False,color = 'red', label = 'data' )\n"
   ]
  },
  {
   "cell_type": "code",
   "execution_count": 18,
   "metadata": {},
   "outputs": [
    {
     "data": {
      "text/plain": [
       "<matplotlib.axes._subplots.AxesSubplot at 0x7f8851effb50>"
      ]
     },
     "execution_count": 18,
     "metadata": {},
     "output_type": "execute_result"
    },
    {
     "data": {
      "image/png": "[encoded data removed]",
      "text/plain": [
       "<Figure size 432x288 with 1 Axes>"
      ]
     },
     "metadata": {
      "needs_background": "light"
     },
     "output_type": "display_data"
    }
   ],
   "source": [
    "signal_Tprime600['dipho_mass'].plot.hist(bins=100, histtype = 'step', edgecolor = 'purple', alpha = 1,  density=True, fill= False,color = 'orange', label = 'data' )\n",
    "signal_Tprime700['dipho_mass'].plot.hist(bins=100, histtype = 'step', edgecolor = 'green', alpha = 1,  density=True, fill= False,color = 'red', label = 'data' )\n",
    "back_tth['dipho_mass'].plot.hist(bins=100, histtype = 'step', edgecolor = 'red', alpha = 1,  density=True, fill= False,color = 'red', label = 'data' )\n"
   ]
  },
  {
   "cell_type": "code",
   "execution_count": 19,
   "metadata": {},
   "outputs": [
    {
     "data": {
      "text/plain": [
       "<matplotlib.axes._subplots.AxesSubplot at 0x7f88519eb610>"
      ]
     },
     "execution_count": 19,
     "metadata": {},
     "output_type": "execute_result"
    },
    {
     "data": {
      "image/png": "[encoded data removed]",
      "text/plain": [
       "<Figure size 432x288 with 1 Axes>"
      ]
     },
     "metadata": {
      "needs_background": "light"
     },
     "output_type": "display_data"
    }
   ],
   "source": [
    "\n",
    "signal_Tprime600['dipho_leadPt'].plot.hist(bins=100, histtype = 'step', edgecolor = 'purple', alpha = 1,  density=True, fill= False,color = 'orange', label = 'data' )\n",
    "signal_Tprime700['dipho_leadPt'].plot.hist(bins=100, histtype = 'step', edgecolor = 'green', alpha = 1,  density=True, fill= False,color = 'red', label = 'data' )\n",
    "back_tth['dipho_leadPt'].plot.hist(bins=100, histtype = 'step', edgecolor = 'red', alpha = 1,  density=True, fill= False,color = 'red', label = 'data' )\n"
   ]
  },
  {
   "cell_type": "code",
   "execution_count": 20,
   "metadata": {},
   "outputs": [
    {
     "data": {
      "text/plain": [
       "<matplotlib.axes._subplots.AxesSubplot at 0x7f88519db3d0>"
      ]
     },
     "execution_count": 20,
     "metadata": {},
     "output_type": "execute_result"
    },
    {
     "data": {
      "image/png": "[encoded data removed]",
      "text/plain": [
       "<Figure size 432x288 with 1 Axes>"
      ]
     },
     "metadata": {
      "needs_background": "light"
     },
     "output_type": "display_data"
    }
   ],
   "source": [
    "signal_Tprime600['dipho_leadEta'].plot.hist(bins=100, histtype = 'step', edgecolor = 'purple', alpha = 1,  density=True, fill= False,color = 'orange', label = 'data' )\n",
    "signal_Tprime700['dipho_leadEta'].plot.hist(bins=100, histtype = 'step', edgecolor = 'green', alpha = 1,  density=True, fill= False,color = 'red', label = 'data' )\n",
    "back_tth['dipho_leadEta'].plot.hist(bins=100, histtype = 'step', edgecolor = 'red', alpha = 1,  density=True, fill= False,color = 'red', label = 'data' )\n"
   ]
  },
  {
   "cell_type": "code",
   "execution_count": 21,
   "metadata": {},
   "outputs": [
    {
     "data": {
      "text/plain": [
       "<matplotlib.axes._subplots.AxesSubplot at 0x7f88519cdcd0>"
      ]
     },
     "execution_count": 21,
     "metadata": {},
     "output_type": "execute_result"
    },
    {
     "data": {
      "image/png": "[encoded data removed]",
      "text/plain": [
       "<Figure size 432x288 with 1 Axes>"
      ]
     },
     "metadata": {
      "needs_background": "light"
     },
     "output_type": "display_data"
    }
   ],
   "source": [
    "\n",
    "signal_Tprime600['dipho_leadIDMVA'].plot.hist(bins=100, histtype = 'step', edgecolor = 'purple', alpha = 1,  density=True, fill= False,color = 'orange', label = 'data' )\n",
    "signal_Tprime700['dipho_leadIDMVA'].plot.hist(bins=100, histtype = 'step', edgecolor = 'green', alpha = 1,  density=True, fill= False,color = 'red', label = 'data' )\n",
    "back_tth['dipho_leadIDMVA'].plot.hist(bins=100, histtype = 'step', edgecolor = 'red', alpha = 1,  density=True, fill= False,color = 'red', label = 'data' )\n",
    "back_thq['dipho_leadIDMVA'].plot.hist(bins=100, histtype = 'step', edgecolor = 'blue', alpha = 1,  density=True, fill= False,color = 'red', label = 'data' )\n",
    "back_ttgg['dipho_leadIDMVA'].plot.hist(bins=100, histtype = 'step', edgecolor = 'lime', alpha = 1,  density=True, fill= False,color = 'red', label = 'data' )\n"
   ]
  },
  {
   "cell_type": "code",
   "execution_count": 22,
   "metadata": {},
   "outputs": [
    {
     "data": {
      "text/plain": [
       "<matplotlib.axes._subplots.AxesSubplot at 0x7f8851910f50>"
      ]
     },
     "execution_count": 22,
     "metadata": {},
     "output_type": "execute_result"
    },
    {
     "data": {
      "image/png": "[encoded data removed]",
      "text/plain": [
       "<Figure size 432x288 with 1 Axes>"
      ]
     },
     "metadata": {
      "needs_background": "light"
     },
     "output_type": "display_data"
    }
   ],
   "source": [
    "signal_Tprime600['bjet1_eta'].plot.hist(bins=100, histtype = 'step', edgecolor = 'purple', alpha = 1,  density=True, fill= False,color = 'orange', label = 'data' )\n",
    "signal_Tprime700['bjet1_eta'].plot.hist(bins=100, histtype = 'step', edgecolor = 'green', alpha = 1,  density=True, fill= False,color = 'red', label = 'data' )\n",
    "back_tth['bjet1_eta'].plot.hist(bins=100, histtype = 'step', edgecolor = 'red', alpha = 1,  density=True, fill= False,color = 'red', label = 'data' )\n",
    "back_thq['bjet1_eta'].plot.hist(bins=100, histtype = 'step', edgecolor = 'blue', alpha = 1,  density=True, fill= False,color = 'red', label = 'data' )\n",
    "back_ttgg['bjet1_eta'].plot.hist(bins=100, histtype = 'step', edgecolor = 'lime', alpha = 1,  density=True, fill= False,color = 'red', label = 'data' )\n"
   ]
  },
  {
   "cell_type": "code",
   "execution_count": 23,
   "metadata": {},
   "outputs": [
    {
     "data": {
      "text/plain": [
       "<matplotlib.axes._subplots.AxesSubplot at 0x7f885185e510>"
      ]
     },
     "execution_count": 23,
     "metadata": {},
     "output_type": "execute_result"
    },
    {
     "data": {
      "image/png": "[encoded data removed]",
      "text/plain": [
       "<Figure size 432x288 with 1 Axes>"
      ]
     },
     "metadata": {
      "needs_background": "light"
     },
     "output_type": "display_data"
    }
   ],
   "source": [
    "signal_Tprime600['jet2_eta'].plot.hist(bins=100, histtype = 'step', edgecolor = 'purple', alpha = 1,  density=True, fill= False,color = 'orange', label = 'data' )\n",
    "signal_Tprime700['jet2_eta'].plot.hist(bins=100, histtype = 'step', edgecolor = 'green', alpha = 1,  density=True, fill= False,color = 'red', label = 'data' )\n",
    "back_tth['jet2_eta'].plot.hist(bins=100, histtype = 'step', edgecolor = 'red', alpha = 1,  density=True, fill= False,color = 'red', label = 'data' )\n",
    "back_thq['jet2_eta'].plot.hist(bins=100, histtype = 'step', edgecolor = 'blue', alpha = 1,  density=True, fill= False,color = 'red', label = 'data' )\n",
    "back_ttgg['jet2_eta'].plot.hist(bins=100, histtype = 'step', edgecolor = 'lime', alpha = 1,  density=True, fill= False,color = 'red', label = 'data' )\n"
   ]
  },
  {
   "cell_type": "markdown",
   "metadata": {},
   "source": [
    "## Training over the Tprime  600 GeV to 700GeV with all combined background"
   ]
  },
  {
   "cell_type": "markdown",
   "metadata": {},
   "source": [
    "**Training of the TPrime from 600 GeV to 700GeV**. first combing all the datafiles into one further doing the training on the model of the DNN."
   ]
  },
  {
   "cell_type": "code",
   "execution_count": 24,
   "metadata": {},
   "outputs": [],
   "source": [
    "signal = pd.concat((signal_Tprime600, signal_Tprime625, signal_Tprime650, signal_Tprime675),axis = 0)\n",
    "backgr = pd.concat((back_tth, back_ggh, back_thq, back_vbf, back_vh), axis=0)"
   ]
  },
  {
   "cell_type": "code",
   "execution_count": 25,
   "metadata": {},
   "outputs": [
    {
     "name": "stdout",
     "output_type": "stream",
     "text": [
      "Total signal shape is: (345369, 42) \n",
      "\n",
      "Total background shape is: (441168, 42)\n"
     ]
    }
   ],
   "source": [
    "print('Total signal shape is:', signal.shape, '\\n')\n",
    "print('Total background shape is:', backgr.shape)"
   ]
  },
  {
   "cell_type": "code",
   "execution_count": 26,
   "metadata": {},
   "outputs": [],
   "source": [
    "X = np.concatenate((signal, backgr))\n",
    "y = np.concatenate((np.ones(signal.shape[0]),\n",
    "                    np.zeros(backgr.shape[0])))"
   ]
  },
  {
   "cell_type": "code",
   "execution_count": 27,
   "metadata": {},
   "outputs": [
    {
     "data": {
      "text/plain": [
       "((786537, 42), (786537,))"
      ]
     },
     "execution_count": 27,
     "metadata": {},
     "output_type": "execute_result"
    }
   ],
   "source": [
    "X.shape, y.shape"
   ]
  },
  {
   "cell_type": "code",
   "execution_count": 28,
   "metadata": {},
   "outputs": [],
   "source": [
    "X_train,X_test, y_train, y_test = train_test_split(X, y, test_size=0.33, random_state =5)\n"
   ]
  },
  {
   "cell_type": "code",
   "execution_count": 29,
   "metadata": {},
   "outputs": [
    {
     "data": {
      "text/plain": [
       "((526979, 42), (526979,))"
      ]
     },
     "execution_count": 29,
     "metadata": {},
     "output_type": "execute_result"
    }
   ],
   "source": [
    "X_train.shape, y_train.shape"
   ]
  },
  {
   "cell_type": "code",
   "execution_count": 30,
   "metadata": {},
   "outputs": [
    {
     "data": {
      "text/plain": [
       "((259558, 42), (259558,))"
      ]
     },
     "execution_count": 30,
     "metadata": {},
     "output_type": "execute_result"
    }
   ],
   "source": [
    "X_test.shape, y_test.shape"
   ]
  },
  {
   "cell_type": "code",
   "execution_count": 31,
   "metadata": {},
   "outputs": [],
   "source": [
    "from keras.models import Sequential\n",
    "from keras.layers import Dense\n",
    "import tensorflow as tf\n",
    "import keras\n",
    "from keras.layers import Dropout\n",
    "from keras.constraints import maxnorm\n",
    "from keras.wrappers.scikit_learn import KerasClassifier\n",
    "from keras.constraints import maxnorm\n",
    "from keras.optimizers import SGD\n",
    "from sklearn.model_selection import cross_val_score\n",
    "from sklearn.preprocessing import LabelEncoder\n",
    "from sklearn.model_selection import StratifiedKFold\n",
    "from sklearn.preprocessing import StandardScaler\n",
    "from sklearn.pipeline import Pipeline\n",
    "from keras.utils.vis_utils import plot_model\n",
    "from keras.layers import LSTM\n",
    "from keras.layers.core import Dense, Dropout, Activation\n",
    "from keras.callbacks import EarlyStopping, ModelCheckpoint\n",
    "from keras.layers.normalization import BatchNormalization\n",
    "from keras.optimizers import Adadelta\n",
    "from tensorflow.keras import regularizers\n",
    "from tensorflow.keras.initializers import RandomNormal, Constant\n",
    "from keras import callbacks\n",
    "from keras.models import load_model"
   ]
  },
  {
   "cell_type": "code",
   "execution_count": 32,
   "metadata": {},
   "outputs": [
    {
     "name": "stderr",
     "output_type": "stream",
     "text": [
      "WARNING: Logging before flag parsing goes to stderr.\n",
      "W0405 07:35:45.852679 140225884534592 deprecation_wrapper.py:119] From /cvmfs/sft.cern.ch/lcg/views/LCG_97apython3/x86_64-centos7-gcc8-opt/lib/python3.7/site-packages/keras/backend/tensorflow_backend.py:74: The name tf.get_default_graph is deprecated. Please use tf.compat.v1.get_default_graph instead.\n",
      "\n",
      "W0405 07:35:45.910729 140225884534592 deprecation_wrapper.py:119] From /cvmfs/sft.cern.ch/lcg/views/LCG_97apython3/x86_64-centos7-gcc8-opt/lib/python3.7/site-packages/keras/backend/tensorflow_backend.py:517: The name tf.placeholder is deprecated. Please use tf.compat.v1.placeholder instead.\n",
      "\n",
      "W0405 07:35:46.057385 140225884534592 deprecation_wrapper.py:119] From /cvmfs/sft.cern.ch/lcg/views/LCG_97apython3/x86_64-centos7-gcc8-opt/lib/python3.7/site-packages/keras/backend/tensorflow_backend.py:133: The name tf.placeholder_with_default is deprecated. Please use tf.compat.v1.placeholder_with_default instead.\n",
      "\n",
      "W0405 07:35:46.397439 140225884534592 deprecation.py:506] From /cvmfs/sft.cern.ch/lcg/views/LCG_97apython3/x86_64-centos7-gcc8-opt/lib/python3.7/site-packages/tensorflow/python/keras/initializers.py:143: calling RandomNormal.__init__ (from tensorflow.python.ops.init_ops) with dtype is deprecated and will be removed in a future version.\n",
      "Instructions for updating:\n",
      "Call initializer instance with the dtype argument instead of passing it to the constructor\n",
      "W0405 07:35:46.399524 140225884534592 deprecation_wrapper.py:119] From /cvmfs/sft.cern.ch/lcg/views/LCG_97apython3/x86_64-centos7-gcc8-opt/lib/python3.7/site-packages/keras/backend/tensorflow_backend.py:4138: The name tf.random_uniform is deprecated. Please use tf.random.uniform instead.\n",
      "\n",
      "W0405 07:35:46.587425 140225884534592 deprecation.py:506] From /cvmfs/sft.cern.ch/lcg/views/LCG_97apython3/x86_64-centos7-gcc8-opt/lib/python3.7/site-packages/keras/backend/tensorflow_backend.py:3445: calling dropout (from tensorflow.python.ops.nn_ops) with keep_prob is deprecated and will be removed in a future version.\n",
      "Instructions for updating:\n",
      "Please use `rate` instead of `keep_prob`. Rate should be set to `rate = 1 - keep_prob`.\n",
      "W0405 07:35:47.893746 140225884534592 deprecation_wrapper.py:119] From /cvmfs/sft.cern.ch/lcg/views/LCG_97apython3/x86_64-centos7-gcc8-opt/lib/python3.7/site-packages/keras/optimizers.py:790: The name tf.train.Optimizer is deprecated. Please use tf.compat.v1.train.Optimizer instead.\n",
      "\n",
      "W0405 07:35:47.933797 140225884534592 deprecation_wrapper.py:119] From /cvmfs/sft.cern.ch/lcg/views/LCG_97apython3/x86_64-centos7-gcc8-opt/lib/python3.7/site-packages/keras/backend/tensorflow_backend.py:3376: The name tf.log is deprecated. Please use tf.math.log instead.\n",
      "\n",
      "W0405 07:35:47.941997 140225884534592 deprecation.py:323] From /cvmfs/sft.cern.ch/lcg/views/LCG_97apython3/x86_64-centos7-gcc8-opt/lib/python3.7/site-packages/tensorflow/python/ops/nn_impl.py:180: add_dispatch_support.<locals>.wrapper (from tensorflow.python.ops.array_ops) is deprecated and will be removed in a future version.\n",
      "Instructions for updating:\n",
      "Use tf.where in 2.0, which has the same broadcast rule as np.where\n"
     ]
    },
    {
     "name": "stdout",
     "output_type": "stream",
     "text": [
      "Summary of the built model...\n",
      "_________________________________________________________________\n",
      "Layer (type)                 Output Shape              Param #   \n",
      "=================================================================\n",
      "batch_normalization_1 (Batch (None, 42)                168       \n",
      "_________________________________________________________________\n",
      "dense_1 (Dense)              (None, 1024)              44032     \n",
      "_________________________________________________________________\n",
      "batch_normalization_2 (Batch (None, 1024)              4096      \n",
      "_________________________________________________________________\n",
      "dropout_1 (Dropout)          (None, 1024)              0         \n",
      "_________________________________________________________________\n",
      "dense_2 (Dense)              (None, 512)               524800    \n",
      "_________________________________________________________________\n",
      "dropout_2 (Dropout)          (None, 512)               0         \n",
      "_________________________________________________________________\n",
      "dense_22 (Dense)             (None, 512)               262656    \n",
      "_________________________________________________________________\n",
      "batch_normalization_3 (Batch (None, 512)               2048      \n",
      "_________________________________________________________________\n",
      "dropout_3 (Dropout)          (None, 512)               0         \n",
      "_________________________________________________________________\n",
      "dense_3 (Dense)              (None, 256)               131328    \n",
      "_________________________________________________________________\n",
      "batch_normalization_4 (Batch (None, 256)               1024      \n",
      "_________________________________________________________________\n",
      "dropout_4 (Dropout)          (None, 256)               0         \n",
      "_________________________________________________________________\n",
      "dense_4 (Dense)              (None, 128)               32896     \n",
      "_________________________________________________________________\n",
      "batch_normalization_5 (Batch (None, 128)               512       \n",
      "_________________________________________________________________\n",
      "dropout_5 (Dropout)          (None, 128)               0         \n",
      "_________________________________________________________________\n",
      "dense_5 (Dense)              (None, 64)                8256      \n",
      "_________________________________________________________________\n",
      "batch_normalization_6 (Batch (None, 64)                256       \n",
      "_________________________________________________________________\n",
      "dense_6 (Dense)              (None, 64)                4160      \n",
      "_________________________________________________________________\n",
      "batch_normalization_7 (Batch (None, 64)                256       \n",
      "_________________________________________________________________\n",
      "dense_7 (Dense)              (None, 32)                2080      \n",
      "_________________________________________________________________\n",
      "dropout_6 (Dropout)          (None, 32)                0         \n",
      "_________________________________________________________________\n",
      "batch_normalization_8 (Batch (None, 32)                128       \n",
      "_________________________________________________________________\n",
      "output (Dense)               (None, 1)                 33        \n",
      "=================================================================\n",
      "Total params: 1,018,729\n",
      "Trainable params: 1,014,485\n",
      "Non-trainable params: 4,244\n",
      "_________________________________________________________________\n",
      "None\n"
     ]
    }
   ],
   "source": [
    "clf = Sequential()\n",
    "# clf.add(LSTM(1, return_sequences=True ))\n",
    "clf.add(BatchNormalization(input_shape = (42,)))\n",
    "initializer =tf.keras.initializers.RandomNormal(mean=0.0, stddev=0.05, seed=None)\n",
    "# clf.add(Dropout(0.3))\n",
    "clf.add(Dense(1024, activation = 'relu',kernel_regularizer=regularizers.l2(0.001), kernel_initializer = 'random_uniform' ,name = 'dense_1'))\n",
    "clf.add(BatchNormalization())\n",
    "clf.add(Dropout(0.3))\n",
    "clf.add(Dense(512, activation = 'relu',kernel_regularizer=regularizers.l2(0.001), kernel_initializer = 'random_uniform', name = 'dense_2'))\n",
    "clf.add(Dropout(0.35))\n",
    "clf.add(Dense(512, activation = 'relu',kernel_regularizer=regularizers.l2(0.001), kernel_initializer = 'random_uniform' ,name = 'dense_22'))\n",
    "clf.add(BatchNormalization())\n",
    "clf.add(Dropout(0.35))\n",
    "clf.add(Dense(256, activation = 'relu',kernel_regularizer=regularizers.l2(0.001), kernel_initializer = 'random_uniform', name = 'dense_3'))\n",
    "clf.add(BatchNormalization())\n",
    "clf.add(Dropout(0.40))\n",
    "clf.add(Dense(128, activation = 'relu',kernel_regularizer=regularizers.l2(0.001), kernel_initializer = 'random_uniform' ,name = 'dense_4'))\n",
    "clf.add(BatchNormalization())\n",
    "clf.add(Dropout(0.40))\n",
    "clf.add(Dense(64, activation = 'relu',kernel_regularizer=regularizers.l2(0.001), kernel_initializer = 'random_uniform', name = 'dense_5'))\n",
    "clf.add(BatchNormalization(momentum=0.99,epsilon=0.001,beta_initializer=RandomNormal(mean=0.0, stddev=0.05),gamma_initializer=Constant(value=0.9)))\n",
    "clf.add(Dense(64, activation = 'relu',kernel_regularizer=regularizers.l2(0.001), kernel_initializer = 'random_uniform', name = 'dense_6'))\n",
    "clf.add(BatchNormalization(momentum=0.99,epsilon=0.001,beta_initializer=RandomNormal(mean=0.0, stddev=0.05),gamma_initializer=Constant(value=0.9)))\n",
    "clf.add(Dense(32, activation = 'relu', name = 'dense_7'))\n",
    "clf.add(Dropout(0.45))\n",
    "clf.add(BatchNormalization(momentum=0.99,epsilon=0.001,beta_initializer=RandomNormal(mean=0.0, stddev=0.05),gamma_initializer=Constant(value=0.9)))\n",
    "\n",
    "# Output\n",
    "clf.add(Dense(1, activation = 'sigmoid',kernel_regularizer=regularizers.l2(0.001), kernel_initializer = 'random_uniform', name = 'output'))\n",
    "#compile model\n",
    "\n",
    "# opt = SGD(lr=0.01, momentum=0.9)\n",
    "clf.compile(loss = 'binary_crossentropy', \n",
    "            optimizer= 'adam',\n",
    "            metrics=['accuracy'])\n",
    "print('Summary of the built model...')\n",
    "print(clf.summary())\n",
    "# plot_model(clf, to_file='/eos/home-s/sraj/M.Sc._Thesis/Plot/''clf_plot_multiclass___.png', show_shapes=True, show_layer_names=True)"
   ]
  },
  {
   "cell_type": "code",
   "execution_count": 67,
   "metadata": {},
   "outputs": [
    {
     "name": "stdout",
     "output_type": "stream",
     "text": [
      "Train on 368885 samples, validate on 158094 samples\n",
      "Epoch 1/100\n",
      "368885/368885 [==============================] - 50s 135us/step - loss: 1.0635 - acc: 0.7125 - val_loss: 0.6944 - val_acc: 0.7643\n",
      "Epoch 2/100\n",
      "368885/368885 [==============================] - 34s 92us/step - loss: 0.5812 - acc: 0.7742 - val_loss: 0.5641 - val_acc: 0.7712\n",
      "Epoch 3/100\n",
      "368885/368885 [==============================] - 29s 79us/step - loss: 0.5017 - acc: 0.7792 - val_loss: 0.5208 - val_acc: 0.7743\n",
      "Epoch 4/100\n",
      "368885/368885 [==============================] - 33s 89us/step - loss: 0.4843 - acc: 0.7823 - val_loss: 0.5251 - val_acc: 0.7630\n",
      "Epoch 5/100\n",
      "368885/368885 [==============================] - 38s 104us/step - loss: 0.4775 - acc: 0.7841 - val_loss: 0.5194 - val_acc: 0.7727\n",
      "Epoch 6/100\n",
      "368885/368885 [==============================] - 32s 85us/step - loss: 0.4733 - acc: 0.7858 - val_loss: 0.4842 - val_acc: 0.7818\n",
      "Epoch 7/100\n",
      "368885/368885 [==============================] - 31s 84us/step - loss: 0.4700 - acc: 0.7883 - val_loss: 0.4931 - val_acc: 0.7797\n",
      "Epoch 8/100\n",
      "368885/368885 [==============================] - 30s 81us/step - loss: 0.4683 - acc: 0.7892 - val_loss: 0.4793 - val_acc: 0.7823\n",
      "Epoch 9/100\n",
      "368885/368885 [==============================] - 28s 76us/step - loss: 0.4654 - acc: 0.7907 - val_loss: 0.4764 - val_acc: 0.7864\n",
      "Epoch 10/100\n",
      "368885/368885 [==============================] - 27s 73us/step - loss: 0.4638 - acc: 0.7915 - val_loss: 0.4691 - val_acc: 0.7880\n",
      "Epoch 11/100\n",
      "368885/368885 [==============================] - 27s 74us/step - loss: 0.4608 - acc: 0.7935 - val_loss: 0.4641 - val_acc: 0.7893\n",
      "Epoch 12/100\n",
      "368885/368885 [==============================] - 24s 64us/step - loss: 0.4599 - acc: 0.7941 - val_loss: 0.4546 - val_acc: 0.7934\n",
      "Epoch 13/100\n",
      "368885/368885 [==============================] - 27s 73us/step - loss: 0.4568 - acc: 0.7953 - val_loss: 0.4507 - val_acc: 0.7943\n",
      "Epoch 14/100\n",
      "368885/368885 [==============================] - 25s 68us/step - loss: 0.4546 - acc: 0.7964 - val_loss: 0.4507 - val_acc: 0.7957\n",
      "Epoch 15/100\n",
      "368885/368885 [==============================] - 27s 73us/step - loss: 0.4539 - acc: 0.7972 - val_loss: 0.4529 - val_acc: 0.7956\n",
      "Epoch 16/100\n",
      "368885/368885 [==============================] - 28s 75us/step - loss: 0.4529 - acc: 0.7984 - val_loss: 0.4464 - val_acc: 0.7996\n",
      "Epoch 17/100\n",
      "368885/368885 [==============================] - 29s 77us/step - loss: 0.4521 - acc: 0.7999 - val_loss: 0.4458 - val_acc: 0.7970\n",
      "Epoch 18/100\n",
      "368885/368885 [==============================] - 29s 79us/step - loss: 0.4506 - acc: 0.7995 - val_loss: 0.4445 - val_acc: 0.8014\n",
      "Epoch 19/100\n",
      "368885/368885 [==============================] - 29s 78us/step - loss: 0.4491 - acc: 0.8006 - val_loss: 0.4400 - val_acc: 0.8031\n",
      "Epoch 20/100\n",
      "368885/368885 [==============================] - 27s 73us/step - loss: 0.4495 - acc: 0.8007 - val_loss: 0.4433 - val_acc: 0.7992\n",
      "Epoch 21/100\n",
      "368885/368885 [==============================] - 26s 71us/step - loss: 0.4480 - acc: 0.8014 - val_loss: 0.4420 - val_acc: 0.8020\n",
      "Epoch 22/100\n",
      "368885/368885 [==============================] - 27s 72us/step - loss: 0.4473 - acc: 0.8011 - val_loss: 0.4433 - val_acc: 0.8039\n",
      "Epoch 23/100\n",
      "368885/368885 [==============================] - 26s 70us/step - loss: 0.4472 - acc: 0.8022 - val_loss: 0.4435 - val_acc: 0.8020\n",
      "Epoch 24/100\n",
      "368885/368885 [==============================] - 29s 79us/step - loss: 0.4453 - acc: 0.8030 - val_loss: 0.4412 - val_acc: 0.8031\n",
      "Epoch 25/100\n",
      "368885/368885 [==============================] - 29s 77us/step - loss: 0.4456 - acc: 0.8031 - val_loss: 0.4401 - val_acc: 0.8021\n",
      "Epoch 26/100\n",
      "368885/368885 [==============================] - 27s 73us/step - loss: 0.4444 - acc: 0.8042 - val_loss: 0.4396 - val_acc: 0.8043\n",
      "Epoch 27/100\n",
      "368885/368885 [==============================] - 26s 70us/step - loss: 0.4450 - acc: 0.8036 - val_loss: 0.4395 - val_acc: 0.8044\n",
      "Epoch 28/100\n",
      "368885/368885 [==============================] - 29s 78us/step - loss: 0.4440 - acc: 0.8043 - val_loss: 0.4394 - val_acc: 0.8041\n",
      "Epoch 29/100\n",
      "368885/368885 [==============================] - 26s 71us/step - loss: 0.4428 - acc: 0.8049 - val_loss: 0.4360 - val_acc: 0.8053\n",
      "Epoch 30/100\n",
      "368885/368885 [==============================] - 27s 72us/step - loss: 0.4420 - acc: 0.8045 - val_loss: 0.4374 - val_acc: 0.8062\n",
      "Epoch 31/100\n",
      "368885/368885 [==============================] - 27s 72us/step - loss: 0.4424 - acc: 0.8047 - val_loss: 0.4352 - val_acc: 0.8059\n",
      "Epoch 32/100\n",
      "368885/368885 [==============================] - 24s 64us/step - loss: 0.4411 - acc: 0.8055 - val_loss: 0.4380 - val_acc: 0.8032\n",
      "Epoch 33/100\n",
      "368885/368885 [==============================] - 25s 67us/step - loss: 0.4413 - acc: 0.8053 - val_loss: 0.4348 - val_acc: 0.8073\n",
      "Epoch 34/100\n",
      "368885/368885 [==============================] - 29s 80us/step - loss: 0.4408 - acc: 0.8057 - val_loss: 0.4332 - val_acc: 0.8086\n",
      "Epoch 35/100\n",
      "368885/368885 [==============================] - 26s 70us/step - loss: 0.4400 - acc: 0.8062 - val_loss: 0.4329 - val_acc: 0.8075\n",
      "Epoch 36/100\n",
      "368885/368885 [==============================] - 26s 72us/step - loss: 0.4402 - acc: 0.8057 - val_loss: 0.4373 - val_acc: 0.8038\n",
      "Epoch 37/100\n",
      "368885/368885 [==============================] - 24s 65us/step - loss: 0.4401 - acc: 0.8070 - val_loss: 0.4324 - val_acc: 0.8070\n",
      "Epoch 38/100\n",
      "368885/368885 [==============================] - 23s 63us/step - loss: 0.4388 - acc: 0.8065 - val_loss: 0.4373 - val_acc: 0.8070\n",
      "Epoch 39/100\n",
      "368885/368885 [==============================] - 22s 60us/step - loss: 0.4382 - acc: 0.8069 - val_loss: 0.4366 - val_acc: 0.8055\n",
      "Epoch 40/100\n",
      "368885/368885 [==============================] - 23s 62us/step - loss: 0.4390 - acc: 0.8072 - val_loss: 0.4354 - val_acc: 0.8046\n",
      "Epoch 41/100\n",
      "368885/368885 [==============================] - 22s 60us/step - loss: 0.4383 - acc: 0.8071 - val_loss: 0.4310 - val_acc: 0.8082\n",
      "Epoch 42/100\n",
      "368885/368885 [==============================] - 22s 59us/step - loss: 0.4375 - acc: 0.8074 - val_loss: 0.4341 - val_acc: 0.8034\n",
      "Epoch 43/100\n",
      "368885/368885 [==============================] - 23s 61us/step - loss: 0.4382 - acc: 0.8076 - val_loss: 0.4354 - val_acc: 0.8060\n",
      "Epoch 44/100\n",
      "368885/368885 [==============================] - 22s 58us/step - loss: 0.4375 - acc: 0.8085 - val_loss: 0.4348 - val_acc: 0.8062\n",
      "Epoch 45/100\n",
      "368885/368885 [==============================] - 22s 59us/step - loss: 0.4367 - acc: 0.8078 - val_loss: 0.4356 - val_acc: 0.8044\n",
      "Epoch 46/100\n",
      "368885/368885 [==============================] - 22s 60us/step - loss: 0.4360 - acc: 0.8081 - val_loss: 0.4309 - val_acc: 0.8079\n",
      "Epoch 47/100\n",
      "368885/368885 [==============================] - 22s 60us/step - loss: 0.4370 - acc: 0.8085 - val_loss: 0.4288 - val_acc: 0.8109\n",
      "Epoch 48/100\n",
      "368885/368885 [==============================] - 22s 59us/step - loss: 0.4356 - acc: 0.8085 - val_loss: 0.4345 - val_acc: 0.8090\n",
      "Epoch 49/100\n",
      "368885/368885 [==============================] - 22s 60us/step - loss: 0.4360 - acc: 0.8080 - val_loss: 0.4368 - val_acc: 0.8011\n",
      "Epoch 50/100\n",
      "368885/368885 [==============================] - 23s 63us/step - loss: 0.4365 - acc: 0.8079 - val_loss: 0.4309 - val_acc: 0.8080\n",
      "Epoch 51/100\n",
      "368885/368885 [==============================] - 23s 62us/step - loss: 0.4355 - acc: 0.8096 - val_loss: 0.4324 - val_acc: 0.8050\n",
      "Epoch 52/100\n",
      "368885/368885 [==============================] - 23s 61us/step - loss: 0.4348 - acc: 0.8101 - val_loss: 0.4342 - val_acc: 0.8071\n",
      "Epoch 53/100\n",
      "368885/368885 [==============================] - 22s 59us/step - loss: 0.4358 - acc: 0.8086 - val_loss: 0.4310 - val_acc: 0.8084\n",
      "Epoch 54/100\n",
      "368885/368885 [==============================] - 22s 59us/step - loss: 0.4344 - acc: 0.8100 - val_loss: 0.4313 - val_acc: 0.8057\n",
      "Epoch 55/100\n",
      "368885/368885 [==============================] - 22s 59us/step - loss: 0.4343 - acc: 0.8099 - val_loss: 0.4307 - val_acc: 0.8111\n",
      "Epoch 56/100\n",
      "368885/368885 [==============================] - 22s 59us/step - loss: 0.4340 - acc: 0.8098 - val_loss: 0.4290 - val_acc: 0.8102\n",
      "Epoch 57/100\n",
      "368885/368885 [==============================] - 22s 60us/step - loss: 0.4347 - acc: 0.8095 - val_loss: 0.4304 - val_acc: 0.8079\n",
      "Epoch 58/100\n",
      "368885/368885 [==============================] - 21s 57us/step - loss: 0.4341 - acc: 0.8102 - val_loss: 0.4293 - val_acc: 0.8120\n",
      "Epoch 59/100\n",
      "368885/368885 [==============================] - 21s 58us/step - loss: 0.4340 - acc: 0.8101 - val_loss: 0.4293 - val_acc: 0.8115\n",
      "Epoch 60/100\n",
      "368885/368885 [==============================] - 22s 60us/step - loss: 0.4333 - acc: 0.8104 - val_loss: 0.4276 - val_acc: 0.8110\n",
      "Epoch 61/100\n",
      "368885/368885 [==============================] - 23s 61us/step - loss: 0.4331 - acc: 0.8107 - val_loss: 0.4312 - val_acc: 0.8083\n",
      "Epoch 62/100\n",
      "368885/368885 [==============================] - 24s 64us/step - loss: 0.4335 - acc: 0.8101 - val_loss: 0.4298 - val_acc: 0.8111\n",
      "Epoch 63/100\n",
      "368885/368885 [==============================] - 24s 66us/step - loss: 0.4333 - acc: 0.8104 - val_loss: 0.4280 - val_acc: 0.8117\n",
      "Epoch 64/100\n",
      "368885/368885 [==============================] - 24s 66us/step - loss: 0.4332 - acc: 0.8108 - val_loss: 0.4290 - val_acc: 0.8114\n",
      "Epoch 65/100\n",
      "368885/368885 [==============================] - 24s 66us/step - loss: 0.4333 - acc: 0.8096 - val_loss: 0.4283 - val_acc: 0.8096\n",
      "Epoch 66/100\n",
      "368885/368885 [==============================] - 24s 66us/step - loss: 0.4327 - acc: 0.8102 - val_loss: 0.4291 - val_acc: 0.8092\n",
      "Epoch 67/100\n",
      "368885/368885 [==============================] - 24s 65us/step - loss: 0.4335 - acc: 0.8107 - val_loss: 0.4296 - val_acc: 0.8102\n",
      "Epoch 68/100\n",
      "368885/368885 [==============================] - 24s 64us/step - loss: 0.4323 - acc: 0.8104 - val_loss: 0.4358 - val_acc: 0.8034\n",
      "Epoch 69/100\n",
      "368885/368885 [==============================] - 23s 63us/step - loss: 0.4317 - acc: 0.8111 - val_loss: 0.4318 - val_acc: 0.8101\n",
      "Epoch 70/100\n",
      "368885/368885 [==============================] - 23s 63us/step - loss: 0.4328 - acc: 0.8104 - val_loss: 0.4279 - val_acc: 0.8097\n",
      "Epoch 71/100\n",
      "368885/368885 [==============================] - 22s 59us/step - loss: 0.4313 - acc: 0.8113 - val_loss: 0.4293 - val_acc: 0.8100\n",
      "Epoch 72/100\n",
      "368885/368885 [==============================] - 23s 63us/step - loss: 0.4332 - acc: 0.8105 - val_loss: 0.4275 - val_acc: 0.8119\n",
      "Epoch 73/100\n",
      "368885/368885 [==============================] - 23s 61us/step - loss: 0.4320 - acc: 0.8116 - val_loss: 0.4311 - val_acc: 0.8056\n",
      "Epoch 74/100\n",
      "368885/368885 [==============================] - 22s 61us/step - loss: 0.4324 - acc: 0.8115 - val_loss: 0.4275 - val_acc: 0.8127\n",
      "Epoch 75/100\n",
      "368885/368885 [==============================] - 23s 63us/step - loss: 0.4314 - acc: 0.8112 - val_loss: 0.4290 - val_acc: 0.8106\n",
      "Epoch 76/100\n",
      "368885/368885 [==============================] - 23s 62us/step - loss: 0.4328 - acc: 0.8113 - val_loss: 0.4275 - val_acc: 0.8102\n",
      "Epoch 77/100\n",
      "368885/368885 [==============================] - 24s 66us/step - loss: 0.4318 - acc: 0.8120 - val_loss: 0.4293 - val_acc: 0.8100\n",
      "Epoch 78/100\n",
      "368885/368885 [==============================] - 23s 63us/step - loss: 0.4321 - acc: 0.8112 - val_loss: 0.4267 - val_acc: 0.8109\n",
      "Epoch 79/100\n",
      "368885/368885 [==============================] - 23s 62us/step - loss: 0.4318 - acc: 0.8116 - val_loss: 0.4271 - val_acc: 0.8110\n",
      "Epoch 80/100\n",
      "368885/368885 [==============================] - 24s 65us/step - loss: 0.4307 - acc: 0.8113 - val_loss: 0.4274 - val_acc: 0.8121\n",
      "Epoch 81/100\n",
      "368885/368885 [==============================] - 24s 66us/step - loss: 0.4307 - acc: 0.8119 - val_loss: 0.4306 - val_acc: 0.8126\n",
      "Epoch 82/100\n",
      "368885/368885 [==============================] - 24s 65us/step - loss: 0.4301 - acc: 0.8128 - val_loss: 0.4281 - val_acc: 0.8126\n",
      "Epoch 83/100\n",
      "368885/368885 [==============================] - 24s 66us/step - loss: 0.4306 - acc: 0.8122 - val_loss: 0.4265 - val_acc: 0.8126\n",
      "Epoch 84/100\n",
      "368885/368885 [==============================] - 24s 65us/step - loss: 0.4314 - acc: 0.8115 - val_loss: 0.4261 - val_acc: 0.8133\n",
      "Epoch 85/100\n",
      "368885/368885 [==============================] - 24s 65us/step - loss: 0.4305 - acc: 0.8122 - val_loss: 0.4291 - val_acc: 0.8116\n",
      "Epoch 86/100\n",
      "368885/368885 [==============================] - 24s 64us/step - loss: 0.4308 - acc: 0.8115 - val_loss: 0.4289 - val_acc: 0.8109\n",
      "Epoch 87/100\n",
      "368885/368885 [==============================] - 24s 65us/step - loss: 0.4294 - acc: 0.8120 - val_loss: 0.4284 - val_acc: 0.8123\n",
      "Epoch 88/100\n",
      "368885/368885 [==============================] - 22s 61us/step - loss: 0.4299 - acc: 0.8121 - val_loss: 0.4261 - val_acc: 0.8130\n",
      "Epoch 89/100\n",
      "368885/368885 [==============================] - 22s 60us/step - loss: 0.4303 - acc: 0.8125 - val_loss: 0.4259 - val_acc: 0.8120\n",
      "Epoch 90/100\n",
      "368885/368885 [==============================] - 23s 63us/step - loss: 0.4301 - acc: 0.8123 - val_loss: 0.4272 - val_acc: 0.8121\n",
      "Epoch 91/100\n",
      "368885/368885 [==============================] - 24s 64us/step - loss: 0.4293 - acc: 0.8127 - val_loss: 0.4286 - val_acc: 0.8123\n",
      "Epoch 92/100\n",
      "368885/368885 [==============================] - 22s 60us/step - loss: 0.4314 - acc: 0.8116 - val_loss: 0.4273 - val_acc: 0.8110\n",
      "Epoch 93/100\n",
      "368885/368885 [==============================] - 22s 59us/step - loss: 0.4296 - acc: 0.8127 - val_loss: 0.4291 - val_acc: 0.8135\n",
      "Epoch 94/100\n",
      "368885/368885 [==============================] - 21s 58us/step - loss: 0.4303 - acc: 0.8125 - val_loss: 0.4281 - val_acc: 0.8099\n",
      "Epoch 95/100\n",
      "368885/368885 [==============================] - 22s 59us/step - loss: 0.4317 - acc: 0.8114 - val_loss: 0.4318 - val_acc: 0.8103\n",
      "Epoch 96/100\n",
      "368885/368885 [==============================] - 23s 61us/step - loss: 0.4301 - acc: 0.8129 - val_loss: 0.4258 - val_acc: 0.8132\n",
      "Epoch 97/100\n",
      "368885/368885 [==============================] - 24s 65us/step - loss: 0.4297 - acc: 0.8117 - val_loss: 0.4278 - val_acc: 0.8095\n",
      "Epoch 98/100\n",
      "368885/368885 [==============================] - 24s 66us/step - loss: 0.4289 - acc: 0.8127 - val_loss: 0.4296 - val_acc: 0.8068\n",
      "Epoch 99/100\n",
      "368885/368885 [==============================] - 25s 69us/step - loss: 0.4289 - acc: 0.8127 - val_loss: 0.4273 - val_acc: 0.8106\n",
      "Epoch 100/100\n",
      "368885/368885 [==============================] - 24s 66us/step - loss: 0.4285 - acc: 0.8130 - val_loss: 0.4272 - val_acc: 0.8127\n"
     ]
    },
    {
     "name": "stderr",
     "output_type": "stream",
     "text": [
      "2022-04-04 19:16:29.691211: W tensorflow/core/framework/allocator.cc:107] Allocation of 36864000 exceeds 10% of system memory.\n",
      "2022-04-04 19:16:29.822500: W tensorflow/core/framework/allocator.cc:107] Allocation of 36864000 exceeds 10% of system memory.\n",
      "2022-04-04 19:16:29.853912: W tensorflow/core/framework/allocator.cc:107] Allocation of 36864000 exceeds 10% of system memory.\n",
      "2022-04-04 19:16:29.895710: W tensorflow/core/framework/allocator.cc:107] Allocation of 36864000 exceeds 10% of system memory.\n",
      "2022-04-04 19:16:29.902692: W tensorflow/core/framework/allocator.cc:107] Allocation of 36864000 exceeds 10% of system memory.\n"
     ]
    }
   ],
   "source": [
    "# # simple early stopping\n",
    "# early_stopper = callbacks.EarlyStopping(monitor=\"val_loss\", patience=5, mode=\"auto\")\n",
    "# model_check_point = callbacks.ModelCheckpoint(\"model(Training with Tprime 600-700GeV with all backgrounds).h5\", monitor = 'val_loss', verbose=True, \n",
    "#                                               save_best_only=True, mode='auto')\n",
    "# # fit model\n",
    "# history = clf.fit(X_train, y_train, validation_split = 0.30, batch_size= 9000, epochs=100, verbose=1, callbacks=[early_stopper, model_check_point])\n",
    "# evaluate the model\n",
    "\n",
    "history = clf.fit(X_train, y_train, validation_split = 0.30, batch_size= 9000, epochs=100, verbose=1)"
   ]
  },
  {
   "cell_type": "code",
   "execution_count": 68,
   "metadata": {},
   "outputs": [
    {
     "name": "stdout",
     "output_type": "stream",
     "text": [
      "526979/526979 [==============================] - 61s 115us/step\n",
      "Accuracy: 82.09%\n"
     ]
    }
   ],
   "source": [
    "# Final evaluation of the model for DNN\n",
    "# Testing Outputs\n",
    "scores = clf.evaluate(X_train, y_train, verbose=1)\n",
    "print(\"Accuracy: %.2f%%\" % (scores[1]*100))"
   ]
  },
  {
   "cell_type": "code",
   "execution_count": 69,
   "metadata": {},
   "outputs": [
    {
     "name": "stdout",
     "output_type": "stream",
     "text": [
      "259558/259558 [==============================] - 30s 115us/step\n",
      "Accuracy: 81.09%\n"
     ]
    }
   ],
   "source": [
    "# Final evaluation of the model for DNN\n",
    "# Testing Outputs\"$\\pm$\"\n",
    "scores = clf.evaluate(X_test, y_test, verbose=1)\n",
    "print(\"Accuracy: %.2f%%\" % (scores[1]*100))"
   ]
  },
  {
   "cell_type": "code",
   "execution_count": 70,
   "metadata": {},
   "outputs": [
    {
     "data": {
      "image/png": "[encoded data removed]",
      "text/plain": [
       "<Figure size 432x288 with 1 Axes>"
      ]
     },
     "metadata": {
      "needs_background": "light"
     },
     "output_type": "display_data"
    },
    {
     "data": {
      "image/png": "[encoded data removed]",
      "text/plain": [
       "<Figure size 432x288 with 1 Axes>"
      ]
     },
     "metadata": {
      "needs_background": "light"
     },
     "output_type": "display_data"
    }
   ],
   "source": [
    "# summarize history for accuracy\n",
    "plt.plot(history.history['acc'])\n",
    "plt.plot(history.history['val_acc'])\n",
    "plt.title('model accuracy')\n",
    "plt.ylabel('accuracy')\n",
    "plt.xlabel('epoch')\n",
    "plt.legend(['train', 'val_acc'], loc='upper left')\n",
    "# plt.savefig('/eos/user/s/sraj/M.Sc._Thesis/Plot_M.Sc._thesis/Plot_output/''model_accuracy_training_and_testing_TPrime_600-700GeV.png')\n",
    "plt.show()\n",
    "# summarize history for loss\n",
    "plt.plot(history.history['loss'])\n",
    "plt.plot(history.history['val_loss'])\n",
    "# plt.title('model loss,random_state=5, epoch =100,batch_size =900, verbose=0.25')\n",
    "plt.ylabel('loss')\n",
    "plt.xlabel('epoch')\n",
    "plt.legend(['train', 'val_acc'], loc='upper right')\n",
    "# plt.savefig('/eos/user/s/sraj/M.Sc._Thesis/Plot_M.Sc._thesis/Plot_output/''model_loss_training_and_testing_TPrime_600-700GeV.png')\n",
    "plt.show()"
   ]
  },
  {
   "cell_type": "code",
   "execution_count": 71,
   "metadata": {},
   "outputs": [
    {
     "data": {
      "image/png": "[encoded data removed]",
      "text/plain": [
       "<Figure size 432x288 with 1 Axes>"
      ]
     },
     "metadata": {
      "needs_background": "light"
     },
     "output_type": "display_data"
    }
   ],
   "source": [
    "from sklearn.metrics import roc_curve, auc\n",
    "\n",
    "decisions = clf.predict(X_test)\n",
    "\n",
    "# Compute ROC curve and area under the curve\n",
    "fpr, tpr, thresholds = roc_curve(y_test, decisions)\n",
    "roc_auc = auc(fpr, tpr)\n",
    "plt.plot(fpr, tpr, lw=1, label='ROC (area = %0.2f)'%(roc_auc))\n",
    "\n",
    "\n",
    "plt.plot([0, 1], [0, 1], '--', color=(0.6, 0.6, 0.6), label='Luck')\n",
    "plt.xlim([-0.05, 1.05])\n",
    "plt.ylim([-0.05, 1.05])\n",
    "plt.xlabel('False Positive Rate')\n",
    "plt.ylabel('True Positive Rate')\n",
    "plt.title('Receiver operating characteristic')\n",
    "plt.legend(loc=\"lower right\")\n",
    "plt.grid()\n",
    "# plt.savefig('/eos/user/s/sraj/M.Sc._Thesis/Plot_M.Sc._thesis/Plot_output/'\"ROC_curve_training_and_testing_TPrime_600-700GeV.png\")\n",
    "plt.show()"
   ]
  },
  {
   "cell_type": "code",
   "execution_count": 72,
   "metadata": {},
   "outputs": [
    {
     "data": {
      "image/png": "[encoded data removed]",
      "text/plain": [
       "<Figure size 432x288 with 1 Axes>"
      ]
     },
     "metadata": {
      "needs_background": "light"
     },
     "output_type": "display_data"
    }
   ],
   "source": [
    "import matplotlib\n",
    "plt.figure()                                     # new window\n",
    "matplotlib.rcParams.update({'font.size':14})     # set all font sizes\n",
    "tTest = clf.predict(X_test)\n",
    "# if hasattr(clf, \"decision_function\"):\n",
    "#     tTest = clf.decision_function(X_test)        # if available use decision_function\n",
    "# else:\n",
    "#     tTest = clf.predict_proba(X_test)[:,1]       # for e.g. MLP need to use predict_proba\n",
    "tBkg_0 = tTest[y_test==0]\n",
    "tSig_0 = tTest[y_test==1]\n",
    "nBins = 20\n",
    "tMin = np.floor(np.min(tTest))\n",
    "tMax = np.ceil(np.max(tTest))\n",
    "bins = np.linspace(tMin, tMax, nBins+1)\n",
    "# plt.title('Multilayer perceptron')\n",
    "plt.xlabel(' $DNN$', labelpad=3)\n",
    "plt.ylabel('$Probability density$', labelpad=40)\n",
    "n, bins, patches = plt.hist(tSig_0 ,bins=bins, density=True, histtype='step', fill=False, color ='dodgerblue' ,edgecolor = 'blue', hatch = 'XX',label='Tprime_600-700')\n",
    "n, bins, patches = plt.hist(tBkg_0, bins=bins, density=True, histtype='step', fill=False,color = 'red' ,alpha=0.5, edgecolor = 'green', hatch='++', label = 'All Background')\n",
    "plt.grid(color = 'b', alpha = 0.5, linestyle = 'dashed')\n",
    "plt.legend(loc='center')\n",
    "plt.title(' ')\n",
    "# plt.savefig('/eos/user/s/sraj/M.Sc._Thesis/Plot_M.Sc._thesis/Plot_output/''output_TPrime600-700_on_testing_all_background.png')\n",
    "plt.show()"
   ]
  },
  {
   "cell_type": "markdown",
   "metadata": {},
   "source": [
    "#Comparision with the earlier one saved model on which I have  obtained the histogram Stacked"
   ]
  },
  {
   "cell_type": "code",
   "execution_count": 34,
   "metadata": {},
   "outputs": [
    {
     "data": {
      "image/png": "[encoded data removed]",
      "text/plain": [
       "<Figure size 432x288 with 1 Axes>"
      ]
     },
     "metadata": {
      "needs_background": "light"
     },
     "output_type": "display_data"
    }
   ],
   "source": [
    "import matplotlib\n",
    "plt.figure()                                     # new window\n",
    "matplotlib.rcParams.update({'font.size':14})     # set all font sizes\n",
    "tTest = loaded_model.predict(X_test)\n",
    "# if hasattr(clf, \"decision_function\"):\n",
    "#     tTest = clf.decision_function(X_test)        # if available use decision_function\n",
    "# else:\n",
    "#     tTest = clf.predict_proba(X_test)[:,1]       # for e.g. MLP need to use predict_proba\n",
    "tBkg_0 = tTest[y_test==0]\n",
    "tSig_0 = tTest[y_test==1]\n",
    "nBins = 20\n",
    "tMin = np.floor(np.min(tTest))\n",
    "tMax = np.ceil(np.max(tTest))\n",
    "bins = np.linspace(tMin, tMax, nBins+1)\n",
    "# plt.title('Multilayer perceptron')\n",
    "plt.xlabel(' $DNN$', labelpad=3)\n",
    "plt.ylabel('$Probability density$', labelpad=40)\n",
    "n, bins, patches = plt.hist(tSig_0 ,bins=bins, density=True, histtype='step', fill=False, color ='dodgerblue' ,edgecolor = 'blue', hatch = 'XX',label='Tprime_600-700')\n",
    "n, bins, patches = plt.hist(tBkg_0, bins=bins, density=True, histtype='step', fill=False,color = 'red' ,alpha=0.5, edgecolor = 'green', hatch='++', label = 'All Background')\n",
    "plt.grid(color = 'b', alpha = 0.5, linestyle = 'dashed')\n",
    "plt.legend(loc='center')\n",
    "plt.title(' ')\n",
    "# plt.savefig('/eos/user/s/sraj/M.Sc._Thesis/Plot_M.Sc._thesis/Plot_output/''output_TPrime600-700_on_testing_all_background.png')\n",
    "plt.show()"
   ]
  },
  {
   "cell_type": "markdown",
   "metadata": {},
   "source": [
    "## Load the model"
   ]
  },
  {
   "cell_type": "code",
   "execution_count": 33,
   "metadata": {},
   "outputs": [
    {
     "name": "stderr",
     "output_type": "stream",
     "text": [
      "2022-04-05 07:36:19.718820: I tensorflow/core/platform/cpu_feature_guard.cc:142] Your CPU supports instructions that this TensorFlow binary was not compiled to use: SSE4.1 SSE4.2 AVX AVX2 FMA\n",
      "2022-04-05 07:36:19.764441: I tensorflow/core/platform/profile_utils/cpu_utils.cc:94] CPU Frequency: 2194915000 Hz\n",
      "2022-04-05 07:36:19.766910: I tensorflow/compiler/xla/service/service.cc:168] XLA service 0x17b43dc0 executing computations on platform Host. Devices:\n",
      "2022-04-05 07:36:19.766945: I tensorflow/compiler/xla/service/service.cc:175]   StreamExecutor device (0): <undefined>, <undefined>\n",
      "2022-04-05 07:36:20.595189: W tensorflow/compiler/jit/mark_for_compilation_pass.cc:1412] (One-time warning): Not using XLA:CPU for cluster because envvar TF_XLA_FLAGS=--tf_xla_cpu_global_jit was not set.  If you want XLA:CPU, either set that envvar, or use experimental_jit_scope to enable XLA:CPU.  To confirm that XLA is active, pass --vmodule=xla_compilation_cache=1 (as a proper command-line flag, not via TF_XLA_FLAGS) or set the envvar XLA_FLAGS=--xla_hlo_profile.\n"
     ]
    }
   ],
   "source": [
    "loaded_model = load_model(\"model(Training with Tprime 600-700GeV with all backgrounds).h5\")"
   ]
  },
  {
   "cell_type": "markdown",
   "metadata": {},
   "source": [
    "# Method 1\n",
    "In this method for the DATA imported:<br>\n",
    "**Step 1:**\n",
    "-  Concatante all the testing and training samples. just as this,\n",
    "```python\n",
    "signal = pd.concat((signal_Tprime600, signal_Tprime625, signal_Tprime650, signal_Tprime675),axis = 0)\n",
    "backgr = pd.concat((back_tth, back_ggh, back_thq, back_vbf, back_vh), axis=0)\n",
    "```\n",
    "or<br>\n",
    "```python\n",
    "signal_1 = pd.concat((signal_Tprime800, signal_Tprime900 ),axis = 0)\n",
    "backgr = pd.concat((back_tth, back_ggh, back_thq, back_vbf, back_vh), axis=0)\n",
    "```\n",
    "\n",
    "**Step 2:**\n",
    "- Concatante the data, i.e. both signal and background.\n",
    "```python\n",
    "X = np.concatenate((signal, backgr))\n",
    "y = np.concatenate((np.ones(signal.shape[0]),\n",
    "                    np.zeros(backgr.shape[0])))\n",
    "```\n",
    "or<br>\n",
    "```python\n",
    "X_1 = np.concatenate((signal_1, backgr))\n",
    "y_1 = np.concatenate((np.ones(signal_1.shape[0]),\n",
    "                    np.zeros(backgr.shape[0])))\n",
    "```\n",
    "\n",
    "**Step 3:**\n",
    "- Divide the combined data in test and train set, i.e. split it into train and test dataset. As\n",
    "```python\n",
    "X_train,X_test, y_train, y_test = train_test_split(X, y, test_size=0.33, random_state =5)\n",
    "```\n",
    "or<br>\n",
    "```python\n",
    "X_1_train,X_1_test, y_1_train, y_1_test = train_test_split(X_1, y_1, test_size=0.99, random_state =5)\n",
    "```\n",
    "<br>\n",
    "<br>\n",
    "\n",
    "**Step 4:**\n",
    "From the loaded model, evaluate the on testing files,\n",
    "```python\n",
    "loaded_model.compile(loss='binary_crossentropy', optimizer='adam', metrics=['accuracy'])\n",
    "score = loaded_model.evaluate(X_1_test, y_1_test)```\n",
    "\n",
    "\n",
    "<br>\n",
    "<br>\n",
    "\n",
    "**Step 5:**\n",
    "Find the testing output Scores\n",
    "```python\n",
    "# Final evaluation of the model for DNN\n",
    "# Testing Outputs\n",
    "scores = loaded_model.evaluate(X_1_test, y_1_test, verbose=1)\n",
    "print(\"Accuracy: %.2f%%\" % (scores[1]*100))\n",
    "```\n",
    "<br>\n",
    "<br>\n",
    "\n",
    "**Step 6:**\n",
    "\n",
    "Plot the ROC Curve(***this method give more proper ROC output in comarision to the Method 2***)\n",
    "\n",
    "```python\n",
    "from sklearn.metrics import roc_curve, auc\n",
    "\n",
    "decisions = loaded_model.predict(X_1_test)\n",
    "\n",
    "# Compute ROC curve and area under the curve\n",
    "fpr, tpr, thresholds = roc_curve(y_1_test, decisions)\n",
    "roc_auc = auc(fpr, tpr)\n",
    "plt.plot(fpr, tpr, lw=1, label='ROC (area = %0.2f)'%(roc_auc))\n",
    "\n",
    "plt.plot([0, 1], [0, 1], '--', color=(0.6, 0.6, 0.6), label='Luck')\n",
    "plt.xlim([-0.05, 1.05])\n",
    "plt.ylim([-0.05, 1.05])\n",
    "plt.xlabel('False Positive Rate')\n",
    "plt.ylabel('True Positive Rate')\n",
    "plt.title('Receiver operating characteristic')\n",
    "plt.legend(loc=\"lower right\")\n",
    "plt.grid()\n",
    "# plt.savefig(\"ROC_curve.png\")\n",
    "plt.show()\n",
    "```\n",
    "\n",
    "**Step 7:**\n",
    "Finally, Plot the output which is required using:\n",
    "\n",
    "```python\n",
    "import matplotlib\n",
    "plt.figure()                                     # new window\n",
    "matplotlib.rcParams.update({'font.size':14})     # set all font sizes\n",
    "tTest = loaded_model.predict(X_1_test)\n",
    "# if hasattr(clf, \"decision_function\"):\n",
    "#     tTest = clf.decision_function(X_test)        # if available use decision_function\n",
    "# else:\n",
    "#     tTest = clf.predict_proba(X_test)[:,1]       # for e.g. MLP need to use predict_proba\n",
    "tBkg_1 = tTest[y_1_test==0]\n",
    "tSig_1 = tTest[y_1_test==1]\n",
    "nBins = 20\n",
    "tMin = np.floor(np.min(tTest))\n",
    "tMax = np.ceil(np.max(tTest))\n",
    "bins = np.linspace(tMin, tMax, nBins+1)\n",
    "# plt.title('Multilayer perceptron')\n",
    "plt.xlabel(' $DNN$', labelpad=3)\n",
    "plt.ylabel('$Probability density$', labelpad=40)\n",
    "n, bins, patches = plt.hist(tSig_1, bins=bins, density=True, histtype='step', fill=False, color ='dodgerblue' ,edgecolor = 'blue', hatch = 'XX',label='Tprime_600-700')\n",
    "n, bins, patches = plt.hist(tBkg_1, bins=bins, density=True, histtype='step', fill=False,color = 'red' ,alpha=0.5, edgecolor = 'green', hatch='++', label = 'All Background')\n",
    "plt.grid(color = 'b', alpha = 0.5, linestyle = 'dashed')\n",
    "plt.legend(loc='center')\n",
    "plt.title(' ')\n",
    "# plt.savefig('/eos/home-s/sraj/M.Sc._Thesis/Plot_M.Sc._thesis/Plot_with_HDF5_files/''output_TPrime1200_all_background.png')\n",
    "plt.show()\n",
    "```\n",
    "\n",
    "\n",
    "\n",
    "\n",
    "### Plotting with the original data file after testing \n",
    "\n"
   ]
  },
  {
   "cell_type": "code",
   "execution_count": 36,
   "metadata": {},
   "outputs": [],
   "source": [
    "data_file_01 = '/eos/user/p/prsaha/for_Shivam/output_allData_RunII.root'\n",
    "treename_data_file_01 = \"tagsDumper/trees/Data_13TeV_THQLeptonicTag\""
   ]
  },
  {
   "cell_type": "code",
   "execution_count": 37,
   "metadata": {},
   "outputs": [],
   "source": [
    "data_File_001= root2array(data_file_01,treename_data_file_01,columns)"
   ]
  },
  {
   "cell_type": "code",
   "execution_count": 38,
   "metadata": {},
   "outputs": [],
   "source": [
    "data_File_1 = pd.DataFrame(data_File_001)"
   ]
  },
  {
   "cell_type": "markdown",
   "metadata": {},
   "source": [
    "# Method 2"
   ]
  },
  {
   "cell_type": "markdown",
   "metadata": {},
   "source": [
    "After the data file get imported and converted into the pandas dataframes. Now we have do just testing on the model.\n",
    "\n",
    "**Step 1:**\n",
    "Give the test file as the one of the file name as done here, and do the *Step 4* and *Step 5* of the method 1 again\n",
    "```python\n",
    "X_3_test = data_File_1\n",
    "y_3_test = np.ones(data_File_1.shape[0])\n",
    "\n",
    "loaded_model.compile(loss='binary_crossentropy', optimizer='adam', metrics=['accuracy'])\n",
    "score = loaded_model.evaluate(X_3_test, y_3_test)\n",
    "\n",
    "# Final evaluation of the model for DNN\n",
    "# Testing Outputs\n",
    "scores = loaded_model.evaluate(X_3_test, y_3_test, verbose=1)\n",
    "print(\"Accuracy: %.2f%%\" % (scores[1]*100))\n",
    "```\n",
    "**Step 2:**\n",
    "Just do the plotting as here there are no data loss compared to the earlier method (Earlier you were Dividing the concataned data, where there was the possiblity for the loss of the data)\n",
    "\n",
    "```python\n",
    "import matplotlib\n",
    "plt.figure()                                     # new window\n",
    "matplotlib.rcParams.update({'font.size':14})     # set all font sizes\n",
    "tTest = loaded_model.predict(X_1_test)\n",
    "# if hasattr(clf, \"decision_function\"):\n",
    "#     tTest = clf.decision_function(X_test)        # if available use decision_function\n",
    "# else:\n",
    "#     tTest = clf.predict_proba(X_test)[:,1]       # for e.g. MLP need to use predict_proba\n",
    "tBkg_1 = tTest[y_1_test==0]\n",
    "tSig_1 = tTest[y_1_test==1]\n",
    "nBins = 20\n",
    "tMin = np.floor(np.min(tTest))\n",
    "tMax = np.ceil(np.max(tTest))\n",
    "bins = np.linspace(tMin, tMax, nBins+1)\n",
    "# plt.title('Multilayer perceptron')\n",
    "plt.xlabel(' $DNN$', labelpad=3)\n",
    "plt.ylabel('$Probability density$', labelpad=40)\n",
    "n, bins, patches = plt.hist(tSig_1, bins=bins, density=True, histtype='step', fill=False, color ='dodgerblue' ,edgecolor = 'blue', hatch = 'XX',label='Tprime_800-900')\n",
    "n, bins, patches = plt.hist(tBkg_1, bins=bins, density=True, histtype='step', fill=False,color = 'red' ,alpha=0.5, edgecolor = 'green', hatch='++', label = 'All Background')\n",
    "plt.grid(color = 'b', alpha = 0.5, linestyle = 'dashed')\n",
    "plt.legend(loc='center')\n",
    "plt.title(' ')\n",
    "# plt.savefig('/eos/home-s/sraj/M.Sc._Thesis/Plot_M.Sc._thesis/Plot_with_HDF5_files/''output_TPrime1200_all_background.png')\n",
    "plt.show()\n",
    "```\n",
    "***In this method the ROC Curve will be not there or it would be very less***"
   ]
  },
  {
   "cell_type": "code",
   "execution_count": 39,
   "metadata": {},
   "outputs": [
    {
     "name": "stdout",
     "output_type": "stream",
     "text": [
      "2400/2400 [==============================] - 1s 473us/step\n",
      "2400/2400 [==============================] - 0s 83us/step\n",
      "Accuracy: 8.67%\n"
     ]
    }
   ],
   "source": [
    "X_3_test = data_File_1\n",
    "y_3_test = np.ones(data_File_1.shape[0])\n",
    "\n",
    "loaded_model.compile(loss='binary_crossentropy', optimizer='adam', metrics=['accuracy'])\n",
    "score = loaded_model.evaluate(X_3_test, y_3_test)\n",
    "\n",
    "# Final evaluation of the model for DNN\n",
    "# Testing Outputs\n",
    "scores = loaded_model.evaluate(X_3_test, y_3_test, verbose=1)\n",
    "print(\"Accuracy: %.2f%%\" % (scores[1]*100))\n",
    "\n"
   ]
  },
  {
   "cell_type": "code",
   "execution_count": 40,
   "metadata": {},
   "outputs": [
    {
     "data": {
      "image/png": "[encoded data removed]",
      "text/plain": [
       "<Figure size 432x288 with 1 Axes>"
      ]
     },
     "metadata": {
      "needs_background": "light"
     },
     "output_type": "display_data"
    }
   ],
   "source": [
    "import matplotlib\n",
    "plt.figure()                                     # new window\n",
    "matplotlib.rcParams.update({'font.size':14})     # set all font sizes\n",
    "tTest = loaded_model.predict(X_3_test)\n",
    "# if hasattr(clf, \"decision_function\"):\n",
    "#     tTest = clf.decision_function(X_test)        # if available use decision_function\n",
    "# else:\n",
    "#     tTest = clf.predict_proba(X_test)[:,1]       # for e.g. MLP need to use predict_proba\n",
    "tBkg_3 = tTest[y_3_test==0]\n",
    "tSig_3 = tTest[y_3_test==1]\n",
    "nBins = 20\n",
    "tMin = np.floor(np.min(tTest))\n",
    "tMax = np.ceil(np.max(tTest))\n",
    "bins = np.linspace(tMin, tMax, nBins+1)\n",
    "# plt.title('Multilayer perceptron')\n",
    "plt.xlabel(' $DNN$', labelpad=3)\n",
    "plt.ylabel('$Probability density$', labelpad=40)\n",
    "n, bins, patches = plt.hist(tSig_3, bins=bins, density=True, histtype='step', fill=False, color ='dodgerblue' ,edgecolor = 'blue', hatch = 'XX',label='Datafiles')\n",
    "# n, bins, patches = plt.hist(tBkg_3, bins=bins, density=True, histtype='step', fill=False,color = 'red' ,alpha=0.5, edgecolor = 'green', hatch='++', label = 'All Background')\n",
    "plt.grid(color = 'b', alpha = 0.5, linestyle = 'dashed')\n",
    "plt.legend(loc='center')\n",
    "plt.title(' ')\n",
    "# plt.savefig('/eos/home-s/sraj/M.Sc._Thesis/Plot_M.Sc._thesis/Plot_with_HDF5_files/''output_TPrime1200_all_background.png')\n",
    "plt.show()"
   ]
  },
  {
   "cell_type": "markdown",
   "metadata": {},
   "source": [
    "Here the training output seems to be consistent with output on the real data files"
   ]
  },
  {
   "cell_type": "code",
   "execution_count": null,
   "metadata": {},
   "outputs": [],
   "source": []
  },
  {
   "cell_type": "markdown",
   "metadata": {},
   "source": [
    "# Import all the files suggessted by Prafulla bhaiya "
   ]
  },
  {
   "cell_type": "markdown",
   "metadata": {},
   "source": [
    "Files needed:- ttgg, ttg+jets, gg+jets, g+jets, tt+jets, T'600, T'700, SM+higgs, "
   ]
  },
  {
   "cell_type": "code",
   "execution_count": 53,
   "metadata": {},
   "outputs": [],
   "source": [
    "back_1 = '/eos/home-s/sraj/M.Sc._Thesis/data_files/output_TTGG_0Jets_TuneCP5_13TeV_amcatnlo_madspin_pythia8.root'\n",
    "back_002 = '/eos/user/p/prsaha/for_Shivam/output_TTJets_pythia8.root'\n",
    "back_003 = '/eos/user/p/prsaha/for_Shivam/output_DiPhotonJetsBox_MGG-80toInf_13TeV-Sherpa.root'\n",
    "back_004 = '/eos/user/p/prsaha/for_Shivam/output_DiPhotonJetsBox2BJets_MGG-80toInf_13TeV-Sherpa.root'\n",
    "back_005 = '/eos/user/p/prsaha/for_Shivam/output_GJet_Pt-40toInf_DoubleEMEnriched_MGG-80toInf_pythia8.root'\n",
    "back_006 = '/eos/user/p/prsaha/for_Shivam/output_TTGJets_pythia8.root'\n",
    "back_007 = '/eos/user/p/prsaha/for_Shivam/output_TTJets_pythia8.root'\n",
    "\n",
    "\n",
    "\n",
    "treeName_back_1 =\"tagsDumper/trees/ttgg_13TeV_THQLeptonicTag\" \n",
    "treeName_back_002 =\"tagsDumper/trees/ttjets_13TeV_THQLeptonicTag\" \n",
    "treeName_back_003 =\"tagsDumper/trees/DiPhotonJetsBox_13TeV_THQLeptonicTag\" \n",
    "treeName_back_004 =\"tagsDumper/trees/DiPhotonJetsBox2BJets_13TeV_THQLeptonicTag\" \n",
    "treeName_back_005 =\"tagsDumper/trees/gjets_13TeV_THQLeptonicTag\" \n",
    "treeName_back_006 =\"tagsDumper/trees/ttgjets_13TeV_THQLeptonicTag\" \n",
    "treeName_back_007 =\"tagsDumper/trees/ttjets_13TeV_THQLeptonicTag\" \n",
    "\n",
    "\n",
    "\n"
   ]
  },
  {
   "cell_type": "code",
   "execution_count": 54,
   "metadata": {},
   "outputs": [],
   "source": [
    "back_ttgg = root2array(back_1, treeName_back_1, columns)     # ttgg background(Not using this)\n",
    "back_ttjets = root2array(back_002, treeName_back_002, columns)\n",
    "back_diphotongamma = root2array(back_003, treeName_back_003, columns)\n",
    "back_diphotongamma_1 = root2array(back_004, treeName_back_004, columns)\n",
    "back_gjets = root2array(back_005, treeName_back_005, columns)\n",
    "back_ttgjets = root2array(back_006, treeName_back_006, columns)\n",
    "back_ttjets = root2array(back_007, treeName_back_007, columns)\n"
   ]
  },
  {
   "cell_type": "code",
   "execution_count": 55,
   "metadata": {},
   "outputs": [],
   "source": [
    "ttgg = pd.DataFrame(back_ttgg)\n",
    "ttjets = pd.DataFrame(back_ttjets)\n",
    "diphotongamma = pd.DataFrame(back_diphotongamma)\n",
    "diphotongamma_1 = pd.DataFrame(back_diphotongamma_1)\n",
    "gjets = pd.DataFrame(back_gjets)\n",
    "ttgjets = pd.DataFrame(back_ttgjets)\n",
    "ttjets = pd.DataFrame(back_ttjets)\n",
    "Tprime_600 = pd.DataFrame(signal_Tprime_600)\n",
    "Tprime_700= pd.DataFrame(signal_Tprime_700)\n",
    "SMHiggs = pd.concat((back_tth, back_ggh, back_thq, back_vbf, back_vh), axis=0)"
   ]
  },
  {
   "cell_type": "markdown",
   "metadata": {},
   "source": [
    "##### ttgg"
   ]
  },
  {
   "cell_type": "code",
   "execution_count": 76,
   "metadata": {},
   "outputs": [
    {
     "name": "stdout",
     "output_type": "stream",
     "text": [
      "55847/55847 [==============================] - 9s 164us/step\n",
      "55847/55847 [==============================] - 6s 104us/step\n",
      "Accuracy: 25.22%\n"
     ]
    },
    {
     "data": {
      "image/png": "[encoded data removed]",
      "text/plain": [
       "<Figure size 432x288 with 1 Axes>"
      ]
     },
     "metadata": {
      "needs_background": "light"
     },
     "output_type": "display_data"
    }
   ],
   "source": [
    "X_4_test = ttgg\n",
    "y_4_test = np.ones(ttgg.shape[0])\n",
    "\n",
    "loaded_model.compile(loss='binary_crossentropy', optimizer='adam', metrics=['accuracy'])\n",
    "score = loaded_model.evaluate(X_4_test, y_4_test)\n",
    "\n",
    "# Final evaluation of the model for DNN\n",
    "# Testing Outputs\n",
    "scores = loaded_model.evaluate(X_4_test, y_4_test, verbose=1)\n",
    "print(\"Accuracy: %.2f%%\" % (scores[1]*100))\n",
    "\n",
    "import matplotlib\n",
    "plt.figure()                                     # new window\n",
    "matplotlib.rcParams.update({'font.size':14})     # set all font sizes\n",
    "tTest = loaded_model.predict(X_4_test)\n",
    "# if hasattr(clf, \"decision_function\"):\n",
    "#     tTest = clf.decision_function(X_test)        # if available use decision_function\n",
    "# else:\n",
    "#     tTest = clf.predict_proba(X_test)[:,1]       # for e.g. MLP need to use predict_proba\n",
    "tBkg_4 = tTest[y_4_test==0]\n",
    "tSig_4 = tTest[y_4_test==1]\n",
    "nBins = 20\n",
    "tMin = np.floor(np.min(tTest))\n",
    "tMax = np.ceil(np.max(tTest))\n",
    "bins = np.linspace(tMin, tMax, nBins+1)\n",
    "# plt.title('Multilayer perceptron')\n",
    "plt.xlabel(' $DNN$', labelpad=3)\n",
    "plt.ylabel('$Probability density$', labelpad=40)\n",
    "n, bins, patches = plt.hist(tSig_4, bins=bins, density=True, histtype='step', fill=False, color ='dodgerblue' ,edgecolor = 'blue', hatch = 'XX',label='ttgg')\n",
    "# n, bins, patches = plt.hist(tBkg_4, bins=bins, density=True, histtype='step', fill=False,color = 'red' ,alpha=0.5, edgecolor = 'green', hatch='++', label = 'All Background')\n",
    "plt.grid(color = 'b', alpha = 0.5, linestyle = 'dashed')\n",
    "plt.legend(loc='center')\n",
    "plt.title(' ')\n",
    "# plt.savefig('/eos/home-s/sraj/M.Sc._Thesis/Plot_M.Sc._thesis/Plot_with_HDF5_files/''output_TPrime1200_all_background.png')\n",
    "plt.show()\n",
    "\n",
    "\n"
   ]
  },
  {
   "cell_type": "markdown",
   "metadata": {},
   "source": [
    "##### ttjets"
   ]
  },
  {
   "cell_type": "code",
   "execution_count": 77,
   "metadata": {},
   "outputs": [
    {
     "name": "stdout",
     "output_type": "stream",
     "text": [
      "1320/1320 [==============================] - 3s 2ms/step\n",
      "1320/1320 [==============================] - 0s 109us/step\n",
      "Accuracy: 8.56%\n"
     ]
    },
    {
     "data": {
      "image/png": "[encoded data removed]",
      "text/plain": [
       "<Figure size 432x288 with 1 Axes>"
      ]
     },
     "metadata": {
      "needs_background": "light"
     },
     "output_type": "display_data"
    }
   ],
   "source": [
    "X_5_test = ttjets\n",
    "y_5_test = np.ones(ttjets.shape[0])\n",
    "\n",
    "loaded_model.compile(loss='binary_crossentropy', optimizer='adam', metrics=['accuracy'])\n",
    "score = loaded_model.evaluate(X_5_test, y_5_test)\n",
    "\n",
    "# Final evaluation of the model for DNN\n",
    "# Testing Outputs\n",
    "scores = loaded_model.evaluate(X_5_test, y_5_test, verbose=1)\n",
    "print(\"Accuracy: %.2f%%\" % (scores[1]*100))\n",
    "\n",
    "import matplotlib\n",
    "plt.figure()                                     # new window\n",
    "matplotlib.rcParams.update({'font.size':14})     # set all font sizes\n",
    "tTest = loaded_model.predict(X_5_test)\n",
    "# if hasattr(clf, \"decision_function\"):\n",
    "#     tTest = clf.decision_function(X_test)        # if available use decision_function\n",
    "# else:\n",
    "#     tTest = clf.predict_proba(X_test)[:,1]       # for e.g. MLP need to use predict_proba\n",
    "tBkg_5 = tTest[y_5_test==0]\n",
    "tSig_5 = tTest[y_5_test==1]\n",
    "nBins = 20\n",
    "tMin = np.floor(np.min(tTest))\n",
    "tMax = np.ceil(np.max(tTest))\n",
    "bins = np.linspace(tMin, tMax, nBins+1)\n",
    "# plt.title('Multilayer perceptron')\n",
    "plt.xlabel(' $DNN$', labelpad=3)\n",
    "plt.ylabel('$Probability density$', labelpad=40)\n",
    "n, bins, patches = plt.hist(tSig_5, bins=bins, density=True, histtype='step', fill=False, color ='dodgerblue' ,edgecolor = 'blue', hatch = 'XX',label='ttjets')\n",
    "# n, bins, patches = plt.hist(tBkg_4, bins=bins, density=True, histtype='step', fill=False,color = 'red' ,alpha=0.5, edgecolor = 'green', hatch='++', label = 'All Background')\n",
    "plt.grid(color = 'b', alpha = 0.5, linestyle = 'dashed')\n",
    "plt.legend(loc='center')\n",
    "plt.title(' ')\n",
    "# plt.savefig('/eos/home-s/sraj/M.Sc._Thesis/Plot_M.Sc._thesis/Plot_with_HDF5_files/''output_TPrime1200_all_background.png')\n",
    "plt.show()\n",
    "\n",
    "\n"
   ]
  },
  {
   "cell_type": "markdown",
   "metadata": {},
   "source": [
    "##### diphotongamma "
   ]
  },
  {
   "cell_type": "code",
   "execution_count": 78,
   "metadata": {},
   "outputs": [
    {
     "name": "stdout",
     "output_type": "stream",
     "text": [
      "8323/8323 [==============================] - 3s 417us/step\n",
      "8323/8323 [==============================] - 1s 106us/step\n",
      "Accuracy: 14.56%\n"
     ]
    },
    {
     "data": {
      "image/png": "[encoded data removed]",
      "text/plain": [
       "<Figure size 432x288 with 1 Axes>"
      ]
     },
     "metadata": {
      "needs_background": "light"
     },
     "output_type": "display_data"
    }
   ],
   "source": [
    "X_6_test = diphotongamma\n",
    "y_6_test = np.ones(diphotongamma.shape[0])\n",
    "\n",
    "loaded_model.compile(loss='binary_crossentropy', optimizer='adam', metrics=['accuracy'])\n",
    "score = loaded_model.evaluate(X_6_test, y_6_test)\n",
    "\n",
    "# Final evaluation of the model for DNN\n",
    "# Testing Outputs\n",
    "scores = loaded_model.evaluate(X_6_test, y_6_test, verbose=1)\n",
    "print(\"Accuracy: %.2f%%\" % (scores[1]*100))\n",
    "\n",
    "import matplotlib\n",
    "plt.figure()                                     # new window\n",
    "matplotlib.rcParams.update({'font.size':14})     # set all font sizes\n",
    "tTest = loaded_model.predict(X_6_test)\n",
    "# if hasattr(clf, \"decision_function\"):\n",
    "#     tTest = clf.decision_function(X_test)        # if available use decision_function\n",
    "# else:\n",
    "#     tTest = clf.predict_proba(X_test)[:,1]       # for e.g. MLP need to use predict_proba\n",
    "tBkg_6 = tTest[y_6_test==0]\n",
    "tSig_6 = tTest[y_6_test==1]\n",
    "nBins = 20\n",
    "tMin = np.floor(np.min(tTest))\n",
    "tMax = np.ceil(np.max(tTest))\n",
    "bins = np.linspace(tMin, tMax, nBins+1)\n",
    "# plt.title('Multilayer perceptron')\n",
    "plt.xlabel(' $DNN$', labelpad=3)\n",
    "plt.ylabel('$Probability density$', labelpad=40)\n",
    "n, bins, patches = plt.hist(tSig_6, bins=bins, density=True, histtype='step', fill=False, color ='dodgerblue' ,edgecolor = 'blue', hatch = 'XX',label='diphotongamma')\n",
    "# n, bins, patches = plt.hist(tBkg_6, bins=bins, density=True, histtype='step', fill=False,color = 'red' ,alpha=0.5, edgecolor = 'green', hatch='++', label = 'All Background')\n",
    "plt.grid(color = 'b', alpha = 0.5, linestyle = 'dashed')\n",
    "plt.legend(loc='center')\n",
    "plt.title(' ')\n",
    "# plt.savefig('/eos/home-s/sraj/M.Sc._Thesis/Plot_M.Sc._thesis/Plot_with_HDF5_files/''output_TPrime1200_all_background.png')\n",
    "plt.show()\n",
    "\n",
    "\n"
   ]
  },
  {
   "cell_type": "markdown",
   "metadata": {},
   "source": [
    "##### gjets\n",
    "\n"
   ]
  },
  {
   "cell_type": "code",
   "execution_count": 79,
   "metadata": {},
   "outputs": [
    {
     "name": "stdout",
     "output_type": "stream",
     "text": [
      "228/228 [==============================] - 3s 12ms/step\n",
      "228/228 [==============================] - 0s 133us/step\n",
      "Accuracy: 5.26%\n"
     ]
    },
    {
     "data": {
      "image/png": "[encoded data removed]",
      "text/plain": [
       "<Figure size 432x288 with 1 Axes>"
      ]
     },
     "metadata": {
      "needs_background": "light"
     },
     "output_type": "display_data"
    }
   ],
   "source": [
    "X_7_test = gjets\n",
    "y_7_test = np.ones(gjets.shape[0])\n",
    "\n",
    "loaded_model.compile(loss='binary_crossentropy', optimizer='adam', metrics=['accuracy'])\n",
    "score = loaded_model.evaluate(X_7_test, y_7_test)\n",
    "\n",
    "# Final evaluation of the model for DNN\n",
    "# Testing Outputs\n",
    "scores = loaded_model.evaluate(X_7_test, y_7_test, verbose=1)\n",
    "print(\"Accuracy: %.2f%%\" % (scores[1]*100))\n",
    "\n",
    "import matplotlib\n",
    "plt.figure()                                     # new window\n",
    "matplotlib.rcParams.update({'font.size':14})     # set all font sizes\n",
    "tTest = loaded_model.predict(X_7_test)\n",
    "# if hasattr(clf, \"decision_function\"):\n",
    "#     tTest = clf.decision_function(X_test)        # if available use decision_function\n",
    "# else:\n",
    "#     tTest = clf.predict_proba(X_test)[:,1]       # for e.g. MLP need to use predict_proba\n",
    "tBkg_7 = tTest[y_7_test==0]\n",
    "tSig_7 = tTest[y_7_test==1]\n",
    "nBins = 20\n",
    "tMin = np.floor(np.min(tTest))\n",
    "tMax = np.ceil(np.max(tTest))\n",
    "bins = np.linspace(tMin, tMax, nBins+1)\n",
    "# plt.title('Multilayer perceptron')\n",
    "plt.xlabel(' $DNN$', labelpad=3)\n",
    "plt.ylabel('$Probability density$', labelpad=40)\n",
    "n, bins, patches = plt.hist(tSig_7, bins=bins, density=True, histtype='step', fill=False, color ='dodgerblue' ,edgecolor = 'blue', hatch = 'XX',label='gjets')\n",
    "# n, bins, patches = plt.hist(tBkg_6, bins=bins, density=True, histtype='step', fill=False,color = 'red' ,alpha=0.5, edgecolor = 'green', hatch='++', label = 'All Background')\n",
    "plt.grid(color = 'b', alpha = 0.5, linestyle = 'dashed')\n",
    "plt.legend(loc='center')\n",
    "plt.title(' ')\n",
    "# plt.savefig('/eos/home-s/sraj/M.Sc._Thesis/Plot_M.Sc._thesis/Plot_with_HDF5_files/''output_TPrime1200_all_background.png')\n",
    "plt.show()\n",
    "\n",
    "\n"
   ]
  },
  {
   "cell_type": "markdown",
   "metadata": {},
   "source": [
    "##### ttgjets "
   ]
  },
  {
   "cell_type": "code",
   "execution_count": 81,
   "metadata": {},
   "outputs": [
    {
     "name": "stdout",
     "output_type": "stream",
     "text": [
      "9441/9441 [==============================] - 4s 414us/step\n",
      "9441/9441 [==============================] - 1s 121us/step\n",
      "Accuracy: 19.26%\n"
     ]
    },
    {
     "data": {
      "image/png": "[encoded data removed]",
      "text/plain": [
       "<Figure size 432x288 with 1 Axes>"
      ]
     },
     "metadata": {
      "needs_background": "light"
     },
     "output_type": "display_data"
    }
   ],
   "source": [
    "X_8_test = ttgjets\n",
    "y_8_test = np.ones(ttgjets.shape[0])\n",
    "\n",
    "loaded_model.compile(loss='binary_crossentropy', optimizer='adam', metrics=['accuracy'])\n",
    "score = loaded_model.evaluate(X_8_test, y_8_test)\n",
    "\n",
    "# Final evaluation of the model for DNN\n",
    "# Testing Outputs\n",
    "scores = loaded_model.evaluate(X_8_test, y_8_test, verbose=1)\n",
    "print(\"Accuracy: %.2f%%\" % (scores[1]*100))\n",
    "\n",
    "import matplotlib\n",
    "plt.figure()                                     # new window\n",
    "matplotlib.rcParams.update({'font.size':14})     # set all font sizes\n",
    "tTest = loaded_model.predict(X_8_test)\n",
    "# if hasattr(clf, \"decision_function\"):\n",
    "#     tTest = clf.decision_function(X_test)        # if available use decision_function\n",
    "# else:\n",
    "#     tTest = clf.predict_proba(X_test)[:,1]       # for e.g. MLP need to use predict_proba\n",
    "tBkg_8 = tTest[y_8_test==0]\n",
    "tSig_8 = tTest[y_8_test==1]\n",
    "nBins = 20\n",
    "tMin = np.floor(np.min(tTest))\n",
    "tMax = np.ceil(np.max(tTest))\n",
    "bins = np.linspace(tMin, tMax, nBins+1)\n",
    "# plt.title('Multilayer perceptron')\n",
    "plt.xlabel(' $DNN$', labelpad=3)\n",
    "plt.ylabel('$Probability density$', labelpad=40)\n",
    "n, bins, patches = plt.hist(tSig_8, bins=bins, density=True, histtype='step', fill=False, color ='dodgerblue' ,edgecolor = 'blue', hatch = 'XX',label='ttgjets')\n",
    "# n, bins, patches = plt.hist(tBkg_6, bins=bins, density=True, histtype='step', fill=False,color = 'red' ,alpha=0.5, edgecolor = 'green', hatch='++', label = 'All Background')\n",
    "plt.grid(color = 'b', alpha = 0.5, linestyle = 'dashed')\n",
    "plt.legend(loc='center')\n",
    "plt.title(' ')\n",
    "# plt.savefig('/eos/home-s/sraj/M.Sc._Thesis/Plot_M.Sc._thesis/Plot_with_HDF5_files/''output_TPrime1200_all_background.png')\n",
    "plt.show()\n"
   ]
  },
  {
   "cell_type": "markdown",
   "metadata": {},
   "source": [
    "#### ttjets \n"
   ]
  },
  {
   "cell_type": "code",
   "execution_count": 82,
   "metadata": {},
   "outputs": [
    {
     "name": "stdout",
     "output_type": "stream",
     "text": [
      "1320/1320 [==============================] - 3s 2ms/step\n",
      "1320/1320 [==============================] - 0s 133us/step\n",
      "Accuracy: 9.17%\n"
     ]
    },
    {
     "data": {
      "image/png": "[encoded data removed]",
      "text/plain": [
       "<Figure size 432x288 with 1 Axes>"
      ]
     },
     "metadata": {
      "needs_background": "light"
     },
     "output_type": "display_data"
    }
   ],
   "source": [
    "X_9_test = ttjets\n",
    "y_9_test = np.ones(ttjets.shape[0])\n",
    "\n",
    "loaded_model.compile(loss='binary_crossentropy', optimizer='adam', metrics=['accuracy'])\n",
    "score = loaded_model.evaluate(X_9_test, y_9_test)\n",
    "\n",
    "# Final evaluation of the model for DNN\n",
    "# Testing Outputs\n",
    "scores = loaded_model.evaluate(X_9_test, y_9_test, verbose=1)\n",
    "print(\"Accuracy: %.2f%%\" % (scores[1]*100))\n",
    "\n",
    "import matplotlib\n",
    "plt.figure()                                     # new window\n",
    "matplotlib.rcParams.update({'font.size':14})     # set all font sizes\n",
    "tTest = loaded_model.predict(X_9_test)\n",
    "# if hasattr(clf, \"decision_function\"):\n",
    "#     tTest = clf.decision_function(X_test)        # if available use decision_function\n",
    "# else:\n",
    "#     tTest = clf.predict_proba(X_test)[:,1]       # for e.g. MLP need to use predict_proba\n",
    "tBkg_9 = tTest[y_9_test==0]\n",
    "tSig_9 = tTest[y_9_test==1]\n",
    "nBins = 20\n",
    "tMin = np.floor(np.min(tTest))\n",
    "tMax = np.ceil(np.max(tTest))\n",
    "bins = np.linspace(tMin, tMax, nBins+1)\n",
    "# plt.title('Multilayer perceptron')\n",
    "plt.xlabel(' $DNN$', labelpad=3)\n",
    "plt.ylabel('$Probability density$', labelpad=40)\n",
    "n, bins, patches = plt.hist(tSig_9, bins=bins, density=True, histtype='step', fill=False, color ='dodgerblue' ,edgecolor = 'blue', hatch = 'XX',label='ttjets')\n",
    "# n, bins, patches = plt.hist(tBkg_6, bins=bins, density=True, histtype='step', fill=False,color = 'red' ,alpha=0.5, edgecolor = 'green', hatch='++', label = 'All Background')\n",
    "plt.grid(color = 'b', alpha = 0.5, linestyle = 'dashed')\n",
    "plt.legend(loc='center')\n",
    "plt.title(' ')\n",
    "# plt.savefig('/eos/home-s/sraj/M.Sc._Thesis/Plot_M.Sc._thesis/Plot_with_HDF5_files/''output_TPrime1200_all_background.png')\n",
    "plt.show()\n"
   ]
  },
  {
   "cell_type": "markdown",
   "metadata": {},
   "source": [
    "#### Tprime_600\n"
   ]
  },
  {
   "cell_type": "code",
   "execution_count": 83,
   "metadata": {},
   "outputs": [
    {
     "name": "stdout",
     "output_type": "stream",
     "text": [
      "81013/81013 [==============================] - 12s 148us/step\n",
      "81013/81013 [==============================] - 9s 108us/step\n",
      "Accuracy: 84.59%\n"
     ]
    },
    {
     "data": {
      "image/png": "[encoded data removed]",
      "text/plain": [
       "<Figure size 432x288 with 1 Axes>"
      ]
     },
     "metadata": {
      "needs_background": "light"
     },
     "output_type": "display_data"
    }
   ],
   "source": [
    "X_10_test = Tprime_600\n",
    "y_10_test = np.ones(Tprime_600.shape[0])\n",
    "\n",
    "loaded_model.compile(loss='binary_crossentropy', optimizer='adam', metrics=['accuracy'])\n",
    "score = loaded_model.evaluate(X_10_test, y_10_test)\n",
    "\n",
    "# Final evaluation of the model for DNN\n",
    "# Testing Outputs\n",
    "scores = loaded_model.evaluate(X_10_test, y_10_test, verbose=1)\n",
    "print(\"Accuracy: %.2f%%\" % (scores[1]*100))\n",
    "\n",
    "import matplotlib\n",
    "plt.figure()                                     # new window\n",
    "matplotlib.rcParams.update({'font.size':14})     # set all font sizes\n",
    "tTest = loaded_model.predict(X_10_test)\n",
    "# if hasattr(clf, \"decision_function\"):\n",
    "#     tTest = clf.decision_function(X_test)        # if available use decision_function\n",
    "# else:\n",
    "#     tTest = clf.predict_proba(X_test)[:,1]       # for e.g. MLP need to use predict_proba\n",
    "tBkg_10 = tTest[y_10_test==0]\n",
    "tSig_10 = tTest[y_10_test==1]\n",
    "nBins = 20\n",
    "tMin = np.floor(np.min(tTest))\n",
    "tMax = np.ceil(np.max(tTest))\n",
    "bins = np.linspace(tMin, tMax, nBins+1)\n",
    "# plt.title('Multilayer perceptron')\n",
    "plt.xlabel(' $DNN$', labelpad=3)\n",
    "plt.ylabel('$Probability density$', labelpad=40)\n",
    "n, bins, patches = plt.hist(tSig_10, bins=bins, density=True, histtype='step', fill=False, color ='dodgerblue' ,edgecolor = 'blue', hatch = 'XX',label='Tprime_600')\n",
    "# n, bins, patches = plt.hist(tBkg_6, bins=bins, density=True, histtype='step', fill=False,color = 'red' ,alpha=0.5, edgecolor = 'green', hatch='++', label = 'All Background')\n",
    "plt.grid(color = 'b', alpha = 0.5, linestyle = 'dashed')\n",
    "plt.legend(loc='center')\n",
    "plt.title(' ')\n",
    "# plt.savefig('/eos/home-s/sraj/M.Sc._Thesis/Plot_M.Sc._thesis/Plot_with_HDF5_files/''output_TPrime1200_all_background.png')\n",
    "plt.show()\n"
   ]
  },
  {
   "cell_type": "markdown",
   "metadata": {},
   "source": [
    "#### Tprime_700"
   ]
  },
  {
   "cell_type": "code",
   "execution_count": 84,
   "metadata": {},
   "outputs": [
    {
     "name": "stdout",
     "output_type": "stream",
     "text": [
      "92703/92703 [==============================] - 14s 147us/step\n",
      "92703/92703 [==============================] - 10s 109us/step\n",
      "Accuracy: 90.64%\n"
     ]
    },
    {
     "data": {
      "image/png": "[encoded data removed]",
      "text/plain": [
       "<Figure size 432x288 with 1 Axes>"
      ]
     },
     "metadata": {
      "needs_background": "light"
     },
     "output_type": "display_data"
    }
   ],
   "source": [
    "X_11_test = Tprime_700\n",
    "y_11_test = np.ones(Tprime_700.shape[0])\n",
    "\n",
    "loaded_model.compile(loss='binary_crossentropy', optimizer='adam', metrics=['accuracy'])\n",
    "score = loaded_model.evaluate(X_11_test, y_11_test)\n",
    "\n",
    "# Final evaluation of the model for DNN\n",
    "# Testing Outputs\n",
    "scores = loaded_model.evaluate(X_11_test, y_11_test, verbose=1)\n",
    "print(\"Accuracy: %.2f%%\" % (scores[1]*100))\n",
    "\n",
    "import matplotlib\n",
    "plt.figure()                                     # new window\n",
    "matplotlib.rcParams.update({'font.size':14})     # set all font sizes\n",
    "tTest = loaded_model.predict(X_11_test)\n",
    "# if hasattr(clf, \"decision_function\"):\n",
    "#     tTest = clf.decision_function(X_test)        # if available use decision_function\n",
    "# else:\n",
    "#     tTest = clf.predict_proba(X_test)[:,1]       # for e.g. MLP need to use predict_proba\n",
    "tBkg_11 = tTest[y_11_test==0]\n",
    "tSig_11 = tTest[y_11_test==1]\n",
    "nBins = 20\n",
    "tMin = np.floor(np.min(tTest))\n",
    "tMax = np.ceil(np.max(tTest))\n",
    "bins = np.linspace(tMin, tMax, nBins+1)\n",
    "# plt.title('Multilayer perceptron')\n",
    "plt.xlabel(' $DNN$', labelpad=3)\n",
    "plt.ylabel('$Probability density$', labelpad=40)\n",
    "n, bins, patches = plt.hist(tSig_11, bins=bins, density=True, histtype='step', fill=False, color ='dodgerblue' ,edgecolor = 'blue', hatch = 'XX',label='Tprime_700')\n",
    "# n, bins, patches = plt.hist(tBkg_6, bins=bins, density=True, histtype='step', fill=False,color = 'red' ,alpha=0.5, edgecolor = 'green', hatch='++', label = 'All Background')\n",
    "plt.grid(color = 'b', alpha = 0.5, linestyle = 'dashed')\n",
    "plt.legend(loc='center')\n",
    "plt.title(' ')\n",
    "# plt.savefig('/eos/home-s/sraj/M.Sc._Thesis/Plot_M.Sc._thesis/Plot_with_HDF5_files/''output_TPrime1200_all_background.png')\n",
    "plt.show()\n"
   ]
  },
  {
   "cell_type": "markdown",
   "metadata": {},
   "source": [
    "##### SMHiggs "
   ]
  },
  {
   "cell_type": "code",
   "execution_count": 85,
   "metadata": {},
   "outputs": [
    {
     "name": "stdout",
     "output_type": "stream",
     "text": [
      "441168/441168 [==============================] - 51s 116us/step\n",
      "441168/441168 [==============================] - 53s 119us/step\n",
      "Accuracy: 25.01%\n"
     ]
    },
    {
     "data": {
      "image/png": "[encoded data removed]",
      "text/plain": [
       "<Figure size 432x288 with 1 Axes>"
      ]
     },
     "metadata": {
      "needs_background": "light"
     },
     "output_type": "display_data"
    }
   ],
   "source": [
    "X_12_test = SMHiggs\n",
    "y_12_test = np.ones(SMHiggs.shape[0])\n",
    "\n",
    "loaded_model.compile(loss='binary_crossentropy', optimizer='adam', metrics=['accuracy'])\n",
    "score = loaded_model.evaluate(X_12_test, y_12_test)\n",
    "\n",
    "# Final evaluation of the model for DNN\n",
    "# Testing Outputs\n",
    "scores = loaded_model.evaluate(X_12_test, y_12_test, verbose=1)\n",
    "print(\"Accuracy: %.2f%%\" % (scores[1]*100))\n",
    "\n",
    "import matplotlib\n",
    "plt.figure()                                     # new window\n",
    "matplotlib.rcParams.update({'font.size':14})     # set all font sizes\n",
    "tTest = clf.predict(X_12_test)\n",
    "# if hasattr(clf, \"decision_function\"):\n",
    "#     tTest = clf.decision_function(X_test)        # if available use decision_function\n",
    "# else:\n",
    "#     tTest = clf.predict_proba(X_test)[:,1]       # for e.g. MLP need to use predict_proba\n",
    "tBkg_12 = tTest[y_12_test==0]\n",
    "tSig_12 = tTest[y_12_test==1]\n",
    "nBins = 20\n",
    "tMin = np.floor(np.min(tTest))\n",
    "tMax = np.ceil(np.max(tTest))\n",
    "bins = np.linspace(tMin, tMax, nBins+1)\n",
    "# plt.title('Multilayer perceptron')\n",
    "plt.xlabel(' $DNN$', labelpad=3)\n",
    "plt.ylabel('$Probability density$', labelpad=40)\n",
    "n, bins, patches = plt.hist(tSig_12, bins=bins, density=True, histtype='step', fill=False, color ='dodgerblue' ,edgecolor = 'blue', hatch = 'XX',label='SMHiggs')\n",
    "# n, bins, patches = plt.hist(tBkg_6, bins=bins, density=True, histtype='step', fill=False,color = 'red' ,alpha=0.5, edgecolor = 'green', hatch='++', label = 'All Background')\n",
    "plt.grid(color = 'b', alpha = 0.5, linestyle = 'dashed')\n",
    "plt.legend(loc='center')\n",
    "plt.title(' ')\n",
    "# plt.savefig('/eos/home-s/sraj/M.Sc._Thesis/Plot_M.Sc._thesis/Plot_with_HDF5_files/''output_TPrime1200_all_background.png')\n",
    "plt.show()\n"
   ]
  },
  {
   "cell_type": "markdown",
   "metadata": {},
   "source": [
    "### Filiing the root file with output histogram"
   ]
  },
  {
   "cell_type": "code",
   "execution_count": 86,
   "metadata": {},
   "outputs": [],
   "source": [
    "from ROOT import TCanvas, TPad, TFormula, TF1, TPaveLabel, TH1F, TFile,TH1D\n",
    "from ROOT import gROOT, gBenchmark\n",
    "f = TFile(\"/eos/user/s/sraj/M.Sc._Thesis/Plot_M.Sc._thesis/Final_training/MyrootFile_with_increase_nodes_after_testing_on_training_Tprime_600-700_all_five_background.root\", \"RECREATE\")\n",
    "# tree = TTree(\"root\",  )\n",
    "# How do we get that to create and fill with the background and signal\n",
    "# h_bak = TH1D(\"background\", \"background\", 100, 0,1)\n",
    "h_sig_1 = TH1D(\"datafile\", \"datafile\", 40, 0, 1)\n",
    "h_sig_2 = TH1D(\"ttgg\", \"ttgg\", 40, 0, 1)\n",
    "h_sig_3 = TH1D(\"ttjets\", \"ttjets\", 40, 0, 1)\n",
    "h_sig_4 = TH1D(\"diphotongamma\", \"diphotongamma\", 40, 0, 1)\n",
    "h_sig_5 = TH1D(\"gjets\", \"gjets\", 40, 0, 1)\n",
    "h_sig_6 = TH1D(\"ttgjets\", \"ttgjets\", 40, 0, 1)\n",
    "h_sig_7 = TH1D(\"Tprime_600\", \"Tprime_600\", 40, 0, 1)\n",
    "h_sig_8 = TH1D(\"Tprime_700\", \"ttjets\", 40, 0, 1)\n",
    "h_sig_9 = TH1D(\"SMHiggs\", \"ttjets\", 40, 0, 1)\n",
    "\n",
    "# h_sum_all = TH1D(\"data_obs\", \"data_obs\", 100, 0, 1)\n",
    "# for i in tBkg:\n",
    "#     h_bak.Fill(i)\n",
    "for j in tSig_3:\n",
    "    h_sig_1.Fill(j)\n",
    "for j in tSig_4:\n",
    "    h_sig_2.Fill(j)\n",
    "for j in tSig_5:\n",
    "    h_sig_3.Fill(j)\n",
    "for j in tSig_6:\n",
    "    h_sig_4.Fill(j)\n",
    "for j in tSig_7:\n",
    "    h_sig_5.Fill(j)\n",
    "for j in tSig_8:\n",
    "    h_sig_6.Fill(j)\n",
    "for j in tSig_10:\n",
    "    h_sig_7.Fill(j)\n",
    "for j in tSig_11:\n",
    "    h_sig_8.Fill(j)\n",
    "for j in tSig_12:\n",
    "    h_sig_9.Fill(j)\n",
    "\n",
    "# h_sum_all.Add(h_bak) \n",
    "# h_sum_all.Add(h_sig)\n",
    "\n",
    "\n",
    "\n",
    "f.Write()\n",
    "f.Close()\n",
    "\n"
   ]
  },
  {
   "cell_type": "markdown",
   "metadata": {},
   "source": [
    "## Importing Weights"
   ]
  },
  {
   "cell_type": "code",
   "execution_count": 88,
   "metadata": {},
   "outputs": [],
   "source": [
    "back_1 = '/eos/home-s/sraj/M.Sc._Thesis/data_files/output_TTGG_0Jets_TuneCP5_13TeV_amcatnlo_madspin_pythia8.root'\n",
    "back_002 = '/eos/user/p/prsaha/for_Shivam/output_TTJets_pythia8.root'\n",
    "back_003 = '/eos/user/p/prsaha/for_Shivam/output_DiPhotonJetsBox_MGG-80toInf_13TeV-Sherpa.root'\n",
    "back_004 = '/eos/user/p/prsaha/for_Shivam/output_DiPhotonJetsBox2BJets_MGG-80toInf_13TeV-Sherpa.root'\n",
    "back_005 = '/eos/user/p/prsaha/for_Shivam/output_GJet_Pt-40toInf_DoubleEMEnriched_MGG-80toInf_pythia8.root'\n",
    "back_006 = '/eos/user/p/prsaha/for_Shivam/output_TTGJets_pythia8.root'\n",
    "back_007 = '/eos/user/p/prsaha/for_Shivam/output_TTJets_pythia8.root'\n",
    "Tprime_600 = '/eos/user/p/prsaha/for_Shivam/output_TprimeBToTH_Hgg_M-600_LH_TuneCP5_PSweights_13TeV-madgraph_pythia8.root'\n",
    "Tprime_700 = '/eos/user/p/prsaha/for_Shivam/output_TprimeBToTH_Hgg_M-700_LH_TuneCP5_PSweights_13TeV-madgraph_pythia8.root'\n",
    "\n",
    "\n",
    "treeName_back_1 =\"tagsDumper/trees/ttgg_13TeV_THQLeptonicTag\" \n",
    "treeName_back_002 =\"tagsDumper/trees/ttjets_13TeV_THQLeptonicTag\" \n",
    "treeName_back_003 =\"tagsDumper/trees/DiPhotonJetsBox_13TeV_THQLeptonicTag\" \n",
    "treeName_back_004 =\"tagsDumper/trees/DiPhotonJetsBox2BJets_13TeV_THQLeptonicTag\" \n",
    "treeName_back_005 =\"tagsDumper/trees/gjets_13TeV_THQLeptonicTag\" \n",
    "treeName_back_006 =\"tagsDumper/trees/ttgjets_13TeV_THQLeptonicTag\" \n",
    "treeName_back_007 =\"tagsDumper/trees/ttjets_13TeV_THQLeptonicTag\" \n",
    "treeName_600 = \"tagsDumper/trees/Tprime_600_13TeV_THQLeptonicTag\"\n",
    "treeName_700 = \"tagsDumper/trees/Tprime_700_13TeV_THQLeptonicTag\""
   ]
  },
  {
   "cell_type": "code",
   "execution_count": 89,
   "metadata": {},
   "outputs": [],
   "source": [
    "weights = 'weight'"
   ]
  },
  {
   "cell_type": "code",
   "execution_count": 97,
   "metadata": {},
   "outputs": [],
   "source": [
    "back_ttgg_Weight = root2array(back_1, treeName_back_1, weights)     # ttgg background(Not using this)\n",
    "back_ttjets_Weight = root2array(back_002, treeName_back_002, weights)\n",
    "back_diphotongamma_Weight = root2array(back_003, treeName_back_003, weights)\n",
    "back_diphotongamma_1_Weight = root2array(back_004, treeName_back_004, weights)\n",
    "back_gjets_Weight = root2array(back_005, treeName_back_005, weights)\n",
    "back_ttgjets_Weight = root2array(back_006, treeName_back_006, weights)\n",
    "back_ttjets_Weight = root2array(back_007, treeName_back_007, weights)\n"
   ]
  },
  {
   "cell_type": "code",
   "execution_count": 116,
   "metadata": {},
   "outputs": [],
   "source": [
    "# signal_Tprime_600_Weight = root2array(Tprime_600, treeName_600, weights)   #Signal TPrime at 600GeV\n",
    "# signal_Tprime_700_Weight = root2array(Tprime_700, treeName_700, weights)   #Signal TPrime at 625GeV"
   ]
  },
  {
   "cell_type": "code",
   "execution_count": 117,
   "metadata": {},
   "outputs": [],
   "source": [
    "ttgg_Weight = pd.DataFrame(back_ttgg_Weight)\n",
    "ttjets_Weight = pd.DataFrame(back_ttjets_Weight)\n",
    "diphotongamma_Weight = pd.DataFrame(back_diphotongamma_Weight)\n",
    "diphotongamma_1_Weight = pd.DataFrame(back_diphotongamma_1_Weight)\n",
    "gjets_Weight = pd.DataFrame(back_gjets_Weight)\n",
    "ttgjets_Weight = pd.DataFrame(back_ttgjets_Weight)\n",
    "ttjets_Weight = pd.DataFrame(back_ttjets_Weight)\n",
    "# Tprime_600_Weight = pd.DataFrame(signal_Tprime_600_Weight)\n",
    "# Tprime_700_Weight= pd.DataFrame(signal_Tprime_700_Weight)"
   ]
  },
  {
   "cell_type": "code",
   "execution_count": 102,
   "metadata": {},
   "outputs": [
    {
     "data": {
      "text/plain": [
       "(55847, 1)"
      ]
     },
     "execution_count": 102,
     "metadata": {},
     "output_type": "execute_result"
    }
   ],
   "source": [
    "ttgg_Weight.shape\n",
    " "
   ]
  },
  {
   "cell_type": "code",
   "execution_count": 35,
   "metadata": {},
   "outputs": [
    {
     "ename": "NameError",
     "evalue": "name 'ttgg_Weight' is not defined",
     "output_type": "error",
     "traceback": [
      "\u001b[0;31m---------------------------------------------------------------------------\u001b[0m",
      "\u001b[0;31mNameError\u001b[0m                                 Traceback (most recent call last)",
      "\u001b[0;32m<ipython-input-35-0d0aaf4008c6>\u001b[0m in \u001b[0;36m<module>\u001b[0;34m\u001b[0m\n\u001b[0;32m----> 1\u001b[0;31m \u001b[0mttgg_Weight\u001b[0m\u001b[0;34m\u001b[0m\u001b[0;34m\u001b[0m\u001b[0m\n\u001b[0m",
      "\u001b[0;31mNameError\u001b[0m: name 'ttgg_Weight' is not defined"
     ]
    }
   ],
   "source": [
    "ttgg_Weight"
   ]
  },
  {
   "cell_type": "code",
   "execution_count": 103,
   "metadata": {},
   "outputs": [
    {
     "data": {
      "text/plain": [
       "(55847, 1)"
      ]
     },
     "execution_count": 103,
     "metadata": {},
     "output_type": "execute_result"
    }
   ],
   "source": [
    "tSig_4.shape"
   ]
  },
  {
   "cell_type": "code",
   "execution_count": null,
   "metadata": {},
   "outputs": [],
   "source": [
    "t"
   ]
  },
  {
   "cell_type": "markdown",
   "metadata": {},
   "source": [
    "##### Adding weights to the ROOT File"
   ]
  },
  {
   "cell_type": "code",
   "execution_count": 105,
   "metadata": {},
   "outputs": [],
   "source": [
    "from ROOT import TCanvas, TPad, TFormula, TF1, TPaveLabel, TH1F, TFile,TH1D\n",
    "from ROOT import gROOT, gBenchmark"
   ]
  },
  {
   "cell_type": "code",
   "execution_count": 120,
   "metadata": {},
   "outputs": [],
   "source": [
    "f = TFile(\"/eos/user/s/sraj/M.Sc._Thesis/Plot_M.Sc._thesis/Final_training/MyrootFile_with_weight_on_ttgg_after_testing_on_training_Tprime_600-700_all_five_background.root\", \"RECREATE\")\n",
    "# tree = TTree(\"root\",  )\n",
    "# How do we get that to create and fill with the background and signal\n",
    "# h_bak = TH1D(\"background\", \"background\", 100, 0,1)\n",
    "\n",
    "# h_sig_1 = TH1D(\"datafile\", \"datafile\", 40, 0, 1)\n",
    "h_sig_2 = TH1D(\"ttgg\", \"ttgg\", 40, 0, 1)\n",
    "# h_sig_3 = TH1D(\"ttjets\", \"ttjets\", 40, 0, 1)\n",
    "# h_sig_4 = TH1D(\"diphotongamma\", \"diphotongamma\", 40, 0, 1)\n",
    "# h_sig_5 = TH1D(\"gjets\", \"gjets\", 40, 0, 1)\n",
    "# h_sig_6 = TH1D(\"ttgjets\", \"ttgjets\", 40, 0, 1)\n",
    "# h_sig_7 = TH1D(\"Tprime_600\", \"Tprime_600\", 40, 0, 1)\n",
    "# h_sig_8 = TH1D(\"Tprime_700\", \"ttjets\", 40, 0, 1)\n",
    "# h_sig_9 = TH1D(\"SMHiggs\", \"ttjets\", 40, 0, 1)\n",
    "\n",
    "# h_sum_all = TH1D(\"data_obs\", \"data_obs\", 100, 0, 1)\n",
    "# for i in tBkg:\n",
    "#     h_bak.Fill(i)\n",
    "\n",
    "# for j in tSig_3:\n",
    "#     h_sig_1.Fill(j)\n",
    "for j in tSig_4:\n",
    "    h_sig_2.Fill(j)\n",
    "\n",
    "# for j in tSig_5:\n",
    "#     h_sig_3.Fill(j)\n",
    "# for j in tSig_6:\n",
    "#     h_sig_4.Fill(j)\n",
    "# for j in tSig_7:\n",
    "#     h_sig_5.Fill(j)\n",
    "# for j in tSig_8:\n",
    "#     h_sig_6.Fill(j)\n",
    "# for j in tSig_10:\n",
    "#     h_sig_7.Fill(j)\n",
    "# for j in tSig_11:\n",
    "#     h_sig_8.Fill(j)\n",
    "# for j in tSig_12:\n",
    "#     h_sig_9.Fill(j)\n",
    "\n",
    "# h_sum_all.Add(h_bak) \n",
    "# h_sum_all.Add(h_sig)\n",
    "\n",
    "\n",
    "\n",
    "f.Write()\n",
    "f.Close()\n",
    "\n"
   ]
  },
  {
   "cell_type": "code",
   "execution_count": null,
   "metadata": {},
   "outputs": [],
   "source": []
  },
  {
   "cell_type": "code",
   "execution_count": null,
   "metadata": {},
   "outputs": [],
   "source": []
  },
  {
   "cell_type": "code",
   "execution_count": null,
   "metadata": {},
   "outputs": [],
   "source": []
  },
  {
   "cell_type": "code",
   "execution_count": 94,
   "metadata": {},
   "outputs": [
    {
     "data": {
      "image/png": "[encoded data removed]",
      "text/plain": [
       "<Figure size 432x288 with 1 Axes>"
      ]
     },
     "metadata": {
      "needs_background": "light"
     },
     "output_type": "display_data"
    }
   ],
   "source": [
    "import matplotlib\n",
    "plt.figure()                                     # new window\n",
    "matplotlib.rcParams.update({'font.size':14})     # set all font sizes\n",
    "tTest = loaded_model.predict(X_test)\n",
    "tTest_1 = loaded_model.predict(X_3_test)\n",
    "# tTest = loaded_model.predict(X_3_test)\n",
    "# if hasattr(clf, \"decision_function\"):\n",
    "#     tTest = clf.decision_function(X_test)        # if available use decision_function\n",
    "# else:\n",
    "#     tTest = clf.predict_proba(X_test)[:,1]       # for e.g. MLP need to use predict_proba\n",
    "tBkg_0 = tTest[y_test==0]\n",
    "tSig_0 = tTest[y_test==1]\n",
    "tBkg_1 = tTest_1[y_3_test==0]\n",
    "tSig_1 = tTest_1[y_3_test==1]\n",
    "nBins = 20\n",
    "tMin = np.floor(np.min(tTest))\n",
    "tMax = np.ceil(np.max(tTest))\n",
    "bins = np.linspace(tMin, tMax, nBins+1)\n",
    "# plt.title('Multilayer perceptron')\n",
    "plt.xlabel(' $DNN$', labelpad=3)\n",
    "plt.ylabel('$Probability density$', labelpad=40)\n",
    "n, bins, patches = plt.hist(tSig_0,bins=bins, density=False, histtype='step', fill=False, color ='dodgerblue' ,edgecolor = 'red', hatch = 'XX',label='Tprime_600-700')\n",
    "n, bins, patches = plt.hist(tBkg_0, bins=bins, density=False, histtype='step', fill=False,color = 'red' ,alpha=0.5, edgecolor = 'green', hatch='++', label = 'All Background')\n",
    "n, bins, patches = plt.hist(tSig_1, bins=bins, density=False, histtype='step', fill=False, color ='cyan' ,edgecolor = 'blue', hatch = 'XX',label='Tprime_')\n",
    "n, bins, patches = plt.hist(tBkg_1, bins=bins, density=False, histtype='step', fill=False,color = 'green' ,alpha=0.5, edgecolor = 'lime', hatch='++', label = 'All Backgr')\n",
    "plt.grid(color = 'b', alpha = 0.5, linestyle = 'dashed')\n",
    "plt.legend(loc='center')\n",
    "plt.title(' ')\n",
    "# plt.savefig('output_TPrime600_all_background.png')\n",
    "plt.show()"
   ]
  },
  {
   "cell_type": "code",
   "execution_count": 98,
   "metadata": {},
   "outputs": [],
   "source": [
    "signal_3 = data_File_1\n",
    "backgr = pd.concat((back_tth, back_ggh, back_thq, back_vbf, back_vh), axis=0)"
   ]
  },
  {
   "cell_type": "code",
   "execution_count": 99,
   "metadata": {},
   "outputs": [],
   "source": [
    "X_3 = np.concatenate((signal_3, backgr))\n",
    "y_3 = np.concatenate((np.ones(signal_3.shape[0]),\n",
    "                    np.zeros(backgr.shape[0])))"
   ]
  },
  {
   "cell_type": "code",
   "execution_count": 100,
   "metadata": {},
   "outputs": [],
   "source": [
    "X_3_train,X_3_test, y_3_train, y_3_test = train_test_split(X_3, y_3, test_size=0.99, random_state =5)\n"
   ]
  },
  {
   "cell_type": "code",
   "execution_count": 101,
   "metadata": {},
   "outputs": [
    {
     "name": "stdout",
     "output_type": "stream",
     "text": [
      "439133/439133 [==============================] - 53s 120us/step\n"
     ]
    }
   ],
   "source": [
    "loaded_model.compile(loss='binary_crossentropy', optimizer='adam', metrics=['accuracy'])\n",
    "score = loaded_model.evaluate(X_3_test, y_3_test)"
   ]
  },
  {
   "cell_type": "code",
   "execution_count": 102,
   "metadata": {},
   "outputs": [
    {
     "name": "stdout",
     "output_type": "stream",
     "text": [
      "439133/439133 [==============================] - 209s 476us/step\n",
      "Accuracy: 74.98%\n"
     ]
    }
   ],
   "source": [
    "# Final evaluation of the model for DNN\n",
    "# Testing Outputs\n",
    "scores = loaded_model.evaluate(X_3_test, y_3_test, verbose=1)\n",
    "print(\"Accuracy: %.2f%%\" % (scores[1]*100))"
   ]
  },
  {
   "cell_type": "code",
   "execution_count": 110,
   "metadata": {},
   "outputs": [
    {
     "data": {
      "image/png": "[encoded data removed]",
      "text/plain": [
       "<Figure size 432x288 with 1 Axes>"
      ]
     },
     "metadata": {
      "needs_background": "light"
     },
     "output_type": "display_data"
    }
   ],
   "source": [
    "import matplotlib\n",
    "plt.figure()                                     # new window\n",
    "matplotlib.rcParams.update({'font.size':14})     # set all font sizes\n",
    "tTest = loaded_model.predict(X_test)\n",
    "tTest_1 = loaded_model.predict(X_3_test)\n",
    "# tTest = loaded_model.predict(X_3_test)\n",
    "# if hasattr(clf, \"decision_function\"):\n",
    "#     tTest = clf.decision_function(X_test)        # if available use decision_function\n",
    "# else:\n",
    "#     tTest = clf.predict_proba(X_test)[:,1]       # for e.g. MLP need to use predict_proba\n",
    "tBkg_0 = tTest[y_test==0]\n",
    "tSig_0 = tTest[y_test==1]\n",
    "tBkg_1 = tTest_1[y_3_test==0]\n",
    "tSig_1 = tTest_1[y_3_test==1]\n",
    "nBins = 20\n",
    "tMin = np.floor(np.min(tTest))\n",
    "tMax = np.ceil(np.max(tTest))\n",
    "bins = np.linspace(tMin, tMax, nBins+1)\n",
    "# plt.title('Multilayer perceptron')\n",
    "plt.xlabel(' $DNN$', labelpad=3)\n",
    "plt.ylabel('$Probability density$', labelpad=40)\n",
    "# n, bins, patches = plt.hist(tSig_0,bins=bins, density=True, histtype='step', fill=False, color ='dodgerblue' ,alpha=1, edgecolor = 'red',label='Tprime_600-700')\n",
    "# n, bins, patches = plt.hist(tBkg_0, bins=bins, density=True, histtype='step', fill=False,color = 'red' ,alpha=1, edgecolor = 'black', label = 'All Background')\n",
    "n, bins, patches = plt.hist(tSig_1, bins=bins, density=True, histtype='step', fill=False, color ='blue' ,alpha=1, edgecolor = 'blue',label='Tprime_')\n",
    "n, bins, patches = plt.hist(tBkg_1, bins=bins, density=True, histtype='step', fill=False,color = 'green' ,alpha=1, edgecolor = 'teal')\n",
    "plt.grid(color = 'b', alpha = 0.5, linestyle = 'dashed')\n",
    "plt.legend(loc='center')\n",
    "plt.title(' ')\n",
    "# plt.savefig('output_TPrime600_all_background.png')\n",
    "plt.show()"
   ]
  },
  {
   "cell_type": "code",
   "execution_count": null,
   "metadata": {},
   "outputs": [],
   "source": []
  },
  {
   "cell_type": "code",
   "execution_count": 29,
   "metadata": {},
   "outputs": [
    {
     "name": "stderr",
     "output_type": "stream",
     "text": [
      "WARNING: Logging before flag parsing goes to stderr.\n",
      "W0331 15:01:33.748734 140175835481920 deprecation_wrapper.py:119] From /cvmfs/sft.cern.ch/lcg/views/LCG_97apython3/x86_64-centos7-gcc8-opt/lib/python3.7/site-packages/keras/backend/tensorflow_backend.py:517: The name tf.placeholder is deprecated. Please use tf.compat.v1.placeholder instead.\n",
      "\n",
      "W0331 15:01:34.096111 140175835481920 deprecation_wrapper.py:119] From /cvmfs/sft.cern.ch/lcg/views/LCG_97apython3/x86_64-centos7-gcc8-opt/lib/python3.7/site-packages/keras/backend/tensorflow_backend.py:131: The name tf.get_default_graph is deprecated. Please use tf.compat.v1.get_default_graph instead.\n",
      "\n",
      "W0331 15:01:34.097384 140175835481920 deprecation_wrapper.py:119] From /cvmfs/sft.cern.ch/lcg/views/LCG_97apython3/x86_64-centos7-gcc8-opt/lib/python3.7/site-packages/keras/backend/tensorflow_backend.py:133: The name tf.placeholder_with_default is deprecated. Please use tf.compat.v1.placeholder_with_default instead.\n",
      "\n",
      "W0331 15:01:34.126222 140175835481920 deprecation_wrapper.py:119] From /cvmfs/sft.cern.ch/lcg/views/LCG_97apython3/x86_64-centos7-gcc8-opt/lib/python3.7/site-packages/keras/backend/tensorflow_backend.py:4138: The name tf.random_uniform is deprecated. Please use tf.random.uniform instead.\n",
      "\n",
      "W0331 15:01:34.299040 140175835481920 deprecation.py:506] From /cvmfs/sft.cern.ch/lcg/views/LCG_97apython3/x86_64-centos7-gcc8-opt/lib/python3.7/site-packages/keras/backend/tensorflow_backend.py:3445: calling dropout (from tensorflow.python.ops.nn_ops) with keep_prob is deprecated and will be removed in a future version.\n",
      "Instructions for updating:\n",
      "Please use `rate` instead of `keep_prob`. Rate should be set to `rate = 1 - keep_prob`.\n",
      "W0331 15:01:35.137522 140175835481920 deprecation_wrapper.py:119] From /cvmfs/sft.cern.ch/lcg/views/LCG_97apython3/x86_64-centos7-gcc8-opt/lib/python3.7/site-packages/keras/backend/tensorflow_backend.py:4115: The name tf.random_normal is deprecated. Please use tf.random.normal instead.\n",
      "\n",
      "W0331 15:01:36.397656 140175835481920 deprecation_wrapper.py:119] From /cvmfs/sft.cern.ch/lcg/views/LCG_97apython3/x86_64-centos7-gcc8-opt/lib/python3.7/site-packages/keras/optimizers.py:790: The name tf.train.Optimizer is deprecated. Please use tf.compat.v1.train.Optimizer instead.\n",
      "\n",
      "W0331 15:01:36.412046 140175835481920 deprecation.py:323] From /cvmfs/sft.cern.ch/lcg/views/LCG_97apython3/x86_64-centos7-gcc8-opt/lib/python3.7/site-packages/tensorflow/python/ops/nn_impl.py:180: add_dispatch_support.<locals>.wrapper (from tensorflow.python.ops.array_ops) is deprecated and will be removed in a future version.\n",
      "Instructions for updating:\n",
      "Use tf.where in 2.0, which has the same broadcast rule as np.where\n",
      "2022-03-31 15:01:35.920499: I tensorflow/core/platform/cpu_feature_guard.cc:142] Your CPU supports instructions that this TensorFlow binary was not compiled to use: SSE4.1 SSE4.2 AVX AVX2 AVX512F FMA\n",
      "2022-03-31 15:01:35.947185: I tensorflow/core/platform/profile_utils/cpu_utils.cc:94] CPU Frequency: 2294605000 Hz\n",
      "2022-03-31 15:01:35.948820: I tensorflow/compiler/xla/service/service.cc:168] XLA service 0x177c1490 executing computations on platform Host. Devices:\n",
      "2022-03-31 15:01:35.948856: I tensorflow/compiler/xla/service/service.cc:175]   StreamExecutor device (0): <undefined>, <undefined>\n",
      "2022-03-31 15:01:36.291823: W tensorflow/compiler/jit/mark_for_compilation_pass.cc:1412] (One-time warning): Not using XLA:CPU for cluster because envvar TF_XLA_FLAGS=--tf_xla_cpu_global_jit was not set.  If you want XLA:CPU, either set that envvar, or use experimental_jit_scope to enable XLA:CPU.  To confirm that XLA is active, pass --vmodule=xla_compilation_cache=1 (as a proper command-line flag, not via TF_XLA_FLAGS) or set the envvar XLA_FLAGS=--xla_hlo_profile.\n"
     ]
    }
   ],
   "source": []
  },
  {
   "cell_type": "code",
   "execution_count": 30,
   "metadata": {},
   "outputs": [
    {
     "name": "stdout",
     "output_type": "stream",
     "text": [
      "290150/290150 [==============================] - 34s 118us/step\n"
     ]
    }
   ],
   "source": [
    "# evaluate loaded model on test data of TPrime_600\n",
    "loaded_model.compile(loss='binary_crossentropy', optimizer='adam', metrics=['accuracy'])\n",
    "score = loaded_model.evaluate(X_test, y_test)"
   ]
  },
  {
   "cell_type": "code",
   "execution_count": 31,
   "metadata": {},
   "outputs": [
    {
     "name": "stdout",
     "output_type": "stream",
     "text": [
      "290150/290150 [==============================] - 38s 130us/step\n",
      "It should be compatible with the previous output from the test dataset: \n",
      "Here the Accuracy ouput is: \n",
      " Accuracy: 82.41%\n"
     ]
    }
   ],
   "source": [
    "scores = loaded_model.evaluate(X_test, y_test, verbose=1)\n",
    "print('It should be compatible with the previous output from the test dataset: \\n'\"Here the Accuracy ouput is: \\n Accuracy: %.2f%%\" % (scores[1]*100))\n"
   ]
  },
  {
   "cell_type": "code",
   "execution_count": 32,
   "metadata": {},
   "outputs": [
    {
     "name": "stdout",
     "output_type": "stream",
     "text": [
      "(290150, 42)\n",
      "(290150,)\n"
     ]
    }
   ],
   "source": [
    "print(X_test.shape)\n",
    "print(y_test.shape)"
   ]
  },
  {
   "cell_type": "markdown",
   "metadata": {},
   "source": [
    "# Testing on Tprime 800 and 900"
   ]
  },
  {
   "cell_type": "code",
   "execution_count": 33,
   "metadata": {},
   "outputs": [],
   "source": [
    "Tprime_800 = '/eos/user/p/prsaha/for_Shivam/output_TprimeBToTH_Hgg_M-800_LH_TuneCP5_PSweights_13TeV-madgraph_pythia8.root'\n",
    "Tprime_900 = '/eos/user/p/prsaha/for_Shivam/output_TprimeBToTH_Hgg_M-900_LH_TuneCP5_PSweights_13TeV-madgraph_pythia8.root'"
   ]
  },
  {
   "cell_type": "code",
   "execution_count": 34,
   "metadata": {},
   "outputs": [],
   "source": [
    "treeName_800 = \"tagsDumper/trees/Tprime_800_13TeV_THQLeptonicTag\"\n",
    "treeName_900 = \"tagsDumper/trees/Tprime_900_13TeV_THQLeptonicTag\""
   ]
  },
  {
   "cell_type": "code",
   "execution_count": 35,
   "metadata": {},
   "outputs": [],
   "source": [
    "signal_Tprime_800 = root2array(Tprime_800, treeName_800, columns)   #Signal TPrime at 600GeV\n",
    "signal_Tprime_900 = root2array(Tprime_900, treeName_900, columns)   #Signal TPrime at 625GeV"
   ]
  },
  {
   "cell_type": "code",
   "execution_count": 36,
   "metadata": {},
   "outputs": [],
   "source": [
    "signal_Tprime800= pd.DataFrame(signal_Tprime_800)\n",
    "signal_Tprime900= pd.DataFrame(signal_Tprime_900)"
   ]
  },
  {
   "cell_type": "code",
   "execution_count": 38,
   "metadata": {},
   "outputs": [],
   "source": [
    "signal_1 = pd.concat((signal_Tprime800, signal_Tprime900 ),axis = 0)\n",
    "backgr = pd.concat((back_tth, back_ggh, back_thq, back_vbf, back_vh), axis=0)"
   ]
  },
  {
   "cell_type": "code",
   "execution_count": 39,
   "metadata": {},
   "outputs": [],
   "source": [
    "X_1 = np.concatenate((signal_1, backgr))\n",
    "y_1 = np.concatenate((np.ones(signal_1.shape[0]),\n",
    "                    np.zeros(backgr.shape[0])))"
   ]
  },
  {
   "cell_type": "code",
   "execution_count": 40,
   "metadata": {},
   "outputs": [],
   "source": [
    "X_1_train,X_1_test, y_1_train, y_1_test = train_test_split(X_1, y_1, test_size=0.99, random_state =5)\n"
   ]
  },
  {
   "cell_type": "code",
   "execution_count": 41,
   "metadata": {},
   "outputs": [
    {
     "name": "stdout",
     "output_type": "stream",
     "text": [
      "637453/637453 [==============================] - 134s 210us/step\n"
     ]
    }
   ],
   "source": [
    "loaded_model.compile(loss='binary_crossentropy', optimizer='adam', metrics=['accuracy'])\n",
    "score = loaded_model.evaluate(X_1_test, y_1_test)"
   ]
  },
  {
   "cell_type": "code",
   "execution_count": 42,
   "metadata": {},
   "outputs": [
    {
     "name": "stdout",
     "output_type": "stream",
     "text": [
      "637453/637453 [==============================] - 58s 90us/step\n",
      "Accuracy: 74.83%\n"
     ]
    }
   ],
   "source": [
    "# Final evaluation of the model for DNN\n",
    "# Testing Outputs\n",
    "scores = loaded_model.evaluate(X_1_test, y_1_test, verbose=1)\n",
    "print(\"Accuracy: %.2f%%\" % (scores[1]*100))"
   ]
  },
  {
   "cell_type": "code",
   "execution_count": 43,
   "metadata": {},
   "outputs": [
    {
     "data": {
      "image/png": "[encoded data removed]",
      "text/plain": [
       "<Figure size 432x288 with 1 Axes>"
      ]
     },
     "metadata": {
      "needs_background": "light"
     },
     "output_type": "display_data"
    }
   ],
   "source": [
    "from sklearn.metrics import roc_curve, auc\n",
    "\n",
    "decisions = loaded_model.predict(X_1_test)\n",
    "\n",
    "# Compute ROC curve and area under the curve\n",
    "fpr, tpr, thresholds = roc_curve(y_1_test, decisions)\n",
    "roc_auc = auc(fpr, tpr)\n",
    "plt.plot(fpr, tpr, lw=1, label='ROC (area = %0.2f)'%(roc_auc))\n",
    "\n",
    "plt.plot([0, 1], [0, 1], '--', color=(0.6, 0.6, 0.6), label='Luck')\n",
    "plt.xlim([-0.05, 1.05])\n",
    "plt.ylim([-0.05, 1.05])\n",
    "plt.xlabel('False Positive Rate')\n",
    "plt.ylabel('True Positive Rate')\n",
    "plt.title('Receiver operating characteristic')\n",
    "plt.legend(loc=\"lower right\")\n",
    "plt.grid()\n",
    "# plt.savefig(\"ROC_curve.png\")\n",
    "plt.show()"
   ]
  },
  {
   "cell_type": "code",
   "execution_count": 45,
   "metadata": {},
   "outputs": [
    {
     "data": {
      "image/png": "[encoded data removed]",
      "text/plain": [
       "<Figure size 432x288 with 1 Axes>"
      ]
     },
     "metadata": {
      "needs_background": "light"
     },
     "output_type": "display_data"
    }
   ],
   "source": [
    "import matplotlib\n",
    "plt.figure()                                     # new window\n",
    "matplotlib.rcParams.update({'font.size':14})     # set all font sizes\n",
    "tTest = loaded_model.predict(X_1_test)\n",
    "# if hasattr(clf, \"decision_function\"):\n",
    "#     tTest = clf.decision_function(X_test)        # if available use decision_function\n",
    "# else:\n",
    "#     tTest = clf.predict_proba(X_test)[:,1]       # for e.g. MLP need to use predict_proba\n",
    "tBkg_1 = tTest[y_1_test==0]\n",
    "tSig_1 = tTest[y_1_test==1]\n",
    "nBins = 20\n",
    "tMin = np.floor(np.min(tTest))\n",
    "tMax = np.ceil(np.max(tTest))\n",
    "bins = np.linspace(tMin, tMax, nBins+1)\n",
    "# plt.title('Multilayer perceptron')\n",
    "plt.xlabel(' $DNN$', labelpad=3)\n",
    "plt.ylabel('$Probability density$', labelpad=40)\n",
    "n, bins, patches = plt.hist(tSig_1, bins=bins, density=True, histtype='step', fill=False, color ='dodgerblue' ,edgecolor = 'blue', hatch = 'XX',label='Tprime_800-900')\n",
    "n, bins, patches = plt.hist(tBkg_1, bins=bins, density=True, histtype='step', fill=False,color = 'red' ,alpha=0.5, edgecolor = 'green', hatch='++', label = 'All Background')\n",
    "plt.grid(color = 'b', alpha = 0.5, linestyle = 'dashed')\n",
    "plt.legend(loc='center')\n",
    "plt.title(' ')\n",
    "# plt.savefig('/eos/home-s/sraj/M.Sc._Thesis/Plot_M.Sc._thesis/Plot_with_HDF5_files/''output_TPrime1200_all_background.png')\n",
    "plt.show()"
   ]
  },
  {
   "cell_type": "markdown",
   "metadata": {},
   "source": [
    "# Method 2"
   ]
  },
  {
   "cell_type": "code",
   "execution_count": 46,
   "metadata": {},
   "outputs": [],
   "source": [
    "X_2_test = signal_1\n",
    "y_2_test = np.ones(signal_1.shape[0])"
   ]
  },
  {
   "cell_type": "code",
   "execution_count": 48,
   "metadata": {},
   "outputs": [
    {
     "data": {
      "text/plain": [
       "((202723, 42), (202723,))"
      ]
     },
     "execution_count": 48,
     "metadata": {},
     "output_type": "execute_result"
    }
   ],
   "source": [
    "X_2_test.shape, y_2_test.shape"
   ]
  },
  {
   "cell_type": "code",
   "execution_count": 49,
   "metadata": {},
   "outputs": [
    {
     "name": "stdout",
     "output_type": "stream",
     "text": [
      "202723/202723 [==============================] - 23s 111us/step\n"
     ]
    }
   ],
   "source": [
    "loaded_model.compile(loss='binary_crossentropy', optimizer='adam', metrics=['accuracy'])\n",
    "score = loaded_model.evaluate(X_2_test, y_2_test)"
   ]
  },
  {
   "cell_type": "code",
   "execution_count": 51,
   "metadata": {},
   "outputs": [
    {
     "name": "stdout",
     "output_type": "stream",
     "text": [
      "202723/202723 [==============================] - 17s 85us/step\n",
      "Accuracy: 73.71%\n"
     ]
    }
   ],
   "source": [
    "# Final evaluation of the model for DNN\n",
    "# Testing Outputs\n",
    "scores = loaded_model.evaluate(X_2_test, y_2_test, verbose=1)\n",
    "print(\"Accuracy: %.2f%%\" % (scores[1]*100))"
   ]
  },
  {
   "cell_type": "code",
   "execution_count": 52,
   "metadata": {},
   "outputs": [
    {
     "name": "stderr",
     "output_type": "stream",
     "text": [
      "/cvmfs/sft.cern.ch/lcg/views/LCG_97apython3/x86_64-centos7-gcc8-opt/lib/python3.7/site-packages/sklearn/metrics/ranking.py:651: UndefinedMetricWarning: No negative samples in y_true, false positive value should be meaningless\n",
      "  UndefinedMetricWarning)\n",
      "/cvmfs/sft.cern.ch/lcg/views/LCG_97apython3/x86_64-centos7-gcc8-opt/lib/python3.7/site-packages/sklearn/metrics/ranking.py:113: RuntimeWarning: invalid value encountered in less\n",
      "  if np.any(dx < 0):\n"
     ]
    },
    {
     "data": {
      "image/png": "[encoded data removed]",
      "text/plain": [
       "<Figure size 432x288 with 1 Axes>"
      ]
     },
     "metadata": {
      "needs_background": "light"
     },
     "output_type": "display_data"
    }
   ],
   "source": [
    "from sklearn.metrics import roc_curve, auc\n",
    "\n",
    "decisions = loaded_model.predict(X_2_test)\n",
    "\n",
    "# Compute ROC curve and area under the curve\n",
    "fpr, tpr, thresholds = roc_curve(y_2_test, decisions)\n",
    "roc_auc = auc(fpr, tpr)prime_800 GeV to 1000 GeV\n",
    "plt.plot(fpr, tpr, lw=1, label='ROC (area = %0.2f)'%(roc_auc))\n",
    "\n",
    "plt.plot([0, 1], [0, 1], '--', color=(0.6, 0.6, 0.6), label='Luck')\n",
    "plt.xlim([-0.05, 1.05])\n",
    "plt.ylim([-0.05, 1.05])\n",
    "plt.xlabel('False Positive Rate')\n",
    "plt.ylabel('True Positive Rate')\n",
    "plt.title('Receiver operating characteristic')\n",
    "plt.legend(loc=\"lower right\")\n",
    "plt.grid()\n",
    "# plt.savefig(\"ROC_curve.png\")\n",
    "plt.show()"
   ]
  },
  {
   "cell_type": "code",
   "execution_count": 53,
   "metadata": {},
   "outputs": [
    {
     "name": "stderr",
     "output_type": "stream",
     "text": [
      "/cvmfs/sft.cern.ch/lcg/views/LCG_97apython3/x86_64-centos7-gcc8-opt/lib/python3.7/site-packages/numpy/lib/histograms.py:893: RuntimeWarning: invalid value encountered in true_divide\n",
      "  return n/db/n.sum(), bin_edges\n"
     ]
    },
    {
     "data": {
      "image/png": "[encoded data removed]",
      "text/plain": [
       "<Figure size 432x288 with 1 Axes>"
      ]
     },
     "metadata": {
      "needs_background": "light"
     },
     "output_type": "display_data"
    }
   ],
   "source": [
    "import matplotlib\n",
    "plt.figure()                                     # new window\n",
    "matplotlib.rcParams.update({'font.size':14})     # set all font sizes\n",
    "tTest = loaded_model.predict(X_2_test)\n",
    "# if hasattr(clf, \"decision_function\"):\n",
    "#     tTest = clf.decision_function(X_test)        # if available use decision_function\n",
    "# else:\n",
    "#     tTest = clf.predict_proba(X_test)[:,1]       # for e.g. MLP need to use predict_proba\n",
    "tBkg_1 = tTest[y_2_test==0]\n",
    "tSig_1 = tTest[y_2_test==1]\n",
    "nBins = 20\n",
    "tMin = np.floor(np.min(tTest))\n",
    "tMax = np.ceil(np.max(tTest))\n",
    "bins = np.linspace(tMin, tMax, nBins+1)\n",
    "# plt.title('Multilayer perceptron')\n",
    "plt.xlabel(' $DNN$', labelpad=3)\n",
    "plt.ylabel('$Probability density$', labelpad=40)\n",
    "n, bins, patches = plt.hist(tSig_1, bins=bins, density=True, histtype='step', fill=False, color ='dodgerblue' ,edgecolor = 'blue', hatch = 'XX',label='Tprime_800-900')\n",
    "n, bins, patches = plt.hist(tBkg_1, bins=bins, density=True, histtype='step', fill=False,color = 'red' ,alpha=0.5, edgecolor = 'green', hatch='++', label = 'All Background')\n",
    "plt.grid(color = 'b', alpha = 0.5, linestyle = 'dashed')\n",
    "plt.legend(loc='center')\n",
    "plt.title(' ')\n",
    "# plt.savefig('/eos/home-s/sraj/M.Sc._Thesis/Plot_M.Sc._thesis/Plot_with_HDF5_files/''output_TPrime1200_all_background.png')\n",
    "plt.show()"
   ]
  },
  {
   "cell_type": "markdown",
   "metadata": {},
   "source": [
    "# Testing on Tprime 1000 and 900"
   ]
  },
  {
   "cell_type": "code",
   "execution_count": 56,
   "metadata": {},
   "outputs": [],
   "source": [
    "Tprime_1000 = '/eos/user/p/prsaha/for_Shivam/output_TprimeBToTH_Hgg_M-1000_LH_TuneCP5_PSweights_13TeV-madgraph_pythia8.root'\n",
    "Tprime_1100 = '/eos/user/p/prsaha/for_Shivam/output_TprimeBToTH_Hgg_M-1100_LH_TuneCP5_PSweights_13TeV-madgraph_pythia8.root'\n",
    "Tprime_1200 = '/eos/user/p/prsaha/for_Shivam/output_TprimeBToTH_Hgg_M-1200_LH_TuneCP5_PSweights_13TeV-madgraph_pythia8.root'"
   ]
  },
  {
   "cell_type": "code",
   "execution_count": 57,
   "metadata": {},
   "outputs": [],
   "source": [
    "treeName_1000 = \"tagsDumper/trees/Tprime_1000_13TeV_THQLeptonicTag\"\n",
    "treeName_1100 = \"tagsDumper/trees/Tprime_1100_13TeV_THQLeptonicTag\"\n",
    "treeName_1200 = \"tagsDumper/trees/Tprime_1200_13TeV_THQLeptonicTag\""
   ]
  },
  {
   "cell_type": "code",
   "execution_count": 58,
   "metadata": {},
   "outputs": [],
   "source": [
    "signal_Tprime_1000 = root2array(Tprime_1000, treeName_1000, columns)   #Signal TPrime at 600GeV\n",
    "signal_Tprime_1100 = root2array(Tprime_1100, treeName_1100, columns)   #Signal TPrime at 625GeV\n",
    "signal_Tprime_1200 = root2array(Tprime_1200, treeName_1200, columns)   #Signal TPrime at 625GeV"
   ]
  },
  {
   "cell_type": "code",
   "execution_count": 59,
   "metadata": {},
   "outputs": [],
   "source": [
    "signal_Tprime1000= pd.DataFrame(signal_Tprime_1000)\n",
    "signal_Tprime1100= pd.DataFrame(signal_Tprime_1100)\n",
    "signal_Tprime1200= pd.DataFrame(signal_Tprime_1200)"
   ]
  },
  {
   "cell_type": "code",
   "execution_count": 66,
   "metadata": {},
   "outputs": [],
   "source": [
    "signal_2 = pd.concat((signal_Tprime1000, signal_Tprime1100, signal_Tprime1200 ),axis = 0)\n",
    "backgr = pd.concat((back_tth, back_ggh, back_thq, back_vbf, back_vh), axis=0)"
   ]
  },
  {
   "cell_type": "code",
   "execution_count": 63,
   "metadata": {},
   "outputs": [],
   "source": [
    "X_2 = np.concatenate((signal_2, backgr))\n",
    "y_2 = np.concatenate((np.ones(signal_1.shape[0]),\n",
    "                    np.zeros(backgr.shape[0])))"
   ]
  },
  {
   "cell_type": "code",
   "execution_count": 64,
   "metadata": {},
   "outputs": [],
   "source": [
    "X_2_train,X_2_test, y_2_train, y_2_test = train_test_split(X_2, y_2, test_size=0.99, random_state =5)\n"
   ]
  },
  {
   "cell_type": "code",
   "execution_count": 65,
   "metadata": {},
   "outputs": [
    {
     "name": "stdout",
     "output_type": "stream",
     "text": [
      "738427/738427 [==============================] - 75s 101us/step\n"
     ]
    }
   ],
   "source": [
    "loaded_model.compile(loss='binary_crossentropy', optimizer='adam', metrics=['accuracy'])\n",
    "score = loaded_model.evaluate(X_2_test, y_2_test)"
   ]
  },
  {
   "cell_type": "code",
   "execution_count": 67,
   "metadata": {},
   "outputs": [
    {
     "name": "stdout",
     "output_type": "stream",
     "text": [
      "738427/738427 [==============================] - 72s 97us/step\n",
      "Accuracy: 59.39%\n"
     ]
    }
   ],
   "source": [
    "# Final evaluation of the model for DNN\n",
    "# Testing Outputs\n",
    "scores = loaded_model.evaluate(X_2_test, y_2_test, verbose=1)\n",
    "print(\"Accuracy: %.2f%%\" % (scores[1]*100))"
   ]
  },
  {
   "cell_type": "code",
   "execution_count": 68,
   "metadata": {},
   "outputs": [
    {
     "data": {
      "image/png": "[encoded data removed]",
      "text/plain": [
       "<Figure size 432x288 with 1 Axes>"
      ]
     },
     "metadata": {
      "needs_background": "light"
     },
     "output_type": "display_data"
    }
   ],
   "source": [
    "from sklearn.metrics import roc_curve, auc\n",
    "\n",
    "decisions = loaded_model.predict(X_2_test)\n",
    "\n",
    "\n",
    "# Compute ROC curve and area under the curve\n",
    "fpr, tpr, thresholds = roc_curve(y_2_test, decisions)\n",
    "roc_auc = auc(fpr, tpr)\n",
    "plt.plot(fpr, tpr, lw=1, label='ROC (area = %0.2f)'%(roc_auc))\n",
    "\n",
    "plt.plot([0, 1], [0, 1], '--', color=(0.6, 0.6, 0.6), label='Luck')\n",
    "plt.xlim([-0.05, 1.05])\n",
    "plt.ylim([-0.05, 1.05])\n",
    "plt.xlabel('False Positive Rate')\n",
    "plt.ylabel('True Positive Rate')\n",
    "plt.title('Receiver operating characteristic')\n",
    "plt.legend(loc=\"lower right\")\n",
    "plt.grid()\n",
    "# plt.savefig(\"ROC_curve.png\")\n",
    "plt.show()"
   ]
  },
  {
   "cell_type": "code",
   "execution_count": 69,
   "metadata": {},
   "outputs": [
    {
     "data": {
      "image/png": "[encoded data removed]",
      "text/plain": [
       "<Figure size 432x288 with 1 Axes>"
      ]
     },
     "metadata": {
      "needs_background": "light"
     },
     "output_type": "display_data"
    }
   ],
   "source": [
    "import matplotlib\n",
    "plt.figure()                                     # new window\n",
    "matplotlib.rcParams.update({'font.size':14})     # set all font sizes\n",
    "tTest = loaded_model.predict(X_2_test)\n",
    "# if hasattr(clf, \"decision_function\"):\n",
    "#     tTest = clf.decision_function(X_test)        # if available use decision_function\n",
    "# else:\n",
    "#     tTest = clf.predict_proba(X_test)[:,1]       # for e.g. MLP need to use predict_proba\n",
    "tBkg_1 = tTest[y_2_test==0]\n",
    "tSig_1 = tTest[y_2_test==1]\n",
    "nBins = 20\n",
    "tMin = np.floor(np.min(tTest))\n",
    "tMax = np.ceil(np.max(tTest))\n",
    "bins = np.linspace(tMin, tMax, nBins+1)\n",
    "# plt.title('Multilayer perceptron')\n",
    "plt.xlabel(' $DNN$', labelpad=3)\n",
    "plt.ylabel('$Probability density$', labelpad=40)\n",
    "n, bins, patches = plt.hist(tSig_1, bins=bins, density=True, histtype='step', fill=False, color ='dodgerblue' ,edgecolor = 'blue', hatch = 'XX',label='Tprime_800-900')\n",
    "n, bins, patches = plt.hist(tBkg_1, bins=bins, density=True, histtype='step', fill=False,color = 'red' ,alpha=0.5, edgecolor = 'green', hatch='++', label = 'All Background')\n",
    "plt.grid(color = 'b', alpha = 0.5, linestyle = 'dashed')\n",
    "plt.legend(loc='center')\n",
    "plt.title(' ')\n",
    "# plt.savefig('/eos/home-s/sraj/M.Sc._Thesis/Plot_M.Sc._thesis/Plot_with_HDF5_files/''output_TPrime1200_all_background.png')\n",
    "plt.show()"
   ]
  },
  {
   "cell_type": "markdown",
   "metadata": {},
   "source": [
    "### Testing on the each Tprime seperately in the for of method 2"
   ]
  },
  {
   "cell_type": "markdown",
   "metadata": {},
   "source": [
    "### Testing on Tprime 600GeV"
   ]
  },
  {
   "cell_type": "markdown",
   "metadata": {},
   "source": [
    "### Testing on Tprime 700GeV"
   ]
  },
  {
   "cell_type": "markdown",
   "metadata": {},
   "source": [
    "### Testing on Tprime 800GeV"
   ]
  },
  {
   "cell_type": "markdown",
   "metadata": {},
   "source": [
    "### Testing on Tprime 900GeV"
   ]
  },
  {
   "cell_type": "markdown",
   "metadata": {},
   "source": [
    "### Testing on Tprime 1000GeV"
   ]
  },
  {
   "cell_type": "code",
   "execution_count": null,
   "metadata": {},
   "outputs": [],
   "source": []
  },
  {
   "cell_type": "markdown",
   "metadata": {},
   "source": [
    "### Testing on Tprime 1100GeV"
   ]
  },
  {
   "cell_type": "markdown",
   "metadata": {},
   "source": [
    "### Testing on Tprime 1200GeV"
   ]
  },
  {
   "cell_type": "code",
   "execution_count": null,
   "metadata": {},
   "outputs": [],
   "source": []
  },
  {
   "cell_type": "code",
   "execution_count": null,
   "metadata": {},
   "outputs": [],
   "source": []
  }
 ],
 "metadata": {
  "kernelspec": {
   "display_name": "Python 3",
   "language": "python",
   "name": "python3"
  },
  "language_info": {
   "codemirror_mode": {
    "name": "ipython",
    "version": 3
   },
   "file_extension": ".py",
   "mimetype": "text/x-python",
   "name": "python",
   "nbconvert_exporter": "python",
   "pygments_lexer": "ipython3",
   "version": "3.7.6"
  }
 },
 "nbformat": 4,
 "nbformat_minor": 2
}
