{
 "cells": [
  {
   "cell_type": "markdown",
   "metadata": {},
   "source": [
    "## Training with TPrime 600GeV to 700GeV & all five As  background (tth, thq, VH, VHq, and gg)\n",
    "\n",
    ">This is the training of signal and bacground to get the output as a HDF5 file. The output file futher used to test on the TPrime at 600 GeV, 625GeV, 650GeV, 675GeV, 700GeV, 800GeV, 900GeV, 1000GeV, 1100GeV, and 1200GeV as signal.\n",
    "<br>\n",
    "> All the training is to check on how our model behaves.\n"
   ]
  },
  {
   "cell_type": "code",
   "execution_count": 1,
   "metadata": {},
   "outputs": [
    {
     "name": "stderr",
     "output_type": "stream",
     "text": [
      "Using TensorFlow backend.\n"
     ]
    },
    {
     "name": "stdout",
     "output_type": "stream",
     "text": [
      "Welcome to JupyROOT 6.20/06\n"
     ]
    }
   ],
   "source": [
    "#importing modules\n",
    "import numpy as np\n",
    "import pandas as pd\n",
    "import math\n",
    "import glob\n",
    "import sys\n",
    "import matplotlib.pyplot as plt\n",
    "import seaborn as sns\n",
    "sns.set(color_codes = True)\n",
    "sns.set_palette(sns.color_palette(\"muted\"))\n",
    "\n",
    "#import all modules related to Keras\n",
    "import keras\n",
    "from keras.models import Sequential, load_model\n",
    "from keras.layers import Dense, activations\n",
    "from keras.callbacks import EarlyStopping, ModelCheckpoint, Callback\n",
    "from keras.optimizers import adam, adadelta, adagrad\n",
    "\n",
    "#importing all ROOT modules\n",
    "import ROOT\n",
    "from itertools import tee, islice\n",
    "from ROOT import TFile, TCanvas, TPad, TPaveLabel, TPaveText, TTree, TH1F, TF1\n",
    "from root_numpy import root2array, tree2array, array2tree, array2root\n",
    "from ROOT import gROOT, AddressOf\n",
    "from root_numpy import root2array, rec2array\n",
    "\n",
    "#importing sklearn modules\n",
    "from sklearn.tree import DecisionTreeClassifier\n",
    "from sklearn.ensemble import AdaBoostClassifier\n",
    "from sklearn.metrics import classification_report, roc_auc_score\n",
    "import matplotlib.ticker as ticker\n",
    "from sklearn.neural_network import MLPClassifier\n",
    "from sklearn.model_selection import train_test_split\n",
    "from sklearn import metrics\n",
    "from sklearn.discriminant_analysis import LinearDiscriminantAnalysis as LDA\n",
    "from sklearn.neural_network import MLPClassifier\n",
    "from sklearn.svm import SVC\n",
    "from sklearn import tree"
   ]
  },
  {
   "cell_type": "markdown",
   "metadata": {},
   "source": [
    "# Importing and Reading all the signal datasets \n",
    "Tprime from 600GeV to 700GeV will be used as the signal."
   ]
  },
  {
   "cell_type": "code",
   "execution_count": 2,
   "metadata": {},
   "outputs": [],
   "source": [
    "Tprime_600 = '/eos/user/p/prsaha/for_Shivam/output_TprimeBToTH_Hgg_M-600_LH_TuneCP5_PSweights_13TeV-madgraph_pythia8.root'\n",
    "Tprime_625 = '/eos/user/p/prsaha/for_Shivam/output_TprimeBToTH_Hgg_M-625_LH_TuneCP5_PSweights_13TeV-madgraph_pythia8.root'\n",
    "Tprime_650 = '/eos/user/p/prsaha/for_Shivam/output_TprimeBToTH_Hgg_M-650_LH_TuneCP5_PSweights_13TeV-madgraph_pythia8.root'\n",
    "Tprime_675 = '/eos/user/p/prsaha/for_Shivam/output_TprimeBToTH_Hgg_M-675_LH_TuneCP5_PSweights_13TeV-madgraph_pythia8.root'\n",
    "Tprime_700 = '/eos/user/p/prsaha/for_Shivam/output_TprimeBToTH_Hgg_M-700_LH_TuneCP5_PSweights_13TeV-madgraph_pythia8.root'"
   ]
  },
  {
   "cell_type": "markdown",
   "metadata": {},
   "source": [
    "### Reading from the trees in the .root files"
   ]
  },
  {
   "cell_type": "code",
   "execution_count": 3,
   "metadata": {},
   "outputs": [],
   "source": [
    "treeName_600 = \"tagsDumper/trees/Tprime_600_13TeV_THQLeptonicTag\"\n",
    "treeName_625 = \"tagsDumper/trees/Tprime_625_13TeV_THQLeptonicTag\"\n",
    "treeName_650 = \"tagsDumper/trees/Tprime_650_13TeV_THQLeptonicTag\"\n",
    "treeName_675 = \"tagsDumper/trees/Tprime_675_13TeV_THQLeptonicTag\"\n",
    "treeName_700 = \"tagsDumper/trees/Tprime_700_13TeV_THQLeptonicTag\""
   ]
  },
  {
   "cell_type": "markdown",
   "metadata": {},
   "source": [
    "#### All the input variables from the ROOT file used in the training"
   ]
  },
  {
   "cell_type": "code",
   "execution_count": 4,
   "metadata": {},
   "outputs": [],
   "source": [
    "columns = ['dipho_leadPt',  'dipho_mass',  'dipho_leadEta',  'dipho_subleadEta', 'dipho_leadIDMVA',\n",
    "           'dipho_subleadIDMVA',              'dipho_lead_haspixelseed',   'dipho_sublead_haspixelseed',\n",
    "           'n_jets',  'n_bjets',  'n_centraljets',  'lepton_charge',   'lepton_leadPt',  'lepton_leadEta',\n",
    "            'fwdjet1_pt',       'fwdjet1_eta', 'fwdjet1_discr', 'top_mt',   'dr_tHchainfwdjet',  'dr_leptonbjet',\n",
    "             'dr_leptonfwdjet',      'dr_bjetfwdjet',      'dr_leadphofwdjet',    'dr_subleadphofwdjet',\n",
    "             'bjet1_pt',  'bjet2_pt',  'bjet3_pt', 'bjet1_eta', 'bjet2_eta',    'bjet3_eta', 'bjet1_discr',\n",
    "             'bjet2_discr',   'bjet3_discr',     'jet1_pt',     'jet2_pt',  'jet3_pt',   'jet1_eta', 'jet2_eta',\n",
    "             'jet3_eta',              'jet1_discr',              'jet2_discr',              'jet3_discr']\n",
    "             "
   ]
  },
  {
   "cell_type": "markdown",
   "metadata": {},
   "source": [
    "\n",
    "#### Reading the input variables from the ROOT file used in the training"
   ]
  },
  {
   "cell_type": "code",
   "execution_count": 5,
   "metadata": {},
   "outputs": [],
   "source": [
    "signal_Tprime_600 = root2array(Tprime_600, treeName_600, columns)   #Signal TPrime at 600GeV\n",
    "signal_Tprime_625 = root2array(Tprime_625, treeName_625, columns)   #Signal TPrime at 625GeV\n",
    "signal_Tprime_650 = root2array(Tprime_650, treeName_650, columns)   #Signal TPrime at 650GeV\n",
    "signal_Tprime_675 = root2array(Tprime_675, treeName_675, columns)   #Signal TPrime at 675GeV\n",
    "signal_Tprime_700 = root2array(Tprime_700, treeName_700, columns)   #Signal TPrime at 700GeV\n"
   ]
  },
  {
   "cell_type": "markdown",
   "metadata": {},
   "source": [
    "##### Converting into the pandas dataframes"
   ]
  },
  {
   "cell_type": "code",
   "execution_count": 6,
   "metadata": {},
   "outputs": [],
   "source": [
    "signal_Tprime600= pd.DataFrame(signal_Tprime_600)\n",
    "signal_Tprime625= pd.DataFrame(signal_Tprime_625)\n",
    "signal_Tprime650= pd.DataFrame(signal_Tprime_650)\n",
    "signal_Tprime675= pd.DataFrame(signal_Tprime_675)\n",
    "signal_Tprime700= pd.DataFrame(signal_Tprime_700)"
   ]
  },
  {
   "cell_type": "code",
   "execution_count": 7,
   "metadata": {},
   "outputs": [
    {
     "name": "stdout",
     "output_type": "stream",
     "text": [
      "shape of the signal_Tprime at 600GeV is: (81013, 42) \n",
      "\n",
      "shape of the signal_Tprime at 625GeV is: (84479, 42) \n",
      "\n",
      "shape of the signal_Tprime at 650GeV is: (91640, 42) \n",
      "\n",
      "shape of the signal_Tprime at 675GeV is: (88237, 42) \n",
      "\n",
      "shape of the signal_Tprime at 700GeV is: (92703, 42) \n",
      "\n"
     ]
    }
   ],
   "source": [
    "# Reading the shapes and size of the data\n",
    "print('shape of the signal_Tprime at 600GeV is:',signal_Tprime600.shape, '\\n')\n",
    "print('shape of the signal_Tprime at 625GeV is:',signal_Tprime625.shape, '\\n')\n",
    "print('shape of the signal_Tprime at 650GeV is:',signal_Tprime650.shape, '\\n')\n",
    "print('shape of the signal_Tprime at 675GeV is:',signal_Tprime675.shape, '\\n')\n",
    "print('shape of the signal_Tprime at 700GeV is:',signal_Tprime700.shape, '\\n')"
   ]
  },
  {
   "cell_type": "markdown",
   "metadata": {},
   "source": [
    "# Importing and Reading all the Background datasets \n",
    "ttH, tHq, VH, VHq, ggH will be used as the signal."
   ]
  },
  {
   "cell_type": "code",
   "execution_count": 8,
   "metadata": {},
   "outputs": [],
   "source": [
    "back_1 = '/eos/home-s/sraj/M.Sc._Thesis/data_files/output_TTGG_0Jets_TuneCP5_13TeV_amcatnlo_madspin_pythia8.root'\n",
    "back_01= '/eos/home-s/sraj/M.Sc._Thesis/data_files/output_ttHJetToGG_M125_13TeV_amcatnloFXFX_madspin_pythia8.root'\n",
    "back_02 = '/eos/home-s/sraj/M.Sc._Thesis/data_files/output_VBFHToGG_M125_13TeV_amcatnlo_pythia8.root'\n",
    "back_03 = '/eos/home-s/sraj/M.Sc._Thesis/data_files/output_VHToGG_M125_13TeV_amcatnloFXFX_madspin_pythia8.root'\n",
    "back_04 = '/eos/home-s/sraj/M.Sc._Thesis/data_files/output_THQ_ctcvcp_HToGG_M125_13TeV-madgraph-pythia8.root'\n",
    "back_05= '/eos/home-s/sraj/M.Sc._Thesis/data_files/output_GluGluHToGG_M125_TuneCP5_13TeV-amcatnloFXFX-pythia8.root'"
   ]
  },
  {
   "cell_type": "code",
   "execution_count": 9,
   "metadata": {},
   "outputs": [],
   "source": [
    "treeName_back_1 =\"tagsDumper/trees/ttgg_13TeV_THQLeptonicTag\" \n",
    "treeName_back_05 = \"tagsDumper/trees/ggh_125_13TeV_THQLeptonicTag\"\n",
    "treeName_back_04 = \"tagsDumper/trees/thq_125_13TeV_THQLeptonicTag\"\n",
    "treeName_back_03 = \"tagsDumper/trees/vh_125_13TeV_THQLeptonicTag\"\n",
    "treeName_back_02 = 'tagsDumper/trees/vbf_125_13TeV_THQLeptonicTag'\n",
    "treeName_back_01 = \"tagsDumper/trees/tth_125_13TeV_THQLeptonicTag\"\n"
   ]
  },
  {
   "cell_type": "code",
   "execution_count": 10,
   "metadata": {},
   "outputs": [],
   "source": [
    "columns = ['dipho_leadPt',  'dipho_mass',  'dipho_leadEta',  'dipho_subleadEta', 'dipho_leadIDMVA',\n",
    "           'dipho_subleadIDMVA',              'dipho_lead_haspixelseed',   'dipho_sublead_haspixelseed',\n",
    "           'n_jets',  'n_bjets',  'n_centraljets',  'lepton_charge',   'lepton_leadPt',  'lepton_leadEta',\n",
    "            'fwdjet1_pt',       'fwdjet1_eta', 'fwdjet1_discr', 'top_mt',   'dr_tHchainfwdjet',  'dr_leptonbjet',\n",
    "             'dr_leptonfwdjet',      'dr_bjetfwdjet',      'dr_leadphofwdjet',    'dr_subleadphofwdjet',\n",
    "             'bjet1_pt',  'bjet2_pt',  'bjet3_pt', 'bjet1_eta', 'bjet2_eta',    'bjet3_eta', 'bjet1_discr',\n",
    "             'bjet2_discr',   'bjet3_discr',     'jet1_pt',     'jet2_pt',  'jet3_pt',   'jet1_eta', 'jet2_eta',\n",
    "             'jet3_eta',              'jet1_discr',              'jet2_discr',              'jet3_discr']\n",
    "             "
   ]
  },
  {
   "cell_type": "code",
   "execution_count": 11,
   "metadata": {},
   "outputs": [],
   "source": [
    "back_ttgg = root2array(back_1, treeName_back_1, columns)     # ttgg background(Not using this)\n",
    "back_tth = root2array(back_01, treeName_back_01, columns)      \n",
    "back_vbf = root2array(back_02, treeName_back_02, columns)\n",
    "back_vh = root2array(back_03, treeName_back_03, columns)\n",
    "back_thq = root2array(back_04, treeName_back_04, columns)\n",
    "back_ggh = root2array(back_05, treeName_back_05, columns)\n"
   ]
  },
  {
   "cell_type": "code",
   "execution_count": 12,
   "metadata": {},
   "outputs": [],
   "source": [
    "back_tth = pd.DataFrame(back_tth)          #tth background dataframe \n",
    "back_vbf = pd.DataFrame(back_vbf)             #vbf background dataframe \n",
    "back_vh = pd.DataFrame(back_vh)             #vh background dataframe \n",
    "back_thq = pd.DataFrame(back_thq) #thq background dataframe \n",
    "back_ggh = pd.DataFrame(back_ggh) #ggh background dataframe \n",
    "back_ttgg = pd.DataFrame(back_ttgg) #ttgg as the background converted into the data frame"
   ]
  },
  {
   "cell_type": "code",
   "execution_count": 13,
   "metadata": {},
   "outputs": [
    {
     "name": "stdout",
     "output_type": "stream",
     "text": [
      "Shape of the ttgg backgground (55847, 42) \n",
      "\n",
      "Shape of the tth backgground (92486, 42) \n",
      "\n",
      "Shape of the thq backgground (338874, 42) \n",
      "\n",
      "Shape of the ggh backgground (529, 42) \n",
      "\n",
      "Shape of the vh backgground (8080, 42) \n",
      "\n",
      "Shape of the vbf backgground (1199, 42) \n",
      "\n"
     ]
    }
   ],
   "source": [
    "print('Shape of the ttgg backgground', back_ttgg.shape, '\\n')\n",
    "print('Shape of the tth backgground', back_tth.shape, '\\n')\n",
    "print('Shape of the thq backgground', back_thq.shape, '\\n')\n",
    "print('Shape of the ggh backgground', back_ggh.shape, '\\n')\n",
    "print('Shape of the vh backgground', back_vh.shape, '\\n')\n",
    "print('Shape of the vbf backgground', back_vbf.shape, '\\n')\n",
    "# print('Total shape', back_ttgg.shape + back_tth.shape + back_thq.shape + back_ggh.shape+ back_vh.shape+back_vbf.shape )\n"
   ]
  },
  {
   "cell_type": "code",
   "execution_count": 14,
   "metadata": {},
   "outputs": [
    {
     "data": {
      "text/plain": [
       "<matplotlib.axes._subplots.AxesSubplot at 0x7f829e9a5fd0>"
      ]
     },
     "execution_count": 14,
     "metadata": {},
     "output_type": "execute_result"
    },
    {
     "data": {
      "image/png": "[encoded data removed]",
      "text/plain": [
       "<Figure size 432x288 with 1 Axes>"
      ]
     },
     "metadata": {
      "needs_background": "light"
     },
     "output_type": "display_data"
    }
   ],
   "source": [
    "signal_Tprime600['dipho_subleadEta'].plot.hist(bins=100, histtype = 'step', edgecolor = 'purple', alpha = 1,  density=True, fill= False,color = 'orange', label = 'data' )\n",
    "signal_Tprime700['dipho_subleadEta'].plot.hist(bins=100, histtype = 'step', edgecolor = 'green', alpha = 1,  density=True, fill= False,color = 'red', label = 'data' )\n",
    "back_tth['dipho_subleadEta'].plot.hist(bins=100, histtype = 'step', edgecolor = 'red', alpha = 1,  density=True, fill= False,color = 'red', label = 'data' )\n"
   ]
  },
  {
   "cell_type": "code",
   "execution_count": 15,
   "metadata": {},
   "outputs": [
    {
     "data": {
      "text/plain": [
       "<matplotlib.axes._subplots.AxesSubplot at 0x7f829e5ba450>"
      ]
     },
     "execution_count": 15,
     "metadata": {},
     "output_type": "execute_result"
    },
    {
     "data": {
      "image/png": "[encoded data removed]",
      "text/plain": [
       "<Figure size 432x288 with 1 Axes>"
      ]
     },
     "metadata": {
      "needs_background": "light"
     },
     "output_type": "display_data"
    }
   ],
   "source": [
    "signal_Tprime600['dipho_mass'].plot.hist(bins=100, histtype = 'step', edgecolor = 'purple', alpha = 1,  density=True, fill= False,color = 'orange', label = 'data' )\n",
    "signal_Tprime700['dipho_mass'].plot.hist(bins=100, histtype = 'step', edgecolor = 'green', alpha = 1,  density=True, fill= False,color = 'red', label = 'data' )\n",
    "back_tth['dipho_mass'].plot.hist(bins=100, histtype = 'step', edgecolor = 'red', alpha = 1,  density=True, fill= False,color = 'red', label = 'data' )\n"
   ]
  },
  {
   "cell_type": "code",
   "execution_count": 16,
   "metadata": {},
   "outputs": [
    {
     "data": {
      "text/plain": [
       "<matplotlib.axes._subplots.AxesSubplot at 0x7f829e1626d0>"
      ]
     },
     "execution_count": 16,
     "metadata": {},
     "output_type": "execute_result"
    },
    {
     "data": {
      "image/png": "[encoded data removed]",
      "text/plain": [
       "<Figure size 432x288 with 1 Axes>"
      ]
     },
     "metadata": {
      "needs_background": "light"
     },
     "output_type": "display_data"
    }
   ],
   "source": [
    "\n",
    "signal_Tprime600['dipho_leadPt'].plot.hist(bins=100, histtype = 'step', edgecolor = 'purple', alpha = 1,  density=True, fill= False,color = 'orange', label = 'data' )\n",
    "signal_Tprime700['dipho_leadPt'].plot.hist(bins=100, histtype = 'step', edgecolor = 'green', alpha = 1,  density=True, fill= False,color = 'red', label = 'data' )\n",
    "back_tth['dipho_leadPt'].plot.hist(bins=100, histtype = 'step', edgecolor = 'red', alpha = 1,  density=True, fill= False,color = 'red', label = 'data' )\n"
   ]
  },
  {
   "cell_type": "code",
   "execution_count": 17,
   "metadata": {},
   "outputs": [
    {
     "data": {
      "text/plain": [
       "<matplotlib.axes._subplots.AxesSubplot at 0x7f829e0e5550>"
      ]
     },
     "execution_count": 17,
     "metadata": {},
     "output_type": "execute_result"
    },
    {
     "data": {
      "image/png": "[encoded data removed]",
      "text/plain": [
       "<Figure size 432x288 with 1 Axes>"
      ]
     },
     "metadata": {
      "needs_background": "light"
     },
     "output_type": "display_data"
    }
   ],
   "source": [
    "signal_Tprime600['dipho_leadEta'].plot.hist(bins=100, histtype = 'step', edgecolor = 'purple', alpha = 1,  density=True, fill= False,color = 'orange', label = 'data' )\n",
    "signal_Tprime700['dipho_leadEta'].plot.hist(bins=100, histtype = 'step', edgecolor = 'green', alpha = 1,  density=True, fill= False,color = 'red', label = 'data' )\n",
    "back_tth['dipho_leadEta'].plot.hist(bins=100, histtype = 'step', edgecolor = 'red', alpha = 1,  density=True, fill= False,color = 'red', label = 'data' )\n"
   ]
  },
  {
   "cell_type": "code",
   "execution_count": 18,
   "metadata": {},
   "outputs": [
    {
     "data": {
      "text/plain": [
       "<matplotlib.axes._subplots.AxesSubplot at 0x7f829e059e10>"
      ]
     },
     "execution_count": 18,
     "metadata": {},
     "output_type": "execute_result"
    },
    {
     "data": {
      "image/png": "[encoded data removed]",
      "text/plain": [
       "<Figure size 432x288 with 1 Axes>"
      ]
     },
     "metadata": {
      "needs_background": "light"
     },
     "output_type": "display_data"
    }
   ],
   "source": [
    "\n",
    "signal_Tprime600['dipho_leadIDMVA'].plot.hist(bins=100, histtype = 'step', edgecolor = 'purple', alpha = 1,  density=True, fill= False,color = 'orange', label = 'data' )\n",
    "signal_Tprime700['dipho_leadIDMVA'].plot.hist(bins=100, histtype = 'step', edgecolor = 'green', alpha = 1,  density=True, fill= False,color = 'red', label = 'data' )\n",
    "back_tth['dipho_leadIDMVA'].plot.hist(bins=100, histtype = 'step', edgecolor = 'red', alpha = 1,  density=True, fill= False,color = 'red', label = 'data' )\n",
    "back_thq['dipho_leadIDMVA'].plot.hist(bins=100, histtype = 'step', edgecolor = 'blue', alpha = 1,  density=True, fill= False,color = 'red', label = 'data' )\n",
    "back_ttgg['dipho_leadIDMVA'].plot.hist(bins=100, histtype = 'step', edgecolor = 'lime', alpha = 1,  density=True, fill= False,color = 'red', label = 'data' )\n"
   ]
  },
  {
   "cell_type": "code",
   "execution_count": 19,
   "metadata": {},
   "outputs": [
    {
     "data": {
      "text/plain": [
       "<matplotlib.axes._subplots.AxesSubplot at 0x7f829e06d990>"
      ]
     },
     "execution_count": 19,
     "metadata": {},
     "output_type": "execute_result"
    },
    {
     "data": {
      "image/png": "[encoded data removed]",
      "text/plain": [
       "<Figure size 432x288 with 1 Axes>"
      ]
     },
     "metadata": {
      "needs_background": "light"
     },
     "output_type": "display_data"
    }
   ],
   "source": [
    "signal_Tprime600['bjet1_eta'].plot.hist(bins=100, histtype = 'step', edgecolor = 'purple', alpha = 1,  density=True, fill= False,color = 'orange', label = 'data' )\n",
    "signal_Tprime700['bjet1_eta'].plot.hist(bins=100, histtype = 'step', edgecolor = 'green', alpha = 1,  density=True, fill= False,color = 'red', label = 'data' )\n",
    "back_tth['bjet1_eta'].plot.hist(bins=100, histtype = 'step', edgecolor = 'red', alpha = 1,  density=True, fill= False,color = 'red', label = 'data' )\n",
    "back_thq['bjet1_eta'].plot.hist(bins=100, histtype = 'step', edgecolor = 'blue', alpha = 1,  density=True, fill= False,color = 'red', label = 'data' )\n",
    "back_ttgg['bjet1_eta'].plot.hist(bins=100, histtype = 'step', edgecolor = 'lime', alpha = 1,  density=True, fill= False,color = 'red', label = 'data' )\n"
   ]
  },
  {
   "cell_type": "code",
   "execution_count": 20,
   "metadata": {},
   "outputs": [
    {
     "data": {
      "text/plain": [
       "<matplotlib.axes._subplots.AxesSubplot at 0x7f829df75290>"
      ]
     },
     "execution_count": 20,
     "metadata": {},
     "output_type": "execute_result"
    },
    {
     "data": {
      "image/png": "[encoded data removed]",
      "text/plain": [
       "<Figure size 432x288 with 1 Axes>"
      ]
     },
     "metadata": {
      "needs_background": "light"
     },
     "output_type": "display_data"
    }
   ],
   "source": [
    "signal_Tprime600['jet2_eta'].plot.hist(bins=100, histtype = 'step', edgecolor = 'purple', alpha = 1,  density=True, fill= False,color = 'orange', label = 'data' )\n",
    "signal_Tprime700['jet2_eta'].plot.hist(bins=100, histtype = 'step', edgecolor = 'green', alpha = 1,  density=True, fill= False,color = 'red', label = 'data' )\n",
    "back_tth['jet2_eta'].plot.hist(bins=100, histtype = 'step', edgecolor = 'red', alpha = 1,  density=True, fill= False,color = 'red', label = 'data' )\n",
    "back_thq['jet2_eta'].plot.hist(bins=100, histtype = 'step', edgecolor = 'blue', alpha = 1,  density=True, fill= False,color = 'red', label = 'data' )\n",
    "back_ttgg['jet2_eta'].plot.hist(bins=100, histtype = 'step', edgecolor = 'lime', alpha = 1,  density=True, fill= False,color = 'red', label = 'data' )\n"
   ]
  },
  {
   "cell_type": "markdown",
   "metadata": {},
   "source": [
    "## Training over the Tprime  600 GeV to 700GeV with all combined background"
   ]
  },
  {
   "cell_type": "markdown",
   "metadata": {},
   "source": [
    "**Training of the TPrime from 600 GeV to 700GeV**. first combing all the datafiles into one further doing the training on the model of the DNN."
   ]
  },
  {
   "cell_type": "code",
   "execution_count": 21,
   "metadata": {},
   "outputs": [],
   "source": [
    "signal = pd.concat((signal_Tprime600, signal_Tprime625, signal_Tprime650, signal_Tprime675, signal_Tprime700),axis = 0)\n",
    "backgr = pd.concat((back_tth, back_ggh, back_thq, back_vbf, back_vh), axis=0)"
   ]
  },
  {
   "cell_type": "code",
   "execution_count": 22,
   "metadata": {},
   "outputs": [
    {
     "name": "stdout",
     "output_type": "stream",
     "text": [
      "Total signal shape is: (438072, 42) \n",
      "\n",
      "Total background shape is: (441168, 42)\n"
     ]
    }
   ],
   "source": [
    "print('Total signal shape is:', signal.shape, '\\n')\n",
    "print('Total background shape is:', backgr.shape)"
   ]
  },
  {
   "cell_type": "code",
   "execution_count": 23,
   "metadata": {},
   "outputs": [],
   "source": [
    "X = np.concatenate((signal, backgr))\n",
    "y = np.concatenate((np.ones(signal.shape[0]),\n",
    "                    np.zeros(backgr.shape[0])))"
   ]
  },
  {
   "cell_type": "code",
   "execution_count": 24,
   "metadata": {},
   "outputs": [
    {
     "data": {
      "text/plain": [
       "((879240, 42), (879240,))"
      ]
     },
     "execution_count": 24,
     "metadata": {},
     "output_type": "execute_result"
    }
   ],
   "source": [
    "X.shape, y.shape"
   ]
  },
  {
   "cell_type": "code",
   "execution_count": 25,
   "metadata": {},
   "outputs": [],
   "source": [
    "X_train,X_test, y_train, y_test = train_test_split(X, y, test_size=0.33, random_state =5)\n"
   ]
  },
  {
   "cell_type": "code",
   "execution_count": 26,
   "metadata": {},
   "outputs": [
    {
     "data": {
      "text/plain": [
       "((589090, 42), (589090,))"
      ]
     },
     "execution_count": 26,
     "metadata": {},
     "output_type": "execute_result"
    }
   ],
   "source": [
    "X_train.shape, y_train.shape"
   ]
  },
  {
   "cell_type": "code",
   "execution_count": 27,
   "metadata": {},
   "outputs": [
    {
     "data": {
      "text/plain": [
       "((290150, 42), (290150,))"
      ]
     },
     "execution_count": 27,
     "metadata": {},
     "output_type": "execute_result"
    }
   ],
   "source": [
    "X_test.shape, y_test.shape"
   ]
  },
  {
   "cell_type": "code",
   "execution_count": 28,
   "metadata": {},
   "outputs": [],
   "source": [
    "from keras.models import Sequential\n",
    "from keras.layers import Dense\n",
    "import tensorflow as tf\n",
    "import keras\n",
    "from keras.layers import Dropout\n",
    "from keras.constraints import maxnorm\n",
    "from keras.wrappers.scikit_learn import KerasClassifier\n",
    "from keras.constraints import maxnorm\n",
    "from keras.optimizers import SGD\n",
    "from sklearn.model_selection import cross_val_score\n",
    "from sklearn.preprocessing import LabelEncoder\n",
    "from sklearn.model_selection import StratifiedKFold\n",
    "from sklearn.preprocessing import StandardScaler\n",
    "from sklearn.pipeline import Pipeline\n",
    "from keras.utils.vis_utils import plot_model\n",
    "from keras.layers import LSTM\n",
    "from keras.layers.core import Dense, Dropout, Activation\n",
    "from keras.callbacks import EarlyStopping, ModelCheckpoint\n",
    "from keras.layers.normalization import BatchNormalization\n",
    "from keras.optimizers import Adadelta\n",
    "from tensorflow.keras import regularizers\n",
    "from tensorflow.keras.initializers import RandomNormal, Constant\n",
    "from keras import callbacks\n",
    "from keras.models import load_model"
   ]
  },
  {
   "cell_type": "code",
   "execution_count": 29,
   "metadata": {},
   "outputs": [
    {
     "name": "stderr",
     "output_type": "stream",
     "text": [
      "WARNING: Logging before flag parsing goes to stderr.\n",
      "W0401 05:55:27.138957 140201393329984 deprecation_wrapper.py:119] From /cvmfs/sft.cern.ch/lcg/views/LCG_97apython3/x86_64-centos7-gcc8-opt/lib/python3.7/site-packages/keras/backend/tensorflow_backend.py:74: The name tf.get_default_graph is deprecated. Please use tf.compat.v1.get_default_graph instead.\n",
      "\n",
      "W0401 05:55:27.316804 140201393329984 deprecation_wrapper.py:119] From /cvmfs/sft.cern.ch/lcg/views/LCG_97apython3/x86_64-centos7-gcc8-opt/lib/python3.7/site-packages/keras/backend/tensorflow_backend.py:517: The name tf.placeholder is deprecated. Please use tf.compat.v1.placeholder instead.\n",
      "\n",
      "W0401 05:55:27.749138 140201393329984 deprecation_wrapper.py:119] From /cvmfs/sft.cern.ch/lcg/views/LCG_97apython3/x86_64-centos7-gcc8-opt/lib/python3.7/site-packages/keras/backend/tensorflow_backend.py:133: The name tf.placeholder_with_default is deprecated. Please use tf.compat.v1.placeholder_with_default instead.\n",
      "\n",
      "W0401 05:55:27.794934 140201393329984 deprecation.py:506] From /cvmfs/sft.cern.ch/lcg/views/LCG_97apython3/x86_64-centos7-gcc8-opt/lib/python3.7/site-packages/tensorflow/python/keras/initializers.py:143: calling RandomNormal.__init__ (from tensorflow.python.ops.init_ops) with dtype is deprecated and will be removed in a future version.\n",
      "Instructions for updating:\n",
      "Call initializer instance with the dtype argument instead of passing it to the constructor\n",
      "W0401 05:55:27.798888 140201393329984 deprecation_wrapper.py:119] From /cvmfs/sft.cern.ch/lcg/views/LCG_97apython3/x86_64-centos7-gcc8-opt/lib/python3.7/site-packages/keras/backend/tensorflow_backend.py:4138: The name tf.random_uniform is deprecated. Please use tf.random.uniform instead.\n",
      "\n",
      "W0401 05:55:28.061194 140201393329984 deprecation.py:506] From /cvmfs/sft.cern.ch/lcg/views/LCG_97apython3/x86_64-centos7-gcc8-opt/lib/python3.7/site-packages/keras/backend/tensorflow_backend.py:3445: calling dropout (from tensorflow.python.ops.nn_ops) with keep_prob is deprecated and will be removed in a future version.\n",
      "Instructions for updating:\n",
      "Please use `rate` instead of `keep_prob`. Rate should be set to `rate = 1 - keep_prob`.\n",
      "W0401 05:55:29.489938 140201393329984 nn_ops.py:4224] Large dropout rate: 0.55 (>0.5). In TensorFlow 2.x, dropout() uses dropout rate instead of keep_prob. Please ensure that this is intended.\n",
      "W0401 05:55:29.721570 140201393329984 deprecation_wrapper.py:119] From /cvmfs/sft.cern.ch/lcg/views/LCG_97apython3/x86_64-centos7-gcc8-opt/lib/python3.7/site-packages/keras/optimizers.py:790: The name tf.train.Optimizer is deprecated. Please use tf.compat.v1.train.Optimizer instead.\n",
      "\n",
      "W0401 05:55:29.763993 140201393329984 deprecation_wrapper.py:119] From /cvmfs/sft.cern.ch/lcg/views/LCG_97apython3/x86_64-centos7-gcc8-opt/lib/python3.7/site-packages/keras/backend/tensorflow_backend.py:3376: The name tf.log is deprecated. Please use tf.math.log instead.\n",
      "\n",
      "W0401 05:55:29.772951 140201393329984 deprecation.py:323] From /cvmfs/sft.cern.ch/lcg/views/LCG_97apython3/x86_64-centos7-gcc8-opt/lib/python3.7/site-packages/tensorflow/python/ops/nn_impl.py:180: add_dispatch_support.<locals>.wrapper (from tensorflow.python.ops.array_ops) is deprecated and will be removed in a future version.\n",
      "Instructions for updating:\n",
      "Use tf.where in 2.0, which has the same broadcast rule as np.where\n"
     ]
    },
    {
     "name": "stdout",
     "output_type": "stream",
     "text": [
      "Summary of the built model...\n",
      "_________________________________________________________________\n",
      "Layer (type)                 Output Shape              Param #   \n",
      "=================================================================\n",
      "batch_normalization_1 (Batch (None, 42)                168       \n",
      "_________________________________________________________________\n",
      "dense_1 (Dense)              (None, 1024)              44032     \n",
      "_________________________________________________________________\n",
      "batch_normalization_2 (Batch (None, 1024)              4096      \n",
      "_________________________________________________________________\n",
      "dropout_1 (Dropout)          (None, 1024)              0         \n",
      "_________________________________________________________________\n",
      "dense_2 (Dense)              (None, 512)               524800    \n",
      "_________________________________________________________________\n",
      "dropout_2 (Dropout)          (None, 512)               0         \n",
      "_________________________________________________________________\n",
      "dense_3 (Dense)              (None, 256)               131328    \n",
      "_________________________________________________________________\n",
      "batch_normalization_3 (Batch (None, 256)               1024      \n",
      "_________________________________________________________________\n",
      "dropout_3 (Dropout)          (None, 256)               0         \n",
      "_________________________________________________________________\n",
      "dense_4 (Dense)              (None, 128)               32896     \n",
      "_________________________________________________________________\n",
      "batch_normalization_4 (Batch (None, 128)               512       \n",
      "_________________________________________________________________\n",
      "dropout_4 (Dropout)          (None, 128)               0         \n",
      "_________________________________________________________________\n",
      "dense_5 (Dense)              (None, 64)                8256      \n",
      "_________________________________________________________________\n",
      "batch_normalization_5 (Batch (None, 64)                256       \n",
      "_________________________________________________________________\n",
      "dense_6 (Dense)              (None, 64)                4160      \n",
      "_________________________________________________________________\n",
      "batch_normalization_6 (Batch (None, 64)                256       \n",
      "_________________________________________________________________\n",
      "dense_7 (Dense)              (None, 32)                2080      \n",
      "_________________________________________________________________\n",
      "dropout_5 (Dropout)          (None, 32)                0         \n",
      "_________________________________________________________________\n",
      "batch_normalization_7 (Batch (None, 32)                128       \n",
      "_________________________________________________________________\n",
      "output (Dense)               (None, 1)                 33        \n",
      "=================================================================\n",
      "Total params: 754,025\n",
      "Trainable params: 750,805\n",
      "Non-trainable params: 3,220\n",
      "_________________________________________________________________\n",
      "None\n"
     ]
    }
   ],
   "source": [
    "clf = Sequential()\n",
    "# clf.add(LSTM(1, return_sequences=True ))\n",
    "clf.add(BatchNormalization(input_shape = (42,)))\n",
    "initializer =tf.keras.initializers.RandomNormal(mean=0.0, stddev=0.05, seed=None)\n",
    "# clf.add(Dropout(0.3))\n",
    "clf.add(Dense(1024, activation = 'relu',kernel_regularizer=regularizers.l2(0.001), kernel_initializer = 'random_uniform' ,name = 'dense_1'))\n",
    "clf.add(BatchNormalization())\n",
    "clf.add(Dropout(0.3))\n",
    "clf.add(Dense(512, activation = 'relu',kernel_regularizer=regularizers.l2(0.001), kernel_initializer = 'random_uniform', name = 'dense_2'))\n",
    "clf.add(Dropout(0.35))\n",
    "clf.add(Dense(256, activation = 'relu',kernel_regularizer=regularizers.l2(0.001), kernel_initializer = 'random_uniform', name = 'dense_3'))\n",
    "clf.add(BatchNormalization())\n",
    "clf.add(Dropout(0.40))\n",
    "clf.add(Dense(128, activation = 'relu',kernel_regularizer=regularizers.l2(0.001), kernel_initializer = 'random_uniform' ,name = 'dense_4'))\n",
    "clf.add(BatchNormalization())\n",
    "clf.add(Dropout(0.5))\n",
    "clf.add(Dense(64, activation = 'relu',kernel_regularizer=regularizers.l2(0.001), kernel_initializer = 'random_uniform', name = 'dense_5'))\n",
    "clf.add(BatchNormalization(momentum=0.99,epsilon=0.001,beta_initializer=RandomNormal(mean=0.0, stddev=0.05),gamma_initializer=Constant(value=0.9)))\n",
    "\n",
    "17\n",
    "clf.add(Dense(64, activation = 'relu',kernel_regularizer=regularizers.l2(0.001), kernel_initializer = 'random_uniform', name = 'dense_6'))\n",
    "18\n",
    "clf.add(BatchNormalization(momentum=0.99,epsilon=0.001,beta_initializer=RandomNormal(mean=0.0, stddev=0.05),gamma_initializer=Constant(value=0.9)))\n",
    "clf.add(Dense(32, activation = 'relu', name = 'dense_7'))\n",
    "clf.add(Dropout(0.55))\n",
    "clf.add(BatchNormalization(momentum=0.99,epsilon=0.001,beta_initializer=RandomNormal(mean=0.0, stddev=0.05),gamma_initializer=Constant(value=0.9)))\n",
    "\n",
    "# Output\n",
    "clf.add(Dense(1, activation = 'sigmoid',kernel_regularizer=regularizers.l2(0.001), kernel_initializer = 'random_uniform', name = 'output'))\n",
    "#compile model\n",
    "\n",
    "# opt = SGD(lr=0.01, momentum=0.9)\n",
    "clf.compile(loss = 'binary_crossentropy', \n",
    "            optimizer= 'adam',\n",
    "            metrics=['accuracy'])\n",
    "print('Summary of the built model...')\n",
    "print(clf.summary())\n",
    "# plot_model(clf, to_file='/eos/home-s/sraj/M.Sc._Thesis/Plot/''clf_plot_multiclass___.png', show_shapes=True, show_layer_names=True)"
   ]
  },
  {
   "cell_type": "code",
   "execution_count": 30,
   "metadata": {},
   "outputs": [
    {
     "name": "stdout",
     "output_type": "stream",
     "text": [
      "Train on 412363 samples, validate on 176727 samples\n",
      "Epoch 1/100\n",
      "412363/412363 [==============================] - 40s 98us/step - loss: 0.9081 - acc: 0.7289 - val_loss: 0.6129 - val_acc: 0.7790\n",
      "\n",
      "Epoch 00001: val_loss improved from inf to 0.61291, saving model to model(Training with Tprime 600-700GeV with all backgrounds).h5\n",
      "Epoch 2/100\n",
      "412363/412363 [==============================] - 35s 84us/step - loss: 0.5413 - acc: 0.7868 - val_loss: 0.5326 - val_acc: 0.7874\n",
      "\n",
      "Epoch 00002: val_loss improved from 0.61291 to 0.53257, saving model to model(Training with Tprime 600-700GeV with all backgrounds).h5\n",
      "Epoch 3/100\n",
      "412363/412363 [==============================] - 34s 84us/step - loss: 0.4889 - acc: 0.7926 - val_loss: 0.5073 - val_acc: 0.7897\n",
      "\n",
      "Epoch 00003: val_loss improved from 0.53257 to 0.50729, saving model to model(Training with Tprime 600-700GeV with all backgrounds).h5\n",
      "Epoch 4/100\n",
      "412363/412363 [==============================] - 38s 92us/step - loss: 0.4763 - acc: 0.7954 - val_loss: 0.5013 - val_acc: 0.7948\n",
      "\n",
      "Epoch 00004: val_loss improved from 0.50729 to 0.50126, saving model to model(Training with Tprime 600-700GeV with all backgrounds).h5\n",
      "Epoch 5/100\n",
      "412363/412363 [==============================] - 41s 101us/step - loss: 0.4698 - acc: 0.7975 - val_loss: 0.4870 - val_acc: 0.7960\n",
      "\n",
      "Epoch 00005: val_loss improved from 0.50126 to 0.48697, saving model to model(Training with Tprime 600-700GeV with all backgrounds).h5\n",
      "Epoch 6/100\n",
      "412363/412363 [==============================] - 29s 71us/step - loss: 0.4667 - acc: 0.7994 - val_loss: 0.4674 - val_acc: 0.7958\n",
      "\n",
      "Epoch 00006: val_loss improved from 0.48697 to 0.46737, saving model to model(Training with Tprime 600-700GeV with all backgrounds).h5\n",
      "Epoch 7/100\n",
      "412363/412363 [==============================] - 40s 96us/step - loss: 0.4638 - acc: 0.8002 - val_loss: 0.4677 - val_acc: 0.7965\n",
      "\n",
      "Epoch 00007: val_loss did not improve from 0.46737\n",
      "Epoch 8/100\n",
      "412363/412363 [==============================] - 44s 106us/step - loss: 0.4603 - acc: 0.8016 - val_loss: 0.4599 - val_acc: 0.8003\n",
      "\n",
      "Epoch 00008: val_loss improved from 0.46737 to 0.45994, saving model to model(Training with Tprime 600-700GeV with all backgrounds).h5\n",
      "Epoch 9/100\n",
      "412363/412363 [==============================] - 42s 101us/step - loss: 0.4566 - acc: 0.8034 - val_loss: 0.4551 - val_acc: 0.8010\n",
      "\n",
      "Epoch 00009: val_loss improved from 0.45994 to 0.45514, saving model to model(Training with Tprime 600-700GeV with all backgrounds).h5\n",
      "Epoch 10/100\n",
      "412363/412363 [==============================] - 49s 118us/step - loss: 0.4554 - acc: 0.8047 - val_loss: 0.4459 - val_acc: 0.8055\n",
      "\n",
      "Epoch 00010: val_loss improved from 0.45514 to 0.44591, saving model to model(Training with Tprime 600-700GeV with all backgrounds).h5\n",
      "Epoch 11/100\n",
      "412363/412363 [==============================] - 39s 95us/step - loss: 0.4530 - acc: 0.8050 - val_loss: 0.4435 - val_acc: 0.8063\n",
      "\n",
      "Epoch 00011: val_loss improved from 0.44591 to 0.44353, saving model to model(Training with Tprime 600-700GeV with all backgrounds).h5\n",
      "Epoch 12/100\n",
      "412363/412363 [==============================] - 36s 87us/step - loss: 0.4498 - acc: 0.8077 - val_loss: 0.4416 - val_acc: 0.8058\n",
      "\n",
      "Epoch 00012: val_loss improved from 0.44353 to 0.44161, saving model to model(Training with Tprime 600-700GeV with all backgrounds).h5\n",
      "Epoch 13/100\n",
      "412363/412363 [==============================] - 42s 102us/step - loss: 0.4487 - acc: 0.8090 - val_loss: 0.4368 - val_acc: 0.8101\n",
      "\n",
      "Epoch 00013: val_loss improved from 0.44161 to 0.43677, saving model to model(Training with Tprime 600-700GeV with all backgrounds).h5\n",
      "Epoch 14/100\n",
      "412363/412363 [==============================] - 46s 112us/step - loss: 0.4474 - acc: 0.8096 - val_loss: 0.4375 - val_acc: 0.8090\n",
      "\n",
      "Epoch 00014: val_loss did not improve from 0.43677\n",
      "Epoch 15/100\n",
      "412363/412363 [==============================] - 38s 91us/step - loss: 0.4457 - acc: 0.8095 - val_loss: 0.4414 - val_acc: 0.8109\n",
      "\n",
      "Epoch 00015: val_loss did not improve from 0.43677\n",
      "Epoch 16/100\n",
      "412363/412363 [==============================] - 40s 97us/step - loss: 0.4451 - acc: 0.8105 - val_loss: 0.4339 - val_acc: 0.8146\n",
      "\n",
      "Epoch 00016: val_loss improved from 0.43677 to 0.43390, saving model to model(Training with Tprime 600-700GeV with all backgrounds).h5\n",
      "Epoch 17/100\n",
      "412363/412363 [==============================] - 42s 101us/step - loss: 0.4432 - acc: 0.8116 - val_loss: 0.4363 - val_acc: 0.8118\n",
      "\n",
      "Epoch 00017: val_loss did not improve from 0.43390\n",
      "Epoch 18/100\n",
      "412363/412363 [==============================] - 34s 82us/step - loss: 0.4428 - acc: 0.8112 - val_loss: 0.4378 - val_acc: 0.8088\n",
      "\n",
      "Epoch 00018: val_loss did not improve from 0.43390\n",
      "Epoch 19/100\n",
      "412363/412363 [==============================] - 27s 65us/step - loss: 0.4418 - acc: 0.8122 - val_loss: 0.4308 - val_acc: 0.8142\n",
      "\n",
      "Epoch 00019: val_loss improved from 0.43390 to 0.43081, saving model to model(Training with Tprime 600-700GeV with all backgrounds).h5\n",
      "Epoch 20/100\n",
      "412363/412363 [==============================] - 25s 60us/step - loss: 0.4417 - acc: 0.8125 - val_loss: 0.4304 - val_acc: 0.8156\n",
      "\n",
      "Epoch 00020: val_loss improved from 0.43081 to 0.43040, saving model to model(Training with Tprime 600-700GeV with all backgrounds).h5\n",
      "Epoch 21/100\n",
      "412363/412363 [==============================] - 37s 90us/step - loss: 0.4402 - acc: 0.8129 - val_loss: 0.4297 - val_acc: 0.8159\n",
      "\n",
      "Epoch 00021: val_loss improved from 0.43040 to 0.42967, saving model to model(Training with Tprime 600-700GeV with all backgrounds).h5\n",
      "Epoch 22/100\n",
      "412363/412363 [==============================] - 36s 87us/step - loss: 0.4402 - acc: 0.8134 - val_loss: 0.4302 - val_acc: 0.8162\n",
      "\n",
      "Epoch 00022: val_loss did not improve from 0.42967\n",
      "Epoch 23/100\n",
      "412363/412363 [==============================] - 35s 85us/step - loss: 0.4396 - acc: 0.8135 - val_loss: 0.4301 - val_acc: 0.8149\n",
      "\n",
      "Epoch 00023: val_loss did not improve from 0.42967\n",
      "Epoch 24/100\n",
      "412363/412363 [==============================] - 35s 84us/step - loss: 0.4389 - acc: 0.8143 - val_loss: 0.4336 - val_acc: 0.8144\n",
      "\n",
      "Epoch 00024: val_loss did not improve from 0.42967\n",
      "Epoch 25/100\n",
      "412363/412363 [==============================] - 35s 84us/step - loss: 0.4387 - acc: 0.8144 - val_loss: 0.4274 - val_acc: 0.8173\n",
      "\n",
      "Epoch 00025: val_loss improved from 0.42967 to 0.42736, saving model to model(Training with Tprime 600-700GeV with all backgrounds).h5\n",
      "Epoch 26/100\n",
      "412363/412363 [==============================] - 39s 94us/step - loss: 0.4382 - acc: 0.8146 - val_loss: 0.4298 - val_acc: 0.8154\n",
      "\n",
      "Epoch 00026: val_loss did not improve from 0.42736\n",
      "Epoch 27/100\n",
      "412363/412363 [==============================] - 36s 87us/step - loss: 0.4381 - acc: 0.8143 - val_loss: 0.4291 - val_acc: 0.8137\n",
      "\n",
      "Epoch 00027: val_loss did not improve from 0.42736\n",
      "Epoch 28/100\n",
      "412363/412363 [==============================] - 38s 93us/step - loss: 0.4371 - acc: 0.8155 - val_loss: 0.4288 - val_acc: 0.8134\n",
      "\n",
      "Epoch 00028: val_loss did not improve from 0.42736\n",
      "Epoch 29/100\n",
      "412363/412363 [==============================] - 42s 101us/step - loss: 0.4367 - acc: 0.8153 - val_loss: 0.4253 - val_acc: 0.8181\n",
      "\n",
      "Epoch 00029: val_loss improved from 0.42736 to 0.42532, saving model to model(Training with Tprime 600-700GeV with all backgrounds).h5\n",
      "Epoch 30/100\n",
      "412363/412363 [==============================] - 42s 101us/step - loss: 0.4369 - acc: 0.8153 - val_loss: 0.4246 - val_acc: 0.8189\n",
      "\n",
      "Epoch 00030: val_loss improved from 0.42532 to 0.42457, saving model to model(Training with Tprime 600-700GeV with all backgrounds).h5\n",
      "Epoch 31/100\n",
      "412363/412363 [==============================] - 29s 69us/step - loss: 0.4355 - acc: 0.8157 - val_loss: 0.4337 - val_acc: 0.8126\n",
      "\n",
      "Epoch 00031: val_loss did not improve from 0.42457\n",
      "Epoch 32/100\n",
      "412363/412363 [==============================] - 27s 65us/step - loss: 0.4352 - acc: 0.8162 - val_loss: 0.4267 - val_acc: 0.8183\n",
      "\n",
      "Epoch 00032: val_loss did not improve from 0.42457\n",
      "Epoch 33/100\n",
      "412363/412363 [==============================] - 25s 61us/step - loss: 0.4350 - acc: 0.8158 - val_loss: 0.4307 - val_acc: 0.8148\n",
      "\n",
      "Epoch 00033: val_loss did not improve from 0.42457\n",
      "Epoch 34/100\n",
      "412363/412363 [==============================] - 25s 61us/step - loss: 0.4351 - acc: 0.8164 - val_loss: 0.4252 - val_acc: 0.8181\n",
      "\n",
      "Epoch 00034: val_loss did not improve from 0.42457\n",
      "Epoch 35/100\n"
     ]
    },
    {
     "name": "stdout",
     "output_type": "stream",
     "text": [
      "412363/412363 [==============================] - 24s 58us/step - loss: 0.4354 - acc: 0.8158 - val_loss: 0.4355 - val_acc: 0.8139\n",
      "\n",
      "Epoch 00035: val_loss did not improve from 0.42457\n"
     ]
    },
    {
     "name": "stderr",
     "output_type": "stream",
     "text": [
      "2022-04-01 05:56:06.538617: I tensorflow/core/platform/cpu_feature_guard.cc:142] Your CPU supports instructions that this TensorFlow binary was not compiled to use: SSE4.1 SSE4.2 AVX AVX2 FMA\n",
      "2022-04-01 05:56:06.594472: I tensorflow/core/platform/profile_utils/cpu_utils.cc:94] CPU Frequency: 2194915000 Hz\n",
      "2022-04-01 05:56:06.598338: I tensorflow/compiler/xla/service/service.cc:168] XLA service 0x18693b60 executing computations on platform Host. Devices:\n",
      "2022-04-01 05:56:06.598404: I tensorflow/compiler/xla/service/service.cc:175]   StreamExecutor device (0): <undefined>, <undefined>\n",
      "2022-04-01 05:56:07.713018: W tensorflow/compiler/jit/mark_for_compilation_pass.cc:1412] (One-time warning): Not using XLA:CPU for cluster because envvar TF_XLA_FLAGS=--tf_xla_cpu_global_jit was not set.  If you want XLA:CPU, either set that envvar, or use experimental_jit_scope to enable XLA:CPU.  To confirm that XLA is active, pass --vmodule=xla_compilation_cache=1 (as a proper command-line flag, not via TF_XLA_FLAGS) or set the envvar XLA_FLAGS=--xla_hlo_profile.\n",
      "2022-04-01 05:56:10.081679: W tensorflow/core/framework/allocator.cc:107] Allocation of 36864000 exceeds 10% of system memory.\n",
      "2022-04-01 05:56:10.163368: W tensorflow/core/framework/allocator.cc:107] Allocation of 36864000 exceeds 10% of system memory.\n",
      "2022-04-01 05:56:10.219454: W tensorflow/core/framework/allocator.cc:107] Allocation of 36864000 exceeds 10% of system memory.\n",
      "2022-04-01 05:56:10.288803: W tensorflow/core/framework/allocator.cc:107] Allocation of 36864000 exceeds 10% of system memory.\n",
      "2022-04-01 05:56:10.328941: W tensorflow/core/framework/allocator.cc:107] Allocation of 36864000 exceeds 10% of system memory.\n"
     ]
    }
   ],
   "source": [
    "# simple early stopping\n",
    "early_stopper = callbacks.EarlyStopping(monitor=\"val_loss\", patience=5, mode=\"auto\")\n",
    "model_check_point = callbacks.ModelCheckpoint(\"model(Training with Tprime 600-700GeV with all backgrounds).h5\", monitor = 'val_loss', verbose=True, \n",
    "                                              save_best_only=True, mode='auto')\n",
    "# fit model\n",
    "history = clf.fit(X_train, y_train, validation_split = 0.30, batch_size= 9000, epochs=100, verbose=1, callbacks=[early_stopper, model_check_point])\n",
    "# evaluate the model\n"
   ]
  },
  {
   "cell_type": "code",
   "execution_count": 32,
   "metadata": {},
   "outputs": [
    {
     "name": "stdout",
     "output_type": "stream",
     "text": [
      "589090/589090 [==============================] - 54s 92us/step\n",
      "Accuracy: 81.82%\n"
     ]
    }
   ],
   "source": [
    "# Final evaluation of the model for DNN\n",
    "# Testing Outputs\n",
    "scores = clf.evaluate(X_train, y_train, verbose=1)\n",
    "print(\"Accuracy: %.2f%%\" % (scores[1]*100))"
   ]
  },
  {
   "cell_type": "code",
   "execution_count": 33,
   "metadata": {},
   "outputs": [
    {
     "name": "stdout",
     "output_type": "stream",
     "text": [
      "290150/290150 [==============================] - 27s 92us/step\n",
      "Accuracy: 81.33%\n"
     ]
    }
   ],
   "source": [
    "# Final evaluation of the model for DNN\n",
    "# Testing Outputs\"$\\pm$\"\n",
    "scores = clf.evaluate(X_test, y_test, verbose=1)\n",
    "print(\"Accuracy: %.2f%%\" % (scores[1]*100))"
   ]
  },
  {
   "cell_type": "code",
   "execution_count": 35,
   "metadata": {},
   "outputs": [
    {
     "data": {
      "image/png": "[encoded data removed]",
      "text/plain": [
       "<Figure size 432x288 with 1 Axes>"
      ]
     },
     "metadata": {
      "needs_background": "light"
     },
     "output_type": "display_data"
    },
    {
     "data": {
      "image/png": "[encoded data removed]",
      "text/plain": [
       "<Figure size 432x288 with 1 Axes>"
      ]
     },
     "metadata": {
      "needs_background": "light"
     },
     "output_type": "display_data"
    }
   ],
   "source": [
    "# summarize history for accuracy\n",
    "plt.plot(history.history['acc'])\n",
    "plt.plot(history.history['val_acc'])\n",
    "plt.title('model accuracy')\n",
    "plt.ylabel('accuracy')\n",
    "plt.xlabel('epoch')\n",
    "plt.legend(['train', 'val_acc'], loc='upper left')\n",
    "plt.savefig('/eos/user/s/sraj/M.Sc._Thesis/Plot_M.Sc._thesis/Plot_output/''model_accuracy_training_and_testing_TPrime_600-700GeV.png')\n",
    "plt.show()\n",
    "# summarize history for loss\n",
    "plt.plot(history.history['loss'])\n",
    "plt.plot(history.history['val_loss'])\n",
    "# plt.title('model loss,random_state=5, epoch =100,batch_size =900, verbose=0.25')\n",
    "plt.ylabel('loss')\n",
    "plt.xlabel('epoch')\n",
    "plt.legend(['train', 'val_acc'], loc='upper right')\n",
    "plt.savefig('/eos/user/s/sraj/M.Sc._Thesis/Plot_M.Sc._thesis/Plot_output/''model_loss_training_and_testing_TPrime_600-700GeV.png')\n",
    "plt.show()"
   ]
  },
  {
   "cell_type": "code",
   "execution_count": 36,
   "metadata": {},
   "outputs": [
    {
     "data": {
      "image/png": "[encoded data removed]",
      "text/plain": [
       "<Figure size 432x288 with 1 Axes>"
      ]
     },
     "metadata": {
      "needs_background": "light"
     },
     "output_type": "display_data"
    }
   ],
   "source": [
    "from sklearn.metrics import roc_curve, auc\n",
    "\n",
    "decisions = clf.predict(X_test)\n",
    "\n",
    "# Compute ROC curve and area under the curve\n",
    "fpr, tpr, thresholds = roc_curve(y_test, decisions)\n",
    "roc_auc = auc(fpr, tpr)\n",
    "plt.plot(fpr, tpr, lw=1, label='ROC (area = %0.2f)'%(roc_auc))\n",
    "\n",
    "\n",
    "plt.plot([0, 1], [0, 1], '--', color=(0.6, 0.6, 0.6), label='Luck')\n",
    "plt.xlim([-0.05, 1.05])\n",
    "plt.ylim([-0.05, 1.05])\n",
    "plt.xlabel('False Positive Rate')\n",
    "plt.ylabel('True Positive Rate')\n",
    "plt.title('Receiver operating characteristic')\n",
    "plt.legend(loc=\"lower right\")\n",
    "plt.grid()\n",
    "plt.savefig('/eos/user/s/sraj/M.Sc._Thesis/Plot_M.Sc._thesis/Plot_output/'\"ROC_curve_training_and_testing_TPrime_600-700GeV.png\")\n",
    "plt.show()"
   ]
  },
  {
   "cell_type": "code",
   "execution_count": 37,
   "metadata": {},
   "outputs": [
    {
     "data": {
      "image/png": "[encoded data removed]",
      "text/plain": [
       "<Figure size 432x288 with 1 Axes>"
      ]
     },
     "metadata": {
      "needs_background": "light"
     },
     "output_type": "display_data"
    }
   ],
   "source": [
    "import matplotlib\n",
    "plt.figure()                                     # new window\n",
    "matplotlib.rcParams.update({'font.size':14})     # set all font sizes\n",
    "tTest = clf.predict(X_test)\n",
    "# if hasattr(clf, \"decision_function\"):\n",
    "#     tTest = clf.decision_function(X_test)        # if available use decision_function\n",
    "# else:\n",
    "#     tTest = clf.predict_proba(X_test)[:,1]       # for e.g. MLP need to use predict_proba\n",
    "tBkg_0 = tTest[y_test==0]\n",
    "tSig_0 = tTest[y_test==1]\n",
    "nBins = 20\n",
    "tMin = np.floor(np.min(tTest))\n",
    "tMax = np.ceil(np.max(tTest))\n",
    "bins = np.linspace(tMin, tMax, nBins+1)\n",
    "# plt.title('Multilayer perceptron')\n",
    "plt.xlabel(' $DNN$', labelpad=3)\n",
    "plt.ylabel('$Probability density$', labelpad=40)\n",
    "n, bins, patches = plt.hist(tSig_0 ,bins=bins, density=True, histtype='step', fill=False, color ='dodgerblue' ,edgecolor = 'blue', hatch = 'XX',label='Tprime_600-700')\n",
    "n, bins, patches = plt.hist(tBkg_0, bins=bins, density=True, histtype='step', fill=False,color = 'red' ,alpha=0.5, edgecolor = 'green', hatch='++', label = 'All Background')\n",
    "plt.grid(color = 'b', alpha = 0.5, linestyle = 'dashed')\n",
    "plt.legend(loc='center')\n",
    "plt.title(' ')\n",
    "plt.savefig('/eos/user/s/sraj/M.Sc._Thesis/Plot_M.Sc._thesis/Plot_output/''output_TPrime600-700_on_testing_all_background.png')\n",
    "plt.show()"
   ]
  },
  {
   "cell_type": "markdown",
   "metadata": {},
   "source": [
    "## Load the model"
   ]
  },
  {
   "cell_type": "code",
   "execution_count": 43,
   "metadata": {},
   "outputs": [
    {
     "name": "stderr",
     "output_type": "stream",
     "text": [
      "W0401 06:26:44.791938 140201393329984 nn_ops.py:4224] Large dropout rate: 0.55 (>0.5). In TensorFlow 2.x, dropout() uses dropout rate instead of keep_prob. Please ensure that this is intended.\n"
     ]
    }
   ],
   "source": [
    "loaded_model = load_model(\"model(Training with Tprime 600-700GeV with all backgrounds).h5\")"
   ]
  },
  {
   "cell_type": "markdown",
   "metadata": {},
   "source": [
    "### Plotting with the original data file after testing \n",
    "\n"
   ]
  },
  {
   "cell_type": "code",
   "execution_count": 44,
   "metadata": {},
   "outputs": [],
   "source": [
    "data_file_01 = '/eos/user/p/prsaha/for_Shivam/output_allData_RunII.root'\n",
    "treename_data_file_01 = \"tagsDumper/trees/Data_13TeV_THQLeptonicTag\""
   ]
  },
  {
   "cell_type": "code",
   "execution_count": 45,
   "metadata": {},
   "outputs": [],
   "source": [
    "data_File_001= root2array(data_file_01,treename_data_file_01,columns)"
   ]
  },
  {
   "cell_type": "code",
   "execution_count": 46,
   "metadata": {},
   "outputs": [],
   "source": [
    "data_File_1 = pd.DataFrame(data_File_001)"
   ]
  },
  {
   "cell_type": "markdown",
   "metadata": {},
   "source": [
    "#### Method2"
   ]
  },
  {
   "cell_type": "code",
   "execution_count": 47,
   "metadata": {},
   "outputs": [
    {
     "name": "stdout",
     "output_type": "stream",
     "text": [
      "2400/2400 [==============================] - 2s 946us/step\n",
      "2400/2400 [==============================] - 0s 146us/step\n",
      "Accuracy: 10.79%\n"
     ]
    }
   ],
   "source": [
    "X_3_test = data_File_1\n",
    "y_3_test = np.ones(data_File_1.shape[0])\n",
    "\n",
    "loaded_model.compile(loss='binary_crossentropy', optimizer='adam', metrics=['accuracy'])\n",
    "score = loaded_model.evaluate(X_3_test, y_3_test)\n",
    "\n",
    "# Final evaluation of the model for DNN\n",
    "# Testing Outputs\n",
    "scores = loaded_model.evaluate(X_3_test, y_3_test, verbose=1)\n",
    "print(\"Accuracy: %.2f%%\" % (scores[1]*100))\n",
    "\n"
   ]
  },
  {
   "cell_type": "code",
   "execution_count": 48,
   "metadata": {},
   "outputs": [
    {
     "data": {
      "image/png": "[encoded data removed]",
      "text/plain": [
       "<Figure size 432x288 with 1 Axes>"
      ]
     },
     "metadata": {
      "needs_background": "light"
     },
     "output_type": "display_data"
    }
   ],
   "source": [
    "import matplotlib\n",
    "plt.figure()                                     # new window\n",
    "matplotlib.rcParams.update({'font.size':14})     # set all font sizes\n",
    "tTest = loaded_model.predict(X_3_test)\n",
    "# if hasattr(clf, \"decision_function\"):\n",
    "#     tTest = clf.decision_function(X_test)        # if available use decision_function\n",
    "# else:\n",
    "#     tTest = clf.predict_proba(X_test)[:,1]       # for e.g. MLP need to use predict_proba\n",
    "tBkg_3 = tTest[y_3_test==0]\n",
    "tSig_3 = tTest[y_3_test==1]\n",
    "nBins = 20\n",
    "tMin = np.floor(np.min(tTest))\n",
    "tMax = np.ceil(np.max(tTest))\n",
    "bins = np.linspace(tMin, tMax, nBins+1)\n",
    "# plt.title('Multilayer perceptron')\n",
    "plt.xlabel(' $DNN$', labelpad=3)\n",
    "plt.ylabel('$Probability density$', labelpad=40)\n",
    "n, bins, patches = plt.hist(tSig_3, bins=bins, density=True, histtype='step', fill=False, color ='dodgerblue' ,edgecolor = 'blue', hatch = 'XX',label='Datafiles')\n",
    "# n, bins, patches = plt.hist(tBkg_3, bins=bins, density=True, histtype='step', fill=False,color = 'red' ,alpha=0.5, edgecolor = 'green', hatch='++', label = 'All Background')\n",
    "plt.grid(color = 'b', alpha = 0.5, linestyle = 'dashed')\n",
    "plt.legend(loc='center')\n",
    "plt.title(' ')\n",
    "# plt.savefig('/eos/home-s/sraj/M.Sc._Thesis/Plot_M.Sc._thesis/Plot_with_HDF5_files/''output_TPrime1200_all_background.png')\n",
    "plt.show()"
   ]
  },
  {
   "cell_type": "markdown",
   "metadata": {},
   "source": [
    "Here the training output seems to be consistent with output on the real data files"
   ]
  },
  {
   "cell_type": "code",
   "execution_count": null,
   "metadata": {},
   "outputs": [],
   "source": []
  },
  {
   "cell_type": "markdown",
   "metadata": {},
   "source": [
    "# Import all the files suggessted by Prafulla bhaiya "
   ]
  },
  {
   "cell_type": "code",
   "execution_count": null,
   "metadata": {},
   "outputs": [],
   "source": [
    "Files needed:- ttgg, ttg+jets, gg+jets, g+jets, tt+jets, T'600, T'700, SM+higgs, "
   ]
  },
  {
   "cell_type": "code",
   "execution_count": 53,
   "metadata": {},
   "outputs": [],
   "source": [
    "back_1 = '/eos/home-s/sraj/M.Sc._Thesis/data_files/output_TTGG_0Jets_TuneCP5_13TeV_amcatnlo_madspin_pythia8.root'\n",
    "back_002 = '/eos/user/p/prsaha/for_Shivam/output_TTJets_pythia8.root'\n",
    "back_003 = '/eos/user/p/prsaha/for_Shivam/output_DiPhotonJetsBox_MGG-80toInf_13TeV-Sherpa.root'\n",
    "back_004 = '/eos/user/p/prsaha/for_Shivam/output_DiPhotonJetsBox2BJets_MGG-80toInf_13TeV-Sherpa.root'\n",
    "back_005 = '/eos/user/p/prsaha/for_Shivam/output_GJet_Pt-40toInf_DoubleEMEnriched_MGG-80toInf_pythia8.root'\n",
    "back_006 = '/eos/user/p/prsaha/for_Shivam/output_TTGJets_pythia8.root'\n",
    "back_007 = '/eos/user/p/prsaha/for_Shivam/output_TTJets_pythia8.root'\n",
    "\n",
    "\n",
    "\n",
    "treeName_back_1 =\"tagsDumper/trees/ttgg_13TeV_THQLeptonicTag\" \n",
    "treeName_back_002 =\"tagsDumper/trees/ttjets_13TeV_THQLeptonicTag\" \n",
    "treeName_back_003 =\"tagsDumper/trees/DiPhotonJetsBox_13TeV_THQLeptonicTag\" \n",
    "treeName_back_004 =\"tagsDumper/trees/DiPhotonJetsBox2BJets_13TeV_THQLeptonicTag\" \n",
    "treeName_back_005 =\"tagsDumper/trees/gjets_13TeV_THQLeptonicTag\" \n",
    "treeName_back_006 =\"tagsDumper/trees/ttgjets_13TeV_THQLeptonicTag\" \n",
    "treeName_back_007 =\"tagsDumper/trees/ttjets_13TeV_THQLeptonicTag\" \n",
    "\n",
    "\n",
    "\n"
   ]
  },
  {
   "cell_type": "code",
   "execution_count": 54,
   "metadata": {},
   "outputs": [],
   "source": [
    "back_ttgg = root2array(back_1, treeName_back_1, columns)     # ttgg background(Not using this)\n",
    "back_ttjets = root2array(back_002, treeName_back_002, columns)\n",
    "back_diphotongamma = root2array(back_003, treeName_back_003, columns)\n",
    "back_diphotongamma_1 = root2array(back_004, treeName_back_004, columns)\n",
    "back_gjets = root2array(back_005, treeName_back_005, columns)\n",
    "back_ttgjets = root2array(back_006, treeName_back_006, columns)\n",
    "back_ttjets = root2array(back_007, treeName_back_007, columns)\n"
   ]
  },
  {
   "cell_type": "code",
   "execution_count": 59,
   "metadata": {},
   "outputs": [],
   "source": [
    "ttgg = pd.DataFrame(back_ttgg)\n",
    "ttjets = pd.DataFrame(back_ttjets)\n",
    "diphotongamma = pd.DataFrame(back_diphotongamma)\n",
    "diphotongamma_1 = pd.DataFrame(back_diphotongamma_1)\n",
    "gjets = pd.DataFrame(back_gjets)\n",
    "ttgjets = pd.DataFrame(back_ttgjets)\n",
    "ttjets = pd.DataFrame(back_ttjets)\n",
    "Tprime_600 = pd.DataFrame(signal_Tprime_600)\n",
    "Tprime_700= pd.DataFrame(signal_Tprime_700)\n",
    "SMHiggs = pd.concat((back_tth, back_ggh, back_thq, back_vbf, back_vh), axis=0)"
   ]
  },
  {
   "cell_type": "markdown",
   "metadata": {},
   "source": [
    "##### ttgg"
   ]
  },
  {
   "cell_type": "code",
   "execution_count": 76,
   "metadata": {},
   "outputs": [
    {
     "name": "stdout",
     "output_type": "stream",
     "text": [
      "55847/55847 [==============================] - 8s 145us/step\n",
      "55847/55847 [==============================] - 6s 106us/step\n",
      "Accuracy: 28.62%\n"
     ]
    },
    {
     "data": {
      "image/png": "[encoded data removed]",
      "text/plain": [
       "<Figure size 432x288 with 1 Axes>"
      ]
     },
     "metadata": {
      "needs_background": "light"
     },
     "output_type": "display_data"
    }
   ],
   "source": [
    "X_4_test = ttgg\n",
    "y_4_test = np.ones(ttgg.shape[0])\n",
    "\n",
    "loaded_model.compile(loss='binary_crossentropy', optimizer='adam', metrics=['accuracy'])\n",
    "score = loaded_model.evaluate(X_4_test, y_4_test)\n",
    "\n",
    "# Final evaluation of the model for DNN\n",
    "# Testing Outputs\n",
    "scores = loaded_model.evaluate(X_4_test, y_4_test, verbose=1)\n",
    "print(\"Accuracy: %.2f%%\" % (scores[1]*100))\n",
    "\n",
    "import matplotlib\n",
    "plt.figure()                                     # new window\n",
    "matplotlib.rcParams.update({'font.size':14})     # set all font sizes\n",
    "tTest = loaded_model.predict(X_4_test)\n",
    "# if hasattr(clf, \"decision_function\"):\n",
    "#     tTest = clf.decision_function(X_test)        # if available use decision_function\n",
    "# else:\n",
    "#     tTest = clf.predict_proba(X_test)[:,1]       # for e.g. MLP need to use predict_proba\n",
    "tBkg_4 = tTest[y_4_test==0]\n",
    "tSig_4 = tTest[y_4_test==1]\n",
    "nBins = 20\n",
    "tMin = np.floor(np.min(tTest))\n",
    "tMax = np.ceil(np.max(tTest))\n",
    "bins = np.linspace(tMin, tMax, nBins+1)\n",
    "# plt.title('Multilayer perceptron')\n",
    "plt.xlabel(' $DNN$', labelpad=3)\n",
    "plt.ylabel('$Probability density$', labelpad=40)\n",
    "n, bins, patches = plt.hist(tSig_4, bins=bins, density=True, histtype='step', fill=False, color ='dodgerblue' ,edgecolor = 'blue', hatch = 'XX',label='ttgg')\n",
    "# n, bins, patches = plt.hist(tBkg_4, bins=bins, density=True, histtype='step', fill=False,color = 'red' ,alpha=0.5, edgecolor = 'green', hatch='++', label = 'All Background')\n",
    "plt.grid(color = 'b', alpha = 0.5, linestyle = 'dashed')\n",
    "plt.legend(loc='center')\n",
    "plt.title(' ')\n",
    "# plt.savefig('/eos/home-s/sraj/M.Sc._Thesis/Plot_M.Sc._thesis/Plot_with_HDF5_files/''output_TPrime1200_all_background.png')\n",
    "plt.show()\n",
    "\n",
    "\n"
   ]
  },
  {
   "cell_type": "markdown",
   "metadata": {},
   "source": [
    "##### ttjets"
   ]
  },
  {
   "cell_type": "code",
   "execution_count": 77,
   "metadata": {},
   "outputs": [
    {
     "name": "stdout",
     "output_type": "stream",
     "text": [
      "1320/1320 [==============================] - 2s 2ms/step\n",
      "1320/1320 [==============================] - 0s 127us/step\n",
      "Accuracy: 8.56%\n"
     ]
    },
    {
     "data": {
      "image/png": "[encoded data removed]",
      "text/plain": [
       "<Figure size 432x288 with 1 Axes>"
      ]
     },
     "metadata": {
      "needs_background": "light"
     },
     "output_type": "display_data"
    }
   ],
   "source": [
    "X_5_test = ttjets\n",
    "y_5_test = np.ones(ttjets.shape[0])\n",
    "\n",
    "loaded_model.compile(loss='binary_crossentropy', optimizer='adam', metrics=['accuracy'])\n",
    "score = loaded_model.evaluate(X_5_test, y_5_test)\n",
    "\n",
    "# Final evaluation of the model for DNN\n",
    "# Testing Outputs\n",
    "scores = loaded_model.evaluate(X_5_test, y_5_test, verbose=1)\n",
    "print(\"Accuracy: %.2f%%\" % (scores[1]*100))\n",
    "\n",
    "import matplotlib\n",
    "plt.figure()                                     # new window\n",
    "matplotlib.rcParams.update({'font.size':14})     # set all font sizes\n",
    "tTest = loaded_model.predict(X_5_test)\n",
    "# if hasattr(clf, \"decision_function\"):\n",
    "#     tTest = clf.decision_function(X_test)        # if available use decision_function\n",
    "# else:\n",
    "#     tTest = clf.predict_proba(X_test)[:,1]       # for e.g. MLP need to use predict_proba\n",
    "tBkg_5 = tTest[y_5_test==0]\n",
    "tSig_5 = tTest[y_5_test==1]\n",
    "nBins = 20\n",
    "tMin = np.floor(np.min(tTest))\n",
    "tMax = np.ceil(np.max(tTest))\n",
    "bins = np.linspace(tMin, tMax, nBins+1)\n",
    "# plt.title('Multilayer perceptron')\n",
    "plt.xlabel(' $DNN$', labelpad=3)\n",
    "plt.ylabel('$Probability density$', labelpad=40)\n",
    "n, bins, patches = plt.hist(tSig_5, bins=bins, density=True, histtype='step', fill=False, color ='dodgerblue' ,edgecolor = 'blue', hatch = 'XX',label='ttjets')\n",
    "# n, bins, patches = plt.hist(tBkg_4, bins=bins, density=True, histtype='step', fill=False,color = 'red' ,alpha=0.5, edgecolor = 'green', hatch='++', label = 'All Background')\n",
    "plt.grid(color = 'b', alpha = 0.5, linestyle = 'dashed')\n",
    "plt.legend(loc='center')\n",
    "plt.title(' ')\n",
    "# plt.savefig('/eos/home-s/sraj/M.Sc._Thesis/Plot_M.Sc._thesis/Plot_with_HDF5_files/''output_TPrime1200_all_background.png')\n",
    "plt.show()\n",
    "\n",
    "\n"
   ]
  },
  {
   "cell_type": "markdown",
   "metadata": {},
   "source": [
    "##### diphotongamma "
   ]
  },
  {
   "cell_type": "code",
   "execution_count": 78,
   "metadata": {},
   "outputs": [
    {
     "name": "stdout",
     "output_type": "stream",
     "text": [
      "8323/8323 [==============================] - 3s 329us/step\n",
      "8323/8323 [==============================] - 1s 106us/step\n",
      "Accuracy: 19.20%\n"
     ]
    },
    {
     "data": {
      "image/png": "[encoded data removed]",
      "text/plain": [
       "<Figure size 432x288 with 1 Axes>"
      ]
     },
     "metadata": {
      "needs_background": "light"
     },
     "output_type": "display_data"
    }
   ],
   "source": [
    "X_6_test = diphotongamma\n",
    "y_6_test = np.ones(diphotongamma.shape[0])\n",
    "\n",
    "loaded_model.compile(loss='binary_crossentropy', optimizer='adam', metrics=['accuracy'])\n",
    "score = loaded_model.evaluate(X_6_test, y_6_test)\n",
    "\n",
    "# Final evaluation of the model for DNN\n",
    "# Testing Outputs\n",
    "scores = loaded_model.evaluate(X_6_test, y_6_test, verbose=1)\n",
    "print(\"Accuracy: %.2f%%\" % (scores[1]*100))\n",
    "\n",
    "import matplotlib\n",
    "plt.figure()                                     # new window\n",
    "matplotlib.rcParams.update({'font.size':14})     # set all font sizes\n",
    "tTest = loaded_model.predict(X_6_test)\n",
    "# if hasattr(clf, \"decision_function\"):\n",
    "#     tTest = clf.decision_function(X_test)        # if available use decision_function\n",
    "# else:\n",
    "#     tTest = clf.predict_proba(X_test)[:,1]       # for e.g. MLP need to use predict_proba\n",
    "tBkg_6 = tTest[y_6_test==0]\n",
    "tSig_6 = tTest[y_6_test==1]\n",
    "nBins = 20\n",
    "tMin = np.floor(np.min(tTest))\n",
    "tMax = np.ceil(np.max(tTest))\n",
    "bins = np.linspace(tMin, tMax, nBins+1)\n",
    "# plt.title('Multilayer perceptron')\n",
    "plt.xlabel(' $DNN$', labelpad=3)\n",
    "plt.ylabel('$Probability density$', labelpad=40)\n",
    "n, bins, patches = plt.hist(tSig_6, bins=bins, density=True, histtype='step', fill=False, color ='dodgerblue' ,edgecolor = 'blue', hatch = 'XX',label='diphotongamma')\n",
    "# n, bins, patches = plt.hist(tBkg_6, bins=bins, density=True, histtype='step', fill=False,color = 'red' ,alpha=0.5, edgecolor = 'green', hatch='++', label = 'All Background')\n",
    "plt.grid(color = 'b', alpha = 0.5, linestyle = 'dashed')\n",
    "plt.legend(loc='center')\n",
    "plt.title(' ')\n",
    "# plt.savefig('/eos/home-s/sraj/M.Sc._Thesis/Plot_M.Sc._thesis/Plot_with_HDF5_files/''output_TPrime1200_all_background.png')\n",
    "plt.show()\n",
    "\n",
    "\n"
   ]
  },
  {
   "cell_type": "markdown",
   "metadata": {},
   "source": [
    "##### gjets\n",
    "\n"
   ]
  },
  {
   "cell_type": "code",
   "execution_count": 79,
   "metadata": {},
   "outputs": [
    {
     "name": "stdout",
     "output_type": "stream",
     "text": [
      "228/228 [==============================] - 2s 9ms/step\n",
      "228/228 [==============================] - 0s 108us/step\n",
      "Accuracy: 5.70%\n"
     ]
    },
    {
     "data": {
      "image/png": "[encoded data removed]",
      "text/plain": [
       "<Figure size 432x288 with 1 Axes>"
      ]
     },
     "metadata": {
      "needs_background": "light"
     },
     "output_type": "display_data"
    }
   ],
   "source": [
    "X_7_test = gjets\n",
    "y_7_test = np.ones(gjets.shape[0])\n",
    "\n",
    "loaded_model.compile(loss='binary_crossentropy', optimizer='adam', metrics=['accuracy'])\n",
    "score = loaded_model.evaluate(X_7_test, y_7_test)\n",
    "\n",
    "# Final evaluation of the model for DNN\n",
    "# Testing Outputs\n",
    "scores = loaded_model.evaluate(X_7_test, y_7_test, verbose=1)\n",
    "print(\"Accuracy: %.2f%%\" % (scores[1]*100))\n",
    "\n",
    "import matplotlib\n",
    "plt.figure()                                     # new window\n",
    "matplotlib.rcParams.update({'font.size':14})     # set all font sizes\n",
    "tTest = loaded_model.predict(X_7_test)\n",
    "# if hasattr(clf, \"decision_function\"):\n",
    "#     tTest = clf.decision_function(X_test)        # if available use decision_function\n",
    "# else:\n",
    "#     tTest = clf.predict_proba(X_test)[:,1]       # for e.g. MLP need to use predict_proba\n",
    "tBkg_7 = tTest[y_7_test==0]\n",
    "tSig_7 = tTest[y_7_test==1]\n",
    "nBins = 20\n",
    "tMin = np.floor(np.min(tTest))\n",
    "tMax = np.ceil(np.max(tTest))\n",
    "bins = np.linspace(tMin, tMax, nBins+1)\n",
    "# plt.title('Multilayer perceptron')\n",
    "plt.xlabel(' $DNN$', labelpad=3)\n",
    "plt.ylabel('$Probability density$', labelpad=40)\n",
    "n, bins, patches = plt.hist(tSig_7, bins=bins, density=True, histtype='step', fill=False, color ='dodgerblue' ,edgecolor = 'blue', hatch = 'XX',label='gjets')\n",
    "# n, bins, patches = plt.hist(tBkg_6, bins=bins, density=True, histtype='step', fill=False,color = 'red' ,alpha=0.5, edgecolor = 'green', hatch='++', label = 'All Background')\n",
    "plt.grid(color = 'b', alpha = 0.5, linestyle = 'dashed')\n",
    "plt.legend(loc='center')\n",
    "plt.title(' ')\n",
    "# plt.savefig('/eos/home-s/sraj/M.Sc._Thesis/Plot_M.Sc._thesis/Plot_with_HDF5_files/''output_TPrime1200_all_background.png')\n",
    "plt.show()\n",
    "\n",
    "\n"
   ]
  },
  {
   "cell_type": "markdown",
   "metadata": {},
   "source": [
    "##### ttgjets "
   ]
  },
  {
   "cell_type": "code",
   "execution_count": 80,
   "metadata": {},
   "outputs": [
    {
     "name": "stdout",
     "output_type": "stream",
     "text": [
      "9441/9441 [==============================] - 3s 328us/step\n",
      "9441/9441 [==============================] - 1s 136us/step\n",
      "Accuracy: 19.50%\n"
     ]
    },
    {
     "data": {
      "image/png": "[encoded data removed]",
      "text/plain": [
       "<Figure size 432x288 with 1 Axes>"
      ]
     },
     "metadata": {
      "needs_background": "light"
     },
     "output_type": "display_data"
    }
   ],
   "source": [
    "X_8_test = ttgjets\n",
    "y_8_test = np.ones(ttgjets.shape[0])\n",
    "\n",
    "loaded_model.compile(loss='binary_crossentropy', optimizer='adam', metrics=['accuracy'])\n",
    "score = loaded_model.evaluate(X_8_test, y_8_test)\n",
    "\n",
    "# Final evaluation of the model for DNN\n",
    "# Testing Outputs\n",
    "scores = loaded_model.evaluate(X_8_test, y_8_test, verbose=1)\n",
    "print(\"Accuracy: %.2f%%\" % (scores[1]*100))\n",
    "\n",
    "import matplotlib\n",
    "plt.figure()                                     # new window\n",
    "matplotlib.rcParams.update({'font.size':14})     # set all font sizes\n",
    "tTest = loaded_model.predict(X_8_test)\n",
    "# if hasattr(clf, \"decision_function\"):\n",
    "#     tTest = clf.decision_function(X_test)        # if available use decision_function\n",
    "# else:\n",
    "#     tTest = clf.predict_proba(X_test)[:,1]       # for e.g. MLP need to use predict_proba\n",
    "tBkg_8 = tTest[y_8_test==0]\n",
    "tSig_8 = tTest[y_8_test==1]\n",
    "nBins = 20\n",
    "tMin = np.floor(np.min(tTest))\n",
    "tMax = np.ceil(np.max(tTest))\n",
    "bins = np.linspace(tMin, tMax, nBins+1)\n",
    "# plt.title('Multilayer perceptron')\n",
    "plt.xlabel(' $DNN$', labelpad=3)\n",
    "plt.ylabel('$Probability density$', labelpad=40)\n",
    "n, bins, patches = plt.hist(tSig_8, bins=bins, density=True, histtype='step', fill=False, color ='dodgerblue' ,edgecolor = 'blue', hatch = 'XX',label='ttgjets')\n",
    "# n, bins, patches = plt.hist(tBkg_6, bins=bins, density=True, histtype='step', fill=False,color = 'red' ,alpha=0.5, edgecolor = 'green', hatch='++', label = 'All Background')\n",
    "plt.grid(color = 'b', alpha = 0.5, linestyle = 'dashed')\n",
    "plt.legend(loc='center')\n",
    "plt.title(' ')\n",
    "# plt.savefig('/eos/home-s/sraj/M.Sc._Thesis/Plot_M.Sc._thesis/Plot_with_HDF5_files/''output_TPrime1200_all_background.png')\n",
    "plt.show()\n"
   ]
  },
  {
   "cell_type": "markdown",
   "metadata": {},
   "source": [
    "#### ttjets \n"
   ]
  },
  {
   "cell_type": "code",
   "execution_count": 81,
   "metadata": {},
   "outputs": [
    {
     "name": "stdout",
     "output_type": "stream",
     "text": [
      "1320/1320 [==============================] - 2s 2ms/step\n",
      "1320/1320 [==============================] - 0s 159us/step\n",
      "Accuracy: 8.56%\n"
     ]
    },
    {
     "data": {
      "image/png": "[encoded data removed]",
      "text/plain": [
       "<Figure size 432x288 with 1 Axes>"
      ]
     },
     "metadata": {
      "needs_background": "light"
     },
     "output_type": "display_data"
    }
   ],
   "source": [
    "X_9_test = ttjets\n",
    "y_9_test = np.ones(ttjets.shape[0])\n",
    "\n",
    "loaded_model.compile(loss='binary_crossentropy', optimizer='adam', metrics=['accuracy'])\n",
    "score = loaded_model.evaluate(X_9_test, y_9_test)\n",
    "\n",
    "# Final evaluation of the model for DNN\n",
    "# Testing Outputs\n",
    "scores = loaded_model.evaluate(X_9_test, y_9_test, verbose=1)\n",
    "print(\"Accuracy: %.2f%%\" % (scores[1]*100))\n",
    "\n",
    "import matplotlib\n",
    "plt.figure()                                     # new window\n",
    "matplotlib.rcParams.update({'font.size':14})     # set all font sizes\n",
    "tTest = loaded_model.predict(X_9_test)\n",
    "# if hasattr(clf, \"decision_function\"):\n",
    "#     tTest = clf.decision_function(X_test)        # if available use decision_function\n",
    "# else:\n",
    "#     tTest = clf.predict_proba(X_test)[:,1]       # for e.g. MLP need to use predict_proba\n",
    "tBkg_9 = tTest[y_9_test==0]\n",
    "tSig_9 = tTest[y_9_test==1]\n",
    "nBins = 20\n",
    "tMin = np.floor(np.min(tTest))\n",
    "tMax = np.ceil(np.max(tTest))\n",
    "bins = np.linspace(tMin, tMax, nBins+1)\n",
    "# plt.title('Multilayer perceptron')\n",
    "plt.xlabel(' $DNN$', labelpad=3)\n",
    "plt.ylabel('$Probability density$', labelpad=40)\n",
    "n, bins, patches = plt.hist(tSig_9, bins=bins, density=True, histtype='step', fill=False, color ='dodgerblue' ,edgecolor = 'blue', hatch = 'XX',label='ttjets')\n",
    "# n, bins, patches = plt.hist(tBkg_6, bins=bins, density=True, histtype='step', fill=False,color = 'red' ,alpha=0.5, edgecolor = 'green', hatch='++', label = 'All Background')\n",
    "plt.grid(color = 'b', alpha = 0.5, linestyle = 'dashed')\n",
    "plt.legend(loc='center')\n",
    "plt.title(' ')\n",
    "# plt.savefig('/eos/home-s/sraj/M.Sc._Thesis/Plot_M.Sc._thesis/Plot_with_HDF5_files/''output_TPrime1200_all_background.png')\n",
    "plt.show()\n"
   ]
  },
  {
   "cell_type": "markdown",
   "metadata": {},
   "source": [
    "#### Tprime_600\n"
   ]
  },
  {
   "cell_type": "code",
   "execution_count": 82,
   "metadata": {},
   "outputs": [
    {
     "name": "stdout",
     "output_type": "stream",
     "text": [
      "81013/81013 [==============================] - 11s 131us/step\n",
      "81013/81013 [==============================] - 9s 116us/step\n",
      "Accuracy: 85.78%\n"
     ]
    },
    {
     "data": {
      "image/png": "[encoded data removed]",
      "text/plain": [
       "<Figure size 432x288 with 1 Axes>"
      ]
     },
     "metadata": {
      "needs_background": "light"
     },
     "output_type": "display_data"
    }
   ],
   "source": [
    "X_10_test = Tprime_600\n",
    "y_10_test = np.ones(Tprime_600.shape[0])\n",
    "\n",
    "loaded_model.compile(loss='binary_crossentropy', optimizer='adam', metrics=['accuracy'])\n",
    "score = loaded_model.evaluate(X_10_test, y_10_test)\n",
    "\n",
    "# Final evaluation of the model for DNN\n",
    "# Testing Outputs\n",
    "scores = loaded_model.evaluate(X_10_test, y_10_test, verbose=1)\n",
    "print(\"Accuracy: %.2f%%\" % (scores[1]*100))\n",
    "\n",
    "import matplotlib\n",
    "plt.figure()                                     # new window\n",
    "matplotlib.rcParams.update({'font.size':14})     # set all font sizes\n",
    "tTest = loaded_model.predict(X_10_test)\n",
    "# if hasattr(clf, \"decision_function\"):\n",
    "#     tTest = clf.decision_function(X_test)        # if available use decision_function\n",
    "# else:\n",
    "#     tTest = clf.predict_proba(X_test)[:,1]       # for e.g. MLP need to use predict_proba\n",
    "tBkg_10 = tTest[y_10_test==0]\n",
    "tSig_10 = tTest[y_10_test==1]\n",
    "nBins = 20\n",
    "tMin = np.floor(np.min(tTest))\n",
    "tMax = np.ceil(np.max(tTest))\n",
    "bins = np.linspace(tMin, tMax, nBins+1)\n",
    "# plt.title('Multilayer perceptron')\n",
    "plt.xlabel(' $DNN$', labelpad=3)\n",
    "plt.ylabel('$Probability density$', labelpad=40)\n",
    "n, bins, patches = plt.hist(tSig_10, bins=bins, density=True, histtype='step', fill=False, color ='dodgerblue' ,edgecolor = 'blue', hatch = 'XX',label='Tprime_600')\n",
    "# n, bins, patches = plt.hist(tBkg_6, bins=bins, density=True, histtype='step', fill=False,color = 'red' ,alpha=0.5, edgecolor = 'green', hatch='++', label = 'All Background')\n",
    "plt.grid(color = 'b', alpha = 0.5, linestyle = 'dashed')\n",
    "plt.legend(loc='center')\n",
    "plt.title(' ')\n",
    "# plt.savefig('/eos/home-s/sraj/M.Sc._Thesis/Plot_M.Sc._thesis/Plot_with_HDF5_files/''output_TPrime1200_all_background.png')\n",
    "plt.show()\n"
   ]
  },
  {
   "cell_type": "markdown",
   "metadata": {},
   "source": [
    "#### Tprime_700"
   ]
  },
  {
   "cell_type": "code",
   "execution_count": 83,
   "metadata": {},
   "outputs": [
    {
     "name": "stdout",
     "output_type": "stream",
     "text": [
      "92703/92703 [==============================] - 12s 132us/step\n",
      "92703/92703 [==============================] - 10s 112us/step\n",
      "Accuracy: 94.51%\n"
     ]
    },
    {
     "data": {
      "image/png": "[encoded data removed]",
      "text/plain": [
       "<Figure size 432x288 with 1 Axes>"
      ]
     },
     "metadata": {
      "needs_background": "light"
     },
     "output_type": "display_data"
    }
   ],
   "source": [
    "X_11_test = Tprime_700\n",
    "y_11_test = np.ones(Tprime_700.shape[0])\n",
    "\n",
    "loaded_model.compile(loss='binary_crossentropy', optimizer='adam', metrics=['accuracy'])\n",
    "score = loaded_model.evaluate(X_11_test, y_11_test)\n",
    "\n",
    "# Final evaluation of the model for DNN\n",
    "# Testing Outputs\n",
    "scores = loaded_model.evaluate(X_11_test, y_11_test, verbose=1)\n",
    "print(\"Accuracy: %.2f%%\" % (scores[1]*100))\n",
    "\n",
    "import matplotlib\n",
    "plt.figure()                                     # new window\n",
    "matplotlib.rcParams.update({'font.size':14})     # set all font sizes\n",
    "tTest = loaded_model.predict(X_11_test)\n",
    "# if hasattr(clf, \"decision_function\"):\n",
    "#     tTest = clf.decision_function(X_test)        # if available use decision_function\n",
    "# else:\n",
    "#     tTest = clf.predict_proba(X_test)[:,1]       # for e.g. MLP need to use predict_proba\n",
    "tBkg_11 = tTest[y_11_test==0]\n",
    "tSig_11 = tTest[y_11_test==1]\n",
    "nBins = 20\n",
    "tMin = np.floor(np.min(tTest))\n",
    "tMax = np.ceil(np.max(tTest))\n",
    "bins = np.linspace(tMin, tMax, nBins+1)\n",
    "# plt.title('Multilayer perceptron')\n",
    "plt.xlabel(' $DNN$', labelpad=3)\n",
    "plt.ylabel('$Probability density$', labelpad=40)\n",
    "n, bins, patches = plt.hist(tSig_11, bins=bins, density=True, histtype='step', fill=False, color ='dodgerblue' ,edgecolor = 'blue', hatch = 'XX',label='Tprime_700')\n",
    "# n, bins, patches = plt.hist(tBkg_6, bins=bins, density=True, histtype='step', fill=False,color = 'red' ,alpha=0.5, edgecolor = 'green', hatch='++', label = 'All Background')\n",
    "plt.grid(color = 'b', alpha = 0.5, linestyle = 'dashed')\n",
    "plt.legend(loc='center')\n",
    "plt.title(' ')\n",
    "# plt.savefig('/eos/home-s/sraj/M.Sc._Thesis/Plot_M.Sc._thesis/Plot_with_HDF5_files/''output_TPrime1200_all_background.png')\n",
    "plt.show()\n"
   ]
  },
  {
   "cell_type": "markdown",
   "metadata": {},
   "source": [
    "##### SMHiggs "
   ]
  },
  {
   "cell_type": "code",
   "execution_count": 84,
   "metadata": {},
   "outputs": [
    {
     "name": "stdout",
     "output_type": "stream",
     "text": [
      "441168/441168 [==============================] - 53s 119us/step\n",
      "441168/441168 [==============================] - 57s 130us/step\n",
      "Accuracy: 27.03%\n"
     ]
    },
    {
     "data": {
      "image/png": "[encoded data removed]",
      "text/plain": [
       "<Figure size 432x288 with 1 Axes>"
      ]
     },
     "metadata": {
      "needs_background": "light"
     },
     "output_type": "display_data"
    }
   ],
   "source": [
    "X_12_test = SMHiggs\n",
    "y_12_test = np.ones(SMHiggs.shape[0])\n",
    "\n",
    "loaded_model.compile(loss='binary_crossentropy', optimizer='adam', metrics=['accuracy'])\n",
    "score = loaded_model.evaluate(X_12_test, y_12_test)\n",
    "\n",
    "# Final evaluation of the model for DNN\n",
    "# Testing Outputs\n",
    "scores = loaded_model.evaluate(X_12_test, y_12_test, verbose=1)\n",
    "print(\"Accuracy: %.2f%%\" % (scores[1]*100))\n",
    "\n",
    "import matplotlib\n",
    "plt.figure()                                     # new window\n",
    "matplotlib.rcParams.update({'font.size':14})     # set all font sizes\n",
    "tTest = loaded_model.predict(X_12_test)\n",
    "# if hasattr(clf, \"decision_function\"):\n",
    "#     tTest = clf.decision_function(X_test)        # if available use decision_function\n",
    "# else:\n",
    "#     tTest = clf.predict_proba(X_test)[:,1]       # for e.g. MLP need to use predict_proba\n",
    "tBkg_12 = tTest[y_12_test==0]\n",
    "tSig_12 = tTest[y_12_test==1]\n",
    "nBins = 20\n",
    "tMin = np.floor(np.min(tTest))\n",
    "tMax = np.ceil(np.max(tTest))\n",
    "bins = np.linspace(tMin, tMax, nBins+1)\n",
    "# plt.title('Multilayer perceptron')\n",
    "plt.xlabel(' $DNN$', labelpad=3)\n",
    "plt.ylabel('$Probability density$', labelpad=40)\n",
    "n, bins, patches = plt.hist(tSig_12, bins=bins, density=True, histtype='step', fill=False, color ='dodgerblue' ,edgecolor = 'blue', hatch = 'XX',label='SMHiggs')\n",
    "# n, bins, patches = plt.hist(tBkg_6, bins=bins, density=True, histtype='step', fill=False,color = 'red' ,alpha=0.5, edgecolor = 'green', hatch='++', label = 'All Background')\n",
    "plt.grid(color = 'b', alpha = 0.5, linestyle = 'dashed')\n",
    "plt.legend(loc='center')\n",
    "plt.title(' ')\n",
    "# plt.savefig('/eos/home-s/sraj/M.Sc._Thesis/Plot_M.Sc._thesis/Plot_with_HDF5_files/''output_TPrime1200_all_background.png')\n",
    "plt.show()\n"
   ]
  },
  {
   "cell_type": "markdown",
   "metadata": {},
   "source": [
    "### Filiing the root file with output histogram"
   ]
  },
  {
   "cell_type": "code",
   "execution_count": 95,
   "metadata": {},
   "outputs": [],
   "source": [
    "from ROOT import TCanvas, TPad, TFormula, TF1, TPaveLabel, TH1F, TFile,TH1D\n",
    "from ROOT import gROOT, gBenchmark\n",
    "f = TFile(\"/eos/user/s/sraj/M.Sc._Thesis/Plot_M.Sc._thesis/Final_training/MyrootFile_after_testing_on_training_Tprime_600-700_all_five_background.root\", \"RECREATE\")\n",
    "# tree = TTree(\"root\",  )\n",
    "# How do we get that to create and fill with the background and signal\n",
    "# h_bak = TH1D(\"background\", \"background\", 100, 0,1)\n",
    "h_sig_1 = TH1D(\"datafile\", \"datafile\", 40, 0, 1)\n",
    "h_sig_2 = TH1D(\"ttgg\", \"ttgg\", 40, 0, 1)\n",
    "h_sig_3 = TH1D(\"ttjets\", \"ttjets\", 40, 0, 1)\n",
    "h_sig_4 = TH1D(\"diphotongamma\", \"diphotongamma\", 40, 0, 1)\n",
    "h_sig_5 = TH1D(\"gjets\", \"gjets\", 40, 0, 1)\n",
    "h_sig_6 = TH1D(\"ttgjets\", \"ttgjets\", 40, 0, 1)\n",
    "h_sig_7 = TH1D(\"Tprime_600\", \"Tprime_600\", 40, 0, 1)\n",
    "h_sig_8 = TH1D(\"Tprime_700\", \"ttjets\", 40, 0, 1)\n",
    "h_sig_9 = TH1D(\"SMHiggs\", \"ttjets\", 40, 0, 1)\n",
    "\n",
    "# h_sum_all = TH1D(\"data_obs\", \"data_obs\", 100, 0, 1)\n",
    "# for i in tBkg:\n",
    "#     h_bak.Fill(i)\n",
    "for j in tSig_3:\n",
    "    h_sig_1.Fill(j)\n",
    "for j in tSig_4:\n",
    "    h_sig_2.Fill(j)\n",
    "for j in tSig_5:\n",
    "    h_sig_3.Fill(j)\n",
    "for j in tSig_6:\n",
    "    h_sig_4.Fill(j)\n",
    "for j in tSig_7:\n",
    "    h_sig_5.Fill(j)\n",
    "for j in tSig_8:\n",
    "    h_sig_6.Fill(j)\n",
    "for j in tSig_10:\n",
    "    h_sig_7.Fill(j)\n",
    "for j in tSig_11:\n",
    "    h_sig_8.Fill(j)\n",
    "for j in tSig_12:\n",
    "    h_sig_9.Fill(j)\n",
    "\n",
    "# h_sum_all.Add(h_bak) \n",
    "# h_sum_all.Add(h_sig)\n",
    "\n",
    "\n",
    "\n",
    "f.Write()\n",
    "f.Close()\n",
    "\n"
   ]
  },
  {
   "cell_type": "code",
   "execution_count": null,
   "metadata": {},
   "outputs": [],
   "source": []
  },
  {
   "cell_type": "code",
   "execution_count": null,
   "metadata": {},
   "outputs": [],
   "source": []
  },
  {
   "cell_type": "code",
   "execution_count": null,
   "metadata": {},
   "outputs": [],
   "source": []
  },
  {
   "cell_type": "code",
   "execution_count": null,
   "metadata": {},
   "outputs": [],
   "source": []
  },
  {
   "cell_type": "code",
   "execution_count": null,
   "metadata": {},
   "outputs": [],
   "source": []
  },
  {
   "cell_type": "code",
   "execution_count": null,
   "metadata": {},
   "outputs": [],
   "source": []
  },
  {
   "cell_type": "code",
   "execution_count": null,
   "metadata": {},
   "outputs": [],
   "source": []
  },
  {
   "cell_type": "code",
   "execution_count": 94,
   "metadata": {},
   "outputs": [
    {
     "data": {
      "image/png": "[encoded data removed]",
      "text/plain": [
       "<Figure size 432x288 with 1 Axes>"
      ]
     },
     "metadata": {
      "needs_background": "light"
     },
     "output_type": "display_data"
    }
   ],
   "source": [
    "import matplotlib\n",
    "plt.figure()                                     # new window\n",
    "matplotlib.rcParams.update({'font.size':14})     # set all font sizes\n",
    "tTest = loaded_model.predict(X_test)\n",
    "tTest_1 = loaded_model.predict(X_3_test)\n",
    "# tTest = loaded_model.predict(X_3_test)\n",
    "# if hasattr(clf, \"decision_function\"):\n",
    "#     tTest = clf.decision_function(X_test)        # if available use decision_function\n",
    "# else:\n",
    "#     tTest = clf.predict_proba(X_test)[:,1]       # for e.g. MLP need to use predict_proba\n",
    "tBkg_0 = tTest[y_test==0]\n",
    "tSig_0 = tTest[y_test==1]\n",
    "tBkg_1 = tTest_1[y_3_test==0]\n",
    "tSig_1 = tTest_1[y_3_test==1]\n",
    "nBins = 20\n",
    "tMin = np.floor(np.min(tTest))\n",
    "tMax = np.ceil(np.max(tTest))\n",
    "bins = np.linspace(tMin, tMax, nBins+1)\n",
    "# plt.title('Multilayer perceptron')\n",
    "plt.xlabel(' $DNN$', labelpad=3)\n",
    "plt.ylabel('$Probability density$', labelpad=40)\n",
    "n, bins, patches = plt.hist(tSig_0,bins=bins, density=False, histtype='step', fill=False, color ='dodgerblue' ,edgecolor = 'red', hatch = 'XX',label='Tprime_600-700')\n",
    "n, bins, patches = plt.hist(tBkg_0, bins=bins, density=False, histtype='step', fill=False,color = 'red' ,alpha=0.5, edgecolor = 'green', hatch='++', label = 'All Background')\n",
    "n, bins, patches = plt.hist(tSig_1, bins=bins, density=False, histtype='step', fill=False, color ='cyan' ,edgecolor = 'blue', hatch = 'XX',label='Tprime_')\n",
    "n, bins, patches = plt.hist(tBkg_1, bins=bins, density=False, histtype='step', fill=False,color = 'green' ,alpha=0.5, edgecolor = 'lime', hatch='++', label = 'All Backgr')\n",
    "plt.grid(color = 'b', alpha = 0.5, linestyle = 'dashed')\n",
    "plt.legend(loc='center')\n",
    "plt.title(' ')\n",
    "# plt.savefig('output_TPrime600_all_background.png')\n",
    "plt.show()"
   ]
  },
  {
   "cell_type": "code",
   "execution_count": 98,
   "metadata": {},
   "outputs": [],
   "source": [
    "signal_3 = data_File_1\n",
    "backgr = pd.concat((back_tth, back_ggh, back_thq, back_vbf, back_vh), axis=0)"
   ]
  },
  {
   "cell_type": "code",
   "execution_count": 99,
   "metadata": {},
   "outputs": [],
   "source": [
    "X_3 = np.concatenate((signal_3, backgr))\n",
    "y_3 = np.concatenate((np.ones(signal_3.shape[0]),\n",
    "                    np.zeros(backgr.shape[0])))"
   ]
  },
  {
   "cell_type": "code",
   "execution_count": 100,
   "metadata": {},
   "outputs": [],
   "source": [
    "X_3_train,X_3_test, y_3_train, y_3_test = train_test_split(X_3, y_3, test_size=0.99, random_state =5)\n"
   ]
  },
  {
   "cell_type": "code",
   "execution_count": 101,
   "metadata": {},
   "outputs": [
    {
     "name": "stdout",
     "output_type": "stream",
     "text": [
      "439133/439133 [==============================] - 53s 120us/step\n"
     ]
    }
   ],
   "source": [
    "loaded_model.compile(loss='binary_crossentropy', optimizer='adam', metrics=['accuracy'])\n",
    "score = loaded_model.evaluate(X_3_test, y_3_test)"
   ]
  },
  {
   "cell_type": "code",
   "execution_count": 102,
   "metadata": {},
   "outputs": [
    {
     "name": "stdout",
     "output_type": "stream",
     "text": [
      "439133/439133 [==============================] - 209s 476us/step\n",
      "Accuracy: 74.98%\n"
     ]
    }
   ],
   "source": [
    "# Final evaluation of the model for DNN\n",
    "# Testing Outputs\n",
    "scores = loaded_model.evaluate(X_3_test, y_3_test, verbose=1)\n",
    "print(\"Accuracy: %.2f%%\" % (scores[1]*100))"
   ]
  },
  {
   "cell_type": "code",
   "execution_count": 110,
   "metadata": {},
   "outputs": [
    {
     "data": {
      "image/png": "[encoded data removed]",
      "text/plain": [
       "<Figure size 432x288 with 1 Axes>"
      ]
     },
     "metadata": {
      "needs_background": "light"
     },
     "output_type": "display_data"
    }
   ],
   "source": [
    "import matplotlib\n",
    "plt.figure()                                     # new window\n",
    "matplotlib.rcParams.update({'font.size':14})     # set all font sizes\n",
    "tTest = loaded_model.predict(X_test)\n",
    "tTest_1 = loaded_model.predict(X_3_test)\n",
    "# tTest = loaded_model.predict(X_3_test)\n",
    "# if hasattr(clf, \"decision_function\"):\n",
    "#     tTest = clf.decision_function(X_test)        # if available use decision_function\n",
    "# else:\n",
    "#     tTest = clf.predict_proba(X_test)[:,1]       # for e.g. MLP need to use predict_proba\n",
    "tBkg_0 = tTest[y_test==0]\n",
    "tSig_0 = tTest[y_test==1]\n",
    "tBkg_1 = tTest_1[y_3_test==0]\n",
    "tSig_1 = tTest_1[y_3_test==1]\n",
    "nBins = 20\n",
    "tMin = np.floor(np.min(tTest))\n",
    "tMax = np.ceil(np.max(tTest))\n",
    "bins = np.linspace(tMin, tMax, nBins+1)\n",
    "# plt.title('Multilayer perceptron')\n",
    "plt.xlabel(' $DNN$', labelpad=3)\n",
    "plt.ylabel('$Probability density$', labelpad=40)\n",
    "# n, bins, patches = plt.hist(tSig_0,bins=bins, density=True, histtype='step', fill=False, color ='dodgerblue' ,alpha=1, edgecolor = 'red',label='Tprime_600-700')\n",
    "# n, bins, patches = plt.hist(tBkg_0, bins=bins, density=True, histtype='step', fill=False,color = 'red' ,alpha=1, edgecolor = 'black', label = 'All Background')\n",
    "n, bins, patches = plt.hist(tSig_1, bins=bins, density=True, histtype='step', fill=False, color ='blue' ,alpha=1, edgecolor = 'blue',label='Tprime_')\n",
    "n, bins, patches = plt.hist(tBkg_1, bins=bins, density=True, histtype='step', fill=False,color = 'green' ,alpha=1, edgecolor = 'teal')\n",
    "plt.grid(color = 'b', alpha = 0.5, linestyle = 'dashed')\n",
    "plt.legend(loc='center')\n",
    "plt.title(' ')\n",
    "# plt.savefig('output_TPrime600_all_background.png')\n",
    "plt.show()"
   ]
  },
  {
   "cell_type": "code",
   "execution_count": null,
   "metadata": {},
   "outputs": [],
   "source": []
  },
  {
   "cell_type": "code",
   "execution_count": 29,
   "metadata": {},
   "outputs": [
    {
     "name": "stderr",
     "output_type": "stream",
     "text": [
      "WARNING: Logging before flag parsing goes to stderr.\n",
      "W0331 15:01:33.748734 140175835481920 deprecation_wrapper.py:119] From /cvmfs/sft.cern.ch/lcg/views/LCG_97apython3/x86_64-centos7-gcc8-opt/lib/python3.7/site-packages/keras/backend/tensorflow_backend.py:517: The name tf.placeholder is deprecated. Please use tf.compat.v1.placeholder instead.\n",
      "\n",
      "W0331 15:01:34.096111 140175835481920 deprecation_wrapper.py:119] From /cvmfs/sft.cern.ch/lcg/views/LCG_97apython3/x86_64-centos7-gcc8-opt/lib/python3.7/site-packages/keras/backend/tensorflow_backend.py:131: The name tf.get_default_graph is deprecated. Please use tf.compat.v1.get_default_graph instead.\n",
      "\n",
      "W0331 15:01:34.097384 140175835481920 deprecation_wrapper.py:119] From /cvmfs/sft.cern.ch/lcg/views/LCG_97apython3/x86_64-centos7-gcc8-opt/lib/python3.7/site-packages/keras/backend/tensorflow_backend.py:133: The name tf.placeholder_with_default is deprecated. Please use tf.compat.v1.placeholder_with_default instead.\n",
      "\n",
      "W0331 15:01:34.126222 140175835481920 deprecation_wrapper.py:119] From /cvmfs/sft.cern.ch/lcg/views/LCG_97apython3/x86_64-centos7-gcc8-opt/lib/python3.7/site-packages/keras/backend/tensorflow_backend.py:4138: The name tf.random_uniform is deprecated. Please use tf.random.uniform instead.\n",
      "\n",
      "W0331 15:01:34.299040 140175835481920 deprecation.py:506] From /cvmfs/sft.cern.ch/lcg/views/LCG_97apython3/x86_64-centos7-gcc8-opt/lib/python3.7/site-packages/keras/backend/tensorflow_backend.py:3445: calling dropout (from tensorflow.python.ops.nn_ops) with keep_prob is deprecated and will be removed in a future version.\n",
      "Instructions for updating:\n",
      "Please use `rate` instead of `keep_prob`. Rate should be set to `rate = 1 - keep_prob`.\n",
      "W0331 15:01:35.137522 140175835481920 deprecation_wrapper.py:119] From /cvmfs/sft.cern.ch/lcg/views/LCG_97apython3/x86_64-centos7-gcc8-opt/lib/python3.7/site-packages/keras/backend/tensorflow_backend.py:4115: The name tf.random_normal is deprecated. Please use tf.random.normal instead.\n",
      "\n",
      "W0331 15:01:36.397656 140175835481920 deprecation_wrapper.py:119] From /cvmfs/sft.cern.ch/lcg/views/LCG_97apython3/x86_64-centos7-gcc8-opt/lib/python3.7/site-packages/keras/optimizers.py:790: The name tf.train.Optimizer is deprecated. Please use tf.compat.v1.train.Optimizer instead.\n",
      "\n",
      "W0331 15:01:36.412046 140175835481920 deprecation.py:323] From /cvmfs/sft.cern.ch/lcg/views/LCG_97apython3/x86_64-centos7-gcc8-opt/lib/python3.7/site-packages/tensorflow/python/ops/nn_impl.py:180: add_dispatch_support.<locals>.wrapper (from tensorflow.python.ops.array_ops) is deprecated and will be removed in a future version.\n",
      "Instructions for updating:\n",
      "Use tf.where in 2.0, which has the same broadcast rule as np.where\n",
      "2022-03-31 15:01:35.920499: I tensorflow/core/platform/cpu_feature_guard.cc:142] Your CPU supports instructions that this TensorFlow binary was not compiled to use: SSE4.1 SSE4.2 AVX AVX2 AVX512F FMA\n",
      "2022-03-31 15:01:35.947185: I tensorflow/core/platform/profile_utils/cpu_utils.cc:94] CPU Frequency: 2294605000 Hz\n",
      "2022-03-31 15:01:35.948820: I tensorflow/compiler/xla/service/service.cc:168] XLA service 0x177c1490 executing computations on platform Host. Devices:\n",
      "2022-03-31 15:01:35.948856: I tensorflow/compiler/xla/service/service.cc:175]   StreamExecutor device (0): <undefined>, <undefined>\n",
      "2022-03-31 15:01:36.291823: W tensorflow/compiler/jit/mark_for_compilation_pass.cc:1412] (One-time warning): Not using XLA:CPU for cluster because envvar TF_XLA_FLAGS=--tf_xla_cpu_global_jit was not set.  If you want XLA:CPU, either set that envvar, or use experimental_jit_scope to enable XLA:CPU.  To confirm that XLA is active, pass --vmodule=xla_compilation_cache=1 (as a proper command-line flag, not via TF_XLA_FLAGS) or set the envvar XLA_FLAGS=--xla_hlo_profile.\n"
     ]
    }
   ],
   "source": []
  },
  {
   "cell_type": "code",
   "execution_count": 30,
   "metadata": {},
   "outputs": [
    {
     "name": "stdout",
     "output_type": "stream",
     "text": [
      "290150/290150 [==============================] - 34s 118us/step\n"
     ]
    }
   ],
   "source": [
    "# evaluate loaded model on test data of TPrime_600\n",
    "loaded_model.compile(loss='binary_crossentropy', optimizer='adam', metrics=['accuracy'])\n",
    "score = loaded_model.evaluate(X_test, y_test)"
   ]
  },
  {
   "cell_type": "code",
   "execution_count": 31,
   "metadata": {},
   "outputs": [
    {
     "name": "stdout",
     "output_type": "stream",
     "text": [
      "290150/290150 [==============================] - 38s 130us/step\n",
      "It should be compatible with the previous output from the test dataset: \n",
      "Here the Accuracy ouput is: \n",
      " Accuracy: 82.41%\n"
     ]
    }
   ],
   "source": [
    "scores = loaded_model.evaluate(X_test, y_test, verbose=1)\n",
    "print('It should be compatible with the previous output from the test dataset: \\n'\"Here the Accuracy ouput is: \\n Accuracy: %.2f%%\" % (scores[1]*100))\n"
   ]
  },
  {
   "cell_type": "code",
   "execution_count": 32,
   "metadata": {},
   "outputs": [
    {
     "name": "stdout",
     "output_type": "stream",
     "text": [
      "(290150, 42)\n",
      "(290150,)\n"
     ]
    }
   ],
   "source": [
    "print(X_test.shape)\n",
    "print(y_test.shape)"
   ]
  },
  {
   "cell_type": "markdown",
   "metadata": {},
   "source": [
    "# Testing on Tprime 800 and 900"
   ]
  },
  {
   "cell_type": "code",
   "execution_count": 33,
   "metadata": {},
   "outputs": [],
   "source": [
    "Tprime_800 = '/eos/user/p/prsaha/for_Shivam/output_TprimeBToTH_Hgg_M-800_LH_TuneCP5_PSweights_13TeV-madgraph_pythia8.root'\n",
    "Tprime_900 = '/eos/user/p/prsaha/for_Shivam/output_TprimeBToTH_Hgg_M-900_LH_TuneCP5_PSweights_13TeV-madgraph_pythia8.root'"
   ]
  },
  {
   "cell_type": "code",
   "execution_count": 34,
   "metadata": {},
   "outputs": [],
   "source": [
    "treeName_800 = \"tagsDumper/trees/Tprime_800_13TeV_THQLeptonicTag\"\n",
    "treeName_900 = \"tagsDumper/trees/Tprime_900_13TeV_THQLeptonicTag\""
   ]
  },
  {
   "cell_type": "code",
   "execution_count": 35,
   "metadata": {},
   "outputs": [],
   "source": [
    "signal_Tprime_800 = root2array(Tprime_800, treeName_800, columns)   #Signal TPrime at 600GeV\n",
    "signal_Tprime_900 = root2array(Tprime_900, treeName_900, columns)   #Signal TPrime at 625GeV"
   ]
  },
  {
   "cell_type": "code",
   "execution_count": 36,
   "metadata": {},
   "outputs": [],
   "source": [
    "signal_Tprime800= pd.DataFrame(signal_Tprime_800)\n",
    "signal_Tprime900= pd.DataFrame(signal_Tprime_900)"
   ]
  },
  {
   "cell_type": "code",
   "execution_count": 38,
   "metadata": {},
   "outputs": [],
   "source": [
    "signal_1 = pd.concat((signal_Tprime800, signal_Tprime900 ),axis = 0)\n",
    "backgr = pd.concat((back_tth, back_ggh, back_thq, back_vbf, back_vh), axis=0)"
   ]
  },
  {
   "cell_type": "code",
   "execution_count": 39,
   "metadata": {},
   "outputs": [],
   "source": [
    "X_1 = np.concatenate((signal_1, backgr))\n",
    "y_1 = np.concatenate((np.ones(signal_1.shape[0]),\n",
    "                    np.zeros(backgr.shape[0])))"
   ]
  },
  {
   "cell_type": "code",
   "execution_count": 40,
   "metadata": {},
   "outputs": [],
   "source": [
    "X_1_train,X_1_test, y_1_train, y_1_test = train_test_split(X_1, y_1, test_size=0.99, random_state =5)\n"
   ]
  },
  {
   "cell_type": "code",
   "execution_count": 41,
   "metadata": {},
   "outputs": [
    {
     "name": "stdout",
     "output_type": "stream",
     "text": [
      "637453/637453 [==============================] - 134s 210us/step\n"
     ]
    }
   ],
   "source": [
    "loaded_model.compile(loss='binary_crossentropy', optimizer='adam', metrics=['accuracy'])\n",
    "score = loaded_model.evaluate(X_1_test, y_1_test)"
   ]
  },
  {
   "cell_type": "code",
   "execution_count": 42,
   "metadata": {},
   "outputs": [
    {
     "name": "stdout",
     "output_type": "stream",
     "text": [
      "637453/637453 [==============================] - 58s 90us/step\n",
      "Accuracy: 74.83%\n"
     ]
    }
   ],
   "source": [
    "# Final evaluation of the model for DNN\n",
    "# Testing Outputs\n",
    "scores = loaded_model.evaluate(X_1_test, y_1_test, verbose=1)\n",
    "print(\"Accuracy: %.2f%%\" % (scores[1]*100))"
   ]
  },
  {
   "cell_type": "code",
   "execution_count": 43,
   "metadata": {},
   "outputs": [
    {
     "data": {
      "image/png": "[encoded data removed]",
      "text/plain": [
       "<Figure size 432x288 with 1 Axes>"
      ]
     },
     "metadata": {
      "needs_background": "light"
     },
     "output_type": "display_data"
    }
   ],
   "source": [
    "from sklearn.metrics import roc_curve, auc\n",
    "\n",
    "decisions = loaded_model.predict(X_1_test)\n",
    "\n",
    "# Compute ROC curve and area under the curve\n",
    "fpr, tpr, thresholds = roc_curve(y_1_test, decisions)\n",
    "roc_auc = auc(fpr, tpr)\n",
    "plt.plot(fpr, tpr, lw=1, label='ROC (area = %0.2f)'%(roc_auc))\n",
    "\n",
    "plt.plot([0, 1], [0, 1], '--', color=(0.6, 0.6, 0.6), label='Luck')\n",
    "plt.xlim([-0.05, 1.05])\n",
    "plt.ylim([-0.05, 1.05])\n",
    "plt.xlabel('False Positive Rate')\n",
    "plt.ylabel('True Positive Rate')\n",
    "plt.title('Receiver operating characteristic')\n",
    "plt.legend(loc=\"lower right\")\n",
    "plt.grid()\n",
    "# plt.savefig(\"ROC_curve.png\")\n",
    "plt.show()"
   ]
  },
  {
   "cell_type": "code",
   "execution_count": 45,
   "metadata": {},
   "outputs": [
    {
     "data": {
      "image/png": "[encoded data removed]",
      "text/plain": [
       "<Figure size 432x288 with 1 Axes>"
      ]
     },
     "metadata": {
      "needs_background": "light"
     },
     "output_type": "display_data"
    }
   ],
   "source": [
    "import matplotlib\n",
    "plt.figure()                                     # new window\n",
    "matplotlib.rcParams.update({'font.size':14})     # set all font sizes\n",
    "tTest = loaded_model.predict(X_1_test)\n",
    "# if hasattr(clf, \"decision_function\"):\n",
    "#     tTest = clf.decision_function(X_test)        # if available use decision_function\n",
    "# else:\n",
    "#     tTest = clf.predict_proba(X_test)[:,1]       # for e.g. MLP need to use predict_proba\n",
    "tBkg_1 = tTest[y_1_test==0]\n",
    "tSig_1 = tTest[y_1_test==1]\n",
    "nBins = 20\n",
    "tMin = np.floor(np.min(tTest))\n",
    "tMax = np.ceil(np.max(tTest))\n",
    "bins = np.linspace(tMin, tMax, nBins+1)\n",
    "# plt.title('Multilayer perceptron')\n",
    "plt.xlabel(' $DNN$', labelpad=3)\n",
    "plt.ylabel('$Probability density$', labelpad=40)\n",
    "n, bins, patches = plt.hist(tSig_1, bins=bins, density=True, histtype='step', fill=False, color ='dodgerblue' ,edgecolor = 'blue', hatch = 'XX',label='Tprime_800-900')\n",
    "n, bins, patches = plt.hist(tBkg_1, bins=bins, density=True, histtype='step', fill=False,color = 'red' ,alpha=0.5, edgecolor = 'green', hatch='++', label = 'All Background')\n",
    "plt.grid(color = 'b', alpha = 0.5, linestyle = 'dashed')\n",
    "plt.legend(loc='center')\n",
    "plt.title(' ')\n",
    "# plt.savefig('/eos/home-s/sraj/M.Sc._Thesis/Plot_M.Sc._thesis/Plot_with_HDF5_files/''output_TPrime1200_all_background.png')\n",
    "plt.show()"
   ]
  },
  {
   "cell_type": "markdown",
   "metadata": {},
   "source": [
    "# Method 2"
   ]
  },
  {
   "cell_type": "code",
   "execution_count": 46,
   "metadata": {},
   "outputs": [],
   "source": [
    "X_2_test = signal_1\n",
    "y_2_test = np.ones(signal_1.shape[0])"
   ]
  },
  {
   "cell_type": "code",
   "execution_count": 48,
   "metadata": {},
   "outputs": [
    {
     "data": {
      "text/plain": [
       "((202723, 42), (202723,))"
      ]
     },
     "execution_count": 48,
     "metadata": {},
     "output_type": "execute_result"
    }
   ],
   "source": [
    "X_2_test.shape, y_2_test.shape"
   ]
  },
  {
   "cell_type": "code",
   "execution_count": 49,
   "metadata": {},
   "outputs": [
    {
     "name": "stdout",
     "output_type": "stream",
     "text": [
      "202723/202723 [==============================] - 23s 111us/step\n"
     ]
    }
   ],
   "source": [
    "loaded_model.compile(loss='binary_crossentropy', optimizer='adam', metrics=['accuracy'])\n",
    "score = loaded_model.evaluate(X_2_test, y_2_test)"
   ]
  },
  {
   "cell_type": "code",
   "execution_count": 51,
   "metadata": {},
   "outputs": [
    {
     "name": "stdout",
     "output_type": "stream",
     "text": [
      "202723/202723 [==============================] - 17s 85us/step\n",
      "Accuracy: 73.71%\n"
     ]
    }
   ],
   "source": [
    "# Final evaluation of the model for DNN\n",
    "# Testing Outputs\n",
    "scores = loaded_model.evaluate(X_2_test, y_2_test, verbose=1)\n",
    "print(\"Accuracy: %.2f%%\" % (scores[1]*100))"
   ]
  },
  {
   "cell_type": "code",
   "execution_count": 52,
   "metadata": {},
   "outputs": [
    {
     "name": "stderr",
     "output_type": "stream",
     "text": [
      "/cvmfs/sft.cern.ch/lcg/views/LCG_97apython3/x86_64-centos7-gcc8-opt/lib/python3.7/site-packages/sklearn/metrics/ranking.py:651: UndefinedMetricWarning: No negative samples in y_true, false positive value should be meaningless\n",
      "  UndefinedMetricWarning)\n",
      "/cvmfs/sft.cern.ch/lcg/views/LCG_97apython3/x86_64-centos7-gcc8-opt/lib/python3.7/site-packages/sklearn/metrics/ranking.py:113: RuntimeWarning: invalid value encountered in less\n",
      "  if np.any(dx < 0):\n"
     ]
    },
    {
     "data": {
      "image/png": "[encoded data removed]",
      "text/plain": [
       "<Figure size 432x288 with 1 Axes>"
      ]
     },
     "metadata": {
      "needs_background": "light"
     },
     "output_type": "display_data"
    }
   ],
   "source": [
    "from sklearn.metrics import roc_curve, auc\n",
    "\n",
    "decisions = loaded_model.predict(X_2_test)\n",
    "\n",
    "# Compute ROC curve and area under the curve\n",
    "fpr, tpr, thresholds = roc_curve(y_2_test, decisions)\n",
    "roc_auc = auc(fpr, tpr)prime_800 GeV to 1000 GeV\n",
    "plt.plot(fpr, tpr, lw=1, label='ROC (area = %0.2f)'%(roc_auc))\n",
    "\n",
    "plt.plot([0, 1], [0, 1], '--', color=(0.6, 0.6, 0.6), label='Luck')\n",
    "plt.xlim([-0.05, 1.05])\n",
    "plt.ylim([-0.05, 1.05])\n",
    "plt.xlabel('False Positive Rate')\n",
    "plt.ylabel('True Positive Rate')\n",
    "plt.title('Receiver operating characteristic')\n",
    "plt.legend(loc=\"lower right\")\n",
    "plt.grid()\n",
    "# plt.savefig(\"ROC_curve.png\")\n",
    "plt.show()"
   ]
  },
  {
   "cell_type": "code",
   "execution_count": 53,
   "metadata": {},
   "outputs": [
    {
     "name": "stderr",
     "output_type": "stream",
     "text": [
      "/cvmfs/sft.cern.ch/lcg/views/LCG_97apython3/x86_64-centos7-gcc8-opt/lib/python3.7/site-packages/numpy/lib/histograms.py:893: RuntimeWarning: invalid value encountered in true_divide\n",
      "  return n/db/n.sum(), bin_edges\n"
     ]
    },
    {
     "data": {
      "image/png": "[encoded data removed]",
      "text/plain": [
       "<Figure size 432x288 with 1 Axes>"
      ]
     },
     "metadata": {
      "needs_background": "light"
     },
     "output_type": "display_data"
    }
   ],
   "source": [
    "import matplotlib\n",
    "plt.figure()                                     # new window\n",
    "matplotlib.rcParams.update({'font.size':14})     # set all font sizes\n",
    "tTest = loaded_model.predict(X_2_test)\n",
    "# if hasattr(clf, \"decision_function\"):\n",
    "#     tTest = clf.decision_function(X_test)        # if available use decision_function\n",
    "# else:\n",
    "#     tTest = clf.predict_proba(X_test)[:,1]       # for e.g. MLP need to use predict_proba\n",
    "tBkg_1 = tTest[y_2_test==0]\n",
    "tSig_1 = tTest[y_2_test==1]\n",
    "nBins = 20\n",
    "tMin = np.floor(np.min(tTest))\n",
    "tMax = np.ceil(np.max(tTest))\n",
    "bins = np.linspace(tMin, tMax, nBins+1)\n",
    "# plt.title('Multilayer perceptron')\n",
    "plt.xlabel(' $DNN$', labelpad=3)\n",
    "plt.ylabel('$Probability density$', labelpad=40)\n",
    "n, bins, patches = plt.hist(tSig_1, bins=bins, density=True, histtype='step', fill=False, color ='dodgerblue' ,edgecolor = 'blue', hatch = 'XX',label='Tprime_800-900')\n",
    "n, bins, patches = plt.hist(tBkg_1, bins=bins, density=True, histtype='step', fill=False,color = 'red' ,alpha=0.5, edgecolor = 'green', hatch='++', label = 'All Background')\n",
    "plt.grid(color = 'b', alpha = 0.5, linestyle = 'dashed')\n",
    "plt.legend(loc='center')\n",
    "plt.title(' ')\n",
    "# plt.savefig('/eos/home-s/sraj/M.Sc._Thesis/Plot_M.Sc._thesis/Plot_with_HDF5_files/''output_TPrime1200_all_background.png')\n",
    "plt.show()"
   ]
  },
  {
   "cell_type": "markdown",
   "metadata": {},
   "source": [
    "# Testing on Tprime 1000 and 900"
   ]
  },
  {
   "cell_type": "code",
   "execution_count": 56,
   "metadata": {},
   "outputs": [],
   "source": [
    "Tprime_1000 = '/eos/user/p/prsaha/for_Shivam/output_TprimeBToTH_Hgg_M-1000_LH_TuneCP5_PSweights_13TeV-madgraph_pythia8.root'\n",
    "Tprime_1100 = '/eos/user/p/prsaha/for_Shivam/output_TprimeBToTH_Hgg_M-1100_LH_TuneCP5_PSweights_13TeV-madgraph_pythia8.root'\n",
    "Tprime_1200 = '/eos/user/p/prsaha/for_Shivam/output_TprimeBToTH_Hgg_M-1200_LH_TuneCP5_PSweights_13TeV-madgraph_pythia8.root'"
   ]
  },
  {
   "cell_type": "code",
   "execution_count": 57,
   "metadata": {},
   "outputs": [],
   "source": [
    "treeName_1000 = \"tagsDumper/trees/Tprime_1000_13TeV_THQLeptonicTag\"\n",
    "treeName_1100 = \"tagsDumper/trees/Tprime_1100_13TeV_THQLeptonicTag\"\n",
    "treeName_1200 = \"tagsDumper/trees/Tprime_1200_13TeV_THQLeptonicTag\""
   ]
  },
  {
   "cell_type": "code",
   "execution_count": 58,
   "metadata": {},
   "outputs": [],
   "source": [
    "signal_Tprime_1000 = root2array(Tprime_1000, treeName_1000, columns)   #Signal TPrime at 600GeV\n",
    "signal_Tprime_1100 = root2array(Tprime_1100, treeName_1100, columns)   #Signal TPrime at 625GeV\n",
    "signal_Tprime_1200 = root2array(Tprime_1200, treeName_1200, columns)   #Signal TPrime at 625GeV"
   ]
  },
  {
   "cell_type": "code",
   "execution_count": 59,
   "metadata": {},
   "outputs": [],
   "source": [
    "signal_Tprime1000= pd.DataFrame(signal_Tprime_1000)\n",
    "signal_Tprime1100= pd.DataFrame(signal_Tprime_1100)\n",
    "signal_Tprime1200= pd.DataFrame(signal_Tprime_1200)"
   ]
  },
  {
   "cell_type": "code",
   "execution_count": 66,
   "metadata": {},
   "outputs": [],
   "source": [
    "signal_2 = pd.concat((signal_Tprime1000, signal_Tprime1100, signal_Tprime1200 ),axis = 0)\n",
    "backgr = pd.concat((back_tth, back_ggh, back_thq, back_vbf, back_vh), axis=0)"
   ]
  },
  {
   "cell_type": "code",
   "execution_count": 63,
   "metadata": {},
   "outputs": [],
   "source": [
    "X_2 = np.concatenate((signal_2, backgr))\n",
    "y_2 = np.concatenate((np.ones(signal_1.shape[0]),\n",
    "                    np.zeros(backgr.shape[0])))"
   ]
  },
  {
   "cell_type": "code",
   "execution_count": 64,
   "metadata": {},
   "outputs": [],
   "source": [
    "X_2_train,X_2_test, y_2_train, y_2_test = train_test_split(X_2, y_2, test_size=0.99, random_state =5)\n"
   ]
  },
  {
   "cell_type": "code",
   "execution_count": 65,
   "metadata": {},
   "outputs": [
    {
     "name": "stdout",
     "output_type": "stream",
     "text": [
      "738427/738427 [==============================] - 75s 101us/step\n"
     ]
    }
   ],
   "source": [
    "loaded_model.compile(loss='binary_crossentropy', optimizer='adam', metrics=['accuracy'])\n",
    "score = loaded_model.evaluate(X_2_test, y_2_test)"
   ]
  },
  {
   "cell_type": "code",
   "execution_count": 67,
   "metadata": {},
   "outputs": [
    {
     "name": "stdout",
     "output_type": "stream",
     "text": [
      "738427/738427 [==============================] - 72s 97us/step\n",
      "Accuracy: 59.39%\n"
     ]
    }
   ],
   "source": [
    "# Final evaluation of the model for DNN\n",
    "# Testing Outputs\n",
    "scores = loaded_model.evaluate(X_2_test, y_2_test, verbose=1)\n",
    "print(\"Accuracy: %.2f%%\" % (scores[1]*100))"
   ]
  },
  {
   "cell_type": "code",
   "execution_count": 68,
   "metadata": {},
   "outputs": [
    {
     "data": {
      "image/png": "[encoded data removed]",
      "text/plain": [
       "<Figure size 432x288 with 1 Axes>"
      ]
     },
     "metadata": {
      "needs_background": "light"
     },
     "output_type": "display_data"
    }
   ],
   "source": [
    "from sklearn.metrics import roc_curve, auc\n",
    "\n",
    "decisions = loaded_model.predict(X_2_test)\n",
    "\n",
    "\n",
    "# Compute ROC curve and area under the curve\n",
    "fpr, tpr, thresholds = roc_curve(y_2_test, decisions)\n",
    "roc_auc = auc(fpr, tpr)\n",
    "plt.plot(fpr, tpr, lw=1, label='ROC (area = %0.2f)'%(roc_auc))\n",
    "\n",
    "plt.plot([0, 1], [0, 1], '--', color=(0.6, 0.6, 0.6), label='Luck')\n",
    "plt.xlim([-0.05, 1.05])\n",
    "plt.ylim([-0.05, 1.05])\n",
    "plt.xlabel('False Positive Rate')\n",
    "plt.ylabel('True Positive Rate')\n",
    "plt.title('Receiver operating characteristic')\n",
    "plt.legend(loc=\"lower right\")\n",
    "plt.grid()\n",
    "# plt.savefig(\"ROC_curve.png\")\n",
    "plt.show()"
   ]
  },
  {
   "cell_type": "code",
   "execution_count": 69,
   "metadata": {},
   "outputs": [
    {
     "data": {
      "image/png": "[encoded data removed]",
      "text/plain": [
       "<Figure size 432x288 with 1 Axes>"
      ]
     },
     "metadata": {
      "needs_background": "light"
     },
     "output_type": "display_data"
    }
   ],
   "source": [
    "import matplotlib\n",
    "plt.figure()                                     # new window\n",
    "matplotlib.rcParams.update({'font.size':14})     # set all font sizes\n",
    "tTest = loaded_model.predict(X_2_test)\n",
    "# if hasattr(clf, \"decision_function\"):\n",
    "#     tTest = clf.decision_function(X_test)        # if available use decision_function\n",
    "# else:\n",
    "#     tTest = clf.predict_proba(X_test)[:,1]       # for e.g. MLP need to use predict_proba\n",
    "tBkg_1 = tTest[y_2_test==0]\n",
    "tSig_1 = tTest[y_2_test==1]\n",
    "nBins = 20\n",
    "tMin = np.floor(np.min(tTest))\n",
    "tMax = np.ceil(np.max(tTest))\n",
    "bins = np.linspace(tMin, tMax, nBins+1)\n",
    "# plt.title('Multilayer perceptron')\n",
    "plt.xlabel(' $DNN$', labelpad=3)\n",
    "plt.ylabel('$Probability density$', labelpad=40)\n",
    "n, bins, patches = plt.hist(tSig_1, bins=bins, density=True, histtype='step', fill=False, color ='dodgerblue' ,edgecolor = 'blue', hatch = 'XX',label='Tprime_800-900')\n",
    "n, bins, patches = plt.hist(tBkg_1, bins=bins, density=True, histtype='step', fill=False,color = 'red' ,alpha=0.5, edgecolor = 'green', hatch='++', label = 'All Background')\n",
    "plt.grid(color = 'b', alpha = 0.5, linestyle = 'dashed')\n",
    "plt.legend(loc='center')\n",
    "plt.title(' ')\n",
    "# plt.savefig('/eos/home-s/sraj/M.Sc._Thesis/Plot_M.Sc._thesis/Plot_with_HDF5_files/''output_TPrime1200_all_background.png')\n",
    "plt.show()"
   ]
  },
  {
   "cell_type": "markdown",
   "metadata": {},
   "source": [
    "### Testing on the each Tprime seperately in the for of method 2"
   ]
  },
  {
   "cell_type": "markdown",
   "metadata": {},
   "source": [
    "### Testing on Tprime 600GeV"
   ]
  },
  {
   "cell_type": "markdown",
   "metadata": {},
   "source": [
    "### Testing on Tprime 700GeV"
   ]
  },
  {
   "cell_type": "markdown",
   "metadata": {},
   "source": [
    "### Testing on Tprime 800GeV"
   ]
  },
  {
   "cell_type": "markdown",
   "metadata": {},
   "source": [
    "### Testing on Tprime 900GeV"
   ]
  },
  {
   "cell_type": "markdown",
   "metadata": {},
   "source": [
    "### Testing on Tprime 1000GeV"
   ]
  },
  {
   "cell_type": "code",
   "execution_count": null,
   "metadata": {},
   "outputs": [],
   "source": []
  },
  {
   "cell_type": "markdown",
   "metadata": {},
   "source": [
    "### Testing on Tprime 1100GeV"
   ]
  },
  {
   "cell_type": "markdown",
   "metadata": {},
   "source": [
    "### Testing on Tprime 1200GeV"
   ]
  },
  {
   "cell_type": "code",
   "execution_count": null,
   "metadata": {},
   "outputs": [],
   "source": []
  },
  {
   "cell_type": "code",
   "execution_count": null,
   "metadata": {},
   "outputs": [],
   "source": []
  }
 ],
 "metadata": {
  "kernelspec": {
   "display_name": "Python 3",
   "language": "python",
   "name": "python3"
  },
  "language_info": {
   "codemirror_mode": {
    "name": "ipython",
    "version": 3
   },
   "file_extension": ".py",
   "mimetype": "text/x-python",
   "name": "python",
   "nbconvert_exporter": "python",
   "pygments_lexer": "ipython3",
   "version": "3.7.6"
  }
 },
 "nbformat": 4,
 "nbformat_minor": 2
}
