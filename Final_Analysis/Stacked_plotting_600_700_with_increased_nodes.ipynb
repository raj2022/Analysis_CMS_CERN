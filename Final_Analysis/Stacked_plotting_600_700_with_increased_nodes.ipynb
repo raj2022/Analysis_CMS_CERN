{
 "cells": [
  {
   "cell_type": "code",
   "execution_count": 1,
   "metadata": {},
   "outputs": [
    {
     "name": "stdout",
     "output_type": "stream",
     "text": [
      "Welcome to JupyROOT 6.20/06\n"
     ]
    }
   ],
   "source": [
    "import ROOT\n",
    "import sys\n",
    "import os\n",
    "import numpy as np"
   ]
  },
  {
   "cell_type": "code",
   "execution_count": 2,
   "metadata": {},
   "outputs": [],
   "source": [
    "stack_i = ROOT.THStack(\"\", \"\")\n",
    "ROOT.gROOT.SetBatch()\n",
    "ROOT.gStyle.SetOptStat(0)\n"
   ]
  },
  {
   "cell_type": "code",
   "execution_count": 3,
   "metadata": {
    "scrolled": true
   },
   "outputs": [
    {
     "name": "stdout",
     "output_type": "stream",
     "text": [
      "TFile**\t\t/eos/user/s/sraj/M.Sc._Thesis/Plot_M.Sc._thesis/Final_training/MyrootFile_with_increase_nodes_after_testing_on_training_Tprime_600-700_all_five_background.root\t\n",
      " TFile*\t\t/eos/user/s/sraj/M.Sc._Thesis/Plot_M.Sc._thesis/Final_training/MyrootFile_with_increase_nodes_after_testing_on_training_Tprime_600-700_all_five_background.root\t\n",
      "  KEY: TH1D\tdatafile;1\tdatafile\n",
      "  KEY: TH1D\tttgg;1\tttgg\n",
      "  KEY: TH1D\tttjets;1\tttjets\n",
      "  KEY: TH1D\tdiphotongamma;1\tdiphotongamma\n",
      "  KEY: TH1D\tgjets;1\tgjets\n",
      "  KEY: TH1D\tttgjets;1\tttgjets\n",
      "  KEY: TH1D\tTprime_600;1\tTprime_600\n",
      "  KEY: TH1D\tTprime_700;1\tttjets\n",
      "  KEY: TH1D\tSMHiggs;1\tttjets\n"
     ]
    }
   ],
   "source": [
    "infile = ROOT . TFile (\"/eos/user/s/sraj/M.Sc._Thesis/Plot_M.Sc._thesis/Final_training/MyrootFile_with_increase_nodes_after_testing_on_training_Tprime_600-700_all_five_background.root \",\" READ \")\n",
    "infile.ls();"
   ]
  },
  {
   "cell_type": "code",
   "execution_count": 4,
   "metadata": {},
   "outputs": [],
   "source": [
    "hist_data = infile.Get(\"datafile\")\n",
    "hist_1 = infile.Get(\"ttgg\")\n",
    "hist_2 = infile.Get(\"ttjets\")\n",
    "hist_3 = infile.Get(\"diphotongamma\")\n",
    "hist_4 = infile.Get(\"gjets\")\n",
    "hist_5 = infile.Get(\"ttgjets\")\n",
    "hist_6 = infile.Get(\"Tprime_600\")\n",
    "hist_7 = infile.Get(\"Tprime_700\")\n",
    "hist_8 = infile.Get(\"SMHiggs\")"
   ]
  },
  {
   "cell_type": "code",
   "execution_count": 5,
   "metadata": {},
   "outputs": [
    {
     "data": {
      "image/png": "[encoded data removed]",
      "text/plain": [
       "<IPython.core.display.Image object>"
      ]
     },
     "metadata": {},
     "output_type": "display_data"
    }
   ],
   "source": [
    "hist_data.SetMarkerStyle(20)\n",
    "hist_data.SetMarkerSize(1)\n",
    "hist_data.SetMarkerColor(1)\n",
    "hist_data.SetLineWidth(1)\n",
    "hist_data.SetLineColor(1)\n",
    "\n",
    "totalMC= ROOT.TH1F(\"totalMC\", \"Events;DNN score;\",40,0,1)\n",
    "totalMC.Add(hist_1)\n",
    "totalMC.Add(hist_2)\n",
    "totalMC.Add(hist_3)\n",
    "totalMC.Add(hist_4)\n",
    "totalMC.Add(hist_5)\n",
    "# totalMC.Add(hist_8)\n",
    "totalMCYield=totalMC.Integral()\n",
    "DataYield= hist_data.Integral()\n",
    "DataMC_scaleF=DataYield/totalMCYield  \n",
    "\n",
    "hist_1.Scale(DataMC_scaleF)\n",
    "hist_2.Scale(DataMC_scaleF)\n",
    "hist_3.Scale(DataMC_scaleF)\n",
    "hist_4.Scale(DataMC_scaleF)\n",
    "hist_5.Scale(DataMC_scaleF)\n",
    "hist_6.Scale(DataMC_scaleF)\n",
    "hist_7.Scale(DataMC_scaleF)\n",
    "hist_8.Scale(DataMC_scaleF)\n",
    "\n",
    "hist_1.SetFillColor(7)\n",
    "hist_2.SetFillColor(2)\n",
    "hist_3.SetFillColor(3)\n",
    "hist_4.SetFillColor(4)\n",
    "hist_5.SetFillColor(5)\n",
    "hist_8.SetFillColor(6)\n",
    "\n",
    "# stack_i.Add(hist_0)\n",
    "# hist_0.SetFillColor(7)\n",
    "stack_i.Add(hist_1)\n",
    "stack_i.Add(hist_2)\n",
    "stack_i.Add(hist_3)\n",
    "stack_i.Add(hist_4)\n",
    "stack_i.Add(hist_5)\n",
    "# stack_i.Add(hist_8)\n",
    "\n",
    "legend = ROOT.TLegend()\n",
    "\n",
    "hist_6.SetLineWidth(2)\n",
    "hist_6.SetLineColor(9)\n",
    "hist_7.SetLineWidth(2)\n",
    "hist_7.SetLineColor(10)\n",
    "\n",
    "canvas = ROOT.TCanvas('canvas',\"\",600,600)\n",
    "\n",
    "legend = ROOT.TLegend(0.70,0.89,0.99,0.67)\n",
    "legend.AddEntry(hist_data)\n",
    "legend.AddEntry(hist_1)\n",
    "legend.AddEntry(hist_2)\n",
    "legend.AddEntry(hist_3)\n",
    "legend.AddEntry(hist_4)\n",
    "legend.AddEntry(hist_5)\n",
    "\n",
    "# legend.AddEntry(hist_8)\n",
    "\n",
    "\n",
    "stack_i.Draw(\"hist\")\n",
    "hist_6.Draw(\"SAME hist\")\n",
    "hist_7.Draw(\"SAME hist\")\n",
    "# legend.AddEntry(hist_6)\n",
    "# legend.AddEntry(hist_7)\n",
    "hist_data.Draw(\"E0 x0 SAME\")\n",
    "\n",
    "canvas.SetLogy()\n",
    "legend.Draw()\n",
    "canvas.Draw()"
   ]
  },
  {
   "cell_type": "code",
   "execution_count": 7,
   "metadata": {},
   "outputs": [
    {
     "name": "stderr",
     "output_type": "stream",
     "text": [
      "Warning in <TCanvas::Delete()>: may not use this method\n"
     ]
    }
   ],
   "source": [
    "canvas.Delete()\n",
    "#from ROOT import gROOT \n",
    "#gROOT.GetListOfCanvases().Draw()"
   ]
  },
  {
   "cell_type": "code",
   "execution_count": null,
   "metadata": {},
   "outputs": [],
   "source": []
  },
  {
   "cell_type": "code",
   "execution_count": null,
   "metadata": {},
   "outputs": [],
   "source": []
  }
 ],
 "metadata": {
  "kernelspec": {
   "display_name": "Python 3",
   "language": "python",
   "name": "python3"
  },
  "language_info": {
   "codemirror_mode": {
    "name": "ipython",
    "version": 3
   },
   "file_extension": ".py",
   "mimetype": "text/x-python",
   "name": "python",
   "nbconvert_exporter": "python",
   "pygments_lexer": "ipython3",
   "version": "3.7.6"
  }
 },
 "nbformat": 4,
 "nbformat_minor": 2
}
