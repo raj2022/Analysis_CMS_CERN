{
 "cells": [
  {
   "cell_type": "markdown",
   "metadata": {},
   "source": [
    "## Training with TPrime 600GeV & all Six As  background (tth, thq, VH, VHq, gg, and ttgg)\n",
    "\n",
    ">This is the training of signal and bacgrund to get the output as a HDF5 file. The output file futher used to test on the TPrime at 1200GeV as signal.\n"
   ]
  },
  {
   "cell_type": "markdown",
   "metadata": {},
   "source": [
    "Here, The input files are Signal with Tprime and background file used here are ttgg. Both have been used with the same number of input varaibles.'dipho_pt','dipho_phi', 'dipho_eta','dipho_e','dipho_mass','dipho_leadPt', 'dipho_leadEt','dipho_leadEta','dipho_leadPhi', 'dipho_subleadEta','bjet1_pt','bjet2_pt','bjet1_eta', 'bjet2_eta', 'jet1_pt','jet2_pt', 'jet1_eta', 'n_jets', 'n_bjets', 'bjet2_phi', 'bjet3_phi', 'bjet1_discr','bjet2_discr', 'bjet3_discr', 'jet3_pt', 'jet3_phi', 'jet1_e', 'jet2_e', 'jet3_e'."
   ]
  },
  {
   "cell_type": "code",
   "execution_count": 1,
   "metadata": {},
   "outputs": [
    {
     "name": "stderr",
     "output_type": "stream",
     "text": [
      "Using TensorFlow backend.\n"
     ]
    },
    {
     "name": "stdout",
     "output_type": "stream",
     "text": [
      "Welcome to JupyROOT 6.20/06\n"
     ]
    }
   ],
   "source": [
    "import pandas as pd\n",
    "import numpy as np\n",
    "import math\n",
    "import glob\n",
    "import matplotlib.pyplot as plt\n",
    "import seaborn as sns\n",
    "import keras\n",
    "from keras.models import Sequential, load_model\n",
    "from keras.layers import Dense, Activation\n",
    "from keras.callbacks import EarlyStopping, ModelCheckpoint, Callback\n",
    "from keras.optimizers import adam, adadelta, adagrad\n",
    "\n",
    "sns.set(color_codes = True)\n",
    "sns.set_palette(sns.color_palette(\"muted\"))\n",
    "\n",
    "from itertools import tee, islice\n",
    "from ROOT import TFile, TCanvas, TPad, TPaveLabel, TPaveText, TTree, TH1F, TF1\n",
    "from root_numpy import root2array, tree2array, array2tree, array2root\n",
    "import sys\n",
    "from ROOT import gROOT, AddressOf\n",
    "from root_numpy import root2array, rec2array\n",
    "from sklearn import datasets\n",
    "from sklearn.tree import DecisionTreeClassifier\n",
    "from sklearn.ensemble import AdaBoostClassifier\n",
    "from sklearn.metrics import classification_report, roc_auc_score\n",
    "import matplotlib.ticker as ticker\n",
    "from sklearn.neural_network import MLPClassifier\n",
    "from sklearn.model_selection import train_test_split\n",
    "from sklearn import metrics\n",
    "from sklearn.discriminant_analysis import LinearDiscriminantAnalysis as LDA\n",
    "from sklearn.neural_network import MLPClassifier\n",
    "from sklearn.svm import SVC\n",
    "from sklearn import tree"
   ]
  },
  {
   "cell_type": "markdown",
   "metadata": {},
   "source": [
    "## Import the datasets"
   ]
  },
  {
   "cell_type": "markdown",
   "metadata": {},
   "source": [
    ">Import all the signal and the backgrounds \n",
    " * Signals \n",
    "     signal_TPrime_600 = /eos/user/p/prsaha/for_Shivam/output_TprimeBToTH_Hgg_M-600_LH_TuneCP5_PSweights_13TeV-madgraph_pythia8.root\n",
    "        "
   ]
  },
  {
   "cell_type": "code",
   "execution_count": 2,
   "metadata": {},
   "outputs": [],
   "source": [
    "signal = '/eos/home-s/sraj/M.Sc._Thesis/data_files/output_TprimeBToTH_Hgg_M-600_LH_TuneCP5_PSweights_13TeV-madgraph_pythia8.root'\n",
    "back_1 = '/eos/home-s/sraj/M.Sc._Thesis/data_files/output_TTGG_0Jets_TuneCP5_13TeV_amcatnlo_madspin_pythia8.root'\n",
    "back_01= '/eos/home-s/sraj/M.Sc._Thesis/data_files/output_ttHJetToGG_M125_13TeV_amcatnloFXFX_madspin_pythia8.root'\n",
    "back_02 = '/eos/home-s/sraj/M.Sc._Thesis/data_files/output_VBFHToGG_M125_13TeV_amcatnlo_pythia8.root'\n",
    "back_03 = '/eos/home-s/sraj/M.Sc._Thesis/data_files/output_VHToGG_M125_13TeV_amcatnloFXFX_madspin_pythia8.root'\n",
    "back_04 = '/eos/home-s/sraj/M.Sc._Thesis/data_files/output_THQ_ctcvcp_HToGG_M125_13TeV-madgraph-pythia8.root'\n",
    "back_05= '/eos/home-s/sraj/M.Sc._Thesis/data_files/output_GluGluHToGG_M125_TuneCP5_13TeV-amcatnloFXFX-pythia8.root'"
   ]
  },
  {
   "cell_type": "code",
   "execution_count": 3,
   "metadata": {},
   "outputs": [],
   "source": [
    "treeName_back_1 =\"tagsDumper/trees/ttgg_13TeV_THQLeptonicTag\" \n",
    "treeName_signal = \"tagsDumper/trees/Tprime_600_13TeV_THQLeptonicTag\"\n",
    "treeName_back_05 = \"tagsDumper/trees/ggh_125_13TeV_THQLeptonicTag\"\n",
    "treeName_back_04 = \"tagsDumper/trees/thq_125_13TeV_THQLeptonicTag\"\n",
    "treeName_back_03 = \"tagsDumper/trees/vh_125_13TeV_THQLeptonicTag\"\n",
    "treeName_back_02 = 'tagsDumper/trees/vbf_125_13TeV_THQLeptonicTag'\n",
    "treeName_back_01 = \"tagsDumper/trees/tth_125_13TeV_THQLeptonicTag\"\n"
   ]
  },
  {
   "cell_type": "code",
   "execution_count": 4,
   "metadata": {},
   "outputs": [],
   "source": [
    "columns = ['dipho_leadPt',\n",
    "             'dipho_mass',\n",
    "             'dipho_leadEta',\n",
    "             'dipho_subleadEta',\n",
    "             'dipho_leadIDMVA',\n",
    "             'dipho_subleadIDMVA',\n",
    "             'dipho_lead_haspixelseed',\n",
    "             'dipho_sublead_haspixelseed',\n",
    "             'n_jets',\n",
    "             'n_bjets',\n",
    "             'n_centraljets',\n",
    "             'lepton_charge',\n",
    "             'lepton_leadPt',\n",
    "             'lepton_leadEta',\n",
    "             'fwdjet1_pt',\n",
    "             'fwdjet1_eta',\n",
    "             'fwdjet1_discr',\n",
    "             'top_mt',\n",
    "             'dr_tHchainfwdjet',\n",
    "             'dr_leptonbjet',\n",
    "             'dr_leptonfwdjet',\n",
    "             'dr_bjetfwdjet',\n",
    "             'dr_leadphofwdjet',\n",
    "             'dr_subleadphofwdjet',\n",
    "             'bjet1_pt',\n",
    "             'bjet2_pt',\n",
    "             'bjet3_pt',\n",
    "             'bjet1_eta',\n",
    "             'bjet2_eta',\n",
    "             'bjet3_eta',\n",
    "             'bjet1_discr',\n",
    "             'bjet2_discr',\n",
    "             'bjet3_discr',\n",
    "             'jet1_pt',\n",
    "             'jet2_pt',\n",
    "             'jet3_pt',\n",
    "             'jet1_eta',\n",
    "             'jet2_eta',\n",
    "             'jet3_eta',\n",
    "             'jet1_discr',\n",
    "             'jet2_discr',\n",
    "             'jet3_discr']\n",
    "             "
   ]
  },
  {
   "cell_type": "code",
   "execution_count": 5,
   "metadata": {},
   "outputs": [],
   "source": [
    "signal_Tprime600 = root2array(signal, treeName_signal, columns)   #Signal TPrime at 600TeV\n",
    "back_ttgg = root2array(back_1, treeName_back_1, columns)     # ttgg background(Not using this)\n",
    "back_tth = root2array(back_01, treeName_back_01, columns)      \n",
    "back_vbf = root2array(back_02, treeName_back_02, columns)\n",
    "back_vh = root2array(back_03, treeName_back_03, columns)\n",
    "back_thq = root2array(back_04, treeName_back_04, columns)\n",
    "back_ggh = root2array(back_05, treeName_back_05, columns)\n"
   ]
  },
  {
   "cell_type": "code",
   "execution_count": 6,
   "metadata": {},
   "outputs": [],
   "source": [
    "signal_Tprime600 = pd.DataFrame(signal_Tprime600)            #Signal for the testing\n",
    "back_tth = pd.DataFrame(back_tth)          #tth background dataframe \n",
    "back_vbf = pd.DataFrame(back_vbf)             #vbf background dataframe \n",
    "back_vh = pd.DataFrame(back_vh)             #vh background dataframe \n",
    "back_thq = pd.DataFrame(back_thq) #thq background dataframe \n",
    "back_ggh = pd.DataFrame(back_ggh) #ggh background dataframe \n",
    "back_ttgg = pd.DataFrame(back_ttgg)"
   ]
  },
  {
   "cell_type": "code",
   "execution_count": 7,
   "metadata": {},
   "outputs": [
    {
     "data": {
      "text/html": [
       "<div>\n",
       "<style scoped>\n",
       "    .dataframe tbody tr th:only-of-type {\n",
       "        vertical-align: middle;\n",
       "    }\n",
       "\n",
       "    .dataframe tbody tr th {\n",
       "        vertical-align: top;\n",
       "    }\n",
       "\n",
       "    .dataframe thead th {\n",
       "        text-align: right;\n",
       "    }\n",
       "</style>\n",
       "<table border=\"1\" class=\"dataframe\">\n",
       "  <thead>\n",
       "    <tr style=\"text-align: right;\">\n",
       "      <th></th>\n",
       "      <th>dipho_leadPt</th>\n",
       "      <th>dipho_mass</th>\n",
       "      <th>dipho_leadEta</th>\n",
       "      <th>dipho_subleadEta</th>\n",
       "      <th>dipho_leadIDMVA</th>\n",
       "      <th>dipho_subleadIDMVA</th>\n",
       "      <th>dipho_lead_haspixelseed</th>\n",
       "      <th>dipho_sublead_haspixelseed</th>\n",
       "      <th>n_jets</th>\n",
       "      <th>n_bjets</th>\n",
       "      <th>...</th>\n",
       "      <th>bjet3_discr</th>\n",
       "      <th>jet1_pt</th>\n",
       "      <th>jet2_pt</th>\n",
       "      <th>jet3_pt</th>\n",
       "      <th>jet1_eta</th>\n",
       "      <th>jet2_eta</th>\n",
       "      <th>jet3_eta</th>\n",
       "      <th>jet1_discr</th>\n",
       "      <th>jet2_discr</th>\n",
       "      <th>jet3_discr</th>\n",
       "    </tr>\n",
       "  </thead>\n",
       "  <tbody>\n",
       "    <tr>\n",
       "      <th>0</th>\n",
       "      <td>199.472260</td>\n",
       "      <td>126.641273</td>\n",
       "      <td>0.084015</td>\n",
       "      <td>1.195149</td>\n",
       "      <td>0.957987</td>\n",
       "      <td>0.687579</td>\n",
       "      <td>0.0</td>\n",
       "      <td>0.0</td>\n",
       "      <td>3.0</td>\n",
       "      <td>1.0</td>\n",
       "      <td>...</td>\n",
       "      <td>-999.0</td>\n",
       "      <td>84.649239</td>\n",
       "      <td>74.393456</td>\n",
       "      <td>32.669273</td>\n",
       "      <td>-0.487586</td>\n",
       "      <td>-3.465604</td>\n",
       "      <td>-2.688962</td>\n",
       "      <td>0.542797</td>\n",
       "      <td>-2.000000</td>\n",
       "      <td>-2.0</td>\n",
       "    </tr>\n",
       "    <tr>\n",
       "      <th>1</th>\n",
       "      <td>217.392303</td>\n",
       "      <td>124.014992</td>\n",
       "      <td>-0.121357</td>\n",
       "      <td>-0.101361</td>\n",
       "      <td>0.872169</td>\n",
       "      <td>0.967785</td>\n",
       "      <td>0.0</td>\n",
       "      <td>0.0</td>\n",
       "      <td>2.0</td>\n",
       "      <td>1.0</td>\n",
       "      <td>...</td>\n",
       "      <td>-999.0</td>\n",
       "      <td>112.434402</td>\n",
       "      <td>84.011833</td>\n",
       "      <td>-999.000000</td>\n",
       "      <td>0.293124</td>\n",
       "      <td>2.278897</td>\n",
       "      <td>-999.000000</td>\n",
       "      <td>0.638937</td>\n",
       "      <td>0.721447</td>\n",
       "      <td>-999.0</td>\n",
       "    </tr>\n",
       "    <tr>\n",
       "      <th>2</th>\n",
       "      <td>121.089691</td>\n",
       "      <td>123.836288</td>\n",
       "      <td>0.842742</td>\n",
       "      <td>1.373165</td>\n",
       "      <td>0.888976</td>\n",
       "      <td>0.919611</td>\n",
       "      <td>0.0</td>\n",
       "      <td>0.0</td>\n",
       "      <td>4.0</td>\n",
       "      <td>1.0</td>\n",
       "      <td>...</td>\n",
       "      <td>-999.0</td>\n",
       "      <td>91.825996</td>\n",
       "      <td>62.056263</td>\n",
       "      <td>38.143219</td>\n",
       "      <td>3.149675</td>\n",
       "      <td>-3.128838</td>\n",
       "      <td>4.403498</td>\n",
       "      <td>-2.000000</td>\n",
       "      <td>-2.000000</td>\n",
       "      <td>-2.0</td>\n",
       "    </tr>\n",
       "    <tr>\n",
       "      <th>3</th>\n",
       "      <td>158.326920</td>\n",
       "      <td>122.239555</td>\n",
       "      <td>0.202652</td>\n",
       "      <td>0.260665</td>\n",
       "      <td>0.956062</td>\n",
       "      <td>0.762749</td>\n",
       "      <td>0.0</td>\n",
       "      <td>0.0</td>\n",
       "      <td>2.0</td>\n",
       "      <td>1.0</td>\n",
       "      <td>...</td>\n",
       "      <td>-999.0</td>\n",
       "      <td>87.551056</td>\n",
       "      <td>85.922279</td>\n",
       "      <td>-999.000000</td>\n",
       "      <td>1.111560</td>\n",
       "      <td>2.848130</td>\n",
       "      <td>-999.000000</td>\n",
       "      <td>0.991427</td>\n",
       "      <td>-2.000000</td>\n",
       "      <td>-999.0</td>\n",
       "    </tr>\n",
       "    <tr>\n",
       "      <th>4</th>\n",
       "      <td>139.716736</td>\n",
       "      <td>123.026970</td>\n",
       "      <td>0.194240</td>\n",
       "      <td>0.534833</td>\n",
       "      <td>0.163151</td>\n",
       "      <td>0.361930</td>\n",
       "      <td>0.0</td>\n",
       "      <td>0.0</td>\n",
       "      <td>4.0</td>\n",
       "      <td>1.0</td>\n",
       "      <td>...</td>\n",
       "      <td>-999.0</td>\n",
       "      <td>177.258102</td>\n",
       "      <td>169.389847</td>\n",
       "      <td>27.921988</td>\n",
       "      <td>-0.204870</td>\n",
       "      <td>0.046312</td>\n",
       "      <td>-2.416145</td>\n",
       "      <td>0.998264</td>\n",
       "      <td>0.043448</td>\n",
       "      <td>-2.0</td>\n",
       "    </tr>\n",
       "  </tbody>\n",
       "</table>\n",
       "<p>5 rows × 42 columns</p>\n",
       "</div>"
      ],
      "text/plain": [
       "   dipho_leadPt  dipho_mass  dipho_leadEta  dipho_subleadEta  dipho_leadIDMVA  \\\n",
       "0    199.472260  126.641273       0.084015          1.195149         0.957987   \n",
       "1    217.392303  124.014992      -0.121357         -0.101361         0.872169   \n",
       "2    121.089691  123.836288       0.842742          1.373165         0.888976   \n",
       "3    158.326920  122.239555       0.202652          0.260665         0.956062   \n",
       "4    139.716736  123.026970       0.194240          0.534833         0.163151   \n",
       "\n",
       "   dipho_subleadIDMVA  dipho_lead_haspixelseed  dipho_sublead_haspixelseed  \\\n",
       "0            0.687579                      0.0                         0.0   \n",
       "1            0.967785                      0.0                         0.0   \n",
       "2            0.919611                      0.0                         0.0   \n",
       "3            0.762749                      0.0                         0.0   \n",
       "4            0.361930                      0.0                         0.0   \n",
       "\n",
       "   n_jets  n_bjets  ...  bjet3_discr     jet1_pt     jet2_pt     jet3_pt  \\\n",
       "0     3.0      1.0  ...       -999.0   84.649239   74.393456   32.669273   \n",
       "1     2.0      1.0  ...       -999.0  112.434402   84.011833 -999.000000   \n",
       "2     4.0      1.0  ...       -999.0   91.825996   62.056263   38.143219   \n",
       "3     2.0      1.0  ...       -999.0   87.551056   85.922279 -999.000000   \n",
       "4     4.0      1.0  ...       -999.0  177.258102  169.389847   27.921988   \n",
       "\n",
       "   jet1_eta  jet2_eta    jet3_eta  jet1_discr  jet2_discr  jet3_discr  \n",
       "0 -0.487586 -3.465604   -2.688962    0.542797   -2.000000        -2.0  \n",
       "1  0.293124  2.278897 -999.000000    0.638937    0.721447      -999.0  \n",
       "2  3.149675 -3.128838    4.403498   -2.000000   -2.000000        -2.0  \n",
       "3  1.111560  2.848130 -999.000000    0.991427   -2.000000      -999.0  \n",
       "4 -0.204870  0.046312   -2.416145    0.998264    0.043448        -2.0  \n",
       "\n",
       "[5 rows x 42 columns]"
      ]
     },
     "execution_count": 7,
     "metadata": {},
     "output_type": "execute_result"
    }
   ],
   "source": [
    "signal_Tprime600.head()"
   ]
  },
  {
   "cell_type": "code",
   "execution_count": 8,
   "metadata": {},
   "outputs": [
    {
     "data": {
      "text/plain": [
       "(81013, 42)"
      ]
     },
     "execution_count": 8,
     "metadata": {},
     "output_type": "execute_result"
    }
   ],
   "source": [
    "signal_Tprime600.shape"
   ]
  },
  {
   "cell_type": "code",
   "execution_count": 9,
   "metadata": {},
   "outputs": [
    {
     "data": {
      "text/plain": [
       "81013"
      ]
     },
     "execution_count": 9,
     "metadata": {},
     "output_type": "execute_result"
    }
   ],
   "source": [
    "len(signal_Tprime600)"
   ]
  },
  {
   "cell_type": "code",
   "execution_count": 10,
   "metadata": {},
   "outputs": [
    {
     "name": "stdout",
     "output_type": "stream",
     "text": [
      "<class 'pandas.core.frame.DataFrame'>\n",
      "RangeIndex: 81013 entries, 0 to 81012\n",
      "Data columns (total 42 columns):\n",
      "dipho_leadPt                  81013 non-null float32\n",
      "dipho_mass                    81013 non-null float32\n",
      "dipho_leadEta                 81013 non-null float32\n",
      "dipho_subleadEta              81013 non-null float32\n",
      "dipho_leadIDMVA               81013 non-null float32\n",
      "dipho_subleadIDMVA            81013 non-null float32\n",
      "dipho_lead_haspixelseed       81013 non-null float32\n",
      "dipho_sublead_haspixelseed    81013 non-null float32\n",
      "n_jets                        81013 non-null float32\n",
      "n_bjets                       81013 non-null float32\n",
      "n_centraljets                 81013 non-null float32\n",
      "lepton_charge                 81013 non-null float32\n",
      "lepton_leadPt                 81013 non-null float32\n",
      "lepton_leadEta                81013 non-null float32\n",
      "fwdjet1_pt                    81013 non-null float32\n",
      "fwdjet1_eta                   81013 non-null float32\n",
      "fwdjet1_discr                 81013 non-null float32\n",
      "top_mt                        81013 non-null float32\n",
      "dr_tHchainfwdjet              81013 non-null float32\n",
      "dr_leptonbjet                 81013 non-null float32\n",
      "dr_leptonfwdjet               81013 non-null float32\n",
      "dr_bjetfwdjet                 81013 non-null float32\n",
      "dr_leadphofwdjet              81013 non-null float32\n",
      "dr_subleadphofwdjet           81013 non-null float32\n",
      "bjet1_pt                      81013 non-null float32\n",
      "bjet2_pt                      81013 non-null float32\n",
      "bjet3_pt                      81013 non-null float32\n",
      "bjet1_eta                     81013 non-null float32\n",
      "bjet2_eta                     81013 non-null float32\n",
      "bjet3_eta                     81013 non-null float32\n",
      "bjet1_discr                   81013 non-null float32\n",
      "bjet2_discr                   81013 non-null float32\n",
      "bjet3_discr                   81013 non-null float32\n",
      "jet1_pt                       81013 non-null float32\n",
      "jet2_pt                       81013 non-null float32\n",
      "jet3_pt                       81013 non-null float32\n",
      "jet1_eta                      81013 non-null float32\n",
      "jet2_eta                      81013 non-null float32\n",
      "jet3_eta                      81013 non-null float32\n",
      "jet1_discr                    81013 non-null float32\n",
      "jet2_discr                    81013 non-null float32\n",
      "jet3_discr                    81013 non-null float32\n",
      "dtypes: float32(42)\n",
      "memory usage: 13.0 MB\n"
     ]
    }
   ],
   "source": [
    "signal_Tprime600.info()"
   ]
  },
  {
   "cell_type": "code",
   "execution_count": 11,
   "metadata": {},
   "outputs": [],
   "source": [
    "assert signal_Tprime600.isnull().sum().sum() == 0"
   ]
  },
  {
   "cell_type": "code",
   "execution_count": 12,
   "metadata": {},
   "outputs": [
    {
     "name": "stderr",
     "output_type": "stream",
     "text": [
      "/cvmfs/sft.cern.ch/lcg/views/LCG_97apython3/x86_64-centos7-gcc8-opt/lib/python3.7/site-packages/numpy/lib/histograms.py:893: RuntimeWarning: invalid value encountered in true_divide\n",
      "  return n/db/n.sum(), bin_edges\n",
      "/cvmfs/sft.cern.ch/lcg/views/LCG_97apython3/x86_64-centos7-gcc8-opt/lib/python3.7/site-packages/numpy/lib/histograms.py:893: RuntimeWarning: invalid value encountered in true_divide\n",
      "  return n/db/n.sum(), bin_edges\n"
     ]
    },
    {
     "data": {
      "image/png": "[encoded data removed]",
      "text/plain": [
       "<Figure size 432x288 with 1 Axes>"
      ]
     },
     "metadata": {
      "needs_background": "light"
     },
     "output_type": "display_data"
    }
   ],
   "source": [
    "low_high=(0,1)\n",
    "signal_Tprime600['lepton_leadPt'].plot.hist( alpha = 1, fill= False,\n",
    "                                        histtype = 'step', edgecolor = 'g', density=True, range=low_high, label = 'Signal')\n",
    "back_ggh['lepton_leadPt'].plot.hist( alpha = 1, fill= False,\n",
    "                                        histtype = 'step', edgecolor = 'r', density=True, range=low_high, label = 'Background')\n",
    "plt.legend(bbox_to_anchor=(1.01, 1), loc=\"upper left\")\n",
    "plt.show()\n"
   ]
  },
  {
   "cell_type": "code",
   "execution_count": 13,
   "metadata": {},
   "outputs": [
    {
     "data": {
      "text/plain": [
       "<matplotlib.axes._subplots.AxesSubplot at 0x7ffae86b9310>"
      ]
     },
     "execution_count": 13,
     "metadata": {},
     "output_type": "execute_result"
    },
    {
     "data": {
      "image/png": "[encoded data removed]",
      "text/plain": [
       "<Figure size 432x288 with 1 Axes>"
      ]
     },
     "metadata": {
      "needs_background": "light"
     },
     "output_type": "display_data"
    }
   ],
   "source": [
    "signal_Tprime600['jet1_eta'].plot.hist(bins=100, density = True)\n",
    "back_ggh['jet1_eta'].plot.hist(bins=100, density = True)"
   ]
  },
  {
   "cell_type": "code",
   "execution_count": 14,
   "metadata": {},
   "outputs": [],
   "source": [
    "signal = signal_Tprime600\n",
    "backgr = pd.concat((back_tth, back_ggh, back_thq, back_vbf, back_vh, back_ttgg), axis=0)"
   ]
  },
  {
   "cell_type": "code",
   "execution_count": 15,
   "metadata": {},
   "outputs": [],
   "source": [
    "X = np.concatenate((signal_Tprime600, backgr))\n",
    "y = np.concatenate((np.ones(signal_Tprime600.shape[0]),\n",
    "                    np.zeros(backgr.shape[0])))"
   ]
  },
  {
   "cell_type": "code",
   "execution_count": 16,
   "metadata": {},
   "outputs": [
    {
     "data": {
      "text/plain": [
       "((578028, 42), (578028,))"
      ]
     },
     "execution_count": 16,
     "metadata": {},
     "output_type": "execute_result"
    }
   ],
   "source": [
    "X.shape, y.shape"
   ]
  },
  {
   "cell_type": "code",
   "execution_count": 17,
   "metadata": {},
   "outputs": [],
   "source": [
    "X_train,X_test, y_train, y_test = train_test_split(X, y, test_size=0.33, random_state =5)\n"
   ]
  },
  {
   "cell_type": "code",
   "execution_count": 18,
   "metadata": {},
   "outputs": [
    {
     "data": {
      "text/plain": [
       "((387278, 42), (387278,))"
      ]
     },
     "execution_count": 18,
     "metadata": {},
     "output_type": "execute_result"
    }
   ],
   "source": [
    "X_train.shape, y_train.shape"
   ]
  },
  {
   "cell_type": "code",
   "execution_count": 19,
   "metadata": {},
   "outputs": [
    {
     "data": {
      "text/plain": [
       "((190750, 42), (190750,))"
      ]
     },
     "execution_count": 19,
     "metadata": {},
     "output_type": "execute_result"
    }
   ],
   "source": [
    "X_test.shape, y_test.shape"
   ]
  },
  {
   "cell_type": "code",
   "execution_count": 20,
   "metadata": {},
   "outputs": [],
   "source": [
    "from keras.models import Sequential\n",
    "from keras.layers import Dense\n",
    "import tensorflow as tf\n",
    "import keras\n",
    "from keras.layers import Dropout\n",
    "from keras.constraints import maxnorm\n",
    "from keras.wrappers.scikit_learn import KerasClassifier\n",
    "from keras.constraints import maxnorm\n",
    "from keras.optimizers import SGD\n",
    "from sklearn.model_selection import cross_val_score\n",
    "from sklearn.preprocessing import LabelEncoder\n",
    "from sklearn.model_selection import StratifiedKFold\n",
    "from sklearn.preprocessing import StandardScaler\n",
    "from sklearn.pipeline import Pipeline\n",
    "from keras.utils.vis_utils import plot_model\n",
    "from keras.layers import LSTM\n",
    "from keras.layers.core import Dense, Dropout, Activation\n",
    "from keras.callbacks import EarlyStopping, ModelCheckpoint\n",
    "from keras.layers.normalization import BatchNormalization\n",
    "from keras.optimizers import Adadelta\n",
    "from tensorflow.keras import regularizers\n",
    "from tensorflow.keras.initializers import RandomNormal, Constant\n",
    "from keras import callbacks\n",
    "from keras.models import load_model"
   ]
  },
  {
   "cell_type": "code",
   "execution_count": 21,
   "metadata": {
    "scrolled": true
   },
   "outputs": [
    {
     "name": "stderr",
     "output_type": "stream",
     "text": [
      "WARNING: Logging before flag parsing goes to stderr.\n",
      "W0322 05:51:19.177469 140718036707136 deprecation_wrapper.py:119] From /cvmfs/sft.cern.ch/lcg/views/LCG_97apython3/x86_64-centos7-gcc8-opt/lib/python3.7/site-packages/keras/backend/tensorflow_backend.py:74: The name tf.get_default_graph is deprecated. Please use tf.compat.v1.get_default_graph instead.\n",
      "\n",
      "W0322 05:51:19.233744 140718036707136 deprecation_wrapper.py:119] From /cvmfs/sft.cern.ch/lcg/views/LCG_97apython3/x86_64-centos7-gcc8-opt/lib/python3.7/site-packages/keras/backend/tensorflow_backend.py:517: The name tf.placeholder is deprecated. Please use tf.compat.v1.placeholder instead.\n",
      "\n",
      "W0322 05:51:19.388195 140718036707136 deprecation_wrapper.py:119] From /cvmfs/sft.cern.ch/lcg/views/LCG_97apython3/x86_64-centos7-gcc8-opt/lib/python3.7/site-packages/keras/backend/tensorflow_backend.py:133: The name tf.placeholder_with_default is deprecated. Please use tf.compat.v1.placeholder_with_default instead.\n",
      "\n",
      "W0322 05:51:19.418657 140718036707136 deprecation_wrapper.py:119] From /cvmfs/sft.cern.ch/lcg/views/LCG_97apython3/x86_64-centos7-gcc8-opt/lib/python3.7/site-packages/keras/backend/tensorflow_backend.py:4138: The name tf.random_uniform is deprecated. Please use tf.random.uniform instead.\n",
      "\n",
      "W0322 05:51:19.826759 140718036707136 deprecation.py:506] From /cvmfs/sft.cern.ch/lcg/views/LCG_97apython3/x86_64-centos7-gcc8-opt/lib/python3.7/site-packages/keras/backend/tensorflow_backend.py:3445: calling dropout (from tensorflow.python.ops.nn_ops) with keep_prob is deprecated and will be removed in a future version.\n",
      "Instructions for updating:\n",
      "Please use `rate` instead of `keep_prob`. Rate should be set to `rate = 1 - keep_prob`.\n",
      "W0322 05:51:20.357559 140718036707136 deprecation.py:506] From /cvmfs/sft.cern.ch/lcg/views/LCG_97apython3/x86_64-centos7-gcc8-opt/lib/python3.7/site-packages/tensorflow/python/keras/initializers.py:143: calling RandomNormal.__init__ (from tensorflow.python.ops.init_ops) with dtype is deprecated and will be removed in a future version.\n",
      "Instructions for updating:\n",
      "Call initializer instance with the dtype argument instead of passing it to the constructor\n",
      "W0322 05:51:20.550441 140718036707136 deprecation_wrapper.py:119] From /cvmfs/sft.cern.ch/lcg/views/LCG_97apython3/x86_64-centos7-gcc8-opt/lib/python3.7/site-packages/keras/optimizers.py:790: The name tf.train.Optimizer is deprecated. Please use tf.compat.v1.train.Optimizer instead.\n",
      "\n",
      "W0322 05:51:20.589767 140718036707136 deprecation_wrapper.py:119] From /cvmfs/sft.cern.ch/lcg/views/LCG_97apython3/x86_64-centos7-gcc8-opt/lib/python3.7/site-packages/keras/backend/tensorflow_backend.py:3376: The name tf.log is deprecated. Please use tf.math.log instead.\n",
      "\n",
      "W0322 05:51:20.597994 140718036707136 deprecation.py:323] From /cvmfs/sft.cern.ch/lcg/views/LCG_97apython3/x86_64-centos7-gcc8-opt/lib/python3.7/site-packages/tensorflow/python/ops/nn_impl.py:180: add_dispatch_support.<locals>.wrapper (from tensorflow.python.ops.array_ops) is deprecated and will be removed in a future version.\n",
      "Instructions for updating:\n",
      "Use tf.where in 2.0, which has the same broadcast rule as np.where\n"
     ]
    },
    {
     "name": "stdout",
     "output_type": "stream",
     "text": [
      "Summary of the built model...\n",
      "_________________________________________________________________\n",
      "Layer (type)                 Output Shape              Param #   \n",
      "=================================================================\n",
      "batch_normalization_1 (Batch (None, 42)                168       \n",
      "_________________________________________________________________\n",
      "dense_1 (Dense)              (None, 512)               22016     \n",
      "_________________________________________________________________\n",
      "batch_normalization_2 (Batch (None, 512)               2048      \n",
      "_________________________________________________________________\n",
      "dropout_1 (Dropout)          (None, 512)               0         \n",
      "_________________________________________________________________\n",
      "dense_2 (Dense)              (None, 256)               131328    \n",
      "_________________________________________________________________\n",
      "dropout_2 (Dropout)          (None, 256)               0         \n",
      "_________________________________________________________________\n",
      "dense_3 (Dense)              (None, 128)               32896     \n",
      "_________________________________________________________________\n",
      "batch_normalization_3 (Batch (None, 128)               512       \n",
      "_________________________________________________________________\n",
      "dropout_3 (Dropout)          (None, 128)               0         \n",
      "_________________________________________________________________\n",
      "dense_4 (Dense)              (None, 64)                8256      \n",
      "_________________________________________________________________\n",
      "batch_normalization_4 (Batch (None, 64)                256       \n",
      "_________________________________________________________________\n",
      "dropout_4 (Dropout)          (None, 64)                0         \n",
      "_________________________________________________________________\n",
      "dense_5 (Dense)              (None, 32)                2080      \n",
      "_________________________________________________________________\n",
      "batch_normalization_5 (Batch (None, 32)                128       \n",
      "_________________________________________________________________\n",
      "output (Dense)               (None, 1)                 33        \n",
      "=================================================================\n",
      "Total params: 199,721\n",
      "Trainable params: 198,165\n",
      "Non-trainable params: 1,556\n",
      "_________________________________________________________________\n",
      "None\n"
     ]
    }
   ],
   "source": [
    "clf = Sequential()\n",
    "# clf.add(LSTM(1, return_sequences=True ))\n",
    "clf.add(BatchNormalization(input_shape = (42,)))\n",
    "# clf.add(Dropout(3))\n",
    "clf.add(Dense(512, activation = 'relu',kernel_regularizer=regularizers.l2(0.001), kernel_initializer = 'random_uniform',name = 'dense_1'))\n",
    "clf.add(BatchNormalization())\n",
    "clf.add(Dropout(0.3))\n",
    "clf.add(Dense(256, activation = 'relu',kernel_regularizer=regularizers.l2(0.001), kernel_initializer = 'random_uniform', name = 'dense_2'))\n",
    "clf.add(Dropout(0.35))\n",
    "clf.add(Dense(128, activation = 'relu',kernel_regularizer=regularizers.l2(0.001), kernel_initializer = 'random_uniform', name = 'dense_3'))\n",
    "clf.add(BatchNormalization())\n",
    "clf.add(Dropout(0.40))\n",
    "clf.add(Dense(64, activation = 'relu',kernel_regularizer=regularizers.l2(0.001), kernel_initializer = 'random_uniform',name = 'dense_4'))\n",
    "clf.add(BatchNormalization())\n",
    "clf.add(Dropout(0.5))\n",
    "clf.add(Dense(32, activation = 'relu',kernel_regularizer=regularizers.l2(0.001), kernel_initializer = 'random_uniform', name = 'dense_5'))\n",
    "clf.add(BatchNormalization(momentum=0.99,epsilon=0.001,beta_initializer=RandomNormal(mean=0.0, stddev=0.05),gamma_initializer=Constant(value=0.9)))\n",
    "\n",
    "# Output\n",
    "clf.add(Dense(1, activation = 'sigmoid',kernel_regularizer=regularizers.l2(0.001), kernel_initializer = 'random_uniform', name = 'output'))\n",
    "#compile model\n",
    "\n",
    "# opt = SGD(lr=0.01, momentum=0.9)\n",
    "clf.compile(loss = 'binary_crossentropy', \n",
    "            optimizer= 'adam',\n",
    "            metrics=['accuracy'])\n",
    "print('Summary of the built model...')\n",
    "print(clf.summary())\n",
    "# plot_model(clf, to_file='/eos/home-s/sraj/M.Sc._Thesis/Plot/''clf_plot_multiclass___.png', show_shapes=True, show_layer_names=True)"
   ]
  },
  {
   "cell_type": "markdown",
   "metadata": {},
   "source": [
    "** Training with the above model **\n"
   ]
  },
  {
   "cell_type": "code",
   "execution_count": 22,
   "metadata": {},
   "outputs": [
    {
     "name": "stdout",
     "output_type": "stream",
     "text": [
      "Train on 271094 samples, validate on 116184 samples\n",
      "Epoch 1/100\n",
      "271094/271094 [==============================] - 13s 49us/step - loss: 0.7639 - acc: 0.6283 - val_loss: 0.6768 - val_acc: 0.7699\n",
      "\n",
      "Epoch 00001: val_loss improved from inf to 0.67676, saving model to model(with thq all as background and TPrime_600 signal_train).h5\n",
      "Epoch 2/100\n",
      "271094/271094 [==============================] - 9s 35us/step - loss: 0.6376 - acc: 0.7519 - val_loss: 0.5744 - val_acc: 0.7941\n",
      "\n",
      "Epoch 00002: val_loss improved from 0.67676 to 0.57436, saving model to model(with thq all as background and TPrime_600 signal_train).h5\n",
      "Epoch 3/100\n",
      "271094/271094 [==============================] - 8s 31us/step - loss: 0.5484 - acc: 0.7908 - val_loss: 0.4799 - val_acc: 0.8179\n",
      "\n",
      "Epoch 00003: val_loss improved from 0.57436 to 0.47988, saving model to model(with thq all as background and TPrime_600 signal_train).h5\n",
      "Epoch 4/100\n",
      "271094/271094 [==============================] - 10s 36us/step - loss: 0.4643 - acc: 0.8283 - val_loss: 0.4047 - val_acc: 0.8385\n",
      "\n",
      "Epoch 00004: val_loss improved from 0.47988 to 0.40473, saving model to model(with thq all as background and TPrime_600 signal_train).h5\n",
      "Epoch 5/100\n",
      "271094/271094 [==============================] - 9s 33us/step - loss: 0.3962 - acc: 0.8517 - val_loss: 0.3647 - val_acc: 0.8501\n",
      "\n",
      "Epoch 00005: val_loss improved from 0.40473 to 0.36469, saving model to model(with thq all as background and TPrime_600 signal_train).h5\n",
      "Epoch 6/100\n",
      "271094/271094 [==============================] - 10s 35us/step - loss: 0.3548 - acc: 0.8604 - val_loss: 0.3434 - val_acc: 0.8594\n",
      "\n",
      "Epoch 00006: val_loss improved from 0.36469 to 0.34339, saving model to model(with thq all as background and TPrime_600 signal_train).h5\n",
      "Epoch 7/100\n",
      "271094/271094 [==============================] - 10s 38us/step - loss: 0.3329 - acc: 0.8645 - val_loss: 0.3304 - val_acc: 0.8585\n",
      "\n",
      "Epoch 00007: val_loss improved from 0.34339 to 0.33035, saving model to model(with thq all as background and TPrime_600 signal_train).h5\n",
      "Epoch 8/100\n",
      "271094/271094 [==============================] - 9s 33us/step - loss: 0.3213 - acc: 0.8644 - val_loss: 0.3316 - val_acc: 0.8593\n",
      "\n",
      "Epoch 00008: val_loss did not improve from 0.33035\n",
      "Epoch 9/100\n",
      "271094/271094 [==============================] - 9s 32us/step - loss: 0.3161 - acc: 0.8644 - val_loss: 0.3180 - val_acc: 0.8582\n",
      "\n",
      "Epoch 00009: val_loss improved from 0.33035 to 0.31796, saving model to model(with thq all as background and TPrime_600 signal_train).h5\n",
      "Epoch 10/100\n",
      "271094/271094 [==============================] - 10s 38us/step - loss: 0.3132 - acc: 0.8654 - val_loss: 0.3164 - val_acc: 0.8621\n",
      "\n",
      "Epoch 00010: val_loss improved from 0.31796 to 0.31644, saving model to model(with thq all as background and TPrime_600 signal_train).h5\n",
      "Epoch 11/100\n",
      "271094/271094 [==============================] - 9s 32us/step - loss: 0.3116 - acc: 0.8658 - val_loss: 0.3148 - val_acc: 0.8617\n",
      "\n",
      "Epoch 00011: val_loss improved from 0.31644 to 0.31475, saving model to model(with thq all as background and TPrime_600 signal_train).h5\n",
      "Epoch 12/100\n",
      "271094/271094 [==============================] - 9s 33us/step - loss: 0.3100 - acc: 0.8660 - val_loss: 0.3096 - val_acc: 0.8647\n",
      "\n",
      "Epoch 00012: val_loss improved from 0.31475 to 0.30956, saving model to model(with thq all as background and TPrime_600 signal_train).h5\n",
      "Epoch 13/100\n",
      "271094/271094 [==============================] - 10s 38us/step - loss: 0.3086 - acc: 0.8662 - val_loss: 0.3109 - val_acc: 0.8605\n",
      "\n",
      "Epoch 00013: val_loss did not improve from 0.30956\n",
      "Epoch 14/100\n",
      "271094/271094 [==============================] - 9s 35us/step - loss: 0.3080 - acc: 0.8661 - val_loss: 0.3096 - val_acc: 0.8646\n",
      "\n",
      "Epoch 00014: val_loss did not improve from 0.30956\n",
      "Epoch 15/100\n",
      "271094/271094 [==============================] - 9s 35us/step - loss: 0.3082 - acc: 0.8669 - val_loss: 0.3073 - val_acc: 0.8655\n",
      "\n",
      "Epoch 00015: val_loss improved from 0.30956 to 0.30733, saving model to model(with thq all as background and TPrime_600 signal_train).h5\n",
      "Epoch 16/100\n",
      "271094/271094 [==============================] - 10s 37us/step - loss: 0.3067 - acc: 0.8665 - val_loss: 0.3077 - val_acc: 0.8620\n",
      "\n",
      "Epoch 00016: val_loss did not improve from 0.30733\n",
      "Epoch 17/100\n",
      "271094/271094 [==============================] - 9s 34us/step - loss: 0.3063 - acc: 0.8668 - val_loss: 0.3061 - val_acc: 0.8662\n",
      "\n",
      "Epoch 00017: val_loss improved from 0.30733 to 0.30607, saving model to model(with thq all as background and TPrime_600 signal_train).h5\n",
      "Epoch 18/100\n",
      "271094/271094 [==============================] - 9s 32us/step - loss: 0.3064 - acc: 0.8672 - val_loss: 0.3057 - val_acc: 0.8636\n",
      "\n",
      "Epoch 00018: val_loss improved from 0.30607 to 0.30569, saving model to model(with thq all as background and TPrime_600 signal_train).h5\n",
      "Epoch 19/100\n",
      "271094/271094 [==============================] - 9s 31us/step - loss: 0.3052 - acc: 0.8675 - val_loss: 0.3057 - val_acc: 0.8644\n",
      "\n",
      "Epoch 00019: val_loss did not improve from 0.30569\n",
      "Epoch 20/100\n",
      "271094/271094 [==============================] - 9s 34us/step - loss: 0.3048 - acc: 0.8673 - val_loss: 0.3051 - val_acc: 0.8670\n",
      "\n",
      "Epoch 00020: val_loss improved from 0.30569 to 0.30510, saving model to model(with thq all as background and TPrime_600 signal_train).h5\n",
      "Epoch 21/100\n",
      "271094/271094 [==============================] - 11s 41us/step - loss: 0.3037 - acc: 0.8681 - val_loss: 0.3058 - val_acc: 0.8666\n",
      "\n",
      "Epoch 00021: val_loss did not improve from 0.30510\n",
      "Epoch 22/100\n",
      "271094/271094 [==============================] - 9s 35us/step - loss: 0.3030 - acc: 0.8672 - val_loss: 0.3071 - val_acc: 0.8656\n",
      "\n",
      "Epoch 00022: val_loss did not improve from 0.30510\n",
      "Epoch 23/100\n",
      "271094/271094 [==============================] - 14s 53us/step - loss: 0.3035 - acc: 0.8683 - val_loss: 0.3055 - val_acc: 0.8671\n",
      "\n",
      "Epoch 00023: val_loss did not improve from 0.30510\n",
      "Epoch 24/100\n",
      "271094/271094 [==============================] - 11s 41us/step - loss: 0.3031 - acc: 0.8684 - val_loss: 0.3083 - val_acc: 0.8668\n",
      "\n",
      "Epoch 00024: val_loss did not improve from 0.30510\n",
      "Epoch 25/100\n",
      "271094/271094 [==============================] - 12s 43us/step - loss: 0.3027 - acc: 0.8681 - val_loss: 0.3063 - val_acc: 0.8684\n",
      "\n",
      "Epoch 00025: val_loss did not improve from 0.30510\n"
     ]
    },
    {
     "name": "stderr",
     "output_type": "stream",
     "text": [
      "2022-03-21 13:36:23.846612: I tensorflow/core/platform/cpu_feature_guard.cc:142] Your CPU supports instructions that this TensorFlow binary was not compiled to use: SSE4.1 SSE4.2 AVX AVX2 FMA\n",
      "2022-03-21 13:36:24.060418: I tensorflow/core/platform/profile_utils/cpu_utils.cc:94] CPU Frequency: 2194915000 Hz\n",
      "2022-03-21 13:36:24.072258: I tensorflow/compiler/xla/service/service.cc:168] XLA service 0xe1fabe0 executing computations on platform Host. Devices:\n",
      "2022-03-21 13:36:24.072355: I tensorflow/compiler/xla/service/service.cc:175]   StreamExecutor device (0): <undefined>, <undefined>\n",
      "2022-03-21 13:36:25.101334: W tensorflow/compiler/jit/mark_for_compilation_pass.cc:1412] (One-time warning): Not using XLA:CPU for cluster because envvar TF_XLA_FLAGS=--tf_xla_cpu_global_jit was not set.  If you want XLA:CPU, either set that envvar, or use experimental_jit_scope to enable XLA:CPU.  To confirm that XLA is active, pass --vmodule=xla_compilation_cache=1 (as a proper command-line flag, not via TF_XLA_FLAGS) or set the envvar XLA_FLAGS=--xla_hlo_profile.\n"
     ]
    }
   ],
   "source": [
    "# simple early stopping\n",
    "early_stopper = callbacks.EarlyStopping(monitor=\"val_loss\", patience=5, mode=\"auto\")\n",
    "model_check_point = callbacks.ModelCheckpoint(\"model(with thq all as background and TPrime_600 signal_train).h5\", monitor = 'val_loss', verbose=True, \n",
    "                                              save_best_only=True, mode='auto')\n",
    "# fit model\n",
    "history = clf.fit(X_train, y_train, validation_split = 0.30, batch_size= 9000, epochs=100, verbose=1, callbacks=[early_stopper, model_check_point])\n",
    "# evaluate the model\n",
    "\n"
   ]
  },
  {
   "cell_type": "markdown",
   "metadata": {},
   "source": [
    "### Veryifying the training Outputs"
   ]
  },
  {
   "cell_type": "code",
   "execution_count": 23,
   "metadata": {},
   "outputs": [
    {
     "name": "stdout",
     "output_type": "stream",
     "text": [
      "Accuracy: 87.18%\n"
     ]
    }
   ],
   "source": [
    "# Final evaluation of the model for DNN\n",
    "# Testing Outputs\n",
    "scores = clf.evaluate(X_train, y_train, verbose=0)\n",
    "print(\"Accuracy: %.2f%%\" % (scores[1]*100))"
   ]
  },
  {
   "cell_type": "code",
   "execution_count": 24,
   "metadata": {},
   "outputs": [
    {
     "name": "stdout",
     "output_type": "stream",
     "text": [
      "Accuracy: 87.01%\n"
     ]
    }
   ],
   "source": [
    "# Final evaluation of the model for DNN\n",
    "# Testing Outputs\"$\\pm$\"\n",
    "scores = clf.evaluate(X_test, y_test, verbose=0)\n",
    "print(\"Accuracy: %.2f%%\" % (scores[1]*100))"
   ]
  },
  {
   "cell_type": "code",
   "execution_count": 25,
   "metadata": {},
   "outputs": [
    {
     "data": {
      "image/png": "[encoded data removed]",
      "text/plain": [
       "<Figure size 432x288 with 1 Axes>"
      ]
     },
     "metadata": {
      "needs_background": "light"
     },
     "output_type": "display_data"
    },
    {
     "data": {
      "image/png": "[encoded data removed]",
      "text/plain": [
       "<Figure size 432x288 with 1 Axes>"
      ]
     },
     "metadata": {
      "needs_background": "light"
     },
     "output_type": "display_data"
    }
   ],
   "source": [
    "# summarize history for accuracy\n",
    "plt.plot(history.history['acc'])\n",
    "plt.plot(history.history['val_acc'])\n",
    "plt.title('model accuracy')\n",
    "plt.ylabel('accuracy')\n",
    "plt.xlabel('epoch')\n",
    "plt.legend(['train', 'test'], loc='upper left')\n",
    "# plt.savefig('model_accuracy_TPrime_ttgg_&tth&thq.png')\n",
    "plt.show()\n",
    "# summarize history for loss\n",
    "plt.plot(history.history['loss'])\n",
    "plt.plot(history.history['val_loss'])\n",
    "# plt.title('model loss,random_state=5, epoch =100,batch_size =900, verbose=0.25')\n",
    "plt.ylabel('loss')\n",
    "plt.xlabel('epoch')\n",
    "plt.legend(['train', 'test'], loc='upper right')\n",
    "# plt.savefig('loss_TPrime_ttgg_&tth&thq.png')\n",
    "plt.show()"
   ]
  },
  {
   "cell_type": "code",
   "execution_count": 26,
   "metadata": {},
   "outputs": [
    {
     "data": {
      "image/png": "[encoded data removed]",
      "text/plain": [
       "<Figure size 432x288 with 1 Axes>"
      ]
     },
     "metadata": {
      "needs_background": "light"
     },
     "output_type": "display_data"
    }
   ],
   "source": [
    "from sklearn.metrics import roc_curve, auc\n",
    "\n",
    "decisions = clf.predict(X_test)\n",
    "\n",
    "# Compute ROC curve and area under the curve\n",
    "fpr, tpr, thresholds = roc_curve(y_test, decisions)\n",
    "roc_auc = auc(fpr, tpr)\n",
    "plt.plot(fpr, tpr, lw=1, label='ROC (area = %0.2f)'%(roc_auc))\n",
    "\n",
    "\n",
    "plt.plot([0, 1], [0, 1], '--', color=(0.6, 0.6, 0.6), label='Luck')\n",
    "plt.xlim([-0.05, 1.05])\n",
    "plt.ylim([-0.05, 1.05])\n",
    "plt.xlabel('False Positive Rate')\n",
    "plt.ylabel('True Positive Rate')\n",
    "plt.title('Receiver operating characteristic')\n",
    "plt.legend(loc=\"lower right\")\n",
    "plt.grid()\n",
    "# plt.savefig(\"ROC_curve.png\")\n",
    "plt.show()"
   ]
  },
  {
   "cell_type": "code",
   "execution_count": 87,
   "metadata": {},
   "outputs": [
    {
     "data": {
      "image/png": "[encoded data removed]",
      "text/plain": [
       "<Figure size 432x288 with 1 Axes>"
      ]
     },
     "metadata": {
      "needs_background": "light"
     },
     "output_type": "display_data"
    }
   ],
   "source": [
    "import matplotlib\n",
    "plt.figure()                                     # new window\n",
    "matplotlib.rcParams.update({'font.size':14})     # set all font sizes\n",
    "tTest = clf.predict(X_test)\n",
    "# if hasattr(clf, \"decision_function\"):\n",
    "#     tTest = clf.decision_function(X_test)        # if available use decision_function\n",
    "# else:\n",
    "#     tTest = clf.predict_proba(X_test)[:,1]       # for e.g. MLP need to use predict_proba\n",
    "tBkg_1 = tTest[y_test==0]\n",
    "tSig_1 = tTest[y_test==1]\n",
    "nBins = 20\n",
    "tMin = np.floor(np.min(tTest))\n",
    "tMax = np.ceil(np.max(tTest))\n",
    "bins = np.linspace(tMin, tMax, nBins+1)\n",
    "# plt.title('Multilayer perceptron')\n",
    "plt.xlabel(' $DNN$', labelpad=3)\n",
    "plt.ylabel('$Probability density$', labelpad=40)\n",
    "n, bins, patches = plt.hist(tSig_1, bins=bins, density=True, histtype='step', fill=False, color ='dodgerblue' ,edgecolor = 'blue', hatch = 'XX',label='Tprime_600')\n",
    "n, bins, patches = plt.hist(tBkg_1, bins=bins, density=True, histtype='step', fill=False,color = 'red' ,alpha=0.5, edgecolor = 'green', hatch='++', label = 'All Background')\n",
    "plt.grid(color = 'b', alpha = 0.5, linestyle = 'dashed')\n",
    "plt.legend(loc='center')\n",
    "plt.title(' ')\n",
    "# plt.savefig('/eos/home-s/sraj/M.Sc._Thesis/Plot_M.Sc._thesis/Plot_with_HDF5_files/''output_TPrime1200_all_background.png')\n",
    "plt.show()"
   ]
  },
  {
   "cell_type": "code",
   "execution_count": 90,
   "metadata": {},
   "outputs": [],
   "source": [
    "f = TFile(\"/eos/home-s/sraj/M.Sc._Thesis/Plot_M.Sc._thesis/ROOT_output/MyrootFile_after_training_Tprime_600_all_five_background_test_thq_with_TPrime600.root\", \"RECREATE\")\n",
    "# tree = TTree(\"root\",  )\n",
    "# How do we get that to create and fill with the background and signal\n",
    "h_bak = TH1D(\"background\", \"background\", 100, 0,1)\n",
    "h_sig = TH1D(\"signal\", \"signal\", 100, 0, 1)\n",
    "h_sum_all = TH1D(\"data_obs\", \"data_obs\", 100, 0, 1)\n",
    "for i in tBkg_1:\n",
    "    h_bak.Fill(i)\n",
    "for j in tSig_1:\n",
    "    h_sig.Fill(j)\n",
    "h_sum_all.Add(h_bak) \n",
    "h_sum_all.Add(h_sig)\n",
    "\n",
    "\n",
    "\n",
    "f.Write()\n",
    "f.Close()"
   ]
  },
  {
   "cell_type": "code",
   "execution_count": 22,
   "metadata": {},
   "outputs": [
    {
     "name": "stdout",
     "output_type": "stream",
     "text": [
      "CPU times: user 5 µs, sys: 0 ns, total: 5 µs\n",
      "Wall time: 11.9 µs\n"
     ]
    },
    {
     "name": "stderr",
     "output_type": "stream",
     "text": [
      "2022-03-22 05:51:21.966729: I tensorflow/core/platform/cpu_feature_guard.cc:142] Your CPU supports instructions that this TensorFlow binary was not compiled to use: SSE4.1 SSE4.2 AVX AVX2 FMA\n",
      "2022-03-22 05:51:22.055573: I tensorflow/core/platform/profile_utils/cpu_utils.cc:94] CPU Frequency: 2194915000 Hz\n",
      "2022-03-22 05:51:22.061728: I tensorflow/compiler/xla/service/service.cc:168] XLA service 0xede14d0 executing computations on platform Host. Devices:\n",
      "2022-03-22 05:51:22.061766: I tensorflow/compiler/xla/service/service.cc:175]   StreamExecutor device (0): <undefined>, <undefined>\n",
      "2022-03-22 05:51:22.679366: W tensorflow/compiler/jit/mark_for_compilation_pass.cc:1412] (One-time warning): Not using XLA:CPU for cluster because envvar TF_XLA_FLAGS=--tf_xla_cpu_global_jit was not set.  If you want XLA:CPU, either set that envvar, or use experimental_jit_scope to enable XLA:CPU.  To confirm that XLA is active, pass --vmodule=xla_compilation_cache=1 (as a proper command-line flag, not via TF_XLA_FLAGS) or set the envvar XLA_FLAGS=--xla_hlo_profile.\n"
     ]
    }
   ],
   "source": [
    "loaded_model = load_model(\"model(with thq all as background and TPrime_600 signal_train).h5\")\n",
    "%time"
   ]
  },
  {
   "cell_type": "code",
   "execution_count": 23,
   "metadata": {},
   "outputs": [],
   "source": [
    "import h5py\n",
    "from keras.models import model_from_json\n",
    "\n",
    "# hf.create_dataset('dataset_1', h)"
   ]
  },
  {
   "cell_type": "code",
   "execution_count": 30,
   "metadata": {},
   "outputs": [],
   "source": [
    "# model_json = clf.to_json()\n",
    "# with open(\"model(with all_background_with_thq and TPrime_600 signal_train).json\", \"w\") as json_file:\n",
    "#     json_file.write(model_json)\n",
    "# #serialize weights to HDF5\n",
    "# clf.save_weights(\"model(with all_background_with_thq and TPrime_600 signal_train).h5\")\n",
    "# print(\"saved trained model with combined background and a signal to disk\")"
   ]
  },
  {
   "cell_type": "code",
   "execution_count": 31,
   "metadata": {},
   "outputs": [],
   "source": [
    "# # load json and create model\n",
    "# json_file = open('model(with all_background_with_thq and TPrime_600 signal_train).json', 'r')\n",
    "# loaded_model_json = json_file.read()\n",
    "# json_file.close()\n",
    "# loaded_model = model_from_json(loaded_model_json)\n",
    "# # load weights into new model\n",
    "# loaded_model.load_weights(\"model(with all_background_with_thq and TPrime_600 signal_train).h5\")\n",
    "# print(\"Loaded model from disk\")"
   ]
  },
  {
   "cell_type": "code",
   "execution_count": 24,
   "metadata": {},
   "outputs": [
    {
     "name": "stdout",
     "output_type": "stream",
     "text": [
      "190750/190750 [==============================] - 10s 52us/step\n"
     ]
    }
   ],
   "source": [
    "# evaluate loaded model on test data of TPrime_600\n",
    "loaded_model.compile(loss='binary_crossentropy', optimizer='adam', metrics=['accuracy'])\n",
    "score = loaded_model.evaluate(X_test, y_test)"
   ]
  },
  {
   "cell_type": "code",
   "execution_count": 25,
   "metadata": {},
   "outputs": [
    {
     "name": "stdout",
     "output_type": "stream",
     "text": [
      "It should be compatible with the previous output from the test dataset: \n",
      "Here the Accuracy ouput is: \n",
      " Accuracy: 86.89%\n"
     ]
    }
   ],
   "source": [
    "# Final evaluation of the model for DNN\n",
    "# Testing Outputs\n",
    "scores = loaded_model.evaluate(X_test, y_test, verbose=0)\n",
    "print('It should be compatible with the previous output from the test dataset: \\n'\"Here the Accuracy ouput is: \\n Accuracy: %.2f%%\" % (scores[1]*100))"
   ]
  },
  {
   "cell_type": "code",
   "execution_count": 26,
   "metadata": {},
   "outputs": [
    {
     "name": "stdout",
     "output_type": "stream",
     "text": [
      "(190750, 42)\n",
      "(190750,)\n"
     ]
    }
   ],
   "source": [
    "print(X_test.shape)\n",
    "print(y_test.shape)"
   ]
  },
  {
   "cell_type": "markdown",
   "metadata": {},
   "source": [
    "### TPrime 1200GeV For testing"
   ]
  },
  {
   "cell_type": "code",
   "execution_count": 27,
   "metadata": {},
   "outputs": [],
   "source": [
    "# Load Testing dataset\n",
    "signal_0 = '/eos/home-s/sraj/M.Sc._Thesis/data_files/output_TprimeBToTH_Hgg_M-1200_LH_TuneCP5_PSweights_13TeV-madgraph_pythia8.root'\n",
    "treeName_signal_0 = \"tagsDumper/trees/Tprime_1200_13TeV_THQLeptonicTag\"\n",
    "signal_Tprime1200 = root2array(signal_0, treeName_signal_0, columns)   #Signal TPrime at 600TeV"
   ]
  },
  {
   "cell_type": "code",
   "execution_count": 28,
   "metadata": {},
   "outputs": [],
   "source": [
    "signal_Tprime1200 = pd.DataFrame(signal_Tprime1200)"
   ]
  },
  {
   "cell_type": "code",
   "execution_count": 29,
   "metadata": {},
   "outputs": [
    {
     "data": {
      "text/html": [
       "<div>\n",
       "<style scoped>\n",
       "    .dataframe tbody tr th:only-of-type {\n",
       "        vertical-align: middle;\n",
       "    }\n",
       "\n",
       "    .dataframe tbody tr th {\n",
       "        vertical-align: top;\n",
       "    }\n",
       "\n",
       "    .dataframe thead th {\n",
       "        text-align: right;\n",
       "    }\n",
       "</style>\n",
       "<table border=\"1\" class=\"dataframe\">\n",
       "  <thead>\n",
       "    <tr style=\"text-align: right;\">\n",
       "      <th></th>\n",
       "      <th>dipho_leadPt</th>\n",
       "      <th>dipho_mass</th>\n",
       "      <th>dipho_leadEta</th>\n",
       "      <th>dipho_subleadEta</th>\n",
       "      <th>dipho_leadIDMVA</th>\n",
       "      <th>dipho_subleadIDMVA</th>\n",
       "      <th>dipho_lead_haspixelseed</th>\n",
       "      <th>dipho_sublead_haspixelseed</th>\n",
       "      <th>n_jets</th>\n",
       "      <th>n_bjets</th>\n",
       "      <th>...</th>\n",
       "      <th>bjet3_discr</th>\n",
       "      <th>jet1_pt</th>\n",
       "      <th>jet2_pt</th>\n",
       "      <th>jet3_pt</th>\n",
       "      <th>jet1_eta</th>\n",
       "      <th>jet2_eta</th>\n",
       "      <th>jet3_eta</th>\n",
       "      <th>jet1_discr</th>\n",
       "      <th>jet2_discr</th>\n",
       "      <th>jet3_discr</th>\n",
       "    </tr>\n",
       "  </thead>\n",
       "  <tbody>\n",
       "    <tr>\n",
       "      <th>0</th>\n",
       "      <td>534.582397</td>\n",
       "      <td>125.027214</td>\n",
       "      <td>0.566175</td>\n",
       "      <td>0.996379</td>\n",
       "      <td>0.944314</td>\n",
       "      <td>0.929853</td>\n",
       "      <td>0.0</td>\n",
       "      <td>0.0</td>\n",
       "      <td>5.0</td>\n",
       "      <td>2.0</td>\n",
       "      <td>...</td>\n",
       "      <td>-999.000000</td>\n",
       "      <td>311.581604</td>\n",
       "      <td>144.228638</td>\n",
       "      <td>90.022743</td>\n",
       "      <td>0.048455</td>\n",
       "      <td>-2.035239</td>\n",
       "      <td>3.420674</td>\n",
       "      <td>0.985339</td>\n",
       "      <td>0.047269</td>\n",
       "      <td>-2.000000</td>\n",
       "    </tr>\n",
       "    <tr>\n",
       "      <th>1</th>\n",
       "      <td>287.602081</td>\n",
       "      <td>124.728577</td>\n",
       "      <td>-0.733117</td>\n",
       "      <td>-0.519446</td>\n",
       "      <td>0.959960</td>\n",
       "      <td>0.918737</td>\n",
       "      <td>0.0</td>\n",
       "      <td>0.0</td>\n",
       "      <td>5.0</td>\n",
       "      <td>3.0</td>\n",
       "      <td>...</td>\n",
       "      <td>0.254300</td>\n",
       "      <td>159.142563</td>\n",
       "      <td>93.359550</td>\n",
       "      <td>60.414616</td>\n",
       "      <td>0.157884</td>\n",
       "      <td>-2.040476</td>\n",
       "      <td>2.550436</td>\n",
       "      <td>0.254300</td>\n",
       "      <td>0.030940</td>\n",
       "      <td>0.505706</td>\n",
       "    </tr>\n",
       "    <tr>\n",
       "      <th>2</th>\n",
       "      <td>246.845337</td>\n",
       "      <td>123.324104</td>\n",
       "      <td>-0.460441</td>\n",
       "      <td>-0.968103</td>\n",
       "      <td>0.922660</td>\n",
       "      <td>0.970355</td>\n",
       "      <td>0.0</td>\n",
       "      <td>0.0</td>\n",
       "      <td>2.0</td>\n",
       "      <td>1.0</td>\n",
       "      <td>...</td>\n",
       "      <td>-999.000000</td>\n",
       "      <td>58.944019</td>\n",
       "      <td>48.547359</td>\n",
       "      <td>-999.000000</td>\n",
       "      <td>-2.324409</td>\n",
       "      <td>-0.171253</td>\n",
       "      <td>-999.000000</td>\n",
       "      <td>0.069687</td>\n",
       "      <td>0.999494</td>\n",
       "      <td>-999.000000</td>\n",
       "    </tr>\n",
       "    <tr>\n",
       "      <th>3</th>\n",
       "      <td>530.529053</td>\n",
       "      <td>124.927475</td>\n",
       "      <td>-0.195753</td>\n",
       "      <td>-0.550637</td>\n",
       "      <td>0.968185</td>\n",
       "      <td>0.959774</td>\n",
       "      <td>0.0</td>\n",
       "      <td>0.0</td>\n",
       "      <td>3.0</td>\n",
       "      <td>1.0</td>\n",
       "      <td>...</td>\n",
       "      <td>-999.000000</td>\n",
       "      <td>283.501984</td>\n",
       "      <td>92.928520</td>\n",
       "      <td>29.110281</td>\n",
       "      <td>-0.501745</td>\n",
       "      <td>4.469100</td>\n",
       "      <td>-2.801659</td>\n",
       "      <td>0.998836</td>\n",
       "      <td>-2.000000</td>\n",
       "      <td>-2.000000</td>\n",
       "    </tr>\n",
       "    <tr>\n",
       "      <th>4</th>\n",
       "      <td>421.636475</td>\n",
       "      <td>124.109444</td>\n",
       "      <td>0.551736</td>\n",
       "      <td>0.886035</td>\n",
       "      <td>0.975925</td>\n",
       "      <td>0.969419</td>\n",
       "      <td>0.0</td>\n",
       "      <td>0.0</td>\n",
       "      <td>6.0</td>\n",
       "      <td>3.0</td>\n",
       "      <td>...</td>\n",
       "      <td>0.173882</td>\n",
       "      <td>158.900589</td>\n",
       "      <td>154.219620</td>\n",
       "      <td>103.105125</td>\n",
       "      <td>2.175221</td>\n",
       "      <td>-0.654846</td>\n",
       "      <td>-2.812661</td>\n",
       "      <td>0.999373</td>\n",
       "      <td>0.036432</td>\n",
       "      <td>-2.000000</td>\n",
       "    </tr>\n",
       "  </tbody>\n",
       "</table>\n",
       "<p>5 rows × 42 columns</p>\n",
       "</div>"
      ],
      "text/plain": [
       "   dipho_leadPt  dipho_mass  dipho_leadEta  dipho_subleadEta  dipho_leadIDMVA  \\\n",
       "0    534.582397  125.027214       0.566175          0.996379         0.944314   \n",
       "1    287.602081  124.728577      -0.733117         -0.519446         0.959960   \n",
       "2    246.845337  123.324104      -0.460441         -0.968103         0.922660   \n",
       "3    530.529053  124.927475      -0.195753         -0.550637         0.968185   \n",
       "4    421.636475  124.109444       0.551736          0.886035         0.975925   \n",
       "\n",
       "   dipho_subleadIDMVA  dipho_lead_haspixelseed  dipho_sublead_haspixelseed  \\\n",
       "0            0.929853                      0.0                         0.0   \n",
       "1            0.918737                      0.0                         0.0   \n",
       "2            0.970355                      0.0                         0.0   \n",
       "3            0.959774                      0.0                         0.0   \n",
       "4            0.969419                      0.0                         0.0   \n",
       "\n",
       "   n_jets  n_bjets  ...  bjet3_discr     jet1_pt     jet2_pt     jet3_pt  \\\n",
       "0     5.0      2.0  ...  -999.000000  311.581604  144.228638   90.022743   \n",
       "1     5.0      3.0  ...     0.254300  159.142563   93.359550   60.414616   \n",
       "2     2.0      1.0  ...  -999.000000   58.944019   48.547359 -999.000000   \n",
       "3     3.0      1.0  ...  -999.000000  283.501984   92.928520   29.110281   \n",
       "4     6.0      3.0  ...     0.173882  158.900589  154.219620  103.105125   \n",
       "\n",
       "   jet1_eta  jet2_eta    jet3_eta  jet1_discr  jet2_discr  jet3_discr  \n",
       "0  0.048455 -2.035239    3.420674    0.985339    0.047269   -2.000000  \n",
       "1  0.157884 -2.040476    2.550436    0.254300    0.030940    0.505706  \n",
       "2 -2.324409 -0.171253 -999.000000    0.069687    0.999494 -999.000000  \n",
       "3 -0.501745  4.469100   -2.801659    0.998836   -2.000000   -2.000000  \n",
       "4  2.175221 -0.654846   -2.812661    0.999373    0.036432   -2.000000  \n",
       "\n",
       "[5 rows x 42 columns]"
      ]
     },
     "execution_count": 29,
     "metadata": {},
     "output_type": "execute_result"
    }
   ],
   "source": [
    "\n",
    "signal_Tprime1200.head()"
   ]
  },
  {
   "cell_type": "code",
   "execution_count": 30,
   "metadata": {},
   "outputs": [
    {
     "data": {
      "text/plain": [
       "(107628, 42)"
      ]
     },
     "execution_count": 30,
     "metadata": {},
     "output_type": "execute_result"
    }
   ],
   "source": [
    "signal_Tprime1200.shape"
   ]
  },
  {
   "cell_type": "code",
   "execution_count": 31,
   "metadata": {},
   "outputs": [
    {
     "data": {
      "text/plain": [
       "(190750,)"
      ]
     },
     "execution_count": 31,
     "metadata": {},
     "output_type": "execute_result"
    }
   ],
   "source": [
    "y_test.shape"
   ]
  },
  {
   "cell_type": "markdown",
   "metadata": {},
   "source": [
    "#### method 1"
   ]
  },
  {
   "cell_type": "code",
   "execution_count": null,
   "metadata": {},
   "outputs": [],
   "source": [
    "# df = signal_Tprime1200.loc[:78920].copy()"
   ]
  },
  {
   "cell_type": "code",
   "execution_count": null,
   "metadata": {},
   "outputs": [],
   "source": [
    "# df.shape"
   ]
  },
  {
   "cell_type": "code",
   "execution_count": null,
   "metadata": {},
   "outputs": [],
   "source": [
    "# loaded_model.compile(loss='binary_crossentropy', optimizer='adam', metrics=['accuracy'])\n",
    "# score = loaded_model.evaluate(df, y_test)"
   ]
  },
  {
   "cell_type": "code",
   "execution_count": null,
   "metadata": {},
   "outputs": [],
   "source": [
    "# # Final evaluation of the model for DNN\n",
    "# # Testing Outputs\n",
    "# scores = clf.evaluate(df, y_test, verbose=0)\n",
    "# print(\"Accuracy: %.2f%%\" % (scores[1]*100))"
   ]
  },
  {
   "cell_type": "code",
   "execution_count": null,
   "metadata": {},
   "outputs": [],
   "source": [
    "# from sklearn.metrics import roc_curve, auc\n",
    "\n",
    "# decisions = clf.predict(X_test)\n",
    "\n",
    "# # Compute ROC curve and area under the curve\n",
    "# fpr, tpr, thresholds = roc_curve(y_test, decisions)\n",
    "# roc_auc = auc(fpr, tpr)\n",
    "# plt.plot(fpr, tpr, lw=1, label='ROC (area = %0.2f)'%(roc_auc))\n",
    "\n",
    "# plt.plot([0, 1], [0, 1], '--', color=(0.6, 0.6, 0.6), label='Luck')\n",
    "# plt.xlim([-0.05, 1.05])\n",
    "# plt.ylim([-0.05, 1.05])\n",
    "# plt.xlabel('False Positive Rate')\n",
    "# plt.ylabel('True Positive Rate')\n",
    "# plt.title('Receiver operating characteristic')\n",
    "# plt.legend(loc=\"lower right\")\n",
    "# plt.grid()\n",
    "# # plt.savefig(\"ROC_curve.png\")\n",
    "# plt.show()"
   ]
  },
  {
   "cell_type": "code",
   "execution_count": null,
   "metadata": {},
   "outputs": [],
   "source": [
    "# import matplotlib\n",
    "# plt.figure()                                     # new window\n",
    "# matplotlib.rcParams.update({'font.size':14})     # set all font sizes\n",
    "# tTest = clf.predict(X_test)\n",
    "# # if hasattr(clf, \"decision_function\"):\n",
    "# #     tTest = clf.decision_function(X_test)        # if available use decision_function\n",
    "# # else:\n",
    "# #     tTest = clf.predict_proba(X_test)[:,1]       # for e.g. MLP need to use predict_proba\n",
    "# tBkg = tTest[y_test==0]\n",
    "# tSig = tTest[y_test==1]\n",
    "# nBins = 20\n",
    "# tMin = np.floor(np.min(tTest))\n",
    "# tMax = np.ceil(np.max(tTest))\n",
    "# bins = np.linspace(tMin, tMax, nBins+1)\n",
    "# # plt.title('Multilayer perceptron')\n",
    "# plt.xlabel(' $DNN$', labelpad=3)\n",
    "# plt.ylabel('$Probability density$', labelpad=40)\n",
    "# n, bins, patches = plt.hist(tSig, bins=bins, density=True, histtype='step', fill=False, color ='dodgerblue' ,edgecolor = 'blue', hatch = 'XX',label='Tprime_600')\n",
    "# n, bins, patches = plt.hist(tBkg, bins=bins, density=True, histtype='step', fill=False,color = 'red' ,alpha=0.5, edgecolor = 'green', hatch='++', label = 'All Background(-thq)')\n",
    "# plt.grid(color = 'b', alpha = 0.5, linestyle = 'dashed')\n",
    "# plt.legend(loc='center')\n",
    "# # plt.savefig('/eos/home-s/sraj/M.Sc._Thesis/Plot/''output_TPrime_ttgg.png')\n",
    "# plt.show()"
   ]
  },
  {
   "cell_type": "code",
   "execution_count": null,
   "metadata": {},
   "outputs": [],
   "source": [
    "# from sklearn.metrics import roc_curve, auc\n",
    "\n",
    "# decisions = clf.predict(df)\n",
    "\n",
    "# # Compute ROC curve and area under the curve\n",
    "# fpr, tpr, thresholds = roc_curve(y_test, decisions)\n",
    "# roc_auc = auc(fpr, tpr)\n",
    "# plt.plot(fpr, tpr, lw=1, label='ROC (area = %0.2f)'%(roc_auc))\n",
    "\n",
    "# plt.plot([0, 1], [0, 1], '--', color=(0.6, 0.6, 0.6), label='Luck')\n",
    "# plt.xlim([-0.05, 1.05])\n",
    "# plt.ylim([-0.05, 1.05])\n",
    "# plt.xlabel('False Positive Rate')\n",
    "# plt.ylabel('True Positive Rate')\n",
    "# plt.title('Receiver operating characteristic')\n",
    "# plt.legend(loc=\"lower right\")\n",
    "# plt.grid()\n",
    "# # plt.savefig(\"ROC_curve.png\")\n",
    "# plt.show()"
   ]
  },
  {
   "cell_type": "code",
   "execution_count": null,
   "metadata": {},
   "outputs": [],
   "source": [
    "# plt.figure()                                     # new window\n",
    "# matplotlib.rcParams.update({'font.size':14})     # set all font sizes\n",
    "# tTest = clf.predict(df)\n",
    "# # if hasattr(clf, \"decision_function\"):\n",
    "# #     tTest = clf.decision_function(X_test)        # if available use decision_function\n",
    "# # else:\n",
    "# #     tTest = clf.predict_proba(X_test)[:,1]       # for e.g. MLP need to use predict_proba\n",
    "# tBkg = tTest[y_test==0]\n",
    "# tSig = tTest[y_test==1]\n",
    "# nBins = 20\n",
    "# tMin = np.floor(np.min(tTest))\n",
    "# tMax = np.ceil(np.max(tTest))\n",
    "# bins = np.linspace(tMin, tMax, nBins+1)\n",
    "# # plt.title('Multilayer perceptron')\n",
    "# plt.xlabel(' $DNN$', labelpad=3)\n",
    "# plt.ylabel('$Probability density$', labelpad=40)\n",
    "# n, bins, patches = plt.hist(tSig, bins=bins, density=True, histtype='step', fill=False, color ='dodgerblue' ,edgecolor = 'blue', hatch = 'XX',label='Tprime_1200')\n",
    "# n, bins, patches = plt.hist(tBkg, bins=bins, density=True, histtype='step', fill=False,color = 'red' ,alpha=0.5, edgecolor = 'green', hatch='++', label = 'All Background')\n",
    "# plt.grid(color = 'b', alpha = 0.5, linestyle = 'dashed')\n",
    "# plt.legend(loc='center')\n",
    "# plt.title('TPrime_1200 output after TPrime_600 Training with all background ')\n",
    "# # plt.savefig('/eos/home-s/sraj/M.Sc._Thesis/Plot_M.Sc._thesis/Plot_with_HDF5_files/''output_TPrime1200_all_background.png')\n",
    "# plt.show()"
   ]
  },
  {
   "cell_type": "code",
   "execution_count": null,
   "metadata": {},
   "outputs": [],
   "source": []
  },
  {
   "cell_type": "code",
   "execution_count": null,
   "metadata": {},
   "outputs": [],
   "source": []
  },
  {
   "cell_type": "markdown",
   "metadata": {},
   "source": [
    "### Method 2"
   ]
  },
  {
   "cell_type": "code",
   "execution_count": 32,
   "metadata": {},
   "outputs": [],
   "source": [
    "X_1 = np.concatenate((signal_Tprime1200, backgr))\n",
    "y_1 = np.concatenate((np.ones(signal_Tprime1200.shape[0]),\n",
    "                    np.zeros(backgr.shape[0])))"
   ]
  },
  {
   "cell_type": "code",
   "execution_count": 33,
   "metadata": {},
   "outputs": [
    {
     "data": {
      "text/plain": [
       "(604643,)"
      ]
     },
     "execution_count": 33,
     "metadata": {},
     "output_type": "execute_result"
    }
   ],
   "source": [
    "y_1.shape"
   ]
  },
  {
   "cell_type": "code",
   "execution_count": 34,
   "metadata": {},
   "outputs": [],
   "source": [
    "X_1_train,X_1_test, y_1_train, y_1_test = train_test_split(X_1, y_1, test_size=0.33, random_state =5)\n"
   ]
  },
  {
   "cell_type": "code",
   "execution_count": 35,
   "metadata": {},
   "outputs": [
    {
     "data": {
      "text/plain": [
       "(405110, 42)"
      ]
     },
     "execution_count": 35,
     "metadata": {},
     "output_type": "execute_result"
    }
   ],
   "source": [
    "X_1_train.shape\n"
   ]
  },
  {
   "cell_type": "code",
   "execution_count": 36,
   "metadata": {},
   "outputs": [
    {
     "data": {
      "text/plain": [
       "(199533, 42)"
      ]
     },
     "execution_count": 36,
     "metadata": {},
     "output_type": "execute_result"
    }
   ],
   "source": [
    "X_1_test.shape"
   ]
  },
  {
   "cell_type": "code",
   "execution_count": 37,
   "metadata": {},
   "outputs": [
    {
     "data": {
      "text/plain": [
       "(199533,)"
      ]
     },
     "execution_count": 37,
     "metadata": {},
     "output_type": "execute_result"
    }
   ],
   "source": [
    "y_1_test.shape"
   ]
  },
  {
   "cell_type": "code",
   "execution_count": 40,
   "metadata": {},
   "outputs": [
    {
     "name": "stdout",
     "output_type": "stream",
     "text": [
      "199533/199533 [==============================] - 12s 58us/step\n"
     ]
    }
   ],
   "source": [
    "loaded_model.compile(loss='binary_crossentropy', optimizer='adam', metrics=['accuracy'])\n",
    "score = clf.evaluate(X_1_test, y_1_test)"
   ]
  },
  {
   "cell_type": "code",
   "execution_count": 41,
   "metadata": {},
   "outputs": [
    {
     "name": "stdout",
     "output_type": "stream",
     "text": [
      "Accuracy: 80.42%\n"
     ]
    }
   ],
   "source": [
    "# Final evaluation of the model for DNN\n",
    "# Testing Outputs\n",
    "scores = loaded_model.evaluate(X_1_test, y_1_test, verbose=0)\n",
    "print(\"Accuracy: %.2f%%\" % (scores[1]*100))"
   ]
  },
  {
   "cell_type": "code",
   "execution_count": 42,
   "metadata": {},
   "outputs": [
    {
     "data": {
      "image/png": "[encoded data removed]",
      "text/plain": [
       "<Figure size 432x288 with 1 Axes>"
      ]
     },
     "metadata": {
      "needs_background": "light"
     },
     "output_type": "display_data"
    }
   ],
   "source": [
    "from sklearn.metrics import roc_curve, auc\n",
    "\n",
    "decisions = loaded_model.predict(X_1_test)\n",
    "\n",
    "# Compute ROC curve and area under the curve\n",
    "fpr, tpr, thresholds = roc_curve(y_1_test, decisions)\n",
    "roc_auc = auc(fpr, tpr)\n",
    "plt.plot(fpr, tpr, lw=1, label='ROC (area = %0.2f)'%(roc_auc))\n",
    "\n",
    "plt.plot([0, 1], [0, 1], '--', color=(0.6, 0.6, 0.6), label='Luck')\n",
    "plt.xlim([-0.05, 1.05])\n",
    "plt.ylim([-0.05, 1.05])\n",
    "plt.xlabel('False Positive Rate')\n",
    "plt.ylabel('True Positive Rate')\n",
    "plt.title('Receiver operating characteristic')\n",
    "plt.legend(loc=\"lower right\")\n",
    "plt.grid()\n",
    "# plt.savefig(\"ROC_curve.png\")\n",
    "plt.show()"
   ]
  },
  {
   "cell_type": "code",
   "execution_count": 43,
   "metadata": {},
   "outputs": [
    {
     "data": {
      "image/png": "[encoded data removed]",
      "text/plain": [
       "<Figure size 432x288 with 1 Axes>"
      ]
     },
     "metadata": {
      "needs_background": "light"
     },
     "output_type": "display_data"
    }
   ],
   "source": [
    "import matplotlib\n",
    "plt.figure()                                     # new window\n",
    "matplotlib.rcParams.update({'font.size':14})     # set all font sizes\n",
    "tTest = loaded_model.predict(X_1_test)\n",
    "# if hasattr(clf, \"decision_function\"):\n",
    "#     tTest = clf.decision_function(X_test)        # if available use decision_function\n",
    "# else:\n",
    "#     tTest = clf.predict_proba(X_test)[:,1]       # for e.g. MLP need to use predict_proba\n",
    "tBkg_1 = tTest[y_1_test==0]\n",
    "tSig_1 = tTest[y_1_test==1]\n",
    "nBins = 20\n",
    "tMin = np.floor(np.min(tTest))\n",
    "tMax = np.ceil(np.max(tTest))\n",
    "bins = np.linspace(tMin, tMax, nBins+1)\n",
    "# plt.title('Multilayer perceptron')\n",
    "plt.xlabel(' $DNN$', labelpad=3)\n",
    "plt.ylabel('$Probability density$', labelpad=40)\n",
    "n, bins, patches = plt.hist(tSig_1, bins=bins, density=True, histtype='step', fill=False, color ='dodgerblue' ,edgecolor = 'blue', hatch = 'XX',label='Tprime_1200')\n",
    "n, bins, patches = plt.hist(tBkg_1, bins=bins, density=True, histtype='step', fill=False,color = 'red' ,alpha=0.5, edgecolor = 'green', hatch='++', label = 'All Background')\n",
    "plt.grid(color = 'b', alpha = 0.5, linestyle = 'dashed')\n",
    "plt.legend(loc='center')\n",
    "plt.title('TPrime_1200 output after TPrime_600 Training with all background ')\n",
    "# plt.savefig('/eos/home-s/sraj/M.Sc._Thesis/Plot_M.Sc._thesis/Plot_with_HDF5_files/''output_TPrime1200_all_background.png')\n",
    "plt.show()"
   ]
  },
  {
   "cell_type": "code",
   "execution_count": 44,
   "metadata": {},
   "outputs": [],
   "source": [
    "from ROOT import TCanvas, TPad, TFormula, TF1, TPaveLabel, TH1F, TFile,TH1D\n",
    "from ROOT import gROOT, gBenchmark"
   ]
  },
  {
   "cell_type": "code",
   "execution_count": 46,
   "metadata": {},
   "outputs": [],
   "source": [
    "f = TFile(\"/eos/home-s/sraj/M.Sc._Thesis/Plot_M.Sc._thesis/ROOT_output/MyrootFile_after_training_Tprime_600_all_five_background_test_thq_with_TPrime1200.root\", \"RECREATE\")\n",
    "# tree = TTree(\"root\",  )\n",
    "# How do we get that to create and fill with the background and signal\n",
    "h_bak = TH1D(\"background\", \"background\", 100, 0,1)\n",
    "h_sig = TH1D(\"signal\", \"signal\", 100, 0, 1)\n",
    "h_sum_all = TH1D(\"data_obs\", \"data_obs\", 100, 0, 1)\n",
    "for i in tBkg_1:\n",
    "    h_bak.Fill(i)\n",
    "for j in tSig_1:\n",
    "    h_sig.Fill(j)\n",
    "h_sum_all.Add(h_bak) \n",
    "h_sum_all.Add(h_sig)\n",
    "\n",
    "\n",
    "\n",
    "f.Write()\n",
    "f.Close()"
   ]
  },
  {
   "cell_type": "markdown",
   "metadata": {},
   "source": [
    "Here, The output from the Ist method is not as good as the 2nd one."
   ]
  },
  {
   "cell_type": "markdown",
   "metadata": {},
   "source": [
    "## testing on TPrime_900GeV\n"
   ]
  },
  {
   "cell_type": "code",
   "execution_count": 47,
   "metadata": {},
   "outputs": [],
   "source": [
    "# Load Testing dataset\n",
    "signal_1 = '/eos/user/p/prsaha/for_Shivam/output_TprimeBToTH_Hgg_M-900_LH_TuneCP5_PSweights_13TeV-madgraph_pythia8.root/'\n",
    "treeName_signal_1 = \"tagsDumper/trees/Tprime_900_13TeV_THQLeptonicTag\"\n",
    "signal_Tprime900 = root2array(signal_1, treeName_signal_1, columns)   #Signal TPrime at 600TeV"
   ]
  },
  {
   "cell_type": "code",
   "execution_count": 48,
   "metadata": {},
   "outputs": [],
   "source": [
    "signal_Tprime900;\n",
    "signal_Tprime900 = pd.DataFrame(signal_Tprime900)"
   ]
  },
  {
   "cell_type": "code",
   "execution_count": 49,
   "metadata": {},
   "outputs": [],
   "source": [
    "X_2 = np.concatenate((signal_Tprime900, backgr))\n",
    "y_2 = np.concatenate((np.ones(signal_Tprime900.shape[0]),\n",
    "                    np.zeros(backgr.shape[0])))"
   ]
  },
  {
   "cell_type": "code",
   "execution_count": 50,
   "metadata": {},
   "outputs": [],
   "source": [
    "X_2_train,X_2_test, y_2_train, y_2_test = train_test_split(X_2, y_2, test_size=0.33, random_state =5)\n"
   ]
  },
  {
   "cell_type": "code",
   "execution_count": 51,
   "metadata": {},
   "outputs": [
    {
     "name": "stdout",
     "output_type": "stream",
     "text": [
      "197333/197333 [==============================] - 11s 56us/step\n"
     ]
    }
   ],
   "source": [
    "loaded_model.compile(loss='binary_crossentropy', optimizer='adam', metrics=['accuracy'])\n",
    "score = loaded_model.evaluate(X_2_test, y_2_test)"
   ]
  },
  {
   "cell_type": "code",
   "execution_count": 52,
   "metadata": {},
   "outputs": [
    {
     "name": "stdout",
     "output_type": "stream",
     "text": [
      "Accuracy: 81.71%\n"
     ]
    }
   ],
   "source": [
    "# Final evaluation of the model for DNN\n",
    "# Testing Outputs\n",
    "scores = loaded_model.evaluate(X_2_test, y_2_test, verbose=0)\n",
    "print(\"Accuracy: %.2f%%\" % (scores[1]*100))"
   ]
  },
  {
   "cell_type": "code",
   "execution_count": 53,
   "metadata": {},
   "outputs": [
    {
     "data": {
      "image/png": "[encoded data removed]",
      "text/plain": [
       "<Figure size 432x288 with 1 Axes>"
      ]
     },
     "metadata": {
      "needs_background": "light"
     },
     "output_type": "display_data"
    }
   ],
   "source": [
    "from sklearn.metrics import roc_curve, auc\n",
    "\n",
    "decisions = loaded_model.predict(X_2_test)\n",
    "\n",
    "# Compute ROC curve and area under the curve\n",
    "fpr, tpr, thresholds = roc_curve(y_2_test, decisions)\n",
    "roc_auc = auc(fpr, tpr)\n",
    "plt.plot(fpr, tpr, lw=1, label='ROC (area = %0.2f)'%(roc_auc))\n",
    "\n",
    "plt.plot([0, 1], [0, 1], '--', color=(0.6, 0.6, 0.6), label='Luck')\n",
    "plt.xlim([-0.05, 1.05])\n",
    "plt.ylim([-0.05, 1.05])\n",
    "plt.xlabel('False Positive Rate')\n",
    "plt.ylabel('True Positive Rate')\n",
    "plt.title('Receiver operating characteristic')\n",
    "plt.legend(loc=\"lower right\")\n",
    "plt.grid()\n",
    "# plt.savefig(\"ROC_curve.png\")\n",
    "plt.show()"
   ]
  },
  {
   "cell_type": "code",
   "execution_count": 54,
   "metadata": {},
   "outputs": [
    {
     "data": {
      "image/png": "[encoded data removed]",
      "text/plain": [
       "<Figure size 432x288 with 1 Axes>"
      ]
     },
     "metadata": {
      "needs_background": "light"
     },
     "output_type": "display_data"
    }
   ],
   "source": [
    "import matplotlib\n",
    "plt.figure()                                     # new window\n",
    "matplotlib.rcParams.update({'font.size':14})     # set all font sizes\n",
    "tTest = loaded_model.predict(X_2_test)\n",
    "# if hasattr(clf, \"decision_function\"):\n",
    "#     tTest = clf.decision_function(X_test)        # if available use decision_function\n",
    "# else:\n",
    "#     tTest = clf.predict_proba(X_test)[:,1]       # for e.g. MLP need to use predict_proba\n",
    "tBkg_2 = tTest[y_2_test==0]\n",
    "tSig_2 = tTest[y_2_test==1]\n",
    "nBins = 20\n",
    "tMin = np.floor(np.min(tTest))\n",
    "tMax = np.ceil(np.max(tTest))\n",
    "bins = np.linspace(tMin, tMax, nBins+1)\n",
    "# plt.title('Multilayer perceptron')\n",
    "plt.xlabel(' $DNN$', labelpad=3)\n",
    "plt.ylabel('$Probability density$', labelpad=40)\n",
    "n, bins, patches = plt.hist(tSig_2, bins=bins, density=True, histtype='step', fill=False, color ='dodgerblue' ,edgecolor = 'blue', hatch = 'XX',label='Tprime_900')\n",
    "n, bins, patches = plt.hist(tBkg_2, bins=bins, density=True, histtype='step', fill=False,color = 'red' ,alpha=0.5, edgecolor = 'green', hatch='++', label = 'all backgrounds(-thq)')\n",
    "plt.grid(color = 'b', alpha = 0.5, linestyle = 'dashed')\n",
    "plt.legend(loc='center')\n",
    "plt.title('TPrime_900 output after TPrime_600 Training with ttgg background ')\n",
    "# plt.savefig('/eos/home-s/sraj/M.Sc._Thesis/Plot_M.Sc._thesis/Plot_with_HDF5_files/''output_TPrime1200_all_background.png')\n",
    "plt.show()"
   ]
  },
  {
   "cell_type": "code",
   "execution_count": 55,
   "metadata": {},
   "outputs": [],
   "source": [
    "from ROOT import TCanvas, TPad, TFormula, TF1, TPaveLabel, TH1F, TFile,TH1D\n",
    "from ROOT import gROOT, gBenchmark"
   ]
  },
  {
   "cell_type": "code",
   "execution_count": 56,
   "metadata": {},
   "outputs": [],
   "source": [
    "f = TFile(\"/eos/home-s/sraj/M.Sc._Thesis/Plot_M.Sc._thesis/ROOT_output/MyrootFile_after_training_Tprime_600_all_five_background_test_thq_with_TPrime900.root\", \"RECREATE\")\n",
    "# tree = TTree(\"root\",  )\n",
    "# How do we get that to create and fill with the background and signal\n",
    "h_bak = TH1D(\"background\", \"background\", 100, 0,1)\n",
    "h_sig = TH1D(\"signal\", \"signal\", 100, 0, 1)\n",
    "h_sum_all = TH1D(\"data_obs\", \"data_obs\", 100, 0, 1)\n",
    "for i in tBkg_2:\n",
    "    h_bak.Fill(i)\n",
    "for j in tSig_2:\n",
    "    h_sig.Fill(j)\n",
    "h_sum_all.Add(h_bak) \n",
    "h_sum_all.Add(h_sig)\n",
    "\n",
    "\n",
    "\n",
    "f.Write()\n",
    "f.Close()"
   ]
  },
  {
   "cell_type": "markdown",
   "metadata": {},
   "source": [
    "# TPrime 800\n",
    "\n"
   ]
  },
  {
   "cell_type": "code",
   "execution_count": 58,
   "metadata": {},
   "outputs": [],
   "source": [
    "# Load Testing dataset\n",
    "signal_3 = '/eos/user/p/prsaha/for_Shivam/output_TprimeBToTH_Hgg_M-800_LH_TuneCP5_PSweights_13TeV-madgraph_pythia8.root'\n",
    "treeName_signal_3 = \"tagsDumper/trees/Tprime_800_13TeV_THQLeptonicTag\"\n",
    "signal_Tprime_800 = root2array(signal_1, treeName_signal_1, columns)   #Signal TPrime at 600TeV"
   ]
  },
  {
   "cell_type": "code",
   "execution_count": 59,
   "metadata": {},
   "outputs": [],
   "source": [
    "signal_Tprime_800;\n",
    "signal_Tprime800 = pd.DataFrame(signal_Tprime_800)"
   ]
  },
  {
   "cell_type": "code",
   "execution_count": 60,
   "metadata": {},
   "outputs": [
    {
     "data": {
      "text/plain": [
       "(100962, 42)"
      ]
     },
     "execution_count": 60,
     "metadata": {},
     "output_type": "execute_result"
    }
   ],
   "source": [
    "signal_Tprime800.shape"
   ]
  },
  {
   "cell_type": "code",
   "execution_count": 61,
   "metadata": {},
   "outputs": [],
   "source": [
    "# signal_Tprime675.median\n",
    "X_3 = np.concatenate((signal_Tprime800, backgr))\n",
    "y_3 = np.concatenate((np.ones(signal_Tprime800.shape[0]),\n",
    "                    np.zeros(backgr.shape[0])))"
   ]
  },
  {
   "cell_type": "code",
   "execution_count": 62,
   "metadata": {},
   "outputs": [],
   "source": [
    "X_3_train,X_3_test, y_3_train, y_3_test = train_test_split(X_3, y_3, test_size=0.33, random_state =5)\n"
   ]
  },
  {
   "cell_type": "code",
   "execution_count": 63,
   "metadata": {},
   "outputs": [
    {
     "name": "stdout",
     "output_type": "stream",
     "text": [
      "197333/197333 [==============================] - 12s 60us/step\n"
     ]
    }
   ],
   "source": [
    "loaded_model.compile(loss='binary_crossentropy', optimizer='adam', metrics=['accuracy'])\n",
    "score = loaded_model.evaluate(X_3_test, y_3_test)"
   ]
  },
  {
   "cell_type": "code",
   "execution_count": 64,
   "metadata": {},
   "outputs": [
    {
     "name": "stdout",
     "output_type": "stream",
     "text": [
      "Accuracy: 81.71%\n"
     ]
    }
   ],
   "source": [
    "# Final evaluation of the model for DNN\n",
    "# Testing Outputs\n",
    "scores = loaded_model.evaluate(X_3_test, y_3_test, verbose=0)\n",
    "print(\"Accuracy: %.2f%%\" % (scores[1]*100))"
   ]
  },
  {
   "cell_type": "code",
   "execution_count": 65,
   "metadata": {},
   "outputs": [
    {
     "data": {
      "image/png": "[encoded data removed]",
      "text/plain": [
       "<Figure size 432x288 with 1 Axes>"
      ]
     },
     "metadata": {
      "needs_background": "light"
     },
     "output_type": "display_data"
    }
   ],
   "source": [
    "from sklearn.metrics import roc_curve, auc\n",
    "\n",
    "decisions = loaded_model.predict(X_3_test)\n",
    "\n",
    "# Compute ROC curve and area under the curve\n",
    "fpr, tpr, thresholds = roc_curve(y_3_test, decisions)\n",
    "roc_auc = auc(fpr, tpr)\n",
    "plt.plot(fpr, tpr, lw=1, label='ROC (area = %0.2f)'%(roc_auc))\n",
    "\n",
    "plt.plot([0, 1], [0, 1], '--', color=(0.6, 0.6, 0.6), label='Luck')\n",
    "plt.xlim([-0.05, 1.05])\n",
    "plt.ylim([-0.05, 1.05])\n",
    "plt.xlabel('False Positive Rate')\n",
    "plt.ylabel('True Positive Rate')\n",
    "plt.title('Receiver operating characteristic')\n",
    "plt.legend(loc=\"lower right\")\n",
    "plt.grid()\n",
    "# plt.savefig(\"ROC_curve.png\")\n",
    "plt.show()"
   ]
  },
  {
   "cell_type": "code",
   "execution_count": 67,
   "metadata": {},
   "outputs": [
    {
     "data": {
      "image/png": "[encoded data removed]",
      "text/plain": [
       "<Figure size 432x288 with 1 Axes>"
      ]
     },
     "metadata": {
      "needs_background": "light"
     },
     "output_type": "display_data"
    }
   ],
   "source": [
    "import matplotlib\n",
    "plt.figure()                                     # new window\n",
    "matplotlib.rcParams.update({'font.size':14})     # set all font sizes\n",
    "tTest = loaded_model.predict(X_3_test)\n",
    "# if hasattr(clf, \"decision_function\"):\n",
    "#     tTest = clf.decision_function(X_test)        # if available use decision_function\n",
    "# else:\n",
    "#     tTest = clf.predict_proba(X_test)[:,1]       # for e.g. MLP need to use predict_proba\n",
    "tBkg_3 = tTest[y_3_test==0]\n",
    "tSig_3 = tTest[y_3_test==1]\n",
    "nBins = 20\n",
    "tMin = np.floor(np.min(tTest))\n",
    "tMax = np.ceil(np.max(tTest))\n",
    "bins = np.linspace(tMin, tMax, nBins+1)\n",
    "# plt.title('Multilayer perceptron')\n",
    "plt.xlabel(' $DNN$', labelpad=3)\n",
    "plt.ylabel('$Probability density$', labelpad=40)\n",
    "n, bins, patches = plt.hist(tSig_3, bins=bins, density=True, histtype='step', fill=False, color ='dodgerblue' ,edgecolor = 'blue', hatch = 'XX',label='Tprime_800')\n",
    "n, bins, patches = plt.hist(tBkg_3, bins=bins, density=True, histtype='step', fill=False,color = 'red' ,alpha=0.5, edgecolor = 'green', hatch='++', label = 'all backgrounds(+thq)')\n",
    "plt.grid(color = 'b', alpha = 0.5, linestyle = 'dashed')\n",
    "plt.legend(loc='center')\n",
    "plt.title(' ')\n",
    "# plt.savefig('/eos/home-s/sraj/M.Sc._Thesis/Plot_M.Sc._thesis/Plot_with_HDF5_files/''output_TPrime1200_all_background.png')\n",
    "plt.show()"
   ]
  },
  {
   "cell_type": "code",
   "execution_count": 91,
   "metadata": {},
   "outputs": [],
   "source": [
    "f = TFile(\"/eos/home-s/sraj/M.Sc._Thesis/Plot_M.Sc._thesis/ROOT_output/MyrootFile_after_training_Tprime_600_all_five_background_test_thq_with_TPrime800.root\", \"RECREATE\")\n",
    "# tree = TTree(\"root\",  )\n",
    "# How do we get that to create and fill with the background and signal\n",
    "h_bak = TH1D(\"background\", \"background\", 100, 0,1)\n",
    "h_sig = TH1D(\"signal\", \"signal\", 100, 0, 1)\n",
    "h_sum_all = TH1D(\"data_obs\", \"data_obs\", 100, 0, 1)\n",
    "for i in tBkg_3:\n",
    "    h_bak.Fill(i)\n",
    "for j in tSig_3:\n",
    "    h_sig.Fill(j)\n",
    "h_sum_all.Add(h_bak) \n",
    "h_sum_all.Add(h_sig)\n",
    "\n",
    "\n",
    "\n",
    "f.Write()\n",
    "f.Close()"
   ]
  },
  {
   "cell_type": "markdown",
   "metadata": {},
   "source": [
    "# TPrime 700\n",
    "\n",
    "\n"
   ]
  },
  {
   "cell_type": "code",
   "execution_count": 67,
   "metadata": {},
   "outputs": [],
   "source": [
    "# Load Testing dataset\n",
    "signal_1 = '/eos/user/p/prsaha/for_Shivam/output_TprimeBToTH_Hgg_M-700_LH_TuneCP5_PSweights_13TeV-madgraph_pythia8.root'\n",
    "treeName_signal_1 = \"tagsDumper/trees/Tprime_700_13TeV_THQLeptonicTag\"\n",
    "signal_Tprime_700 = root2array(signal_1, treeName_signal_1, columns)   #Signal TPrime at 600TeV\n",
    "\n"
   ]
  },
  {
   "cell_type": "code",
   "execution_count": 68,
   "metadata": {},
   "outputs": [],
   "source": [
    "signal_Tprime_700;\n",
    "signal_Tprime700 = pd.DataFrame(signal_Tprime_700)"
   ]
  },
  {
   "cell_type": "code",
   "execution_count": 69,
   "metadata": {},
   "outputs": [
    {
     "data": {
      "text/plain": [
       "(92703, 42)"
      ]
     },
     "execution_count": 69,
     "metadata": {},
     "output_type": "execute_result"
    }
   ],
   "source": [
    "signal_Tprime700.shape"
   ]
  },
  {
   "cell_type": "code",
   "execution_count": 70,
   "metadata": {},
   "outputs": [],
   "source": [
    "# signal_Tprime675.median\n",
    "X_4 = np.concatenate((signal_Tprime700, backgr))\n",
    "y_4 = np.concatenate((np.ones(signal_Tprime700.shape[0]),\n",
    "                    np.zeros(backgr.shape[0])))"
   ]
  },
  {
   "cell_type": "code",
   "execution_count": 71,
   "metadata": {},
   "outputs": [],
   "source": [
    "X_4_train,X_4_test, y_4_train, y_4_test = train_test_split(X_4, y_4, test_size=0.33, random_state =5)\n"
   ]
  },
  {
   "cell_type": "code",
   "execution_count": 72,
   "metadata": {},
   "outputs": [
    {
     "name": "stdout",
     "output_type": "stream",
     "text": [
      "194607/194607 [==============================] - 21s 105us/step\n"
     ]
    }
   ],
   "source": [
    "loaded_model.compile(loss='binary_crossentropy', optimizer='adam', metrics=['accuracy'])\n",
    "score = loaded_model.evaluate(X_4_test, y_4_test)"
   ]
  },
  {
   "cell_type": "code",
   "execution_count": 73,
   "metadata": {},
   "outputs": [
    {
     "name": "stdout",
     "output_type": "stream",
     "text": [
      "Accuracy: 85.12%\n"
     ]
    }
   ],
   "source": [
    "# Final evaluation of the model for DNN\n",
    "# Testing Outputs\n",
    "scores = loaded_model.evaluate(X_4_test, y_4_test, verbose=0)\n",
    "print(\"Accuracy: %.2f%%\" % (scores[1]*100))"
   ]
  },
  {
   "cell_type": "code",
   "execution_count": 74,
   "metadata": {},
   "outputs": [
    {
     "data": {
      "image/png": "[encoded data removed]",
      "text/plain": [
       "<Figure size 432x288 with 1 Axes>"
      ]
     },
     "metadata": {
      "needs_background": "light"
     },
     "output_type": "display_data"
    }
   ],
   "source": [
    "from sklearn.metrics import roc_curve, auc\n",
    "\n",
    "decisions = loaded_model.predict(X_4_test)\n",
    "\n",
    "# Compute ROC curve and area under the curve\n",
    "fpr, tpr, thresholds = roc_curve(y_4_test, decisions)\n",
    "roc_auc = auc(fpr, tpr)\n",
    "plt.plot(fpr, tpr, lw=1, label='ROC (area = %0.2f)'%(roc_auc))\n",
    "\n",
    "plt.plot([0, 1], [0, 1], '--', color=(0.6, 0.6, 0.6), label='Luck')\n",
    "plt.xlim([-0.05, 1.05])\n",
    "plt.ylim([-0.05, 1.05])\n",
    "plt.xlabel('False Positive Rate')\n",
    "plt.ylabel('True Positive Rate')\n",
    "plt.title('Receiver operating characteristic')\n",
    "plt.legend(loc=\"lower right\")\n",
    "plt.grid()\n",
    "# plt.savefig(\"ROC_curve.png\")\n",
    "plt.show()"
   ]
  },
  {
   "cell_type": "code",
   "execution_count": 75,
   "metadata": {},
   "outputs": [
    {
     "data": {
      "image/png": "[encoded data removed]",
      "text/plain": [
       "<Figure size 432x288 with 1 Axes>"
      ]
     },
     "metadata": {
      "needs_background": "light"
     },
     "output_type": "display_data"
    }
   ],
   "source": [
    "import matplotlib\n",
    "plt.figure()                                     # new window\n",
    "matplotlib.rcParams.update({'font.size':14})     # set all font sizes\n",
    "tTest = loaded_model.predict(X_4_test)\n",
    "# if hasattr(clf, \"decision_function\"):\n",
    "#     tTest = clf.decision_function(X_test)        # if available use decision_function\n",
    "# else:\n",
    "#     tTest = clf.predict_proba(X_test)[:,1]       # for e.g. MLP need to use predict_proba\n",
    "tBkg_4 = tTest[y_4_test==0]\n",
    "tSig_4 = tTest[y_4_test==1]\n",
    "nBins = 20\n",
    "tMin = np.floor(np.min(tTest))\n",
    "tMax = np.ceil(np.max(tTest))\n",
    "bins = np.linspace(tMin, tMax, nBins+1)\n",
    "# plt.title('Multilayer perceptron')\n",
    "plt.xlabel(' $DNN$', labelpad=3)\n",
    "plt.ylabel('$Probability density$', labelpad=40)\n",
    "n, bins, patches = plt.hist(tSig_4, bins=bins, density=True, histtype='step', fill=False, color ='dodgerblue' ,edgecolor = 'blue', hatch = 'XX',label='Tprime_800')\n",
    "n, bins, patches = plt.hist(tBkg_4, bins=bins, density=True, histtype='step', fill=False,color = 'red' ,alpha=0.5, edgecolor = 'green', hatch='++', label = 'all backgrounds(+thq)')\n",
    "plt.grid(color = 'b', alpha = 0.5, linestyle = 'dashed')\n",
    "plt.legend(loc='center')\n",
    "plt.title('TPrime_900 output after TPrime_600 Training with ttgg background ')\n",
    "# plt.savefig('/eos/home-s/sraj/M.Sc._Thesis/Plot_M.Sc._thesis/Plot_with_HDF5_files/''output_TPrime1200_all_background.png')\n",
    "plt.show()"
   ]
  },
  {
   "cell_type": "code",
   "execution_count": 92,
   "metadata": {},
   "outputs": [],
   "source": [
    "f = TFile(\"/eos/home-s/sraj/M.Sc._Thesis/Plot_M.Sc._thesis/ROOT_output/MyrootFile_after_training_Tprime_600_all_five_background_test_thq_with_TPrime700.root\", \"RECREATE\")\n",
    "# tree = TTree(\"root\",  )\n",
    "# How do we get that to create and fill with the background and signal\n",
    "h_bak = TH1D(\"background\", \"background\", 100, 0,1)\n",
    "h_sig = TH1D(\"signal\", \"signal\", 100, 0, 1)\n",
    "h_sum_all = TH1D(\"data_obs\", \"data_obs\", 100, 0, 1)\n",
    "for i in tBkg_4:\n",
    "    h_bak.Fill(i)\n",
    "for j in tSig_4:\n",
    "    h_sig.Fill(j)\n",
    "h_sum_all.Add(h_bak) \n",
    "h_sum_all.Add(h_sig)\n",
    "\n",
    "\n",
    "\n",
    "f.Write()\n",
    "f.Close()"
   ]
  },
  {
   "cell_type": "markdown",
   "metadata": {},
   "source": [
    "# TPrime 650 GeV"
   ]
  },
  {
   "cell_type": "code",
   "execution_count": 76,
   "metadata": {},
   "outputs": [],
   "source": [
    "# Load Testing dataset\n",
    "signal_1 = '/eos/user/p/prsaha/for_Shivam/output_TprimeBToTH_Hgg_M-650_LH_TuneCP5_PSweights_13TeV-madgraph_pythia8.root'\n",
    "treeName_signal_1 = \"tagsDumper/trees/Tprime_650_13TeV_THQLeptonicTag\"\n",
    "signal_Tprime_650 = root2array(signal_1, treeName_signal_1, columns)   #Signal TPrime at 600TeV\n",
    "\n"
   ]
  },
  {
   "cell_type": "code",
   "execution_count": 77,
   "metadata": {},
   "outputs": [],
   "source": [
    "signal_Tprime_650;\n",
    "signal_Tprime650= pd.DataFrame(signal_Tprime_650)"
   ]
  },
  {
   "cell_type": "code",
   "execution_count": 78,
   "metadata": {},
   "outputs": [
    {
     "data": {
      "text/plain": [
       "(91640, 42)"
      ]
     },
     "execution_count": 78,
     "metadata": {},
     "output_type": "execute_result"
    }
   ],
   "source": [
    "signal_Tprime650.shape"
   ]
  },
  {
   "cell_type": "code",
   "execution_count": 79,
   "metadata": {},
   "outputs": [],
   "source": [
    "# signal_Tprime675.median\n",
    "X_5 = np.concatenate((signal_Tprime650, backgr))\n",
    "y_5 = np.concatenate((np.ones(signal_Tprime650.shape[0]),\n",
    "                    np.zeros(backgr.shape[0])))"
   ]
  },
  {
   "cell_type": "code",
   "execution_count": 80,
   "metadata": {},
   "outputs": [],
   "source": [
    "X_5_train,X_5_test, y_5_train, y_5_test = train_test_split(X_5, y_5, test_size=0.33, random_state =5)\n"
   ]
  },
  {
   "cell_type": "code",
   "execution_count": 81,
   "metadata": {},
   "outputs": [
    {
     "name": "stdout",
     "output_type": "stream",
     "text": [
      "194257/194257 [==============================] - 19s 97us/step\n"
     ]
    }
   ],
   "source": [
    "loaded_model.compile(loss='binary_crossentropy', optimizer='adam', metrics=['accuracy'])\n",
    "score = loaded_model.evaluate(X_5_test, y_5_test)"
   ]
  },
  {
   "cell_type": "code",
   "execution_count": 82,
   "metadata": {},
   "outputs": [
    {
     "name": "stdout",
     "output_type": "stream",
     "text": [
      "Accuracy: 85.86%\n"
     ]
    }
   ],
   "source": [
    "# Final evaluation of the model for DNN\n",
    "# Testing Outputs\n",
    "scores = loaded_model.evaluate(X_5_test, y_5_test, verbose=0)\n",
    "print(\"Accuracy: %.2f%%\" % (scores[1]*100))"
   ]
  },
  {
   "cell_type": "code",
   "execution_count": 83,
   "metadata": {},
   "outputs": [
    {
     "data": {
      "image/png": "[encoded data removed]",
      "text/plain": [
       "<Figure size 432x288 with 1 Axes>"
      ]
     },
     "metadata": {
      "needs_background": "light"
     },
     "output_type": "display_data"
    }
   ],
   "source": [
    "from sklearn.metrics import roc_curve, auc\n",
    "\n",
    "decisions = loaded_model.predict(X_5_test)\n",
    "\n",
    "# Compute ROC curve and area under the curve\n",
    "fpr, tpr, thresholds = roc_curve(y_5_test, decisions)\n",
    "roc_auc = auc(fpr, tpr)\n",
    "plt.plot(fpr, tpr, lw=1, label='ROC (area = %0.2f)'%(roc_auc))\n",
    "\n",
    "plt.plot([0, 1], [0, 1], '--', color=(0.6, 0.6, 0.6), label='Luck')\n",
    "plt.xlim([-0.05, 1.05])\n",
    "plt.ylim([-0.05, 1.05])\n",
    "plt.xlabel('False Positive Rate')\n",
    "plt.ylabel('True Positive Rate')\n",
    "plt.title('Receiver operating characteristic')\n",
    "plt.legend(loc=\"lower right\")\n",
    "plt.grid()\n",
    "# plt.savefig(\"ROC_curve.png\")\n",
    "plt.show()"
   ]
  },
  {
   "cell_type": "code",
   "execution_count": 86,
   "metadata": {},
   "outputs": [
    {
     "data": {
      "image/png": "[encoded data removed]",
      "text/plain": [
       "<Figure size 432x288 with 1 Axes>"
      ]
     },
     "metadata": {
      "needs_background": "light"
     },
     "output_type": "display_data"
    }
   ],
   "source": [
    "import matplotlib\n",
    "plt.figure()                                     # new window\n",
    "matplotlib.rcParams.update({'font.size':14})     # set all font sizes\n",
    "tTest = loaded_model.predict(X_5_test)\n",
    "# if hasattr(clf, \"decision_function\"):\n",
    "#     tTest = clf.decision_function(X_test)        # if available use decision_function\n",
    "# else:\n",
    "#     tTest = clf.predict_proba(X_test)[:,1]       # for e.g. MLP need to use predict_proba\n",
    "tBkg_5 = tTest[y_5_test==0]\n",
    "tSig_5 = tTest[y_5_test==1]\n",
    "nBins = 20\n",
    "tMin = np.floor(np.min(tTest))\n",
    "tMax = np.ceil(np.max(tTest))\n",
    "bins = np.linspace(tMin, tMax, nBins+1)\n",
    "# plt.title('Multilayer perceptron')\n",
    "plt.xlabel(' $DNN$', labelpad=3)\n",
    "plt.ylabel('$Probability density$', labelpad=40)\n",
    "n, bins, patches = plt.hist(tSig_5, bins=bins, density=True, histtype='step', fill=False, color ='dodgerblue' ,edgecolor = 'blue', hatch = 'XX',label='Tprime_650')\n",
    "n, bins, patches = plt.hist(tBkg_5, bins=bins, density=True, histtype='step', fill=False,color = 'red' ,alpha=0.5, edgecolor = 'green', hatch='++', label = 'all backgrounds(+thq)')\n",
    "plt.grid(color = 'b', alpha = 0.5, linestyle = 'dashed')\n",
    "plt.legend(loc='center')\n",
    "plt.title('')\n",
    "# plt.savefig('/eos/home-s/sraj/M.Sc._Thesis/Plot_M.Sc._thesis/Plot_with_HDF5_files/''output_TPrime1200_all_background.png')\n",
    "plt.show()"
   ]
  },
  {
   "cell_type": "code",
   "execution_count": 93,
   "metadata": {},
   "outputs": [],
   "source": [
    "f = TFile(\"/eos/home-s/sraj/M.Sc._Thesis/Plot_M.Sc._thesis/ROOT_output/MyrootFile_after_training_Tprime_600_all_five_background_test_thq_with_TPrime650.root\", \"RECREATE\")\n",
    "# tree = TTree(\"root\",  )\n",
    "# How do we get that to create and fill with the background and signal\n",
    "h_bak = TH1D(\"background\", \"background\", 100, 0,1)\n",
    "h_sig = TH1D(\"signal\", \"signal\", 100, 0, 1)\n",
    "h_sum_all = TH1D(\"data_obs\", \"data_obs\", 100, 0, 1)\n",
    "for i in tBkg_5:\n",
    "    h_bak.Fill(i)\n",
    "for j in tSig_5:\n",
    "    h_sig.Fill(j)\n",
    "h_sum_all.Add(h_bak) \n",
    "h_sum_all.Add(h_sig)\n",
    "\n",
    "\n",
    "\n",
    "f.Write()\n",
    "f.Close()"
   ]
  },
  {
   "cell_type": "code",
   "execution_count": null,
   "metadata": {},
   "outputs": [],
   "source": []
  }
 ],
 "metadata": {
  "kernelspec": {
   "display_name": "Python 3",
   "language": "python",
   "name": "python3"
  },
  "language_info": {
   "codemirror_mode": {
    "name": "ipython",
    "version": 3
   },
   "file_extension": ".py",
   "mimetype": "text/x-python",
   "name": "python",
   "nbconvert_exporter": "python",
   "pygments_lexer": "ipython3",
   "version": "3.7.6"
  }
 },
 "nbformat": 4,
 "nbformat_minor": 2
}
