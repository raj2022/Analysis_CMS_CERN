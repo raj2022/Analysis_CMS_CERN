{
 "cells": [
  {
   "cell_type": "markdown",
   "metadata": {},
   "source": [
    "## Training with TPrime_600GeV_&_ttgg_As_ background\n",
    ">This is the training of signal and bacgrund to get the output as a HDF5 file. The output file futher used to test on the TPrime at 1200GeV as signal.\n"
   ]
  },
  {
   "cell_type": "markdown",
   "metadata": {},
   "source": [
    "Here, The input files are Signal with Tprime and background file used here are ttgg. Both have been used with the same number of input varaibles.'dipho_pt','dipho_phi', 'dipho_eta','dipho_e','dipho_mass','dipho_leadPt', 'dipho_leadEt','dipho_leadEta','dipho_leadPhi', 'dipho_subleadEta','bjet1_pt','bjet2_pt','bjet1_eta', 'bjet2_eta', 'jet1_pt','jet2_pt', 'jet1_eta', 'n_jets', 'n_bjets', 'bjet2_phi', 'bjet3_phi', 'bjet1_discr','bjet2_discr', 'bjet3_discr', 'jet3_pt', 'jet3_phi', 'jet1_e', 'jet2_e', 'jet3_e'."
   ]
  },
  {
   "cell_type": "code",
   "execution_count": 1,
   "metadata": {},
   "outputs": [
    {
     "name": "stderr",
     "output_type": "stream",
     "text": [
      "Using TensorFlow backend.\n"
     ]
    },
    {
     "name": "stdout",
     "output_type": "stream",
     "text": [
      "Welcome to JupyROOT 6.16/00\n"
     ]
    }
   ],
   "source": [
    "import pandas as pd\n",
    "import numpy as np\n",
    "import math\n",
    "import glob\n",
    "import matplotlib.pyplot as plt\n",
    "import seaborn as sns\n",
    "import keras\n",
    "from keras.models import Sequential, load_model\n",
    "from keras.layers import Dense, Activation\n",
    "from keras.callbacks import EarlyStopping, ModelCheckpoint, Callback\n",
    "from keras.optimizers import adam, adadelta, adagrad\n",
    "\n",
    "sns.set(color_codes = True)\n",
    "sns.set_palette(sns.color_palette(\"muted\"))\n",
    "\n",
    "from itertools import tee, islice\n",
    "from ROOT import TFile, TCanvas, TPad, TPaveLabel, TPaveText, TTree, TH1F, TF1\n",
    "from root_numpy import root2array, tree2array, array2tree, array2root\n",
    "import sys\n",
    "from ROOT import gROOT, AddressOf\n",
    "from root_numpy import root2array, rec2array\n",
    "from sklearn import datasets\n",
    "from sklearn.tree import DecisionTreeClassifier\n",
    "from sklearn.ensemble import AdaBoostClassifier\n",
    "from sklearn.metrics import classification_report, roc_auc_score\n",
    "import matplotlib.ticker as ticker\n",
    "from sklearn.neural_network import MLPClassifier\n",
    "from sklearn.model_selection import train_test_split\n",
    "from sklearn import metrics\n",
    "from sklearn.discriminant_analysis import LinearDiscriminantAnalysis as LDA\n",
    "from sklearn.neural_network import MLPClassifier\n",
    "from sklearn.svm import SVC\n",
    "from sklearn import tree"
   ]
  },
  {
   "cell_type": "markdown",
   "metadata": {},
   "source": [
    "## Import the datasets"
   ]
  },
  {
   "cell_type": "markdown",
   "metadata": {},
   "source": [
    ">Import all the signal and the backgrounds \n",
    " * Signals \n",
    "     signal_TPrime_600 = /eos/user/p/prsaha/for_Shivam/output_TprimeBToTH_Hgg_M-600_LH_TuneCP5_PSweights_13TeV-madgraph_pythia8.root\n",
    "        "
   ]
  },
  {
   "cell_type": "code",
   "execution_count": 2,
   "metadata": {},
   "outputs": [],
   "source": [
    "signal = '/eos/home-s/sraj/M.Sc._Thesis/data_files/output_TprimeBToTH_Hgg_M-600_LH_TuneCP5_PSweights_13TeV-madgraph_pythia8.root'\n",
    "back_1 = '/eos/home-s/sraj/M.Sc._Thesis/data_files/output_TTGG_0Jets_TuneCP5_13TeV_amcatnlo_madspin_pythia8.root'"
   ]
  },
  {
   "cell_type": "code",
   "execution_count": 3,
   "metadata": {},
   "outputs": [],
   "source": [
    "treeName_back_1 =\"tagsDumper/trees/ttgg_13TeV_THQLeptonicTag\" \n",
    "treeName_signal = \"tagsDumper/trees/Tprime_600_13TeV_THQLeptonicTag\""
   ]
  },
  {
   "cell_type": "code",
   "execution_count": 4,
   "metadata": {},
   "outputs": [],
   "source": [
    "columns = ['dipho_pt', \n",
    "           'dipho_phi',\n",
    "           'dipho_eta',\n",
    "           'dipho_e',\n",
    "           'dipho_mass',\n",
    "           'dipho_leadPt',\n",
    "           'dipho_leadEt',\n",
    "           'dipho_leadEta',\n",
    "           'dipho_leadPhi',\n",
    "           'dipho_subleadEta',\n",
    "           'bjet1_pt',\n",
    "           'bjet2_pt',\n",
    "           'bjet1_eta',\n",
    "           'bjet2_eta',\n",
    "           'jet1_pt',\n",
    "           'jet2_pt',\n",
    "           'jet1_eta',\n",
    "           'n_jets',\n",
    "           'n_bjets',\n",
    "           'bjet2_phi',\n",
    "           'bjet3_phi',\n",
    "           'bjet3_eta',\n",
    "           'bjet1_discr',\n",
    "           'bjet2_discr',\n",
    "           'bjet3_discr',\n",
    "           'jet3_pt',\n",
    "#           'jet1_phi',\n",
    "#          'jet2_phi' ,\n",
    "          'jet3_phi',\n",
    "          'jet1_e',\n",
    "          'jet2_e',\n",
    "          'jet3_e',\n",
    "#            'CMS_hgg_mass',\n",
    "#             'sigmaMoM_decorr',\n",
    "#             'dipho_sumpt',\n",
    "#             'dipho_cosphi',\n",
    "# #             'dipho_mass',\n",
    "#             'dipho_lead_ptoM',\n",
    "#             'ele1_pt',\n",
    "#             'ele2_pt',\n",
    "#             'ele1_eta',\n",
    "#             'ele2_eta',\n",
    "#             'ele1_phi',\n",
    "#             'ele2_phi',\n",
    "#             'ele1_e',\n",
    "#             'ele2_e',\n",
    "#             'ele1_ch',\n",
    "#             'ele2_ch',\n",
    "          ]\n"
   ]
  },
  {
   "cell_type": "code",
   "execution_count": 5,
   "metadata": {},
   "outputs": [],
   "source": [
    "signal_Tprime600 = root2array(signal, treeName_signal, columns)   #Signal TPrime at 600TeV\n",
    "back_ttgg = root2array(back_1, treeName_back_1, columns) "
   ]
  },
  {
   "cell_type": "code",
   "execution_count": 6,
   "metadata": {},
   "outputs": [],
   "source": [
    "signal_Tprime600 = pd.DataFrame(signal_Tprime600)            #Signal for the testing\n",
    "back_ttgg = pd.DataFrame(back_ttgg)"
   ]
  },
  {
   "cell_type": "code",
   "execution_count": 7,
   "metadata": {},
   "outputs": [
    {
     "data": {
      "text/html": [
       "<div>\n",
       "<style scoped>\n",
       "    .dataframe tbody tr th:only-of-type {\n",
       "        vertical-align: middle;\n",
       "    }\n",
       "\n",
       "    .dataframe tbody tr th {\n",
       "        vertical-align: top;\n",
       "    }\n",
       "\n",
       "    .dataframe thead th {\n",
       "        text-align: right;\n",
       "    }\n",
       "</style>\n",
       "<table border=\"1\" class=\"dataframe\">\n",
       "  <thead>\n",
       "    <tr style=\"text-align: right;\">\n",
       "      <th></th>\n",
       "      <th>dipho_pt</th>\n",
       "      <th>dipho_phi</th>\n",
       "      <th>dipho_eta</th>\n",
       "      <th>dipho_e</th>\n",
       "      <th>dipho_mass</th>\n",
       "      <th>dipho_leadPt</th>\n",
       "      <th>dipho_leadEt</th>\n",
       "      <th>dipho_leadEta</th>\n",
       "      <th>dipho_leadPhi</th>\n",
       "      <th>dipho_subleadEta</th>\n",
       "      <th>...</th>\n",
       "      <th>bjet3_phi</th>\n",
       "      <th>bjet3_eta</th>\n",
       "      <th>bjet1_discr</th>\n",
       "      <th>bjet2_discr</th>\n",
       "      <th>bjet3_discr</th>\n",
       "      <th>jet3_pt</th>\n",
       "      <th>jet3_phi</th>\n",
       "      <th>jet1_e</th>\n",
       "      <th>jet2_e</th>\n",
       "      <th>jet3_e</th>\n",
       "    </tr>\n",
       "  </thead>\n",
       "  <tbody>\n",
       "    <tr>\n",
       "      <th>0</th>\n",
       "      <td>223.705856</td>\n",
       "      <td>-1.323450</td>\n",
       "      <td>0.318467</td>\n",
       "      <td>267.080170</td>\n",
       "      <td>126.641273</td>\n",
       "      <td>199.472260</td>\n",
       "      <td>199.472260</td>\n",
       "      <td>0.084015</td>\n",
       "      <td>-1.190372</td>\n",
       "      <td>1.195149</td>\n",
       "      <td>...</td>\n",
       "      <td>-999.0</td>\n",
       "      <td>-999.0</td>\n",
       "      <td>0.542797</td>\n",
       "      <td>-999.0</td>\n",
       "      <td>-999.0</td>\n",
       "      <td>32.669273</td>\n",
       "      <td>1.569978</td>\n",
       "      <td>95.607208</td>\n",
       "      <td>1191.367432</td>\n",
       "      <td>241.569809</td>\n",
       "    </tr>\n",
       "    <tr>\n",
       "      <th>1</th>\n",
       "      <td>260.774780</td>\n",
       "      <td>-0.267662</td>\n",
       "      <td>-0.128844</td>\n",
       "      <td>290.720459</td>\n",
       "      <td>124.014992</td>\n",
       "      <td>217.392303</td>\n",
       "      <td>217.392303</td>\n",
       "      <td>-0.121357</td>\n",
       "      <td>-0.029141</td>\n",
       "      <td>-0.101361</td>\n",
       "      <td>...</td>\n",
       "      <td>-999.0</td>\n",
       "      <td>-999.0</td>\n",
       "      <td>0.638937</td>\n",
       "      <td>-999.0</td>\n",
       "      <td>-999.0</td>\n",
       "      <td>-999.000000</td>\n",
       "      <td>-999.000000</td>\n",
       "      <td>118.092453</td>\n",
       "      <td>414.571472</td>\n",
       "      <td>-999.000000</td>\n",
       "    </tr>\n",
       "    <tr>\n",
       "      <th>2</th>\n",
       "      <td>161.275345</td>\n",
       "      <td>1.180603</td>\n",
       "      <td>1.236659</td>\n",
       "      <td>325.605042</td>\n",
       "      <td>123.836288</td>\n",
       "      <td>121.089691</td>\n",
       "      <td>121.089691</td>\n",
       "      <td>0.842742</td>\n",
       "      <td>0.717829</td>\n",
       "      <td>1.373165</td>\n",
       "      <td>...</td>\n",
       "      <td>-999.0</td>\n",
       "      <td>-999.0</td>\n",
       "      <td>0.190941</td>\n",
       "      <td>-999.0</td>\n",
       "      <td>-999.0</td>\n",
       "      <td>38.143219</td>\n",
       "      <td>-0.088661</td>\n",
       "      <td>1073.277710</td>\n",
       "      <td>710.365112</td>\n",
       "      <td>1559.091675</td>\n",
       "    </tr>\n",
       "    <tr>\n",
       "      <th>3</th>\n",
       "      <td>180.834686</td>\n",
       "      <td>2.346533</td>\n",
       "      <td>0.262894</td>\n",
       "      <td>223.509109</td>\n",
       "      <td>122.239555</td>\n",
       "      <td>158.326920</td>\n",
       "      <td>158.326920</td>\n",
       "      <td>0.202652</td>\n",
       "      <td>2.675919</td>\n",
       "      <td>0.260665</td>\n",
       "      <td>...</td>\n",
       "      <td>-999.0</td>\n",
       "      <td>-999.0</td>\n",
       "      <td>0.991427</td>\n",
       "      <td>-999.0</td>\n",
       "      <td>-999.0</td>\n",
       "      <td>-999.000000</td>\n",
       "      <td>-999.000000</td>\n",
       "      <td>147.974121</td>\n",
       "      <td>743.884460</td>\n",
       "      <td>-999.000000</td>\n",
       "    </tr>\n",
       "    <tr>\n",
       "      <th>4</th>\n",
       "      <td>120.654503</td>\n",
       "      <td>1.938972</td>\n",
       "      <td>0.362926</td>\n",
       "      <td>178.034470</td>\n",
       "      <td>123.026970</td>\n",
       "      <td>139.716736</td>\n",
       "      <td>139.716736</td>\n",
       "      <td>0.194240</td>\n",
       "      <td>1.749266</td>\n",
       "      <td>0.534833</td>\n",
       "      <td>...</td>\n",
       "      <td>-999.0</td>\n",
       "      <td>-999.0</td>\n",
       "      <td>0.998264</td>\n",
       "      <td>-999.0</td>\n",
       "      <td>-999.0</td>\n",
       "      <td>27.921988</td>\n",
       "      <td>-0.433156</td>\n",
       "      <td>181.441132</td>\n",
       "      <td>170.393524</td>\n",
       "      <td>157.808121</td>\n",
       "    </tr>\n",
       "  </tbody>\n",
       "</table>\n",
       "<p>5 rows × 30 columns</p>\n",
       "</div>"
      ],
      "text/plain": [
       "     dipho_pt  dipho_phi  dipho_eta     dipho_e  dipho_mass  dipho_leadPt  \\\n",
       "0  223.705856  -1.323450   0.318467  267.080170  126.641273    199.472260   \n",
       "1  260.774780  -0.267662  -0.128844  290.720459  124.014992    217.392303   \n",
       "2  161.275345   1.180603   1.236659  325.605042  123.836288    121.089691   \n",
       "3  180.834686   2.346533   0.262894  223.509109  122.239555    158.326920   \n",
       "4  120.654503   1.938972   0.362926  178.034470  123.026970    139.716736   \n",
       "\n",
       "   dipho_leadEt  dipho_leadEta  dipho_leadPhi  dipho_subleadEta     ...       \\\n",
       "0    199.472260       0.084015      -1.190372          1.195149     ...        \n",
       "1    217.392303      -0.121357      -0.029141         -0.101361     ...        \n",
       "2    121.089691       0.842742       0.717829          1.373165     ...        \n",
       "3    158.326920       0.202652       2.675919          0.260665     ...        \n",
       "4    139.716736       0.194240       1.749266          0.534833     ...        \n",
       "\n",
       "   bjet3_phi  bjet3_eta  bjet1_discr  bjet2_discr  bjet3_discr     jet3_pt  \\\n",
       "0     -999.0     -999.0     0.542797       -999.0       -999.0   32.669273   \n",
       "1     -999.0     -999.0     0.638937       -999.0       -999.0 -999.000000   \n",
       "2     -999.0     -999.0     0.190941       -999.0       -999.0   38.143219   \n",
       "3     -999.0     -999.0     0.991427       -999.0       -999.0 -999.000000   \n",
       "4     -999.0     -999.0     0.998264       -999.0       -999.0   27.921988   \n",
       "\n",
       "     jet3_phi       jet1_e       jet2_e       jet3_e  \n",
       "0    1.569978    95.607208  1191.367432   241.569809  \n",
       "1 -999.000000   118.092453   414.571472  -999.000000  \n",
       "2   -0.088661  1073.277710   710.365112  1559.091675  \n",
       "3 -999.000000   147.974121   743.884460  -999.000000  \n",
       "4   -0.433156   181.441132   170.393524   157.808121  \n",
       "\n",
       "[5 rows x 30 columns]"
      ]
     },
     "execution_count": 7,
     "metadata": {},
     "output_type": "execute_result"
    }
   ],
   "source": [
    "signal_Tprime600.head()"
   ]
  },
  {
   "cell_type": "code",
   "execution_count": 8,
   "metadata": {},
   "outputs": [
    {
     "data": {
      "text/plain": [
       "(81013, 30)"
      ]
     },
     "execution_count": 8,
     "metadata": {},
     "output_type": "execute_result"
    }
   ],
   "source": [
    "signal_Tprime600.shape"
   ]
  },
  {
   "cell_type": "code",
   "execution_count": 9,
   "metadata": {},
   "outputs": [
    {
     "data": {
      "text/plain": [
       "81013"
      ]
     },
     "execution_count": 9,
     "metadata": {},
     "output_type": "execute_result"
    }
   ],
   "source": [
    "len(signal_Tprime600)"
   ]
  },
  {
   "cell_type": "code",
   "execution_count": 10,
   "metadata": {},
   "outputs": [
    {
     "name": "stdout",
     "output_type": "stream",
     "text": [
      "<class 'pandas.core.frame.DataFrame'>\n",
      "RangeIndex: 81013 entries, 0 to 81012\n",
      "Data columns (total 30 columns):\n",
      "dipho_pt            81013 non-null float32\n",
      "dipho_phi           81013 non-null float32\n",
      "dipho_eta           81013 non-null float32\n",
      "dipho_e             81013 non-null float32\n",
      "dipho_mass          81013 non-null float32\n",
      "dipho_leadPt        81013 non-null float32\n",
      "dipho_leadEt        81013 non-null float32\n",
      "dipho_leadEta       81013 non-null float32\n",
      "dipho_leadPhi       81013 non-null float32\n",
      "dipho_subleadEta    81013 non-null float32\n",
      "bjet1_pt            81013 non-null float32\n",
      "bjet2_pt            81013 non-null float32\n",
      "bjet1_eta           81013 non-null float32\n",
      "bjet2_eta           81013 non-null float32\n",
      "jet1_pt             81013 non-null float32\n",
      "jet2_pt             81013 non-null float32\n",
      "jet1_eta            81013 non-null float32\n",
      "n_jets              81013 non-null float32\n",
      "n_bjets             81013 non-null float32\n",
      "bjet2_phi           81013 non-null float32\n",
      "bjet3_phi           81013 non-null float32\n",
      "bjet3_eta           81013 non-null float32\n",
      "bjet1_discr         81013 non-null float32\n",
      "bjet2_discr         81013 non-null float32\n",
      "bjet3_discr         81013 non-null float32\n",
      "jet3_pt             81013 non-null float32\n",
      "jet3_phi            81013 non-null float32\n",
      "jet1_e              81013 non-null float32\n",
      "jet2_e              81013 non-null float32\n",
      "jet3_e              81013 non-null float32\n",
      "dtypes: float32(30)\n",
      "memory usage: 9.3 MB\n"
     ]
    }
   ],
   "source": [
    "signal_Tprime600.info()"
   ]
  },
  {
   "cell_type": "code",
   "execution_count": 11,
   "metadata": {},
   "outputs": [],
   "source": [
    "assert signal_Tprime600.isnull().sum().sum() == 0"
   ]
  },
  {
   "cell_type": "code",
   "execution_count": 12,
   "metadata": {},
   "outputs": [
    {
     "data": {
      "image/png": "[encoded data removed]",
      "text/plain": [
       "<Figure size 432x288 with 1 Axes>"
      ]
     },
     "metadata": {},
     "output_type": "display_data"
    }
   ],
   "source": [
    "low_high=(0,1)\n",
    "signal_Tprime600['bjet3_phi'].plot.hist( alpha = 1, fill= False,\n",
    "                                        histtype = 'step', edgecolor = 'g', density=False, range=low_high, label = 'Signal')\n",
    "back_ttgg['bjet3_phi'].plot.hist( alpha = 1, fill= False,\n",
    "                                        histtype = 'step', edgecolor = 'r', density=False, range=low_high, label = 'Background')\n",
    "plt.legend(bbox_to_anchor=(1.01, 1), loc=\"upper left\")\n",
    "plt.show()\n"
   ]
  },
  {
   "cell_type": "code",
   "execution_count": 13,
   "metadata": {},
   "outputs": [
    {
     "data": {
      "text/plain": [
       "<matplotlib.axes._subplots.AxesSubplot at 0x7f9e98cce0b8>"
      ]
     },
     "execution_count": 13,
     "metadata": {},
     "output_type": "execute_result"
    },
    {
     "data": {
      "image/png": "[encoded data removed]",
      "text/plain": [
       "<Figure size 432x288 with 1 Axes>"
      ]
     },
     "metadata": {},
     "output_type": "display_data"
    }
   ],
   "source": [
    "signal_Tprime600['dipho_pt'].plot.hist(bins=100)\n",
    "back_ttgg['dipho_pt'].plot.hist(bins=100)"
   ]
  },
  {
   "cell_type": "code",
   "execution_count": 14,
   "metadata": {},
   "outputs": [
    {
     "data": {
      "text/plain": [
       "<matplotlib.axes._subplots.AxesSubplot at 0x7f9e98b03ba8>"
      ]
     },
     "execution_count": 14,
     "metadata": {},
     "output_type": "execute_result"
    },
    {
     "data": {
      "image/png": "[encoded data removed]",
      "text/plain": [
       "<Figure size 432x288 with 1 Axes>"
      ]
     },
     "metadata": {},
     "output_type": "display_data"
    }
   ],
   "source": [
    "signal_Tprime600['dipho_phi'].plot.hist(bins=100)\n",
    "back_ttgg['dipho_phi'].plot.hist(bins=100)"
   ]
  },
  {
   "cell_type": "code",
   "execution_count": 15,
   "metadata": {},
   "outputs": [
    {
     "data": {
      "image/png": "[encoded data removed]",
      "text/plain": [
       "<Figure size 432x288 with 1 Axes>"
      ]
     },
     "metadata": {},
     "output_type": "display_data"
    }
   ],
   "source": [
    "low_high=(0,1)\n",
    "signal_Tprime600['jet2_pt'].plot.hist( alpha = 1, fill= False,\n",
    "                                        histtype = 'step', edgecolor = 'g', density=False, range=low_high, label = 'Signal')\n",
    "back_ttgg['jet2_pt'].plot.hist( alpha = 1, fill= False,\n",
    "                                        histtype = 'step', edgecolor = 'r', density=False, range=low_high, label = 'Background')\n",
    "plt.legend(bbox_to_anchor=(1.01, 1), loc=\"upper left\")\n",
    "plt.show()\n"
   ]
  },
  {
   "cell_type": "code",
   "execution_count": 16,
   "metadata": {},
   "outputs": [],
   "source": [
    "signal = signal_Tprime600\n",
    "backgr = back_ttgg"
   ]
  },
  {
   "cell_type": "code",
   "execution_count": 17,
   "metadata": {},
   "outputs": [],
   "source": [
    "X = np.concatenate((signal_Tprime600, backgr))\n",
    "y = np.concatenate((np.ones(signal_Tprime600.shape[0]),\n",
    "                    np.zeros(backgr.shape[0])))"
   ]
  },
  {
   "cell_type": "code",
   "execution_count": 18,
   "metadata": {},
   "outputs": [
    {
     "data": {
      "text/plain": [
       "((136860, 30), (136860,))"
      ]
     },
     "execution_count": 18,
     "metadata": {},
     "output_type": "execute_result"
    }
   ],
   "source": [
    "X.shape, y.shape"
   ]
  },
  {
   "cell_type": "code",
   "execution_count": 19,
   "metadata": {},
   "outputs": [],
   "source": [
    "X_train,X_test, y_train, y_test = train_test_split(X, y, test_size=0.33, random_state =5)\n"
   ]
  },
  {
   "cell_type": "code",
   "execution_count": 20,
   "metadata": {},
   "outputs": [
    {
     "data": {
      "text/plain": [
       "((91696, 30), (91696,))"
      ]
     },
     "execution_count": 20,
     "metadata": {},
     "output_type": "execute_result"
    }
   ],
   "source": [
    "X_train.shape, y_train.shape"
   ]
  },
  {
   "cell_type": "code",
   "execution_count": 21,
   "metadata": {},
   "outputs": [
    {
     "data": {
      "text/plain": [
       "((91696, 30), (91696,))"
      ]
     },
     "execution_count": 21,
     "metadata": {},
     "output_type": "execute_result"
    }
   ],
   "source": [
    "X_train.shape, y_train.shape"
   ]
  },
  {
   "cell_type": "code",
   "execution_count": 22,
   "metadata": {},
   "outputs": [],
   "source": [
    "from keras.models import Sequential\n",
    "from keras.layers import Dense\n",
    "import tensorflow as tf\n",
    "import keras\n",
    "from keras.layers import Dropout\n",
    "from keras.constraints import maxnorm\n",
    "from keras.wrappers.scikit_learn import KerasClassifier\n",
    "from keras.constraints import maxnorm\n",
    "from keras.optimizers import SGD\n",
    "from sklearn.model_selection import cross_val_score\n",
    "from sklearn.preprocessing import LabelEncoder\n",
    "from sklearn.model_selection import StratifiedKFold\n",
    "from sklearn.preprocessing import StandardScaler\n",
    "from sklearn.pipeline import Pipeline\n",
    "from keras.utils.vis_utils import plot_model\n",
    "from keras.layers import LSTM\n",
    "from keras.layers.core import Dense, Dropout, Activation\n",
    "from keras.callbacks import EarlyStopping, ModelCheckpoint\n",
    "from keras.layers.normalization import BatchNormalization\n",
    "from keras.optimizers import Adadelta\n",
    "from tensorflow.keras import regularizers\n",
    "from tensorflow.keras.initializers import RandomNormal, Constant"
   ]
  },
  {
   "cell_type": "code",
   "execution_count": 23,
   "metadata": {
    "scrolled": true
   },
   "outputs": [
    {
     "name": "stdout",
     "output_type": "stream",
     "text": [
      "Summary of the built model...\n",
      "_________________________________________________________________\n",
      "Layer (type)                 Output Shape              Param #   \n",
      "=================================================================\n",
      "batch_normalization_1 (Batch (None, 30)                120       \n",
      "_________________________________________________________________\n",
      "dense_1 (Dense)              (None, 200)               6200      \n",
      "_________________________________________________________________\n",
      "batch_normalization_2 (Batch (None, 200)               800       \n",
      "_________________________________________________________________\n",
      "dropout_1 (Dropout)          (None, 200)               0         \n",
      "_________________________________________________________________\n",
      "dense_2 (Dense)              (None, 200)               40200     \n",
      "_________________________________________________________________\n",
      "dropout_2 (Dropout)          (None, 200)               0         \n",
      "_________________________________________________________________\n",
      "dense_3 (Dense)              (None, 100)               20100     \n",
      "_________________________________________________________________\n",
      "batch_normalization_3 (Batch (None, 100)               400       \n",
      "_________________________________________________________________\n",
      "dropout_3 (Dropout)          (None, 100)               0         \n",
      "_________________________________________________________________\n",
      "dense_4 (Dense)              (None, 100)               10100     \n",
      "_________________________________________________________________\n",
      "batch_normalization_4 (Batch (None, 100)               400       \n",
      "_________________________________________________________________\n",
      "dropout_4 (Dropout)          (None, 100)               0         \n",
      "_________________________________________________________________\n",
      "dense_5 (Dense)              (None, 100)               10100     \n",
      "_________________________________________________________________\n",
      "batch_normalization_5 (Batch (None, 100)               400       \n",
      "_________________________________________________________________\n",
      "output (Dense)               (None, 1)                 101       \n",
      "=================================================================\n",
      "Total params: 88,921\n",
      "Trainable params: 87,861\n",
      "Non-trainable params: 1,060\n",
      "_________________________________________________________________\n",
      "None\n"
     ]
    }
   ],
   "source": [
    "clf = Sequential()\n",
    "# clf.add(LSTM(1, return_sequences=True ))\n",
    "clf.add(BatchNormalization(input_shape = (30,)))\n",
    "# clf.add(Dropout(3))\n",
    "clf.add(Dense(200, activation = 'relu',kernel_regularizer=regularizers.l2(0.001), kernel_initializer = 'lecun_uniform',name = 'dense_1'))\n",
    "clf.add(BatchNormalization())\n",
    "clf.add(Dropout(0.3))\n",
    "clf.add(Dense(200, activation = 'relu',kernel_regularizer=regularizers.l2(0.001), kernel_initializer = 'lecun_uniform', name = 'dense_2'))\n",
    "clf.add(Dropout(0.3))\n",
    "clf.add(Dense(100, activation = 'relu',kernel_regularizer=regularizers.l2(0.001), kernel_initializer = 'lecun_uniform', name = 'dense_3'))\n",
    "clf.add(BatchNormalization())\n",
    "clf.add(Dropout(0.3))\n",
    "clf.add(Dense(100, activation = 'relu',kernel_regularizer=regularizers.l2(0.001), kernel_initializer = 'lecun_uniform',name = 'dense_4'))\n",
    "clf.add(BatchNormalization())\n",
    "clf.add(Dropout(0.3))\n",
    "clf.add(Dense(100, activation = 'relu',kernel_regularizer=regularizers.l2(0.001), kernel_initializer = 'lecun_uniform', name = 'dense_5'))\n",
    "clf.add(BatchNormalization(momentum=0.99,epsilon=0.001,beta_initializer=RandomNormal(mean=0.0, stddev=0.05),gamma_initializer=Constant(value=0.9)))\n",
    "\n",
    "# Output\n",
    "clf.add(Dense(1, activation = 'sigmoid',kernel_regularizer=regularizers.l2(0.001), kernel_initializer = 'lecun_uniform', name = 'output'))\n",
    "#compile model\n",
    "\n",
    "# opt = SGD(lr=0.01, momentum=0.9)\n",
    "clf.compile(loss = 'binary_crossentropy', \n",
    "            optimizer= 'adam',\n",
    "            metrics=['accuracy'])\n",
    "print('Summary of the built model...')\n",
    "print(clf.summary())\n",
    "# plot_model(clf, to_file='/eos/home-s/sraj/M.Sc._Thesis/Plot/''clf_plot_multiclass___.png', show_shapes=True, show_layer_names=True)"
   ]
  },
  {
   "cell_type": "code",
   "execution_count": 24,
   "metadata": {},
   "outputs": [
    {
     "name": "stdout",
     "output_type": "stream",
     "text": [
      "Train on 64187 samples, validate on 27509 samples\n",
      "Epoch 1/100\n",
      "64187/64187 [==============================] - 3s 49us/step - loss: 1.3300 - acc: 0.6433 - val_loss: 1.0883 - val_acc: 0.8338\n",
      "Epoch 2/100\n",
      "64187/64187 [==============================] - 1s 15us/step - loss: 1.1197 - acc: 0.8081 - val_loss: 1.0043 - val_acc: 0.8690\n",
      "Epoch 3/100\n",
      "64187/64187 [==============================] - 1s 13us/step - loss: 1.0177 - acc: 0.8519 - val_loss: 0.9547 - val_acc: 0.8850\n",
      "Epoch 4/100\n",
      "64187/64187 [==============================] - 1s 13us/step - loss: 0.9568 - acc: 0.8704 - val_loss: 0.8955 - val_acc: 0.8941\n",
      "Epoch 5/100\n",
      "64187/64187 [==============================] - 1s 14us/step - loss: 0.9036 - acc: 0.8822 - val_loss: 0.8379 - val_acc: 0.9043\n",
      "Epoch 6/100\n",
      "64187/64187 [==============================] - 1s 13us/step - loss: 0.8527 - acc: 0.8920 - val_loss: 0.7867 - val_acc: 0.9153\n",
      "Epoch 7/100\n",
      "64187/64187 [==============================] - 1s 13us/step - loss: 0.8059 - acc: 0.9022 - val_loss: 0.7395 - val_acc: 0.9244\n",
      "Epoch 8/100\n",
      "64187/64187 [==============================] - 1s 14us/step - loss: 0.7585 - acc: 0.9100 - val_loss: 0.6911 - val_acc: 0.9353\n",
      "Epoch 9/100\n",
      "64187/64187 [==============================] - 1s 14us/step - loss: 0.7126 - acc: 0.9209 - val_loss: 0.6525 - val_acc: 0.9423\n",
      "Epoch 10/100\n",
      "64187/64187 [==============================] - 1s 14us/step - loss: 0.6752 - acc: 0.9244 - val_loss: 0.6226 - val_acc: 0.9452\n",
      "Epoch 11/100\n",
      "64187/64187 [==============================] - 1s 14us/step - loss: 0.6403 - acc: 0.9300 - val_loss: 0.5908 - val_acc: 0.9485\n",
      "Epoch 12/100\n",
      "64187/64187 [==============================] - 1s 13us/step - loss: 0.6098 - acc: 0.9335 - val_loss: 0.5648 - val_acc: 0.9488\n",
      "Epoch 13/100\n",
      "64187/64187 [==============================] - 1s 13us/step - loss: 0.5844 - acc: 0.9345 - val_loss: 0.5409 - val_acc: 0.9490\n",
      "Epoch 14/100\n",
      "64187/64187 [==============================] - 1s 14us/step - loss: 0.5587 - acc: 0.9356 - val_loss: 0.5208 - val_acc: 0.9479\n",
      "Epoch 15/100\n",
      "64187/64187 [==============================] - 1s 13us/step - loss: 0.5341 - acc: 0.9381 - val_loss: 0.5006 - val_acc: 0.9474\n",
      "Epoch 16/100\n",
      "64187/64187 [==============================] - 1s 13us/step - loss: 0.5099 - acc: 0.9397 - val_loss: 0.4842 - val_acc: 0.9467\n",
      "Epoch 17/100\n",
      "64187/64187 [==============================] - 1s 14us/step - loss: 0.4884 - acc: 0.9405 - val_loss: 0.4641 - val_acc: 0.9471\n",
      "Epoch 18/100\n",
      "64187/64187 [==============================] - 1s 12us/step - loss: 0.4671 - acc: 0.9415 - val_loss: 0.4507 - val_acc: 0.9445\n",
      "Epoch 19/100\n",
      "64187/64187 [==============================] - 1s 14us/step - loss: 0.4502 - acc: 0.9419 - val_loss: 0.4347 - val_acc: 0.9451\n",
      "Epoch 20/100\n",
      "64187/64187 [==============================] - 1s 13us/step - loss: 0.4306 - acc: 0.9438 - val_loss: 0.4213 - val_acc: 0.9446\n",
      "Epoch 21/100\n",
      "64187/64187 [==============================] - 1s 13us/step - loss: 0.4137 - acc: 0.9430 - val_loss: 0.4114 - val_acc: 0.9418\n",
      "Epoch 22/100\n",
      "64187/64187 [==============================] - 1s 12us/step - loss: 0.3981 - acc: 0.9437 - val_loss: 0.4001 - val_acc: 0.9411\n",
      "Epoch 23/100\n",
      "64187/64187 [==============================] - 1s 13us/step - loss: 0.3834 - acc: 0.9444 - val_loss: 0.3977 - val_acc: 0.9340\n",
      "Epoch 24/100\n",
      "64187/64187 [==============================] - 1s 13us/step - loss: 0.3706 - acc: 0.9438 - val_loss: 0.3899 - val_acc: 0.9331\n",
      "Epoch 25/100\n",
      "64187/64187 [==============================] - 1s 12us/step - loss: 0.3559 - acc: 0.9450 - val_loss: 0.3777 - val_acc: 0.9345\n",
      "Epoch 26/100\n",
      "64187/64187 [==============================] - 1s 13us/step - loss: 0.3427 - acc: 0.9459 - val_loss: 0.3786 - val_acc: 0.9264\n",
      "Epoch 27/100\n",
      "64187/64187 [==============================] - 1s 13us/step - loss: 0.3290 - acc: 0.9479 - val_loss: 0.3721 - val_acc: 0.9268\n",
      "Epoch 28/100\n",
      "64187/64187 [==============================] - 1s 13us/step - loss: 0.3193 - acc: 0.9466 - val_loss: 0.3598 - val_acc: 0.9280\n",
      "Epoch 29/100\n",
      "64187/64187 [==============================] - 1s 13us/step - loss: 0.3100 - acc: 0.9477 - val_loss: 0.3673 - val_acc: 0.9215\n",
      "Epoch 30/100\n",
      "64187/64187 [==============================] - 1s 12us/step - loss: 0.2993 - acc: 0.9473 - val_loss: 0.3485 - val_acc: 0.9275\n",
      "Epoch 31/100\n",
      "64187/64187 [==============================] - 1s 12us/step - loss: 0.2905 - acc: 0.9467 - val_loss: 0.3610 - val_acc: 0.9143\n",
      "Epoch 32/100\n",
      "64187/64187 [==============================] - 1s 12us/step - loss: 0.2811 - acc: 0.9479 - val_loss: 0.3393 - val_acc: 0.9252\n",
      "Epoch 33/100\n",
      "64187/64187 [==============================] - 1s 12us/step - loss: 0.2736 - acc: 0.9479 - val_loss: 0.3429 - val_acc: 0.9201\n",
      "Epoch 34/100\n",
      "64187/64187 [==============================] - 1s 12us/step - loss: 0.2656 - acc: 0.9484 - val_loss: 0.3457 - val_acc: 0.9097\n",
      "Epoch 35/100\n",
      "64187/64187 [==============================] - 1s 12us/step - loss: 0.2600 - acc: 0.9488 - val_loss: 0.3421 - val_acc: 0.9118\n",
      "Epoch 36/100\n",
      "64187/64187 [==============================] - 1s 12us/step - loss: 0.2525 - acc: 0.9486 - val_loss: 0.3219 - val_acc: 0.9202\n",
      "Epoch 37/100\n",
      "64187/64187 [==============================] - 1s 11us/step - loss: 0.2451 - acc: 0.9488 - val_loss: 0.3425 - val_acc: 0.9039\n",
      "Epoch 38/100\n",
      "64187/64187 [==============================] - 1s 12us/step - loss: 0.2408 - acc: 0.9492 - val_loss: 0.3446 - val_acc: 0.8991\n",
      "Epoch 39/100\n",
      "64187/64187 [==============================] - 1s 12us/step - loss: 0.2351 - acc: 0.9490 - val_loss: 0.3159 - val_acc: 0.9149\n",
      "Epoch 40/100\n",
      "64187/64187 [==============================] - 1s 12us/step - loss: 0.2302 - acc: 0.9484 - val_loss: 0.3356 - val_acc: 0.8977\n",
      "Epoch 41/100\n",
      "64187/64187 [==============================] - 1s 12us/step - loss: 0.2229 - acc: 0.9501 - val_loss: 0.3225 - val_acc: 0.9033\n",
      "Epoch 42/100\n",
      "64187/64187 [==============================] - 1s 11us/step - loss: 0.2181 - acc: 0.9496 - val_loss: 0.3218 - val_acc: 0.9044\n",
      "Epoch 43/100\n",
      "64187/64187 [==============================] - 1s 12us/step - loss: 0.2163 - acc: 0.9498 - val_loss: 0.3168 - val_acc: 0.9084\n",
      "Epoch 44/100\n",
      "64187/64187 [==============================] - 1s 12us/step - loss: 0.2121 - acc: 0.9497 - val_loss: 0.3244 - val_acc: 0.8985\n",
      "Epoch 45/100\n",
      "64187/64187 [==============================] - 1s 12us/step - loss: 0.2068 - acc: 0.9508 - val_loss: 0.3256 - val_acc: 0.8968\n",
      "Epoch 46/100\n",
      "64187/64187 [==============================] - 1s 11us/step - loss: 0.2037 - acc: 0.9501 - val_loss: 0.3203 - val_acc: 0.8980\n",
      "Epoch 47/100\n",
      "64187/64187 [==============================] - 1s 12us/step - loss: 0.1995 - acc: 0.9520 - val_loss: 0.3152 - val_acc: 0.8996\n",
      "Epoch 48/100\n",
      "64187/64187 [==============================] - 1s 12us/step - loss: 0.1975 - acc: 0.9510 - val_loss: 0.3353 - val_acc: 0.8867\n",
      "Epoch 49/100\n",
      "64187/64187 [==============================] - 1s 12us/step - loss: 0.1939 - acc: 0.9517 - val_loss: 0.3263 - val_acc: 0.8897\n",
      "Epoch 50/100\n",
      "64187/64187 [==============================] - 1s 12us/step - loss: 0.1930 - acc: 0.9503 - val_loss: 0.3149 - val_acc: 0.8991\n",
      "Epoch 51/100\n",
      "64187/64187 [==============================] - 1s 13us/step - loss: 0.1894 - acc: 0.9506 - val_loss: 0.2970 - val_acc: 0.9134\n",
      "Epoch 52/100\n",
      "64187/64187 [==============================] - 1s 11us/step - loss: 0.1878 - acc: 0.9502 - val_loss: 0.3057 - val_acc: 0.9022\n",
      "Epoch 53/100\n",
      "64187/64187 [==============================] - 1s 12us/step - loss: 0.1845 - acc: 0.9511 - val_loss: 0.2717 - val_acc: 0.9270\n",
      "Epoch 54/100\n",
      "64187/64187 [==============================] - 1s 12us/step - loss: 0.1839 - acc: 0.9502 - val_loss: 0.2908 - val_acc: 0.9044\n",
      "Epoch 55/100\n",
      "64187/64187 [==============================] - 1s 12us/step - loss: 0.1812 - acc: 0.9506 - val_loss: 0.3042 - val_acc: 0.8929\n",
      "Epoch 56/100\n",
      "64187/64187 [==============================] - 1s 12us/step - loss: 0.1785 - acc: 0.9513 - val_loss: 0.2962 - val_acc: 0.9011\n",
      "Epoch 57/100\n",
      "64187/64187 [==============================] - 1s 12us/step - loss: 0.1778 - acc: 0.9519 - val_loss: 0.2738 - val_acc: 0.9178\n",
      "Epoch 58/100\n",
      "64187/64187 [==============================] - 1s 12us/step - loss: 0.1751 - acc: 0.9516 - val_loss: 0.2814 - val_acc: 0.9108\n",
      "Epoch 59/100\n",
      "64187/64187 [==============================] - 1s 12us/step - loss: 0.1722 - acc: 0.9525 - val_loss: 0.2546 - val_acc: 0.9304\n",
      "Epoch 60/100\n",
      "64187/64187 [==============================] - 1s 12us/step - loss: 0.1716 - acc: 0.9520 - val_loss: 0.2528 - val_acc: 0.9356\n",
      "Epoch 61/100\n",
      "64187/64187 [==============================] - 1s 12us/step - loss: 0.1703 - acc: 0.9509 - val_loss: 0.2602 - val_acc: 0.9243\n",
      "Epoch 62/100\n",
      "64187/64187 [==============================] - 1s 13us/step - loss: 0.1684 - acc: 0.9525 - val_loss: 0.2558 - val_acc: 0.9269\n",
      "Epoch 63/100\n",
      "64187/64187 [==============================] - 1s 13us/step - loss: 0.1670 - acc: 0.9514 - val_loss: 0.2524 - val_acc: 0.9252\n",
      "Epoch 64/100\n",
      "64187/64187 [==============================] - 1s 12us/step - loss: 0.1652 - acc: 0.9527 - val_loss: 0.2485 - val_acc: 0.9327\n",
      "Epoch 65/100\n",
      "64187/64187 [==============================] - 1s 12us/step - loss: 0.1653 - acc: 0.9525 - val_loss: 0.2377 - val_acc: 0.9349\n",
      "Epoch 66/100\n",
      "64187/64187 [==============================] - 1s 12us/step - loss: 0.1640 - acc: 0.9522 - val_loss: 0.2328 - val_acc: 0.9358\n",
      "Epoch 67/100\n",
      "64187/64187 [==============================] - 1s 11us/step - loss: 0.1620 - acc: 0.9529 - val_loss: 0.2189 - val_acc: 0.9396\n",
      "Epoch 68/100\n",
      "64187/64187 [==============================] - 1s 12us/step - loss: 0.1620 - acc: 0.9524 - val_loss: 0.2251 - val_acc: 0.9401\n",
      "Epoch 69/100\n",
      "64187/64187 [==============================] - 1s 10us/step - loss: 0.1594 - acc: 0.9531 - val_loss: 0.2263 - val_acc: 0.9427\n",
      "Epoch 70/100\n",
      "64187/64187 [==============================] - 1s 12us/step - loss: 0.1579 - acc: 0.9531 - val_loss: 0.2296 - val_acc: 0.9388\n",
      "Epoch 71/100\n",
      "64187/64187 [==============================] - 1s 12us/step - loss: 0.1582 - acc: 0.9534 - val_loss: 0.2265 - val_acc: 0.9354\n",
      "Epoch 72/100\n",
      "64187/64187 [==============================] - 1s 12us/step - loss: 0.1587 - acc: 0.9522 - val_loss: 0.2206 - val_acc: 0.9446\n",
      "Epoch 73/100\n",
      "64187/64187 [==============================] - 1s 12us/step - loss: 0.1560 - acc: 0.9528 - val_loss: 0.2142 - val_acc: 0.9388\n",
      "Epoch 74/100\n",
      "64187/64187 [==============================] - 1s 12us/step - loss: 0.1544 - acc: 0.9533 - val_loss: 0.2145 - val_acc: 0.9424\n",
      "Epoch 75/100\n",
      "64187/64187 [==============================] - 1s 12us/step - loss: 0.1574 - acc: 0.9521 - val_loss: 0.2040 - val_acc: 0.9452\n",
      "Epoch 76/100\n",
      "64187/64187 [==============================] - 1s 11us/step - loss: 0.1555 - acc: 0.9529 - val_loss: 0.1940 - val_acc: 0.9449\n",
      "Epoch 77/100\n",
      "64187/64187 [==============================] - 1s 11us/step - loss: 0.1539 - acc: 0.9531 - val_loss: 0.2065 - val_acc: 0.9379\n",
      "Epoch 78/100\n",
      "64187/64187 [==============================] - 1s 11us/step - loss: 0.1518 - acc: 0.9540 - val_loss: 0.1897 - val_acc: 0.9479\n",
      "Epoch 79/100\n",
      "64187/64187 [==============================] - 1s 12us/step - loss: 0.1532 - acc: 0.9534 - val_loss: 0.2050 - val_acc: 0.9363\n",
      "Epoch 80/100\n",
      "64187/64187 [==============================] - 1s 12us/step - loss: 0.1535 - acc: 0.9525 - val_loss: 0.1991 - val_acc: 0.9396\n",
      "Epoch 81/100\n",
      "64187/64187 [==============================] - 1s 11us/step - loss: 0.1535 - acc: 0.9520 - val_loss: 0.1748 - val_acc: 0.9514\n",
      "Epoch 82/100\n",
      "64187/64187 [==============================] - 1s 11us/step - loss: 0.1520 - acc: 0.9538 - val_loss: 0.1761 - val_acc: 0.9476\n",
      "Epoch 83/100\n",
      "64187/64187 [==============================] - 1s 11us/step - loss: 0.1503 - acc: 0.9537 - val_loss: 0.1872 - val_acc: 0.9394\n",
      "Epoch 84/100\n",
      "64187/64187 [==============================] - 1s 11us/step - loss: 0.1502 - acc: 0.9530 - val_loss: 0.1816 - val_acc: 0.9401\n",
      "Epoch 85/100\n",
      "64187/64187 [==============================] - 1s 12us/step - loss: 0.1496 - acc: 0.9538 - val_loss: 0.1769 - val_acc: 0.9438\n",
      "Epoch 86/100\n",
      "64187/64187 [==============================] - 1s 12us/step - loss: 0.1503 - acc: 0.9528 - val_loss: 0.1675 - val_acc: 0.9535\n",
      "Epoch 87/100\n",
      "64187/64187 [==============================] - 1s 12us/step - loss: 0.1495 - acc: 0.9529 - val_loss: 0.1657 - val_acc: 0.9513\n",
      "Epoch 88/100\n",
      "64187/64187 [==============================] - 1s 12us/step - loss: 0.1476 - acc: 0.9535 - val_loss: 0.1738 - val_acc: 0.9440\n",
      "Epoch 89/100\n",
      "64187/64187 [==============================] - 1s 11us/step - loss: 0.1483 - acc: 0.9537 - val_loss: 0.1650 - val_acc: 0.9511\n",
      "Epoch 90/100\n",
      "64187/64187 [==============================] - 1s 11us/step - loss: 0.1461 - acc: 0.9540 - val_loss: 0.1673 - val_acc: 0.9498\n",
      "Epoch 91/100\n",
      "64187/64187 [==============================] - 1s 12us/step - loss: 0.1449 - acc: 0.9550 - val_loss: 0.1693 - val_acc: 0.9496\n",
      "Epoch 92/100\n",
      "64187/64187 [==============================] - 1s 10us/step - loss: 0.1462 - acc: 0.9544 - val_loss: 0.1736 - val_acc: 0.9465\n",
      "Epoch 93/100\n",
      "64187/64187 [==============================] - 1s 12us/step - loss: 0.1452 - acc: 0.9542 - val_loss: 0.1638 - val_acc: 0.9520\n",
      "Epoch 94/100\n",
      "64187/64187 [==============================] - 1s 12us/step - loss: 0.1457 - acc: 0.9538 - val_loss: 0.1623 - val_acc: 0.9520\n",
      "Epoch 95/100\n",
      "64187/64187 [==============================] - 1s 13us/step - loss: 0.1452 - acc: 0.9540 - val_loss: 0.1639 - val_acc: 0.9527\n",
      "Epoch 96/100\n",
      "64187/64187 [==============================] - 1s 12us/step - loss: 0.1447 - acc: 0.9548 - val_loss: 0.1563 - val_acc: 0.9541\n",
      "Epoch 97/100\n",
      "64187/64187 [==============================] - 1s 12us/step - loss: 0.1443 - acc: 0.9546 - val_loss: 0.1707 - val_acc: 0.9459\n",
      "Epoch 98/100\n",
      "64187/64187 [==============================] - 1s 12us/step - loss: 0.1448 - acc: 0.9535 - val_loss: 0.1545 - val_acc: 0.9553\n",
      "Epoch 99/100\n",
      "64187/64187 [==============================] - 1s 13us/step - loss: 0.1454 - acc: 0.9533 - val_loss: 0.1546 - val_acc: 0.9515\n",
      "Epoch 100/100\n",
      "64187/64187 [==============================] - 1s 12us/step - loss: 0.1441 - acc: 0.9547 - val_loss: 0.1556 - val_acc: 0.9529\n"
     ]
    },
    {
     "name": "stderr",
     "output_type": "stream",
     "text": [
      "2022-02-19 07:21:13.453577: I tensorflow/core/platform/cpu_feature_guard.cc:141] Your CPU supports instructions that this TensorFlow binary was not compiled to use: AVX2 FMA\n"
     ]
    }
   ],
   "source": [
    "# simple early stopping\n",
    "es = EarlyStopping(monitor='val_loss', verbose=1, patience =  10, mode = \"auto\", baseline = None)\n",
    "# fit model\n",
    "history = clf.fit(X_train, y_train, validation_split = 0.30, batch_size= 9000, epochs=100, verbose=1)\n",
    "# evaluate the model"
   ]
  },
  {
   "cell_type": "code",
   "execution_count": 25,
   "metadata": {},
   "outputs": [
    {
     "name": "stdout",
     "output_type": "stream",
     "text": [
      "Accuracy: 95.12%\n"
     ]
    }
   ],
   "source": [
    "# Final evaluation of the model for DNN\n",
    "# Testing Outputs\n",
    "scores = clf.evaluate(X_test, y_test, verbose=0)\n",
    "print(\"Accuracy: %.2f%%\" % (scores[1]*100))"
   ]
  },
  {
   "cell_type": "code",
   "execution_count": 26,
   "metadata": {},
   "outputs": [
    {
     "name": "stdout",
     "output_type": "stream",
     "text": [
      "Accuracy: 95.39%\n"
     ]
    }
   ],
   "source": [
    "# Final evaluation of the model for DNN\n",
    "# Testing Outputs\n",
    "scores = clf.evaluate(X_train, y_train, verbose=0)\n",
    "print(\"Accuracy: %.2f%%\" % (scores[1]*100))"
   ]
  },
  {
   "cell_type": "code",
   "execution_count": 27,
   "metadata": {},
   "outputs": [
    {
     "name": "stdout",
     "output_type": "stream",
     "text": [
      "CPU times: user 4 µs, sys: 0 ns, total: 4 µs\n",
      "Wall time: 12.2 µs\n"
     ]
    }
   ],
   "source": [
    "%time"
   ]
  },
  {
   "cell_type": "code",
   "execution_count": 28,
   "metadata": {},
   "outputs": [],
   "source": [
    "import h5py\n",
    "\n",
    "# hf.create_dataset('dataset_1', h)"
   ]
  },
  {
   "cell_type": "code",
   "execution_count": 29,
   "metadata": {},
   "outputs": [
    {
     "name": "stdout",
     "output_type": "stream",
     "text": [
      "saved trained model with combined background and a signal to disk\n"
     ]
    }
   ],
   "source": [
    "from keras.models import model_from_json\n",
    "model_json = clf.to_json()\n",
    "with open(\"model(with ttgg as background and TPrime_600 signal_train).json\", \"w\") as json_file:\n",
    "    json_file.write(model_json)\n",
    "#serialize weights to HDF5\n",
    "clf.save_weights(\"model(with ttgg as background and TPrime_600 signal_train).h5\")\n",
    "print(\"saved trained model with combined background and a signal to disk\")"
   ]
  },
  {
   "cell_type": "code",
   "execution_count": 30,
   "metadata": {},
   "outputs": [
    {
     "name": "stdout",
     "output_type": "stream",
     "text": [
      "Loaded model from disk\n"
     ]
    }
   ],
   "source": [
    "# load json and create model\n",
    "json_file = open('model(with ttgg as background and TPrime_600 signal_train).json', 'r')\n",
    "loaded_model_json = json_file.read()\n",
    "json_file.close()\n",
    "loaded_model = model_from_json(loaded_model_json)\n",
    "# load weights into new model\n",
    "loaded_model.load_weights(\"model(with ttgg as background and TPrime_600 signal_train).h5\")\n",
    "print(\"Loaded model from disk\")"
   ]
  },
  {
   "cell_type": "code",
   "execution_count": 31,
   "metadata": {},
   "outputs": [
    {
     "name": "stdout",
     "output_type": "stream",
     "text": [
      "45164/45164 [==============================] - 3s 61us/step\n"
     ]
    }
   ],
   "source": [
    "# evaluate loaded model on test data of TPrime_600\n",
    "loaded_model.compile(loss='binary_crossentropy', optimizer='adam', metrics=['accuracy'])\n",
    "score = loaded_model.evaluate(X_test, y_test)"
   ]
  },
  {
   "cell_type": "code",
   "execution_count": 32,
   "metadata": {},
   "outputs": [
    {
     "name": "stdout",
     "output_type": "stream",
     "text": [
      "It should be compatible with the previous output from the test dataset: \n",
      "Here the Accuracy ouput is: \n",
      " Accuracy: 95.12%\n"
     ]
    }
   ],
   "source": [
    "# Final evaluation of the model for DNN\n",
    "# Testing Outputs\n",
    "scores = clf.evaluate(X_test, y_test, verbose=0)\n",
    "print('It should be compatible with the previous output from the test dataset: \\n'\"Here the Accuracy ouput is: \\n Accuracy: %.2f%%\" % (scores[1]*100))"
   ]
  },
  {
   "cell_type": "code",
   "execution_count": 33,
   "metadata": {},
   "outputs": [
    {
     "name": "stdout",
     "output_type": "stream",
     "text": [
      "(45164, 30)\n",
      "(45164,)\n"
     ]
    }
   ],
   "source": [
    "print(X_test.shape)\n",
    "print(y_test.shape)"
   ]
  },
  {
   "cell_type": "code",
   "execution_count": 34,
   "metadata": {},
   "outputs": [],
   "source": [
    "# Load Testing dataset\n",
    "signal_0 = signal = '/eos/home-s/sraj/M.Sc._Thesis/data_files/output_TprimeBToTH_Hgg_M-1200_LH_TuneCP5_PSweights_13TeV-madgraph_pythia8.root'\n",
    "treeName_signal_0 = \"tagsDumper/trees/Tprime_1200_13TeV_THQLeptonicTag\"\n",
    "signal_Tprime1200 = root2array(signal_0, treeName_signal_0, columns)   #Signal TPrime at 600TeV"
   ]
  },
  {
   "cell_type": "code",
   "execution_count": 35,
   "metadata": {},
   "outputs": [],
   "source": [
    "signal_Tprime1200 = pd.DataFrame(signal_Tprime1200)"
   ]
  },
  {
   "cell_type": "code",
   "execution_count": 36,
   "metadata": {},
   "outputs": [
    {
     "data": {
      "text/html": [
       "<div>\n",
       "<style scoped>\n",
       "    .dataframe tbody tr th:only-of-type {\n",
       "        vertical-align: middle;\n",
       "    }\n",
       "\n",
       "    .dataframe tbody tr th {\n",
       "        vertical-align: top;\n",
       "    }\n",
       "\n",
       "    .dataframe thead th {\n",
       "        text-align: right;\n",
       "    }\n",
       "</style>\n",
       "<table border=\"1\" class=\"dataframe\">\n",
       "  <thead>\n",
       "    <tr style=\"text-align: right;\">\n",
       "      <th></th>\n",
       "      <th>dipho_pt</th>\n",
       "      <th>dipho_phi</th>\n",
       "      <th>dipho_eta</th>\n",
       "      <th>dipho_e</th>\n",
       "      <th>dipho_mass</th>\n",
       "      <th>dipho_leadPt</th>\n",
       "      <th>dipho_leadEt</th>\n",
       "      <th>dipho_leadEta</th>\n",
       "      <th>dipho_leadPhi</th>\n",
       "      <th>dipho_subleadEta</th>\n",
       "      <th>...</th>\n",
       "      <th>bjet3_phi</th>\n",
       "      <th>bjet3_eta</th>\n",
       "      <th>bjet1_discr</th>\n",
       "      <th>bjet2_discr</th>\n",
       "      <th>bjet3_discr</th>\n",
       "      <th>jet3_pt</th>\n",
       "      <th>jet3_phi</th>\n",
       "      <th>jet1_e</th>\n",
       "      <th>jet2_e</th>\n",
       "      <th>jet3_e</th>\n",
       "    </tr>\n",
       "  </thead>\n",
       "  <tbody>\n",
       "    <tr>\n",
       "      <th>0</th>\n",
       "      <td>595.166260</td>\n",
       "      <td>0.460952</td>\n",
       "      <td>0.627633</td>\n",
       "      <td>727.120056</td>\n",
       "      <td>125.027214</td>\n",
       "      <td>534.582397</td>\n",
       "      <td>534.582397</td>\n",
       "      <td>0.566175</td>\n",
       "      <td>0.515456</td>\n",
       "      <td>0.996379</td>\n",
       "      <td>...</td>\n",
       "      <td>-999.000000</td>\n",
       "      <td>-999.000000</td>\n",
       "      <td>0.985339</td>\n",
       "      <td>0.819623</td>\n",
       "      <td>-999.000000</td>\n",
       "      <td>90.022743</td>\n",
       "      <td>1.954158</td>\n",
       "      <td>312.403442</td>\n",
       "      <td>561.495178</td>\n",
       "      <td>1378.422119</td>\n",
       "    </tr>\n",
       "    <tr>\n",
       "      <th>1</th>\n",
       "      <td>456.524109</td>\n",
       "      <td>-0.984099</td>\n",
       "      <td>-0.670740</td>\n",
       "      <td>576.773621</td>\n",
       "      <td>124.728577</td>\n",
       "      <td>287.602081</td>\n",
       "      <td>287.602081</td>\n",
       "      <td>-0.733117</td>\n",
       "      <td>-1.179360</td>\n",
       "      <td>-0.519446</td>\n",
       "      <td>...</td>\n",
       "      <td>1.728448</td>\n",
       "      <td>0.157884</td>\n",
       "      <td>0.999983</td>\n",
       "      <td>0.505706</td>\n",
       "      <td>0.254300</td>\n",
       "      <td>60.414616</td>\n",
       "      <td>-2.950332</td>\n",
       "      <td>162.035049</td>\n",
       "      <td>365.411346</td>\n",
       "      <td>389.538452</td>\n",
       "    </tr>\n",
       "    <tr>\n",
       "      <th>2</th>\n",
       "      <td>474.975677</td>\n",
       "      <td>0.836109</td>\n",
       "      <td>-0.724698</td>\n",
       "      <td>617.692627</td>\n",
       "      <td>123.324104</td>\n",
       "      <td>246.845337</td>\n",
       "      <td>246.845337</td>\n",
       "      <td>-0.460441</td>\n",
       "      <td>0.874362</td>\n",
       "      <td>-0.968103</td>\n",
       "      <td>...</td>\n",
       "      <td>-999.000000</td>\n",
       "      <td>-999.000000</td>\n",
       "      <td>0.999494</td>\n",
       "      <td>-999.000000</td>\n",
       "      <td>-999.000000</td>\n",
       "      <td>-999.000000</td>\n",
       "      <td>-999.000000</td>\n",
       "      <td>304.269562</td>\n",
       "      <td>49.994984</td>\n",
       "      <td>-999.000000</td>\n",
       "    </tr>\n",
       "    <tr>\n",
       "      <th>3</th>\n",
       "      <td>587.216736</td>\n",
       "      <td>-2.157246</td>\n",
       "      <td>-0.240816</td>\n",
       "      <td>617.103760</td>\n",
       "      <td>124.927475</td>\n",
       "      <td>530.529053</td>\n",
       "      <td>530.529053</td>\n",
       "      <td>-0.195753</td>\n",
       "      <td>-2.096326</td>\n",
       "      <td>-0.550637</td>\n",
       "      <td>...</td>\n",
       "      <td>-999.000000</td>\n",
       "      <td>-999.000000</td>\n",
       "      <td>0.998836</td>\n",
       "      <td>-999.000000</td>\n",
       "      <td>-999.000000</td>\n",
       "      <td>29.110281</td>\n",
       "      <td>2.931939</td>\n",
       "      <td>320.741150</td>\n",
       "      <td>4055.874268</td>\n",
       "      <td>240.681366</td>\n",
       "    </tr>\n",
       "    <tr>\n",
       "      <th>4</th>\n",
       "      <td>458.509705</td>\n",
       "      <td>-2.259718</td>\n",
       "      <td>0.607091</td>\n",
       "      <td>559.567932</td>\n",
       "      <td>124.109444</td>\n",
       "      <td>421.636475</td>\n",
       "      <td>421.636475</td>\n",
       "      <td>0.551736</td>\n",
       "      <td>-2.339284</td>\n",
       "      <td>0.886035</td>\n",
       "      <td>...</td>\n",
       "      <td>0.880687</td>\n",
       "      <td>-2.398130</td>\n",
       "      <td>0.999373</td>\n",
       "      <td>0.948760</td>\n",
       "      <td>0.173882</td>\n",
       "      <td>103.105125</td>\n",
       "      <td>0.585539</td>\n",
       "      <td>708.648315</td>\n",
       "      <td>189.009872</td>\n",
       "      <td>861.765381</td>\n",
       "    </tr>\n",
       "  </tbody>\n",
       "</table>\n",
       "<p>5 rows × 30 columns</p>\n",
       "</div>"
      ],
      "text/plain": [
       "     dipho_pt  dipho_phi  dipho_eta     dipho_e  dipho_mass  dipho_leadPt  \\\n",
       "0  595.166260   0.460952   0.627633  727.120056  125.027214    534.582397   \n",
       "1  456.524109  -0.984099  -0.670740  576.773621  124.728577    287.602081   \n",
       "2  474.975677   0.836109  -0.724698  617.692627  123.324104    246.845337   \n",
       "3  587.216736  -2.157246  -0.240816  617.103760  124.927475    530.529053   \n",
       "4  458.509705  -2.259718   0.607091  559.567932  124.109444    421.636475   \n",
       "\n",
       "   dipho_leadEt  dipho_leadEta  dipho_leadPhi  dipho_subleadEta     ...       \\\n",
       "0    534.582397       0.566175       0.515456          0.996379     ...        \n",
       "1    287.602081      -0.733117      -1.179360         -0.519446     ...        \n",
       "2    246.845337      -0.460441       0.874362         -0.968103     ...        \n",
       "3    530.529053      -0.195753      -2.096326         -0.550637     ...        \n",
       "4    421.636475       0.551736      -2.339284          0.886035     ...        \n",
       "\n",
       "    bjet3_phi   bjet3_eta  bjet1_discr  bjet2_discr  bjet3_discr     jet3_pt  \\\n",
       "0 -999.000000 -999.000000     0.985339     0.819623  -999.000000   90.022743   \n",
       "1    1.728448    0.157884     0.999983     0.505706     0.254300   60.414616   \n",
       "2 -999.000000 -999.000000     0.999494  -999.000000  -999.000000 -999.000000   \n",
       "3 -999.000000 -999.000000     0.998836  -999.000000  -999.000000   29.110281   \n",
       "4    0.880687   -2.398130     0.999373     0.948760     0.173882  103.105125   \n",
       "\n",
       "     jet3_phi      jet1_e       jet2_e       jet3_e  \n",
       "0    1.954158  312.403442   561.495178  1378.422119  \n",
       "1   -2.950332  162.035049   365.411346   389.538452  \n",
       "2 -999.000000  304.269562    49.994984  -999.000000  \n",
       "3    2.931939  320.741150  4055.874268   240.681366  \n",
       "4    0.585539  708.648315   189.009872   861.765381  \n",
       "\n",
       "[5 rows x 30 columns]"
      ]
     },
     "execution_count": 36,
     "metadata": {},
     "output_type": "execute_result"
    }
   ],
   "source": [
    "signal_Tprime1200.head()"
   ]
  },
  {
   "cell_type": "code",
   "execution_count": 37,
   "metadata": {},
   "outputs": [
    {
     "data": {
      "text/plain": [
       "(107628, 30)"
      ]
     },
     "execution_count": 37,
     "metadata": {},
     "output_type": "execute_result"
    }
   ],
   "source": [
    "signal_Tprime1200.shape"
   ]
  },
  {
   "cell_type": "code",
   "execution_count": 38,
   "metadata": {},
   "outputs": [],
   "source": [
    "X_1 = np.concatenate((signal_Tprime1200, backgr))\n",
    "y_1 = np.concatenate((np.ones(signal_Tprime1200.shape[0]),\n",
    "                    np.zeros(backgr.shape[0])))"
   ]
  },
  {
   "cell_type": "code",
   "execution_count": 39,
   "metadata": {},
   "outputs": [
    {
     "data": {
      "text/plain": [
       "(163475,)"
      ]
     },
     "execution_count": 39,
     "metadata": {},
     "output_type": "execute_result"
    }
   ],
   "source": [
    "y_1.shape"
   ]
  },
  {
   "cell_type": "code",
   "execution_count": 40,
   "metadata": {},
   "outputs": [],
   "source": [
    "X_1_train,X_1_test, y_1_train, y_1_test = train_test_split(X_1, y_1, test_size=0.33, random_state =5)\n"
   ]
  },
  {
   "cell_type": "code",
   "execution_count": 41,
   "metadata": {},
   "outputs": [
    {
     "data": {
      "text/plain": [
       "(109528, 30)"
      ]
     },
     "execution_count": 41,
     "metadata": {},
     "output_type": "execute_result"
    }
   ],
   "source": [
    "X_1_train.shape\n"
   ]
  },
  {
   "cell_type": "code",
   "execution_count": 42,
   "metadata": {},
   "outputs": [
    {
     "data": {
      "text/plain": [
       "(53947, 30)"
      ]
     },
     "execution_count": 42,
     "metadata": {},
     "output_type": "execute_result"
    }
   ],
   "source": [
    "X_1_test.shape"
   ]
  },
  {
   "cell_type": "code",
   "execution_count": 43,
   "metadata": {},
   "outputs": [
    {
     "data": {
      "text/plain": [
       "(53947,)"
      ]
     },
     "execution_count": 43,
     "metadata": {},
     "output_type": "execute_result"
    }
   ],
   "source": [
    "y_1_test.shape"
   ]
  },
  {
   "cell_type": "code",
   "execution_count": 44,
   "metadata": {},
   "outputs": [
    {
     "name": "stdout",
     "output_type": "stream",
     "text": [
      "53947/53947 [==============================] - 3s 60us/step\n"
     ]
    }
   ],
   "source": [
    "loaded_model.compile(loss='binary_crossentropy', optimizer='adam', metrics=['accuracy'])\n",
    "score = loaded_model.evaluate(X_1_test, y_1_test)"
   ]
  },
  {
   "cell_type": "code",
   "execution_count": 45,
   "metadata": {},
   "outputs": [
    {
     "name": "stdout",
     "output_type": "stream",
     "text": [
      "Accuracy: 95.91%\n"
     ]
    }
   ],
   "source": [
    "# Final evaluation of the model for DNN\n",
    "# Testing Outputs\n",
    "scores = clf.evaluate(X_1_test, y_1_test, verbose=0)\n",
    "print(\"Accuracy: %.2f%%\" % (scores[1]*100))"
   ]
  },
  {
   "cell_type": "code",
   "execution_count": 46,
   "metadata": {},
   "outputs": [
    {
     "data": {
      "image/png": "[encoded data removed]",
      "text/plain": [
       "<Figure size 432x288 with 1 Axes>"
      ]
     },
     "metadata": {},
     "output_type": "display_data"
    }
   ],
   "source": [
    "from sklearn.metrics import roc_curve, auc\n",
    "\n",
    "decisions = clf.predict(X_1_test)\n",
    "\n",
    "# Compute ROC curve and area under the curve\n",
    "fpr, tpr, thresholds = roc_curve(y_1_test, decisions)\n",
    "roc_auc = auc(fpr, tpr)\n",
    "plt.plot(fpr, tpr, lw=1, label='ROC (area = %0.2f)'%(roc_auc))\n",
    "\n",
    "plt.plot([0, 1], [0, 1], '--', color=(0.6, 0.6, 0.6), label='Luck')\n",
    "plt.xlim([-0.05, 1.05])\n",
    "plt.ylim([-0.05, 1.05])\n",
    "plt.xlabel('False Positive Rate')\n",
    "plt.ylabel('True Positive Rate')\n",
    "plt.title('Receiver operating characteristic')\n",
    "plt.legend(loc=\"lower right\")\n",
    "plt.grid()\n",
    "# plt.savefig(\"ROC_curve.png\")\n",
    "plt.show()"
   ]
  },
  {
   "cell_type": "code",
   "execution_count": 47,
   "metadata": {},
   "outputs": [
    {
     "data": {
      "image/png": "[encoded data removed]",
      "text/plain": [
       "<Figure size 432x288 with 1 Axes>"
      ]
     },
     "metadata": {},
     "output_type": "display_data"
    }
   ],
   "source": [
    "import matplotlib\n",
    "plt.figure()                                     # new window\n",
    "matplotlib.rcParams.update({'font.size':14})     # set all font sizes\n",
    "tTest = clf.predict(X_1_test)\n",
    "# if hasattr(clf, \"decision_function\"):\n",
    "#     tTest = clf.decision_function(X_test)        # if available use decision_function\n",
    "# else:\n",
    "#     tTest = clf.predict_proba(X_test)[:,1]       # for e.g. MLP need to use predict_proba\n",
    "tBkg = tTest[y_1_test==0]\n",
    "tSig = tTest[y_1_test==1]\n",
    "nBins = 20\n",
    "tMin = np.floor(np.min(tTest))\n",
    "tMax = np.ceil(np.max(tTest))\n",
    "bins = np.linspace(tMin, tMax, nBins+1)\n",
    "# plt.title('Multilayer perceptron')\n",
    "plt.xlabel(' $DNN$', labelpad=3)\n",
    "plt.ylabel('$Probability density$', labelpad=40)\n",
    "n, bins, patches = plt.hist(tSig, bins=bins, density=True, histtype='step', fill=False, color ='dodgerblue' ,edgecolor = 'blue', hatch = 'XX',label='Tprime_1200')\n",
    "n, bins, patches = plt.hist(tBkg, bins=bins, density=True, histtype='step', fill=False,color = 'red' ,alpha=0.5, edgecolor = 'green', hatch='++', label = 'All Background')\n",
    "plt.grid(color = 'b', alpha = 0.5, linestyle = 'dashed')\n",
    "plt.legend(loc='center')\n",
    "plt.title('TPrime_1200 output after TPrime_600 Training with all background ')\n",
    "# plt.savefig('/eos/home-s/sraj/M.Sc._Thesis/Plot_M.Sc._thesis/Plot_with_HDF5_files/''output_TPrime1200_all_background.png')\n",
    "plt.show()"
   ]
  },
  {
   "cell_type": "code",
   "execution_count": 48,
   "metadata": {},
   "outputs": [
    {
     "data": {
      "image/png": "[encoded data removed]",
      "text/plain": [
       "<Figure size 432x288 with 1 Axes>"
      ]
     },
     "metadata": {},
     "output_type": "display_data"
    }
   ],
   "source": [
    "from sklearn.metrics import roc_curve, auc\n",
    "\n",
    "decisions = clf.predict(X_test)\n",
    "\n",
    "# Compute ROC curve and area under the curve\n",
    "fpr, tpr, thresholds = roc_curve(y_test, decisions)\n",
    "roc_auc = auc(fpr, tpr)\n",
    "plt.plot(fpr, tpr, lw=1, label='ROC (area = %0.2f)'%(roc_auc))\n",
    "\n",
    "plt.plot([0, 1], [0, 1], '--', color=(0.6, 0.6, 0.6), label='Luck')\n",
    "plt.xlim([-0.05, 1.05])\n",
    "plt.ylim([-0.05, 1.05])\n",
    "plt.xlabel('False Positive Rate')\n",
    "plt.ylabel('True Positive Rate')\n",
    "plt.title('Receiver operating characteristic')\n",
    "plt.legend(loc=\"lower right\")\n",
    "plt.grid()\n",
    "# plt.savefig(\"ROC_curve.png\")\n",
    "plt.show()"
   ]
  },
  {
   "cell_type": "code",
   "execution_count": 49,
   "metadata": {
    "scrolled": true
   },
   "outputs": [
    {
     "data": {
      "image/png": "[encoded data removed]",
      "text/plain": [
       "<Figure size 432x288 with 1 Axes>"
      ]
     },
     "metadata": {},
     "output_type": "display_data"
    }
   ],
   "source": [
    "import matplotlib\n",
    "plt.figure()                                     # new window\n",
    "matplotlib.rcParams.update({'font.size':14})     # set all font sizes\n",
    "tTest = clf.predict(X_test)\n",
    "# if hasattr(clf, \"decision_function\"):\n",
    "#     tTest = clf.decision_function(X_test)        # if available use decision_function\n",
    "# else:\n",
    "#     tTest = clf.predict_proba(X_test)[:,1]       # for e.g. MLP need to use predict_proba\n",
    "tBkg = tTest[y_test==0]\n",
    "tSig = tTest[y_test==1]\n",
    "nBins = 20\n",
    "tMin = np.floor(np.min(tTest))\n",
    "tMax = np.ceil(np.max(tTest))\n",
    "bins = np.linspace(tMin, tMax, nBins+1)\n",
    "# plt.title('Multilayer perceptron')\n",
    "plt.xlabel(' $DNN$', labelpad=3)\n",
    "plt.ylabel('$Probability density$', labelpad=40)\n",
    "n, bins, patches = plt.hist(tSig, bins=bins, density=True, histtype='step', fill=False, color ='dodgerblue' ,edgecolor = 'blue', hatch = 'XX',label='Tprime_1200')\n",
    "n, bins, patches = plt.hist(tBkg, bins=bins, density=True, histtype='step', fill=False,color = 'red' ,alpha=0.5, edgecolor = 'green', hatch='++', label = 'All Background')\n",
    "plt.grid(color = 'b', alpha = 0.5, linestyle = 'dashed')\n",
    "plt.legend(loc='center')\n",
    "plt.title('TPrime_1200 output after TPrime_600 Training with all background ')\n",
    "# plt.savefig('/eos/home-s/sraj/M.Sc._Thesis/Plot_M.Sc._thesis/Plot_with_HDF5_files/''output_TPrime1200_all_background.png')\n",
    "plt.show()"
   ]
  },
  {
   "cell_type": "code",
   "execution_count": 50,
   "metadata": {},
   "outputs": [],
   "source": [
    "from ROOT import TCanvas, TPad, TFormula, TF1, TPaveLabel, TH1F, TFile,TH1D\n",
    "from ROOT import gROOT, gBenchmark"
   ]
  },
  {
   "cell_type": "code",
   "execution_count": 51,
   "metadata": {},
   "outputs": [],
   "source": [
    "f = TFile(\"/eos/home-s/sraj/M.Sc._Thesis/Plot_M.Sc._thesis/ROOT_output/MyrootFile_after_training_Tprime_600_ttgg_background_test_with_TPrime1200.root\", \"RECREATE\")\n",
    "# tree = TTree(\"root\",  )\n",
    "# How do we get that to create and fill with the background and signal\n",
    "h_bak = TH1D(\"background\", \"background\", 100, 0,1)\n",
    "h_sig = TH1D(\"signal\", \"signal\", 100, 0, 1)\n",
    "h_sum_all = TH1D(\"data_obs\", \"data_obs\", 100, 0, 1)\n",
    "for i in tBkg:\n",
    "    h_bak.Fill(i)\n",
    "for j in tSig:\n",
    "    h_sig.Fill(j)\n",
    "h_sum_all.Add(h_bak) \n",
    "h_sum_all.Add(h_sig)\n",
    "\n",
    "\n",
    "\n",
    "f.Write()\n",
    "f.Close()"
   ]
  },
  {
   "cell_type": "markdown",
   "metadata": {},
   "source": [
    "# Testing with Tprime_900 "
   ]
  },
  {
   "cell_type": "code",
   "execution_count": 54,
   "metadata": {},
   "outputs": [],
   "source": [
    "# Load Testing dataset\n",
    "signal_1 = '/eos/user/p/prsaha/for_Shivam/output_TprimeBToTH_Hgg_M-900_LH_TuneCP5_PSweights_13TeV-madgraph_pythia8.root/'\n",
    "treeName_signal_1 = \"tagsDumper/trees/Tprime_900_13TeV_THQLeptonicTag\"\n",
    "signal_Tprime900 = root2array(signal_1, treeName_signal_1, columns)   #Signal TPrime at 600TeV"
   ]
  },
  {
   "cell_type": "code",
   "execution_count": 58,
   "metadata": {},
   "outputs": [],
   "source": [
    "signal_Tprime900;\n",
    "signal_Tprime900 = pd.DataFrame(signal_Tprime900)"
   ]
  },
  {
   "cell_type": "code",
   "execution_count": 61,
   "metadata": {},
   "outputs": [
    {
     "data": {
      "text/plain": [
       "(100962, 30)"
      ]
     },
     "execution_count": 61,
     "metadata": {},
     "output_type": "execute_result"
    }
   ],
   "source": [
    "signal_Tprime900.shape\n"
   ]
  },
  {
   "cell_type": "code",
   "execution_count": 66,
   "metadata": {},
   "outputs": [],
   "source": [
    "X_2 = np.concatenate((signal_Tprime900, backgr))\n",
    "y_2 = np.concatenate((np.ones(signal_Tprime900.shape[0]),\n",
    "                    np.zeros(backgr.shape[0])))"
   ]
  },
  {
   "cell_type": "code",
   "execution_count": 67,
   "metadata": {},
   "outputs": [],
   "source": [
    "X_2_train,X_2_test, y_2_train, y_2_test = train_test_split(X_2, y_2, test_size=0.33, random_state =5)\n"
   ]
  },
  {
   "cell_type": "code",
   "execution_count": 68,
   "metadata": {},
   "outputs": [
    {
     "name": "stdout",
     "output_type": "stream",
     "text": [
      "51747/51747 [==============================] - 3s 64us/step\n"
     ]
    }
   ],
   "source": [
    "loaded_model.compile(loss='binary_crossentropy', optimizer='adam', metrics=['accuracy'])\n",
    "score = loaded_model.evaluate(X_2_test, y_2_test)"
   ]
  },
  {
   "cell_type": "code",
   "execution_count": 71,
   "metadata": {},
   "outputs": [
    {
     "name": "stdout",
     "output_type": "stream",
     "text": [
      "Accuracy: 96.18%\n"
     ]
    }
   ],
   "source": [
    "# Final evaluation of the model for DNN\n",
    "# Testing Outputs\n",
    "scores = clf.evaluate(X_2_test, y_2_test, verbose=0)\n",
    "print(\"Accuracy: %.2f%%\" % (scores[1]*100))"
   ]
  },
  {
   "cell_type": "code",
   "execution_count": 72,
   "metadata": {},
   "outputs": [
    {
     "data": {
      "image/png": "[encoded data removed]",
      "text/plain": [
       "<Figure size 432x288 with 1 Axes>"
      ]
     },
     "metadata": {},
     "output_type": "display_data"
    }
   ],
   "source": [
    "from sklearn.metrics import roc_curve, auc\n",
    "\n",
    "decisions = clf.predict(X_2_test)\n",
    "\n",
    "# Compute ROC curve and area under the curve\n",
    "fpr, tpr, thresholds = roc_curve(y_2_test, decisions)\n",
    "roc_auc = auc(fpr, tpr)\n",
    "plt.plot(fpr, tpr, lw=1, label='ROC (area = %0.2f)'%(roc_auc))\n",
    "\n",
    "plt.plot([0, 1], [0, 1], '--', color=(0.6, 0.6, 0.6), label='Luck')\n",
    "plt.xlim([-0.05, 1.05])\n",
    "plt.ylim([-0.05, 1.05])\n",
    "plt.xlabel('False Positive Rate')\n",
    "plt.ylabel('True Positive Rate')\n",
    "plt.title('Receiver operating characteristic')\n",
    "plt.legend(loc=\"lower right\")\n",
    "plt.grid()\n",
    "# plt.savefig(\"ROC_curve.png\")\n",
    "plt.show()"
   ]
  },
  {
   "cell_type": "code",
   "execution_count": 75,
   "metadata": {},
   "outputs": [
    {
     "data": {
      "image/png": "[encoded data removed]",
      "text/plain": [
       "<Figure size 432x288 with 1 Axes>"
      ]
     },
     "metadata": {},
     "output_type": "display_data"
    }
   ],
   "source": [
    "import matplotlib\n",
    "plt.figure()                                     # new window\n",
    "matplotlib.rcParams.update({'font.size':14})     # set all font sizes\n",
    "tTest = clf.predict(X_2_test)\n",
    "# if hasattr(clf, \"decision_function\"):\n",
    "#     tTest = clf.decision_function(X_test)        # if available use decision_function\n",
    "# else:\n",
    "#     tTest = clf.predict_proba(X_test)[:,1]       # for e.g. MLP need to use predict_proba\n",
    "tBkg = tTest[y_2_test==0]\n",
    "tSig = tTest[y_2_test==1]\n",
    "nBins = 20\n",
    "tMin = np.floor(np.min(tTest))\n",
    "tMax = np.ceil(np.max(tTest))\n",
    "bins = np.linspace(tMin, tMax, nBins+1)\n",
    "# plt.title('Multilayer perceptron')\n",
    "plt.xlabel(' $DNN$', labelpad=3)\n",
    "plt.ylabel('$Probability density$', labelpad=40)\n",
    "n, bins, patches = plt.hist(tSig, bins=bins, density=True, histtype='step', fill=False, color ='dodgerblue' ,edgecolor = 'blue', hatch = 'XX',label='Tprime_900')\n",
    "n, bins, patches = plt.hist(tBkg, bins=bins, density=True, histtype='step', fill=False,color = 'red' ,alpha=0.5, edgecolor = 'green', hatch='++', label = 'ttgg')\n",
    "plt.grid(color = 'b', alpha = 0.5, linestyle = 'dashed')\n",
    "plt.legend(loc='center')\n",
    "plt.title('TPrime_900 output after TPrime_600 Training with ttgg background ')\n",
    "# plt.savefig('/eos/home-s/sraj/M.Sc._Thesis/Plot_M.Sc._thesis/Plot_with_HDF5_files/''output_TPrime1200_all_background.png')\n",
    "plt.show()"
   ]
  },
  {
   "cell_type": "code",
   "execution_count": 77,
   "metadata": {},
   "outputs": [],
   "source": [
    "f = TFile(\"/eos/home-s/sraj/M.Sc._Thesis/Plot_M.Sc._thesis/ROOT_output/MyrootFile_after_training_Tprime_600_ttgg_background_test_with_TPrime900.root\", \"RECREATE\")\n",
    "# tree = TTree(\"root\",  )\n",
    "# How do we get that to create and fill with the background and signal\n",
    "h_bak = TH1D(\"background\", \"background\", 100, 0,1)\n",
    "h_sig = TH1D(\"signal\", \"signal\", 100, 0, 1)\n",
    "h_sum_all = TH1D(\"data_obs\", \"data_obs\", 100, 0, 1)\n",
    "for i in tBkg:\n",
    "    h_bak.Fill(i)\n",
    "for j in tSig:\n",
    "    h_sig.Fill(j)\n",
    "h_sum_all.Add(h_bak) \n",
    "h_sum_all.Add(h_sig)\n",
    "\n",
    "\n",
    "\n",
    "f.Write()\n",
    "f.Close()"
   ]
  },
  {
   "cell_type": "code",
   "execution_count": null,
   "metadata": {},
   "outputs": [],
   "source": []
  }
 ],
 "metadata": {
  "kernelspec": {
   "display_name": "Python 3",
   "language": "python",
   "name": "python3"
  },
  "language_info": {
   "codemirror_mode": {
    "name": "ipython",
    "version": 3
   },
   "file_extension": ".py",
   "mimetype": "text/x-python",
   "name": "python",
   "nbconvert_exporter": "python",
   "pygments_lexer": "ipython3",
   "version": "3.6.5"
  }
 },
 "nbformat": 4,
 "nbformat_minor": 2
}
