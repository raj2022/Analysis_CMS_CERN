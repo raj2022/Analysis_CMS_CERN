{
 "cells": [
  {
   "cell_type": "markdown",
   "metadata": {},
   "source": [
    "## Training with TPrime_600GeV_&_tth, VH, VBF, GGH_As_ background\n",
    ">This is the training of signal and bacgrund to get the output as a HDF5 file. The output file futher used to test on the TPrime at 1200GeV as signal.\n"
   ]
  },
  {
   "cell_type": "markdown",
   "metadata": {},
   "source": [
    "Here, The input files are Signal with Tprime and background file used here are ttgg. Both have been used with the same number of input varaibles.'dipho_pt','dipho_phi', 'dipho_eta','dipho_e','dipho_mass','dipho_leadPt', 'dipho_leadEt','dipho_leadEta','dipho_leadPhi', 'dipho_subleadEta','bjet1_pt','bjet2_pt','bjet1_eta', 'bjet2_eta', 'jet1_pt','jet2_pt', 'jet1_eta', 'n_jets', 'n_bjets', 'bjet2_phi', 'bjet3_phi', 'bjet1_discr','bjet2_discr', 'bjet3_discr', 'jet3_pt', 'jet3_phi', 'jet1_e', 'jet2_e', 'jet3_e'."
   ]
  },
  {
   "cell_type": "code",
   "execution_count": 1,
   "metadata": {},
   "outputs": [
    {
     "name": "stderr",
     "output_type": "stream",
     "text": [
      "Using TensorFlow backend.\n"
     ]
    },
    {
     "name": "stdout",
     "output_type": "stream",
     "text": [
      "Welcome to JupyROOT 6.22/00\n"
     ]
    }
   ],
   "source": [
    "import pandas as pd\n",
    "import numpy as np\n",
    "import math\n",
    "import glob\n",
    "import matplotlib.pyplot as plt\n",
    "import seaborn as sns\n",
    "import keras\n",
    "from keras.models import Sequential, load_model\n",
    "from keras.layers import Dense, Activation\n",
    "from keras.callbacks import EarlyStopping, ModelCheckpoint, Callback\n",
    "from keras.optimizers import adam, adadelta, adagrad\n",
    "\n",
    "sns.set(color_codes = True)\n",
    "sns.set_palette(sns.color_palette(\"muted\"))\n",
    "\n",
    "from itertools import tee, islice\n",
    "from ROOT import TFile, TCanvas, TPad, TPaveLabel, TPaveText, TTree, TH1F, TF1\n",
    "from root_numpy import root2array, tree2array, array2tree, array2root\n",
    "import sys\n",
    "from ROOT import gROOT, AddressOf\n",
    "from root_numpy import root2array, rec2array\n",
    "from sklearn import datasets\n",
    "from sklearn.tree import DecisionTreeClassifier\n",
    "from sklearn.ensemble import AdaBoostClassifier\n",
    "from sklearn.metrics import classification_report, roc_auc_score\n",
    "import matplotlib.ticker as ticker\n",
    "from sklearn.neural_network import MLPClassifier\n",
    "from sklearn.model_selection import train_test_split\n",
    "from sklearn import metrics\n",
    "from sklearn.discriminant_analysis import LinearDiscriminantAnalysis as LDA\n",
    "from sklearn.neural_network import MLPClassifier\n",
    "from sklearn.svm import SVC\n",
    "from sklearn import tree"
   ]
  },
  {
   "cell_type": "markdown",
   "metadata": {},
   "source": [
    "## Import the datasets"
   ]
  },
  {
   "cell_type": "markdown",
   "metadata": {},
   "source": [
    ">Import all the signal and the backgrounds \n",
    " * Signals \n",
    "     signal_TPrime_600 = /eos/user/p/prsaha/for_Shivam/output_TprimeBToTH_Hgg_M-600_LH_TuneCP5_PSweights_13TeV-madgraph_pythia8.root\n",
    "        "
   ]
  },
  {
   "cell_type": "code",
   "execution_count": 2,
   "metadata": {},
   "outputs": [],
   "source": [
    "signal = '/eos/home-s/sraj/M.Sc._Thesis/data_files/output_TprimeBToTH_Hgg_M-600_LH_TuneCP5_PSweights_13TeV-madgraph_pythia8.root'\n",
    "back_1 = '/eos/home-s/sraj/M.Sc._Thesis/data_files/output_TTGG_0Jets_TuneCP5_13TeV_amcatnlo_madspin_pythia8.root'\n",
    "back_01= '/eos/home-s/sraj/M.Sc._Thesis/data_files/output_ttHJetToGG_M125_13TeV_amcatnloFXFX_madspin_pythia8.root'\n",
    "back_02 = '/eos/home-s/sraj/M.Sc._Thesis/data_files/output_VBFHToGG_M125_13TeV_amcatnlo_pythia8.root'\n",
    "back_03 = '/eos/home-s/sraj/M.Sc._Thesis/data_files/output_VHToGG_M125_13TeV_amcatnloFXFX_madspin_pythia8.root'\n",
    "back_04 = '/eos/home-s/sraj/M.Sc._Thesis/data_files/output_THQ_ctcvcp_HToGG_M125_13TeV-madgraph-pythia8.root'\n",
    "back_05= '/eos/home-s/sraj/M.Sc._Thesis/data_files/output_GluGluHToGG_M125_TuneCP5_13TeV-amcatnloFXFX-pythia8.root'"
   ]
  },
  {
   "cell_type": "code",
   "execution_count": 3,
   "metadata": {},
   "outputs": [],
   "source": [
    "treeName_back_1 =\"tagsDumper/trees/ttgg_13TeV_THQLeptonicTag\" \n",
    "treeName_signal = \"tagsDumper/trees/Tprime_600_13TeV_THQLeptonicTag\"\n",
    "treeName_back_05 = \"tagsDumper/trees/ggh_125_13TeV_THQLeptonicTag\"\n",
    "treeName_back_04 = \"tagsDumper/trees/thq_125_13TeV_THQLeptonicTag\"\n",
    "treeName_back_03 = \"tagsDumper/trees/vh_125_13TeV_THQLeptonicTag\"\n",
    "treeName_back_02 = 'tagsDumper/trees/vbf_125_13TeV_THQLeptonicTag'\n",
    "treeName_back_01 = \"tagsDumper/trees/tth_125_13TeV_THQLeptonicTag\"\n"
   ]
  },
  {
   "cell_type": "code",
   "execution_count": 4,
   "metadata": {},
   "outputs": [],
   "source": [
    "columns = ['dipho_leadPt',\n",
    "             'dipho_mass',\n",
    "             'dipho_leadEta',\n",
    "             'dipho_subleadEta',\n",
    "             'dipho_leadIDMVA',\n",
    "             'dipho_subleadIDMVA',\n",
    "             'dipho_lead_haspixelseed',\n",
    "             'dipho_sublead_haspixelseed',\n",
    "             'n_jets',\n",
    "             'n_bjets',\n",
    "             'n_centraljets',\n",
    "             'lepton_charge',\n",
    "             'lepton_leadPt',\n",
    "             'lepton_leadEta',\n",
    "             'fwdjet1_pt',\n",
    "             'fwdjet1_eta',\n",
    "             'fwdjet1_discr',\n",
    "             'top_mt',\n",
    "             'dr_tHchainfwdjet',\n",
    "             'dr_leptonbjet',\n",
    "             'dr_leptonfwdjet',\n",
    "             'dr_bjetfwdjet',\n",
    "             'dr_leadphofwdjet',\n",
    "             'dr_subleadphofwdjet',\n",
    "             'bjet1_pt',\n",
    "             'bjet2_pt',\n",
    "             'bjet3_pt',\n",
    "             'bjet1_eta',\n",
    "             'bjet2_eta',\n",
    "             'bjet3_eta',\n",
    "             'bjet1_discr',\n",
    "             'bjet2_discr',\n",
    "             'bjet3_discr',\n",
    "             'jet1_pt',\n",
    "             'jet2_pt',\n",
    "             'jet3_pt',\n",
    "             'jet1_eta',\n",
    "             'jet2_eta',\n",
    "             'jet3_eta',\n",
    "             'jet1_discr',\n",
    "             'jet2_discr',\n",
    "             'jet3_discr']\n",
    "             "
   ]
  },
  {
   "cell_type": "code",
   "execution_count": 5,
   "metadata": {},
   "outputs": [],
   "source": [
    "signal_Tprime600 = root2array(signal, treeName_signal, columns)   #Signal TPrime at 600TeV\n",
    "back_ttgg = root2array(back_1, treeName_back_1, columns)     # ttgg background(Not using this)\n",
    "back_tth = root2array(back_01, treeName_back_01, columns)      \n",
    "back_vbf = root2array(back_02, treeName_back_02, columns)\n",
    "back_vh = root2array(back_03, treeName_back_03, columns)\n",
    "back_thq = root2array(back_04, treeName_back_04, columns)\n",
    "back_ggh = root2array(back_05, treeName_back_05, columns)\n"
   ]
  },
  {
   "cell_type": "code",
   "execution_count": 6,
   "metadata": {},
   "outputs": [],
   "source": [
    "signal_Tprime600 = pd.DataFrame(signal_Tprime600)            #Signal for the testing\n",
    "back_tth = pd.DataFrame(back_tth)          #tth background dataframe \n",
    "back_vbf = pd.DataFrame(back_vbf)             #vbf background dataframe \n",
    "back_vh = pd.DataFrame(back_vh)             #vh background dataframe \n",
    "back_thq = pd.DataFrame(back_thq) #thq background dataframe \n",
    "back_ggh = pd.DataFrame(back_ggh) #ggh background dataframe \n",
    "back_ttgg = pd.DataFrame(back_ttgg)"
   ]
  },
  {
   "cell_type": "code",
   "execution_count": 10,
   "metadata": {},
   "outputs": [
    {
     "data": {
      "text/html": [
       "<div>\n",
       "<style scoped>\n",
       "    .dataframe tbody tr th:only-of-type {\n",
       "        vertical-align: middle;\n",
       "    }\n",
       "\n",
       "    .dataframe tbody tr th {\n",
       "        vertical-align: top;\n",
       "    }\n",
       "\n",
       "    .dataframe thead th {\n",
       "        text-align: right;\n",
       "    }\n",
       "</style>\n",
       "<table border=\"1\" class=\"dataframe\">\n",
       "  <thead>\n",
       "    <tr style=\"text-align: right;\">\n",
       "      <th></th>\n",
       "      <th>dipho_leadPt</th>\n",
       "      <th>dipho_mass</th>\n",
       "      <th>dipho_leadEta</th>\n",
       "      <th>dipho_subleadEta</th>\n",
       "      <th>dipho_leadIDMVA</th>\n",
       "      <th>dipho_subleadIDMVA</th>\n",
       "      <th>dipho_lead_haspixelseed</th>\n",
       "      <th>dipho_sublead_haspixelseed</th>\n",
       "      <th>n_jets</th>\n",
       "      <th>n_bjets</th>\n",
       "      <th>...</th>\n",
       "      <th>bjet3_discr</th>\n",
       "      <th>jet1_pt</th>\n",
       "      <th>jet2_pt</th>\n",
       "      <th>jet3_pt</th>\n",
       "      <th>jet1_eta</th>\n",
       "      <th>jet2_eta</th>\n",
       "      <th>jet3_eta</th>\n",
       "      <th>jet1_discr</th>\n",
       "      <th>jet2_discr</th>\n",
       "      <th>jet3_discr</th>\n",
       "    </tr>\n",
       "  </thead>\n",
       "  <tbody>\n",
       "    <tr>\n",
       "      <th>0</th>\n",
       "      <td>199.472260</td>\n",
       "      <td>126.641273</td>\n",
       "      <td>0.084015</td>\n",
       "      <td>1.195149</td>\n",
       "      <td>0.957987</td>\n",
       "      <td>0.687579</td>\n",
       "      <td>0.0</td>\n",
       "      <td>0.0</td>\n",
       "      <td>3.0</td>\n",
       "      <td>1.0</td>\n",
       "      <td>...</td>\n",
       "      <td>-999.0</td>\n",
       "      <td>84.649239</td>\n",
       "      <td>74.393456</td>\n",
       "      <td>32.669273</td>\n",
       "      <td>-0.487586</td>\n",
       "      <td>-3.465604</td>\n",
       "      <td>-2.688962</td>\n",
       "      <td>0.542797</td>\n",
       "      <td>-2.000000</td>\n",
       "      <td>-2.0</td>\n",
       "    </tr>\n",
       "    <tr>\n",
       "      <th>1</th>\n",
       "      <td>217.392303</td>\n",
       "      <td>124.014992</td>\n",
       "      <td>-0.121357</td>\n",
       "      <td>-0.101361</td>\n",
       "      <td>0.872169</td>\n",
       "      <td>0.967785</td>\n",
       "      <td>0.0</td>\n",
       "      <td>0.0</td>\n",
       "      <td>2.0</td>\n",
       "      <td>1.0</td>\n",
       "      <td>...</td>\n",
       "      <td>-999.0</td>\n",
       "      <td>112.434402</td>\n",
       "      <td>84.011833</td>\n",
       "      <td>-999.000000</td>\n",
       "      <td>0.293124</td>\n",
       "      <td>2.278897</td>\n",
       "      <td>-999.000000</td>\n",
       "      <td>0.638937</td>\n",
       "      <td>0.721447</td>\n",
       "      <td>-999.0</td>\n",
       "    </tr>\n",
       "    <tr>\n",
       "      <th>2</th>\n",
       "      <td>121.089691</td>\n",
       "      <td>123.836288</td>\n",
       "      <td>0.842742</td>\n",
       "      <td>1.373165</td>\n",
       "      <td>0.888976</td>\n",
       "      <td>0.919611</td>\n",
       "      <td>0.0</td>\n",
       "      <td>0.0</td>\n",
       "      <td>4.0</td>\n",
       "      <td>1.0</td>\n",
       "      <td>...</td>\n",
       "      <td>-999.0</td>\n",
       "      <td>91.825996</td>\n",
       "      <td>62.056263</td>\n",
       "      <td>38.143219</td>\n",
       "      <td>3.149675</td>\n",
       "      <td>-3.128838</td>\n",
       "      <td>4.403498</td>\n",
       "      <td>-2.000000</td>\n",
       "      <td>-2.000000</td>\n",
       "      <td>-2.0</td>\n",
       "    </tr>\n",
       "    <tr>\n",
       "      <th>3</th>\n",
       "      <td>158.326920</td>\n",
       "      <td>122.239555</td>\n",
       "      <td>0.202652</td>\n",
       "      <td>0.260665</td>\n",
       "      <td>0.956062</td>\n",
       "      <td>0.762749</td>\n",
       "      <td>0.0</td>\n",
       "      <td>0.0</td>\n",
       "      <td>2.0</td>\n",
       "      <td>1.0</td>\n",
       "      <td>...</td>\n",
       "      <td>-999.0</td>\n",
       "      <td>87.551056</td>\n",
       "      <td>85.922279</td>\n",
       "      <td>-999.000000</td>\n",
       "      <td>1.111560</td>\n",
       "      <td>2.848130</td>\n",
       "      <td>-999.000000</td>\n",
       "      <td>0.991427</td>\n",
       "      <td>-2.000000</td>\n",
       "      <td>-999.0</td>\n",
       "    </tr>\n",
       "    <tr>\n",
       "      <th>4</th>\n",
       "      <td>139.716736</td>\n",
       "      <td>123.026970</td>\n",
       "      <td>0.194240</td>\n",
       "      <td>0.534833</td>\n",
       "      <td>0.163151</td>\n",
       "      <td>0.361930</td>\n",
       "      <td>0.0</td>\n",
       "      <td>0.0</td>\n",
       "      <td>4.0</td>\n",
       "      <td>1.0</td>\n",
       "      <td>...</td>\n",
       "      <td>-999.0</td>\n",
       "      <td>177.258102</td>\n",
       "      <td>169.389847</td>\n",
       "      <td>27.921988</td>\n",
       "      <td>-0.204870</td>\n",
       "      <td>0.046312</td>\n",
       "      <td>-2.416145</td>\n",
       "      <td>0.998264</td>\n",
       "      <td>0.043448</td>\n",
       "      <td>-2.0</td>\n",
       "    </tr>\n",
       "  </tbody>\n",
       "</table>\n",
       "<p>5 rows × 42 columns</p>\n",
       "</div>"
      ],
      "text/plain": [
       "   dipho_leadPt  dipho_mass  dipho_leadEta  dipho_subleadEta  dipho_leadIDMVA  \\\n",
       "0    199.472260  126.641273       0.084015          1.195149         0.957987   \n",
       "1    217.392303  124.014992      -0.121357         -0.101361         0.872169   \n",
       "2    121.089691  123.836288       0.842742          1.373165         0.888976   \n",
       "3    158.326920  122.239555       0.202652          0.260665         0.956062   \n",
       "4    139.716736  123.026970       0.194240          0.534833         0.163151   \n",
       "\n",
       "   dipho_subleadIDMVA  dipho_lead_haspixelseed  dipho_sublead_haspixelseed  \\\n",
       "0            0.687579                      0.0                         0.0   \n",
       "1            0.967785                      0.0                         0.0   \n",
       "2            0.919611                      0.0                         0.0   \n",
       "3            0.762749                      0.0                         0.0   \n",
       "4            0.361930                      0.0                         0.0   \n",
       "\n",
       "   n_jets  n_bjets  ...  bjet3_discr     jet1_pt     jet2_pt     jet3_pt  \\\n",
       "0     3.0      1.0  ...       -999.0   84.649239   74.393456   32.669273   \n",
       "1     2.0      1.0  ...       -999.0  112.434402   84.011833 -999.000000   \n",
       "2     4.0      1.0  ...       -999.0   91.825996   62.056263   38.143219   \n",
       "3     2.0      1.0  ...       -999.0   87.551056   85.922279 -999.000000   \n",
       "4     4.0      1.0  ...       -999.0  177.258102  169.389847   27.921988   \n",
       "\n",
       "   jet1_eta  jet2_eta    jet3_eta  jet1_discr  jet2_discr  jet3_discr  \n",
       "0 -0.487586 -3.465604   -2.688962    0.542797   -2.000000        -2.0  \n",
       "1  0.293124  2.278897 -999.000000    0.638937    0.721447      -999.0  \n",
       "2  3.149675 -3.128838    4.403498   -2.000000   -2.000000        -2.0  \n",
       "3  1.111560  2.848130 -999.000000    0.991427   -2.000000      -999.0  \n",
       "4 -0.204870  0.046312   -2.416145    0.998264    0.043448        -2.0  \n",
       "\n",
       "[5 rows x 42 columns]"
      ]
     },
     "execution_count": 10,
     "metadata": {},
     "output_type": "execute_result"
    }
   ],
   "source": [
    "signal_Tprime600.head()"
   ]
  },
  {
   "cell_type": "code",
   "execution_count": 11,
   "metadata": {},
   "outputs": [
    {
     "data": {
      "text/plain": [
       "(81013, 42)"
      ]
     },
     "execution_count": 11,
     "metadata": {},
     "output_type": "execute_result"
    }
   ],
   "source": [
    "signal_Tprime600.shape"
   ]
  },
  {
   "cell_type": "code",
   "execution_count": 12,
   "metadata": {},
   "outputs": [
    {
     "data": {
      "text/plain": [
       "81013"
      ]
     },
     "execution_count": 12,
     "metadata": {},
     "output_type": "execute_result"
    }
   ],
   "source": [
    "len(signal_Tprime600)"
   ]
  },
  {
   "cell_type": "code",
   "execution_count": 15,
   "metadata": {},
   "outputs": [
    {
     "name": "stdout",
     "output_type": "stream",
     "text": [
      "<class 'pandas.core.frame.DataFrame'>\n",
      "RangeIndex: 81013 entries, 0 to 81012\n",
      "Data columns (total 42 columns):\n",
      "dipho_leadPt                  81013 non-null float32\n",
      "dipho_mass                    81013 non-null float32\n",
      "dipho_leadEta                 81013 non-null float32\n",
      "dipho_subleadEta              81013 non-null float32\n",
      "dipho_leadIDMVA               81013 non-null float32\n",
      "dipho_subleadIDMVA            81013 non-null float32\n",
      "dipho_lead_haspixelseed       81013 non-null float32\n",
      "dipho_sublead_haspixelseed    81013 non-null float32\n",
      "n_jets                        81013 non-null float32\n",
      "n_bjets                       81013 non-null float32\n",
      "n_centraljets                 81013 non-null float32\n",
      "lepton_charge                 81013 non-null float32\n",
      "lepton_leadPt                 81013 non-null float32\n",
      "lepton_leadEta                81013 non-null float32\n",
      "fwdjet1_pt                    81013 non-null float32\n",
      "fwdjet1_eta                   81013 non-null float32\n",
      "fwdjet1_discr                 81013 non-null float32\n",
      "top_mt                        81013 non-null float32\n",
      "dr_tHchainfwdjet              81013 non-null float32\n",
      "dr_leptonbjet                 81013 non-null float32\n",
      "dr_leptonfwdjet               81013 non-null float32\n",
      "dr_bjetfwdjet                 81013 non-null float32\n",
      "dr_leadphofwdjet              81013 non-null float32\n",
      "dr_subleadphofwdjet           81013 non-null float32\n",
      "bjet1_pt                      81013 non-null float32\n",
      "bjet2_pt                      81013 non-null float32\n",
      "bjet3_pt                      81013 non-null float32\n",
      "bjet1_eta                     81013 non-null float32\n",
      "bjet2_eta                     81013 non-null float32\n",
      "bjet3_eta                     81013 non-null float32\n",
      "bjet1_discr                   81013 non-null float32\n",
      "bjet2_discr                   81013 non-null float32\n",
      "bjet3_discr                   81013 non-null float32\n",
      "jet1_pt                       81013 non-null float32\n",
      "jet2_pt                       81013 non-null float32\n",
      "jet3_pt                       81013 non-null float32\n",
      "jet1_eta                      81013 non-null float32\n",
      "jet2_eta                      81013 non-null float32\n",
      "jet3_eta                      81013 non-null float32\n",
      "jet1_discr                    81013 non-null float32\n",
      "jet2_discr                    81013 non-null float32\n",
      "jet3_discr                    81013 non-null float32\n",
      "dtypes: float32(42)\n",
      "memory usage: 13.0 MB\n"
     ]
    }
   ],
   "source": [
    "signal_Tprime600.info()\n"
   ]
  },
  {
   "cell_type": "code",
   "execution_count": 16,
   "metadata": {},
   "outputs": [],
   "source": [
    "assert signal_Tprime600.isnull().sum().sum() == 0"
   ]
  },
  {
   "cell_type": "code",
   "execution_count": 18,
   "metadata": {},
   "outputs": [
    {
     "data": {
      "image/png": "[encoded data removed]",
      "text/plain": [
       "<Figure size 432x288 with 1 Axes>"
      ]
     },
     "metadata": {
      "needs_background": "light"
     },
     "output_type": "display_data"
    }
   ],
   "source": [
    "low_high=(0,1)\n",
    "signal_Tprime600['dipho_leadIDMVA'].plot.hist( alpha = 1, fill= False,\n",
    "                                        histtype = 'step', edgecolor = 'g', density=True, range=low_high, label = 'Signal')\n",
    "back_ggh['dipho_leadIDMVA'].plot.hist( alpha = 1, fill= False,\n",
    "                                        histtype = 'step', edgecolor = 'r', density=True, range=low_high, label = 'Background')\n",
    "plt.legend(bbox_to_anchor=(1.01, 1), loc=\"upper left\")\n",
    "plt.show()\n"
   ]
  },
  {
   "cell_type": "code",
   "execution_count": 20,
   "metadata": {},
   "outputs": [
    {
     "data": {
      "text/plain": [
       "<matplotlib.axes._subplots.AxesSubplot at 0x7f80716035d0>"
      ]
     },
     "execution_count": 20,
     "metadata": {},
     "output_type": "execute_result"
    },
    {
     "data": {
      "image/png": "[encoded data removed]",
      "text/plain": [
       "<Figure size 432x288 with 1 Axes>"
      ]
     },
     "metadata": {
      "needs_background": "light"
     },
     "output_type": "display_data"
    }
   ],
   "source": [
    "signal_Tprime600['jet1_pt'].plot.hist(bins=100, density = True)\n",
    "back_ggh['jet1_pt'].plot.hist(bins=100, density = True)"
   ]
  },
  {
   "cell_type": "code",
   "execution_count": 26,
   "metadata": {},
   "outputs": [
    {
     "data": {
      "text/plain": [
       "<matplotlib.axes._subplots.AxesSubplot at 0x7f8070a64650>"
      ]
     },
     "execution_count": 26,
     "metadata": {},
     "output_type": "execute_result"
    },
    {
     "data": {
      "image/png": "[encoded data removed]",
      "text/plain": [
       "<Figure size 432x288 with 1 Axes>"
      ]
     },
     "metadata": {
      "needs_background": "light"
     },
     "output_type": "display_data"
    }
   ],
   "source": [
    "signal_Tprime600['jet2_discr'].plot.hist(bins=100, density = True)\n",
    "back_thq['jet2_discr'].plot.hist(bins=100, density = True)"
   ]
  },
  {
   "cell_type": "code",
   "execution_count": 25,
   "metadata": {},
   "outputs": [
    {
     "data": {
      "image/png": "[encoded data removed]",
      "text/plain": [
       "<Figure size 432x288 with 1 Axes>"
      ]
     },
     "metadata": {
      "needs_background": "light"
     },
     "output_type": "display_data"
    }
   ],
   "source": [
    "low_high=(0,1)\n",
    "signal_Tprime600['jet2_discr'].plot.hist( alpha = 1, fill= False,\n",
    "                                        histtype = 'step', edgecolor = 'g', density=True, range=low_high, label = 'Signal')\n",
    "back_thq['jet2_discr'].plot.hist( alpha = 1, fill= False,\n",
    "                                        histtype = 'step', edgecolor = 'r', density=True, range=low_high, label = 'Background')\n",
    "plt.legend(bbox_to_anchor=(1.01, 1), loc=\"upper left\")\n",
    "plt.show()\n"
   ]
  },
  {
   "cell_type": "code",
   "execution_count": 27,
   "metadata": {},
   "outputs": [],
   "source": [
    "signal = signal_Tprime600\n",
    "backgr = pd.concat((back_tth, back_ggh, back_vbf, back_vh, back_ttgg), axis=0)"
   ]
  },
  {
   "cell_type": "code",
   "execution_count": 28,
   "metadata": {},
   "outputs": [],
   "source": [
    "X = np.concatenate((signal_Tprime600, backgr))\n",
    "y = np.concatenate((np.ones(signal_Tprime600.shape[0]),\n",
    "                    np.zeros(backgr.shape[0])))"
   ]
  },
  {
   "cell_type": "code",
   "execution_count": 29,
   "metadata": {},
   "outputs": [
    {
     "data": {
      "text/plain": [
       "((239154, 42), (239154,))"
      ]
     },
     "execution_count": 29,
     "metadata": {},
     "output_type": "execute_result"
    }
   ],
   "source": [
    "X.shape, y.shape"
   ]
  },
  {
   "cell_type": "code",
   "execution_count": 30,
   "metadata": {},
   "outputs": [],
   "source": [
    "X_train,X_test, y_train, y_test = train_test_split(X, y, test_size=0.33, random_state =5)\n"
   ]
  },
  {
   "cell_type": "code",
   "execution_count": 31,
   "metadata": {},
   "outputs": [
    {
     "data": {
      "text/plain": [
       "((160233, 42), (160233,))"
      ]
     },
     "execution_count": 31,
     "metadata": {},
     "output_type": "execute_result"
    }
   ],
   "source": [
    "X_train.shape, y_train.shape"
   ]
  },
  {
   "cell_type": "code",
   "execution_count": 32,
   "metadata": {},
   "outputs": [
    {
     "data": {
      "text/plain": [
       "((78921, 42), (78921,))"
      ]
     },
     "execution_count": 32,
     "metadata": {},
     "output_type": "execute_result"
    }
   ],
   "source": [
    "X_test.shape, y_test.shape"
   ]
  },
  {
   "cell_type": "code",
   "execution_count": 43,
   "metadata": {},
   "outputs": [],
   "source": [
    "import tensorflow as tf\n",
    "from tensorflow import keras\n",
    "from tensorflow.keras.models import Sequential\n",
    "from tensorflow.keras.layers import Dense\n",
    "from tensorflow.keras.layers import Dropout\n",
    "from keras.constraints import maxnorm\n",
    "from keras.wrappers.scikit_learn import KerasClassifier\n",
    "from keras.constraints import maxnorm\n",
    "from keras.optimizers import SGD\n",
    "from sklearn.model_selection import cross_val_score\n",
    "from sklearn.preprocessing import LabelEncoder\n",
    "from sklearn.model_selection import StratifiedKFold\n",
    "from sklearn.preprocessing import StandardScaler\n",
    "from sklearn.pipeline import Pipeline\n",
    "from keras.utils.vis_utils import plot_model\n",
    "from keras.layers import LSTM\n",
    "from keras.layers.core import Dense, Dropout, Activation\n",
    "from keras.callbacks import EarlyStopping, ModelCheckpoint\n",
    "from keras.layers.normalization import BatchNormalization\n",
    "from keras.optimizers import Adadelta\n",
    "from tensorflow.keras import regularizers\n",
    "from tensorflow.keras.initializers import RandomNormal, Constant"
   ]
  },
  {
   "cell_type": "code",
   "execution_count": 45,
   "metadata": {
    "scrolled": true
   },
   "outputs": [
    {
     "ename": "AttributeError",
     "evalue": "module 'tensorflow' has no attribute 'get_default_graph'",
     "output_type": "error",
     "traceback": [
      "\u001b[0;31m---------------------------------------------------------------------------\u001b[0m",
      "\u001b[0;31mAttributeError\u001b[0m                            Traceback (most recent call last)",
      "\u001b[0;32m<ipython-input-45-4e3dfc6b6c74>\u001b[0m in \u001b[0;36m<module>\u001b[0;34m\u001b[0m\n\u001b[1;32m      1\u001b[0m \u001b[0mclf\u001b[0m \u001b[0;34m=\u001b[0m \u001b[0mSequential\u001b[0m\u001b[0;34m(\u001b[0m\u001b[0;34m)\u001b[0m\u001b[0;34m\u001b[0m\u001b[0;34m\u001b[0m\u001b[0m\n\u001b[1;32m      2\u001b[0m \u001b[0;31m# clf.add(LSTM(1, return_sequences=True ))\u001b[0m\u001b[0;34m\u001b[0m\u001b[0;34m\u001b[0m\u001b[0;34m\u001b[0m\u001b[0m\n\u001b[0;32m----> 3\u001b[0;31m \u001b[0mclf\u001b[0m\u001b[0;34m.\u001b[0m\u001b[0madd\u001b[0m\u001b[0;34m(\u001b[0m\u001b[0mBatchNormalization\u001b[0m\u001b[0;34m(\u001b[0m\u001b[0minput_shape\u001b[0m \u001b[0;34m=\u001b[0m \u001b[0;34m(\u001b[0m\u001b[0;36m30\u001b[0m\u001b[0;34m,\u001b[0m\u001b[0;34m)\u001b[0m\u001b[0;34m)\u001b[0m\u001b[0;34m)\u001b[0m\u001b[0;34m\u001b[0m\u001b[0;34m\u001b[0m\u001b[0m\n\u001b[0m\u001b[1;32m      4\u001b[0m \u001b[0;31m# clf.add(Dropout(3))\u001b[0m\u001b[0;34m\u001b[0m\u001b[0;34m\u001b[0m\u001b[0;34m\u001b[0m\u001b[0m\n\u001b[1;32m      5\u001b[0m \u001b[0mclf\u001b[0m\u001b[0;34m.\u001b[0m\u001b[0madd\u001b[0m\u001b[0;34m(\u001b[0m\u001b[0mDense\u001b[0m\u001b[0;34m(\u001b[0m\u001b[0;36m512\u001b[0m\u001b[0;34m,\u001b[0m \u001b[0mactivation\u001b[0m \u001b[0;34m=\u001b[0m \u001b[0;34m'relu'\u001b[0m\u001b[0;34m,\u001b[0m\u001b[0mkernel_regularizer\u001b[0m\u001b[0;34m=\u001b[0m\u001b[0mregularizers\u001b[0m\u001b[0;34m.\u001b[0m\u001b[0ml2\u001b[0m\u001b[0;34m(\u001b[0m\u001b[0;36m0.001\u001b[0m\u001b[0;34m)\u001b[0m\u001b[0;34m,\u001b[0m \u001b[0mkernel_initializer\u001b[0m \u001b[0;34m=\u001b[0m \u001b[0;34m'lecun_uniform'\u001b[0m\u001b[0;34m,\u001b[0m\u001b[0mname\u001b[0m \u001b[0;34m=\u001b[0m \u001b[0;34m'dense_1'\u001b[0m\u001b[0;34m)\u001b[0m\u001b[0;34m)\u001b[0m\u001b[0;34m\u001b[0m\u001b[0;34m\u001b[0m\u001b[0m\n",
      "\u001b[0;32m/cvmfs/sft.cern.ch/lcg/views/LCG_98python3spark3/x86_64-centos7-gcc8-opt/lib/python3.7/site-packages/keras/legacy/interfaces.py\u001b[0m in \u001b[0;36mwrapper\u001b[0;34m(*args, **kwargs)\u001b[0m\n\u001b[1;32m     89\u001b[0m                 warnings.warn('Update your `' + object_name + '` call to the ' +\n\u001b[1;32m     90\u001b[0m                               'Keras 2 API: ' + signature, stacklevel=2)\n\u001b[0;32m---> 91\u001b[0;31m             \u001b[0;32mreturn\u001b[0m \u001b[0mfunc\u001b[0m\u001b[0;34m(\u001b[0m\u001b[0;34m*\u001b[0m\u001b[0margs\u001b[0m\u001b[0;34m,\u001b[0m \u001b[0;34m**\u001b[0m\u001b[0mkwargs\u001b[0m\u001b[0;34m)\u001b[0m\u001b[0;34m\u001b[0m\u001b[0;34m\u001b[0m\u001b[0m\n\u001b[0m\u001b[1;32m     92\u001b[0m         \u001b[0mwrapper\u001b[0m\u001b[0;34m.\u001b[0m\u001b[0m_original_function\u001b[0m \u001b[0;34m=\u001b[0m \u001b[0mfunc\u001b[0m\u001b[0;34m\u001b[0m\u001b[0;34m\u001b[0m\u001b[0m\n\u001b[1;32m     93\u001b[0m         \u001b[0;32mreturn\u001b[0m \u001b[0mwrapper\u001b[0m\u001b[0;34m\u001b[0m\u001b[0;34m\u001b[0m\u001b[0m\n",
      "\u001b[0;32m/cvmfs/sft.cern.ch/lcg/views/LCG_98python3spark3/x86_64-centos7-gcc8-opt/lib/python3.7/site-packages/keras/layers/normalization.py\u001b[0m in \u001b[0;36m__init__\u001b[0;34m(self, axis, momentum, epsilon, center, scale, beta_initializer, gamma_initializer, moving_mean_initializer, moving_variance_initializer, beta_regularizer, gamma_regularizer, beta_constraint, gamma_constraint, **kwargs)\u001b[0m\n\u001b[1;32m     74\u001b[0m                  \u001b[0mgamma_constraint\u001b[0m\u001b[0;34m=\u001b[0m\u001b[0;32mNone\u001b[0m\u001b[0;34m,\u001b[0m\u001b[0;34m\u001b[0m\u001b[0;34m\u001b[0m\u001b[0m\n\u001b[1;32m     75\u001b[0m                  **kwargs):\n\u001b[0;32m---> 76\u001b[0;31m         \u001b[0msuper\u001b[0m\u001b[0;34m(\u001b[0m\u001b[0mBatchNormalization\u001b[0m\u001b[0;34m,\u001b[0m \u001b[0mself\u001b[0m\u001b[0;34m)\u001b[0m\u001b[0;34m.\u001b[0m\u001b[0m__init__\u001b[0m\u001b[0;34m(\u001b[0m\u001b[0;34m**\u001b[0m\u001b[0mkwargs\u001b[0m\u001b[0;34m)\u001b[0m\u001b[0;34m\u001b[0m\u001b[0;34m\u001b[0m\u001b[0m\n\u001b[0m\u001b[1;32m     77\u001b[0m         \u001b[0mself\u001b[0m\u001b[0;34m.\u001b[0m\u001b[0msupports_masking\u001b[0m \u001b[0;34m=\u001b[0m \u001b[0;32mTrue\u001b[0m\u001b[0;34m\u001b[0m\u001b[0;34m\u001b[0m\u001b[0m\n\u001b[1;32m     78\u001b[0m         \u001b[0mself\u001b[0m\u001b[0;34m.\u001b[0m\u001b[0maxis\u001b[0m \u001b[0;34m=\u001b[0m \u001b[0maxis\u001b[0m\u001b[0;34m\u001b[0m\u001b[0;34m\u001b[0m\u001b[0m\n",
      "\u001b[0;32m/cvmfs/sft.cern.ch/lcg/views/LCG_98python3spark3/x86_64-centos7-gcc8-opt/lib/python3.7/site-packages/keras/engine/base_layer.py\u001b[0m in \u001b[0;36m__init__\u001b[0;34m(self, **kwargs)\u001b[0m\n\u001b[1;32m    130\u001b[0m         \u001b[0;32mif\u001b[0m \u001b[0;32mnot\u001b[0m \u001b[0mname\u001b[0m\u001b[0;34m:\u001b[0m\u001b[0;34m\u001b[0m\u001b[0;34m\u001b[0m\u001b[0m\n\u001b[1;32m    131\u001b[0m             \u001b[0mprefix\u001b[0m \u001b[0;34m=\u001b[0m \u001b[0mself\u001b[0m\u001b[0;34m.\u001b[0m\u001b[0m__class__\u001b[0m\u001b[0;34m.\u001b[0m\u001b[0m__name__\u001b[0m\u001b[0;34m\u001b[0m\u001b[0;34m\u001b[0m\u001b[0m\n\u001b[0;32m--> 132\u001b[0;31m             \u001b[0mname\u001b[0m \u001b[0;34m=\u001b[0m \u001b[0m_to_snake_case\u001b[0m\u001b[0;34m(\u001b[0m\u001b[0mprefix\u001b[0m\u001b[0;34m)\u001b[0m \u001b[0;34m+\u001b[0m \u001b[0;34m'_'\u001b[0m \u001b[0;34m+\u001b[0m \u001b[0mstr\u001b[0m\u001b[0;34m(\u001b[0m\u001b[0mK\u001b[0m\u001b[0;34m.\u001b[0m\u001b[0mget_uid\u001b[0m\u001b[0;34m(\u001b[0m\u001b[0mprefix\u001b[0m\u001b[0;34m)\u001b[0m\u001b[0;34m)\u001b[0m\u001b[0;34m\u001b[0m\u001b[0;34m\u001b[0m\u001b[0m\n\u001b[0m\u001b[1;32m    133\u001b[0m         \u001b[0mself\u001b[0m\u001b[0;34m.\u001b[0m\u001b[0mname\u001b[0m \u001b[0;34m=\u001b[0m \u001b[0mname\u001b[0m\u001b[0;34m\u001b[0m\u001b[0;34m\u001b[0m\u001b[0m\n\u001b[1;32m    134\u001b[0m \u001b[0;34m\u001b[0m\u001b[0m\n",
      "\u001b[0;32m/cvmfs/sft.cern.ch/lcg/views/LCG_98python3spark3/x86_64-centos7-gcc8-opt/lib/python3.7/site-packages/keras/backend/tensorflow_backend.py\u001b[0m in \u001b[0;36mget_uid\u001b[0;34m(prefix)\u001b[0m\n\u001b[1;32m     72\u001b[0m     \"\"\"\n\u001b[1;32m     73\u001b[0m     \u001b[0;32mglobal\u001b[0m \u001b[0m_GRAPH_UID_DICTS\u001b[0m\u001b[0;34m\u001b[0m\u001b[0;34m\u001b[0m\u001b[0m\n\u001b[0;32m---> 74\u001b[0;31m     \u001b[0mgraph\u001b[0m \u001b[0;34m=\u001b[0m \u001b[0mtf\u001b[0m\u001b[0;34m.\u001b[0m\u001b[0mget_default_graph\u001b[0m\u001b[0;34m(\u001b[0m\u001b[0;34m)\u001b[0m\u001b[0;34m\u001b[0m\u001b[0;34m\u001b[0m\u001b[0m\n\u001b[0m\u001b[1;32m     75\u001b[0m     \u001b[0;32mif\u001b[0m \u001b[0mgraph\u001b[0m \u001b[0;32mnot\u001b[0m \u001b[0;32min\u001b[0m \u001b[0m_GRAPH_UID_DICTS\u001b[0m\u001b[0;34m:\u001b[0m\u001b[0;34m\u001b[0m\u001b[0;34m\u001b[0m\u001b[0m\n\u001b[1;32m     76\u001b[0m         \u001b[0m_GRAPH_UID_DICTS\u001b[0m\u001b[0;34m[\u001b[0m\u001b[0mgraph\u001b[0m\u001b[0;34m]\u001b[0m \u001b[0;34m=\u001b[0m \u001b[0mdefaultdict\u001b[0m\u001b[0;34m(\u001b[0m\u001b[0mint\u001b[0m\u001b[0;34m)\u001b[0m\u001b[0;34m\u001b[0m\u001b[0;34m\u001b[0m\u001b[0m\n",
      "\u001b[0;31mAttributeError\u001b[0m: module 'tensorflow' has no attribute 'get_default_graph'"
     ]
    }
   ],
   "source": [
    "clf = Sequential()\n",
    "# clf.add(LSTM(1, return_sequences=True ))\n",
    "clf.add(BatchNormalization(input_shape = (30,)))\n",
    "# clf.add(Dropout(3))\n",
    "clf.add(Dense(512, activation = 'relu',kernel_regularizer=regularizers.l2(0.001), kernel_initializer = 'lecun_uniform',name = 'dense_1'))\n",
    "clf.add(BatchNormalization())\n",
    "clf.add(Dropout(0.3))\n",
    "clf.add(Dense(256, activation = 'relu',kernel_regularizer=regularizers.l2(0.001), kernel_initializer = 'lecun_uniform', name = 'dense_2'))\n",
    "clf.add(Dropout(0.3))\n",
    "clf.add(Dense(128, activation = 'relu',kernel_regularizer=regularizers.l2(0.001), kernel_initializer = 'lecun_uniform', name = 'dense_3'))\n",
    "clf.add(BatchNormalization())\n",
    "clf.add(Dropout(0.3))\n",
    "clf.add(Dense(64, activation = 'relu',kernel_regularizer=regularizers.l2(0.001), kernel_initializer = 'lecun_uniform',name = 'dense_4'))\n",
    "clf.add(BatchNormalization())\n",
    "clf.add(Dropout(0.3))\n",
    "clf.add(Dense(32, activation = 'relu',kernel_regularizer=regularizers.l2(0.001), kernel_initializer = 'lecun_uniform', name = 'dense_5'))\n",
    "clf.add(BatchNormalization(momentum=0.99,epsilon=0.001,beta_initializer=RandomNormal(mean=0.0, stddev=0.05),gamma_initializer=Constant(value=0.9)))\n",
    "\n",
    "# Output\n",
    "clf.add(Dense(1, activation = 'sigmoid',kernel_regularizer=regularizers.l2(0.001), kernel_initializer = 'lecun_uniform', name = 'output'))\n",
    "#compile model\n",
    "\n",
    "# opt = SGD(lr=0.01, momentum=0.9)\n",
    "clf.compile(loss = 'binary_crossentropy', \n",
    "            optimizer= 'adam',\n",
    "            metrics=['accuracy'])\n",
    "print('Summary of the built model...')\n",
    "print(clf.summary())\n",
    "# plot_model(clf, to_file='/eos/home-s/sraj/M.Sc._Thesis/Plot/''clf_plot_multiclass___.png', show_shapes=True, show_layer_names=True)"
   ]
  },
  {
   "cell_type": "code",
   "execution_count": 24,
   "metadata": {},
   "outputs": [
    {
     "name": "stdout",
     "output_type": "stream",
     "text": [
      "Train on 112163 samples, validate on 48070 samples\n",
      "Epoch 1/100\n",
      "112163/112163 [==============================] - 4s 35us/step - loss: 1.5349 - acc: 0.7126 - val_loss: 1.3643 - val_acc: 0.8068\n",
      "Epoch 2/100\n",
      "112163/112163 [==============================] - 2s 17us/step - loss: 1.3303 - acc: 0.8074 - val_loss: 1.2484 - val_acc: 0.8371\n",
      "Epoch 3/100\n",
      "112163/112163 [==============================] - 2s 17us/step - loss: 1.1963 - acc: 0.8356 - val_loss: 1.1213 - val_acc: 0.8505\n",
      "Epoch 4/100\n",
      "112163/112163 [==============================] - 2s 19us/step - loss: 1.0843 - acc: 0.8430 - val_loss: 1.0128 - val_acc: 0.8532\n",
      "Epoch 5/100\n",
      "112163/112163 [==============================] - 2s 19us/step - loss: 0.9850 - acc: 0.8480 - val_loss: 0.9185 - val_acc: 0.8568\n",
      "Epoch 6/100\n",
      "112163/112163 [==============================] - 2s 18us/step - loss: 0.8985 - acc: 0.8529 - val_loss: 0.8404 - val_acc: 0.8570\n",
      "Epoch 7/100\n",
      "112163/112163 [==============================] - 2s 18us/step - loss: 0.8224 - acc: 0.8532 - val_loss: 0.7778 - val_acc: 0.8570\n",
      "Epoch 8/100\n",
      "112163/112163 [==============================] - 2s 18us/step - loss: 0.7557 - acc: 0.8555 - val_loss: 0.7262 - val_acc: 0.8575\n",
      "Epoch 9/100\n",
      "112163/112163 [==============================] - 2s 18us/step - loss: 0.6988 - acc: 0.8580 - val_loss: 0.6834 - val_acc: 0.8560\n",
      "Epoch 10/100\n",
      "112163/112163 [==============================] - 2s 19us/step - loss: 0.6499 - acc: 0.8595 - val_loss: 0.6533 - val_acc: 0.8593\n",
      "Epoch 11/100\n",
      "112163/112163 [==============================] - 2s 20us/step - loss: 0.6077 - acc: 0.8605 - val_loss: 0.6272 - val_acc: 0.8579\n",
      "Epoch 12/100\n",
      "112163/112163 [==============================] - 2s 19us/step - loss: 0.5701 - acc: 0.8613 - val_loss: 0.5973 - val_acc: 0.8601\n",
      "Epoch 13/100\n",
      "112163/112163 [==============================] - 2s 19us/step - loss: 0.5392 - acc: 0.8616 - val_loss: 0.5809 - val_acc: 0.8586\n",
      "Epoch 14/100\n",
      "112163/112163 [==============================] - 2s 18us/step - loss: 0.5122 - acc: 0.8625 - val_loss: 0.5694 - val_acc: 0.8593\n",
      "Epoch 15/100\n",
      "112163/112163 [==============================] - 2s 18us/step - loss: 0.4866 - acc: 0.8640 - val_loss: 0.5557 - val_acc: 0.8589\n",
      "Epoch 16/100\n",
      "112163/112163 [==============================] - 2s 19us/step - loss: 0.4675 - acc: 0.8644 - val_loss: 0.5372 - val_acc: 0.8599\n",
      "Epoch 17/100\n",
      "112163/112163 [==============================] - 2s 18us/step - loss: 0.4478 - acc: 0.8650 - val_loss: 0.5268 - val_acc: 0.8561\n",
      "Epoch 18/100\n",
      "112163/112163 [==============================] - 2s 18us/step - loss: 0.4305 - acc: 0.8668 - val_loss: 0.5292 - val_acc: 0.8478\n",
      "Epoch 19/100\n",
      "112163/112163 [==============================] - 2s 18us/step - loss: 0.4202 - acc: 0.8659 - val_loss: 0.5146 - val_acc: 0.8520\n",
      "Epoch 20/100\n",
      "112163/112163 [==============================] - 2s 19us/step - loss: 0.4057 - acc: 0.8668 - val_loss: 0.4934 - val_acc: 0.8550\n",
      "Epoch 21/100\n",
      "112163/112163 [==============================] - 2s 19us/step - loss: 0.3950 - acc: 0.8679 - val_loss: 0.4894 - val_acc: 0.8509\n",
      "Epoch 22/100\n",
      "112163/112163 [==============================] - 2s 19us/step - loss: 0.3845 - acc: 0.8682 - val_loss: 0.4791 - val_acc: 0.8525\n",
      "Epoch 23/100\n",
      "112163/112163 [==============================] - 2s 18us/step - loss: 0.3753 - acc: 0.8692 - val_loss: 0.4765 - val_acc: 0.8525\n",
      "Epoch 24/100\n",
      "112163/112163 [==============================] - 2s 18us/step - loss: 0.3680 - acc: 0.8701 - val_loss: 0.4796 - val_acc: 0.8488\n",
      "Epoch 25/100\n",
      "112163/112163 [==============================] - 2s 19us/step - loss: 0.3625 - acc: 0.8695 - val_loss: 0.4723 - val_acc: 0.8440\n",
      "Epoch 26/100\n",
      "112163/112163 [==============================] - 2s 19us/step - loss: 0.3566 - acc: 0.8701 - val_loss: 0.4577 - val_acc: 0.8506\n",
      "Epoch 27/100\n",
      "112163/112163 [==============================] - 2s 18us/step - loss: 0.3506 - acc: 0.8713 - val_loss: 0.4369 - val_acc: 0.8532\n",
      "Epoch 28/100\n",
      "112163/112163 [==============================] - 2s 19us/step - loss: 0.3473 - acc: 0.8699 - val_loss: 0.4324 - val_acc: 0.8590\n",
      "Epoch 29/100\n",
      "112163/112163 [==============================] - 2s 18us/step - loss: 0.3432 - acc: 0.8701 - val_loss: 0.4489 - val_acc: 0.8476\n",
      "Epoch 30/100\n",
      "112163/112163 [==============================] - 2s 17us/step - loss: 0.3375 - acc: 0.8718 - val_loss: 0.4331 - val_acc: 0.8524\n",
      "Epoch 31/100\n",
      "112163/112163 [==============================] - 2s 19us/step - loss: 0.3341 - acc: 0.8718 - val_loss: 0.4392 - val_acc: 0.8390\n",
      "Epoch 32/100\n",
      "112163/112163 [==============================] - 2s 20us/step - loss: 0.3311 - acc: 0.8718 - val_loss: 0.4402 - val_acc: 0.8446\n",
      "Epoch 33/100\n",
      "112163/112163 [==============================] - 2s 20us/step - loss: 0.3288 - acc: 0.8719 - val_loss: 0.4323 - val_acc: 0.8446\n",
      "Epoch 34/100\n",
      "112163/112163 [==============================] - 2s 19us/step - loss: 0.3263 - acc: 0.8730 - val_loss: 0.4167 - val_acc: 0.8557\n",
      "Epoch 35/100\n",
      "112163/112163 [==============================] - 2s 19us/step - loss: 0.3234 - acc: 0.8730 - val_loss: 0.4093 - val_acc: 0.8453\n",
      "Epoch 36/100\n",
      "112163/112163 [==============================] - 2s 19us/step - loss: 0.3212 - acc: 0.8737 - val_loss: 0.4036 - val_acc: 0.8607\n",
      "Epoch 37/100\n",
      "112163/112163 [==============================] - 2s 18us/step - loss: 0.3191 - acc: 0.8733 - val_loss: 0.4097 - val_acc: 0.8394\n",
      "Epoch 38/100\n",
      "112163/112163 [==============================] - 2s 19us/step - loss: 0.3193 - acc: 0.8727 - val_loss: 0.3845 - val_acc: 0.8584\n",
      "Epoch 39/100\n",
      "112163/112163 [==============================] - 2s 18us/step - loss: 0.3172 - acc: 0.8740 - val_loss: 0.3754 - val_acc: 0.8553\n",
      "Epoch 40/100\n",
      "112163/112163 [==============================] - 2s 19us/step - loss: 0.3161 - acc: 0.8748 - val_loss: 0.3809 - val_acc: 0.8572\n",
      "Epoch 41/100\n",
      "112163/112163 [==============================] - 2s 18us/step - loss: 0.3137 - acc: 0.8746 - val_loss: 0.3706 - val_acc: 0.8654\n",
      "Epoch 42/100\n",
      "112163/112163 [==============================] - 2s 17us/step - loss: 0.3142 - acc: 0.8729 - val_loss: 0.3752 - val_acc: 0.8506\n",
      "Epoch 43/100\n",
      "112163/112163 [==============================] - 2s 18us/step - loss: 0.3119 - acc: 0.8740 - val_loss: 0.3773 - val_acc: 0.8648\n",
      "Epoch 44/100\n",
      "112163/112163 [==============================] - 2s 19us/step - loss: 0.3119 - acc: 0.8754 - val_loss: 0.3709 - val_acc: 0.8669\n",
      "Epoch 45/100\n",
      "112163/112163 [==============================] - 2s 19us/step - loss: 0.3104 - acc: 0.8752 - val_loss: 0.3574 - val_acc: 0.8613\n",
      "Epoch 46/100\n",
      "112163/112163 [==============================] - 2s 20us/step - loss: 0.3092 - acc: 0.8746 - val_loss: 0.3637 - val_acc: 0.8598\n",
      "Epoch 47/100\n",
      "112163/112163 [==============================] - 2s 19us/step - loss: 0.3095 - acc: 0.8744 - val_loss: 0.3582 - val_acc: 0.8669\n",
      "Epoch 48/100\n",
      "112163/112163 [==============================] - 2s 18us/step - loss: 0.3094 - acc: 0.8747 - val_loss: 0.3523 - val_acc: 0.8628\n",
      "Epoch 49/100\n",
      "112163/112163 [==============================] - 2s 17us/step - loss: 0.3085 - acc: 0.8749 - val_loss: 0.3505 - val_acc: 0.8649\n",
      "Epoch 50/100\n",
      "112163/112163 [==============================] - 2s 19us/step - loss: 0.3068 - acc: 0.8754 - val_loss: 0.3426 - val_acc: 0.8679\n",
      "Epoch 51/100\n",
      "112163/112163 [==============================] - 2s 18us/step - loss: 0.3061 - acc: 0.8757 - val_loss: 0.3351 - val_acc: 0.8679\n",
      "Epoch 52/100\n",
      "112163/112163 [==============================] - 2s 20us/step - loss: 0.3058 - acc: 0.8758 - val_loss: 0.3333 - val_acc: 0.8689\n",
      "Epoch 53/100\n",
      "112163/112163 [==============================] - 2s 19us/step - loss: 0.3059 - acc: 0.8761 - val_loss: 0.3284 - val_acc: 0.8674\n",
      "Epoch 54/100\n",
      "112163/112163 [==============================] - 2s 18us/step - loss: 0.3057 - acc: 0.8753 - val_loss: 0.3331 - val_acc: 0.8693\n",
      "Epoch 55/100\n",
      "112163/112163 [==============================] - 2s 19us/step - loss: 0.3054 - acc: 0.8764 - val_loss: 0.3283 - val_acc: 0.8687\n",
      "Epoch 56/100\n",
      "112163/112163 [==============================] - 2s 18us/step - loss: 0.3058 - acc: 0.8765 - val_loss: 0.3232 - val_acc: 0.8699\n",
      "Epoch 57/100\n",
      "112163/112163 [==============================] - 2s 18us/step - loss: 0.3041 - acc: 0.8757 - val_loss: 0.3213 - val_acc: 0.8700\n",
      "Epoch 58/100\n",
      "112163/112163 [==============================] - 2s 17us/step - loss: 0.3035 - acc: 0.8771 - val_loss: 0.3210 - val_acc: 0.8682\n"
     ]
    },
    {
     "name": "stdout",
     "output_type": "stream",
     "text": [
      "Epoch 59/100\n",
      "112163/112163 [==============================] - 2s 17us/step - loss: 0.3033 - acc: 0.8767 - val_loss: 0.3253 - val_acc: 0.8686\n",
      "Epoch 60/100\n",
      "112163/112163 [==============================] - 2s 18us/step - loss: 0.3032 - acc: 0.8762 - val_loss: 0.3168 - val_acc: 0.8710\n",
      "Epoch 61/100\n",
      "112163/112163 [==============================] - 2s 19us/step - loss: 0.3029 - acc: 0.8771 - val_loss: 0.3213 - val_acc: 0.8678\n",
      "Epoch 62/100\n",
      "112163/112163 [==============================] - 2s 18us/step - loss: 0.3017 - acc: 0.8769 - val_loss: 0.3172 - val_acc: 0.8700\n",
      "Epoch 63/100\n",
      "112163/112163 [==============================] - 2s 18us/step - loss: 0.3022 - acc: 0.8778 - val_loss: 0.3181 - val_acc: 0.8707\n",
      "Epoch 64/100\n",
      "112163/112163 [==============================] - 2s 18us/step - loss: 0.3012 - acc: 0.8772 - val_loss: 0.3191 - val_acc: 0.8694\n",
      "Epoch 65/100\n",
      "112163/112163 [==============================] - 2s 18us/step - loss: 0.3016 - acc: 0.8778 - val_loss: 0.3162 - val_acc: 0.8704\n",
      "Epoch 66/100\n",
      "112163/112163 [==============================] - 2s 19us/step - loss: 0.3014 - acc: 0.8769 - val_loss: 0.3152 - val_acc: 0.8701\n",
      "Epoch 67/100\n",
      "112163/112163 [==============================] - 2s 19us/step - loss: 0.2996 - acc: 0.8779 - val_loss: 0.3154 - val_acc: 0.8722\n",
      "Epoch 68/100\n",
      "112163/112163 [==============================] - 2s 19us/step - loss: 0.2997 - acc: 0.8782 - val_loss: 0.3169 - val_acc: 0.8705\n",
      "Epoch 69/100\n",
      "112163/112163 [==============================] - 2s 18us/step - loss: 0.3015 - acc: 0.8771 - val_loss: 0.3203 - val_acc: 0.8693\n",
      "Epoch 70/100\n",
      "112163/112163 [==============================] - 2s 18us/step - loss: 0.3006 - acc: 0.8772 - val_loss: 0.3142 - val_acc: 0.8707\n",
      "Epoch 71/100\n",
      "112163/112163 [==============================] - 2s 17us/step - loss: 0.3002 - acc: 0.8780 - val_loss: 0.3172 - val_acc: 0.8687\n",
      "Epoch 72/100\n",
      "112163/112163 [==============================] - 2s 18us/step - loss: 0.2985 - acc: 0.8791 - val_loss: 0.3145 - val_acc: 0.8712\n",
      "Epoch 73/100\n",
      "112163/112163 [==============================] - 2s 20us/step - loss: 0.2990 - acc: 0.8792 - val_loss: 0.3170 - val_acc: 0.8718\n",
      "Epoch 74/100\n",
      "112163/112163 [==============================] - 2s 20us/step - loss: 0.2984 - acc: 0.8786 - val_loss: 0.3146 - val_acc: 0.8709\n",
      "Epoch 75/100\n",
      "112163/112163 [==============================] - 2s 19us/step - loss: 0.3000 - acc: 0.8779 - val_loss: 0.3160 - val_acc: 0.8695\n",
      "Epoch 76/100\n",
      "112163/112163 [==============================] - 2s 20us/step - loss: 0.2984 - acc: 0.8794 - val_loss: 0.3145 - val_acc: 0.8709\n",
      "Epoch 77/100\n",
      "112163/112163 [==============================] - 2s 19us/step - loss: 0.2974 - acc: 0.8790 - val_loss: 0.3158 - val_acc: 0.8698\n",
      "Epoch 78/100\n",
      "112163/112163 [==============================] - 2s 19us/step - loss: 0.2988 - acc: 0.8778 - val_loss: 0.3161 - val_acc: 0.8701\n",
      "Epoch 79/100\n",
      "112163/112163 [==============================] - 2s 17us/step - loss: 0.2989 - acc: 0.8781 - val_loss: 0.3163 - val_acc: 0.8708\n",
      "Epoch 80/100\n",
      "112163/112163 [==============================] - 2s 19us/step - loss: 0.2975 - acc: 0.8798 - val_loss: 0.3160 - val_acc: 0.8698\n",
      "Epoch 81/100\n",
      "112163/112163 [==============================] - 2s 19us/step - loss: 0.2991 - acc: 0.8786 - val_loss: 0.3175 - val_acc: 0.8703\n",
      "Epoch 82/100\n",
      "112163/112163 [==============================] - 2s 18us/step - loss: 0.2976 - acc: 0.8796 - val_loss: 0.3154 - val_acc: 0.8709\n",
      "Epoch 83/100\n",
      "112163/112163 [==============================] - 2s 18us/step - loss: 0.2975 - acc: 0.8789 - val_loss: 0.3158 - val_acc: 0.8701\n",
      "Epoch 84/100\n",
      "112163/112163 [==============================] - 2s 18us/step - loss: 0.2967 - acc: 0.8805 - val_loss: 0.3166 - val_acc: 0.8701\n",
      "Epoch 85/100\n",
      "112163/112163 [==============================] - 2s 18us/step - loss: 0.2957 - acc: 0.8797 - val_loss: 0.3187 - val_acc: 0.8696\n",
      "Epoch 86/100\n",
      "112163/112163 [==============================] - 2s 19us/step - loss: 0.2959 - acc: 0.8808 - val_loss: 0.3166 - val_acc: 0.8703\n",
      "Epoch 87/100\n",
      "112163/112163 [==============================] - 2s 20us/step - loss: 0.2959 - acc: 0.8799 - val_loss: 0.3169 - val_acc: 0.8701\n",
      "Epoch 88/100\n",
      "112163/112163 [==============================] - 2s 20us/step - loss: 0.2950 - acc: 0.8807 - val_loss: 0.3167 - val_acc: 0.8710\n",
      "Epoch 89/100\n",
      "112163/112163 [==============================] - 2s 19us/step - loss: 0.2965 - acc: 0.8800 - val_loss: 0.3191 - val_acc: 0.8686\n",
      "Epoch 90/100\n",
      "112163/112163 [==============================] - 2s 19us/step - loss: 0.2977 - acc: 0.8796 - val_loss: 0.3196 - val_acc: 0.8678\n",
      "Epoch 91/100\n",
      "112163/112163 [==============================] - 2s 18us/step - loss: 0.2987 - acc: 0.8806 - val_loss: 0.3183 - val_acc: 0.8706\n",
      "Epoch 92/100\n",
      "112163/112163 [==============================] - 2s 18us/step - loss: 0.2972 - acc: 0.8806 - val_loss: 0.3224 - val_acc: 0.8708\n",
      "Epoch 93/100\n",
      "112163/112163 [==============================] - 2s 18us/step - loss: 0.2952 - acc: 0.8808 - val_loss: 0.3217 - val_acc: 0.8686\n",
      "Epoch 94/100\n",
      "112163/112163 [==============================] - 2s 20us/step - loss: 0.2953 - acc: 0.8808 - val_loss: 0.3203 - val_acc: 0.8710\n",
      "Epoch 95/100\n",
      "112163/112163 [==============================] - 2s 19us/step - loss: 0.2954 - acc: 0.8818 - val_loss: 0.3178 - val_acc: 0.8689\n",
      "Epoch 96/100\n",
      "112163/112163 [==============================] - 2s 19us/step - loss: 0.2953 - acc: 0.8816 - val_loss: 0.3180 - val_acc: 0.8704\n",
      "Epoch 97/100\n",
      "112163/112163 [==============================] - 2s 18us/step - loss: 0.2948 - acc: 0.8821 - val_loss: 0.3220 - val_acc: 0.8689\n",
      "Epoch 98/100\n",
      "112163/112163 [==============================] - 2s 18us/step - loss: 0.2956 - acc: 0.8813 - val_loss: 0.3193 - val_acc: 0.8696\n",
      "Epoch 99/100\n",
      "112163/112163 [==============================] - 2s 18us/step - loss: 0.2943 - acc: 0.8812 - val_loss: 0.3193 - val_acc: 0.8692\n",
      "Epoch 100/100\n",
      "112163/112163 [==============================] - 2s 17us/step - loss: 0.2946 - acc: 0.8820 - val_loss: 0.3196 - val_acc: 0.8701\n"
     ]
    },
    {
     "name": "stderr",
     "output_type": "stream",
     "text": [
      "2022-02-25 07:50:47.973320: I tensorflow/core/platform/cpu_feature_guard.cc:141] Your CPU supports instructions that this TensorFlow binary was not compiled to use: AVX2 FMA\n"
     ]
    }
   ],
   "source": [
    "# simple early stopping\n",
    "es = EarlyStopping(monitor='val_loss', verbose=1, patience =  10, mode = \"auto\", baseline = None)\n",
    "# fit model\n",
    "history = clf.fit(X_train, y_train, validation_split = 0.30, batch_size= 9000, epochs=100, verbose=1)\n",
    "# evaluate the model"
   ]
  },
  {
   "cell_type": "code",
   "execution_count": 25,
   "metadata": {},
   "outputs": [
    {
     "name": "stdout",
     "output_type": "stream",
     "text": [
      "Accuracy: 87.07%\n"
     ]
    }
   ],
   "source": [
    "# Final evaluation of the model for DNN\n",
    "# Testing Outputs\"$\\pm$\"\n",
    "scores = clf.evaluate(X_test, y_test, verbose=0)\n",
    "print(\"Accuracy: %.2f%%\" % (scores[1]*100))"
   ]
  },
  {
   "cell_type": "code",
   "execution_count": 26,
   "metadata": {},
   "outputs": [
    {
     "name": "stdout",
     "output_type": "stream",
     "text": [
      "Accuracy: 88.31%\n"
     ]
    }
   ],
   "source": [
    "# Final evaluation of the model for DNN\n",
    "# Testing Outputs\n",
    "scores = clf.evaluate(X_train, y_train, verbose=0)\n",
    "print(\"Accuracy: %.2f%%\" % (scores[1]*100))"
   ]
  },
  {
   "cell_type": "code",
   "execution_count": 27,
   "metadata": {},
   "outputs": [
    {
     "name": "stdout",
     "output_type": "stream",
     "text": [
      "CPU times: user 5 µs, sys: 0 ns, total: 5 µs\n",
      "Wall time: 17.6 µs\n"
     ]
    }
   ],
   "source": [
    "%time"
   ]
  },
  {
   "cell_type": "code",
   "execution_count": 28,
   "metadata": {},
   "outputs": [],
   "source": [
    "import h5py\n",
    "\n",
    "# hf.create_dataset('dataset_1', h)"
   ]
  },
  {
   "cell_type": "code",
   "execution_count": 29,
   "metadata": {},
   "outputs": [
    {
     "name": "stdout",
     "output_type": "stream",
     "text": [
      "saved trained model with combined background and a signal to disk\n"
     ]
    }
   ],
   "source": [
    "from keras.models import model_from_json\n",
    "model_json = clf.to_json()\n",
    "with open(\"model(with all(except_thq) as background and TPrime_600 signal_train).json\", \"w\") as json_file:\n",
    "    json_file.write(model_json)\n",
    "#serialize weights to HDF5\n",
    "clf.save_weights(\"model(with all(except_thq) as background and TPrime_600 signal_train).h5\")\n",
    "print(\"saved trained model with combined background and a signal to disk\")"
   ]
  },
  {
   "cell_type": "code",
   "execution_count": 30,
   "metadata": {},
   "outputs": [
    {
     "name": "stdout",
     "output_type": "stream",
     "text": [
      "Loaded model from disk\n"
     ]
    }
   ],
   "source": [
    "# load json and create model\n",
    "json_file = open('model(with all(except_thq) as background and TPrime_600 signal_train).json', 'r')\n",
    "loaded_model_json = json_file.read()\n",
    "json_file.close()\n",
    "loaded_model = model_from_json(loaded_model_json)\n",
    "# load weights into new model\n",
    "loaded_model.load_weights(\"model(with all(except_thq) as background and TPrime_600 signal_train).h5\")\n",
    "print(\"Loaded model from disk\")"
   ]
  },
  {
   "cell_type": "code",
   "execution_count": 31,
   "metadata": {},
   "outputs": [
    {
     "name": "stdout",
     "output_type": "stream",
     "text": [
      "78921/78921 [==============================] - 4s 51us/step\n"
     ]
    }
   ],
   "source": [
    "# evaluate loaded model on test data of TPrime_600\n",
    "loaded_model.compile(loss='binary_crossentropy', optimizer='adam', metrics=['accuracy'])\n",
    "score = loaded_model.evaluate(X_test, y_test)"
   ]
  },
  {
   "cell_type": "code",
   "execution_count": 32,
   "metadata": {},
   "outputs": [
    {
     "name": "stdout",
     "output_type": "stream",
     "text": [
      "It should be compatible with the previous output from the test dataset: \n",
      "Here the Accuracy ouput is: \n",
      " Accuracy: 87.07%\n"
     ]
    }
   ],
   "source": [
    "# Final evaluation of the model for DNN\n",
    "# Testing Outputs\n",
    "scores = clf.evaluate(X_test, y_test, verbose=0)\n",
    "print('It should be compatible with the previous output from the test dataset: \\n'\"Here the Accuracy ouput is: \\n Accuracy: %.2f%%\" % (scores[1]*100))"
   ]
  },
  {
   "cell_type": "code",
   "execution_count": 33,
   "metadata": {},
   "outputs": [
    {
     "name": "stdout",
     "output_type": "stream",
     "text": [
      "(78921, 30)\n",
      "(78921,)\n"
     ]
    }
   ],
   "source": [
    "print(X_test.shape)\n",
    "print(y_test.shape)"
   ]
  },
  {
   "cell_type": "code",
   "execution_count": 34,
   "metadata": {},
   "outputs": [],
   "source": [
    "# Load Testing dataset\n",
    "signal_0 = signal = '/eos/home-s/sraj/M.Sc._Thesis/data_files/output_TprimeBToTH_Hgg_M-1200_LH_TuneCP5_PSweights_13TeV-madgraph_pythia8.root'\n",
    "treeName_signal_0 = \"tagsDumper/trees/Tprime_1200_13TeV_THQLeptonicTag\"\n",
    "signal_Tprime1200 = root2array(signal_0, treeName_signal_0, columns)   #Signal TPrime at 600TeV"
   ]
  },
  {
   "cell_type": "code",
   "execution_count": 35,
   "metadata": {},
   "outputs": [],
   "source": [
    "signal_Tprime1200 = pd.DataFrame(signal_Tprime1200)"
   ]
  },
  {
   "cell_type": "code",
   "execution_count": 36,
   "metadata": {},
   "outputs": [
    {
     "data": {
      "text/html": [
       "<div>\n",
       "<style scoped>\n",
       "    .dataframe tbody tr th:only-of-type {\n",
       "        vertical-align: middle;\n",
       "    }\n",
       "\n",
       "    .dataframe tbody tr th {\n",
       "        vertical-align: top;\n",
       "    }\n",
       "\n",
       "    .dataframe thead th {\n",
       "        text-align: right;\n",
       "    }\n",
       "</style>\n",
       "<table border=\"1\" class=\"dataframe\">\n",
       "  <thead>\n",
       "    <tr style=\"text-align: right;\">\n",
       "      <th></th>\n",
       "      <th>dipho_pt</th>\n",
       "      <th>dipho_phi</th>\n",
       "      <th>dipho_eta</th>\n",
       "      <th>dipho_e</th>\n",
       "      <th>dipho_mass</th>\n",
       "      <th>dipho_leadPt</th>\n",
       "      <th>dipho_leadEt</th>\n",
       "      <th>dipho_leadEta</th>\n",
       "      <th>dipho_leadPhi</th>\n",
       "      <th>dipho_subleadEta</th>\n",
       "      <th>...</th>\n",
       "      <th>bjet3_phi</th>\n",
       "      <th>bjet3_eta</th>\n",
       "      <th>bjet1_discr</th>\n",
       "      <th>bjet2_discr</th>\n",
       "      <th>bjet3_discr</th>\n",
       "      <th>jet3_pt</th>\n",
       "      <th>jet3_phi</th>\n",
       "      <th>jet1_e</th>\n",
       "      <th>jet2_e</th>\n",
       "      <th>jet3_e</th>\n",
       "    </tr>\n",
       "  </thead>\n",
       "  <tbody>\n",
       "    <tr>\n",
       "      <th>0</th>\n",
       "      <td>595.166260</td>\n",
       "      <td>0.460952</td>\n",
       "      <td>0.627633</td>\n",
       "      <td>727.120056</td>\n",
       "      <td>125.027214</td>\n",
       "      <td>534.582397</td>\n",
       "      <td>534.582397</td>\n",
       "      <td>0.566175</td>\n",
       "      <td>0.515456</td>\n",
       "      <td>0.996379</td>\n",
       "      <td>...</td>\n",
       "      <td>-999.000000</td>\n",
       "      <td>-999.000000</td>\n",
       "      <td>0.985339</td>\n",
       "      <td>0.819623</td>\n",
       "      <td>-999.000000</td>\n",
       "      <td>90.022743</td>\n",
       "      <td>1.954158</td>\n",
       "      <td>312.403442</td>\n",
       "      <td>561.495178</td>\n",
       "      <td>1378.422119</td>\n",
       "    </tr>\n",
       "    <tr>\n",
       "      <th>1</th>\n",
       "      <td>456.524109</td>\n",
       "      <td>-0.984099</td>\n",
       "      <td>-0.670740</td>\n",
       "      <td>576.773621</td>\n",
       "      <td>124.728577</td>\n",
       "      <td>287.602081</td>\n",
       "      <td>287.602081</td>\n",
       "      <td>-0.733117</td>\n",
       "      <td>-1.179360</td>\n",
       "      <td>-0.519446</td>\n",
       "      <td>...</td>\n",
       "      <td>1.728448</td>\n",
       "      <td>0.157884</td>\n",
       "      <td>0.999983</td>\n",
       "      <td>0.505706</td>\n",
       "      <td>0.254300</td>\n",
       "      <td>60.414616</td>\n",
       "      <td>-2.950332</td>\n",
       "      <td>162.035049</td>\n",
       "      <td>365.411346</td>\n",
       "      <td>389.538452</td>\n",
       "    </tr>\n",
       "    <tr>\n",
       "      <th>2</th>\n",
       "      <td>474.975677</td>\n",
       "      <td>0.836109</td>\n",
       "      <td>-0.724698</td>\n",
       "      <td>617.692627</td>\n",
       "      <td>123.324104</td>\n",
       "      <td>246.845337</td>\n",
       "      <td>246.845337</td>\n",
       "      <td>-0.460441</td>\n",
       "      <td>0.874362</td>\n",
       "      <td>-0.968103</td>\n",
       "      <td>...</td>\n",
       "      <td>-999.000000</td>\n",
       "      <td>-999.000000</td>\n",
       "      <td>0.999494</td>\n",
       "      <td>-999.000000</td>\n",
       "      <td>-999.000000</td>\n",
       "      <td>-999.000000</td>\n",
       "      <td>-999.000000</td>\n",
       "      <td>304.269562</td>\n",
       "      <td>49.994984</td>\n",
       "      <td>-999.000000</td>\n",
       "    </tr>\n",
       "    <tr>\n",
       "      <th>3</th>\n",
       "      <td>587.216736</td>\n",
       "      <td>-2.157246</td>\n",
       "      <td>-0.240816</td>\n",
       "      <td>617.103760</td>\n",
       "      <td>124.927475</td>\n",
       "      <td>530.529053</td>\n",
       "      <td>530.529053</td>\n",
       "      <td>-0.195753</td>\n",
       "      <td>-2.096326</td>\n",
       "      <td>-0.550637</td>\n",
       "      <td>...</td>\n",
       "      <td>-999.000000</td>\n",
       "      <td>-999.000000</td>\n",
       "      <td>0.998836</td>\n",
       "      <td>-999.000000</td>\n",
       "      <td>-999.000000</td>\n",
       "      <td>29.110281</td>\n",
       "      <td>2.931939</td>\n",
       "      <td>320.741150</td>\n",
       "      <td>4055.874268</td>\n",
       "      <td>240.681366</td>\n",
       "    </tr>\n",
       "    <tr>\n",
       "      <th>4</th>\n",
       "      <td>458.509705</td>\n",
       "      <td>-2.259718</td>\n",
       "      <td>0.607091</td>\n",
       "      <td>559.567932</td>\n",
       "      <td>124.109444</td>\n",
       "      <td>421.636475</td>\n",
       "      <td>421.636475</td>\n",
       "      <td>0.551736</td>\n",
       "      <td>-2.339284</td>\n",
       "      <td>0.886035</td>\n",
       "      <td>...</td>\n",
       "      <td>0.880687</td>\n",
       "      <td>-2.398130</td>\n",
       "      <td>0.999373</td>\n",
       "      <td>0.948760</td>\n",
       "      <td>0.173882</td>\n",
       "      <td>103.105125</td>\n",
       "      <td>0.585539</td>\n",
       "      <td>708.648315</td>\n",
       "      <td>189.009872</td>\n",
       "      <td>861.765381</td>\n",
       "    </tr>\n",
       "  </tbody>\n",
       "</table>\n",
       "<p>5 rows × 30 columns</p>\n",
       "</div>"
      ],
      "text/plain": [
       "     dipho_pt  dipho_phi  dipho_eta     dipho_e  dipho_mass  dipho_leadPt  \\\n",
       "0  595.166260   0.460952   0.627633  727.120056  125.027214    534.582397   \n",
       "1  456.524109  -0.984099  -0.670740  576.773621  124.728577    287.602081   \n",
       "2  474.975677   0.836109  -0.724698  617.692627  123.324104    246.845337   \n",
       "3  587.216736  -2.157246  -0.240816  617.103760  124.927475    530.529053   \n",
       "4  458.509705  -2.259718   0.607091  559.567932  124.109444    421.636475   \n",
       "\n",
       "   dipho_leadEt  dipho_leadEta  dipho_leadPhi  dipho_subleadEta     ...       \\\n",
       "0    534.582397       0.566175       0.515456          0.996379     ...        \n",
       "1    287.602081      -0.733117      -1.179360         -0.519446     ...        \n",
       "2    246.845337      -0.460441       0.874362         -0.968103     ...        \n",
       "3    530.529053      -0.195753      -2.096326         -0.550637     ...        \n",
       "4    421.636475       0.551736      -2.339284          0.886035     ...        \n",
       "\n",
       "    bjet3_phi   bjet3_eta  bjet1_discr  bjet2_discr  bjet3_discr     jet3_pt  \\\n",
       "0 -999.000000 -999.000000     0.985339     0.819623  -999.000000   90.022743   \n",
       "1    1.728448    0.157884     0.999983     0.505706     0.254300   60.414616   \n",
       "2 -999.000000 -999.000000     0.999494  -999.000000  -999.000000 -999.000000   \n",
       "3 -999.000000 -999.000000     0.998836  -999.000000  -999.000000   29.110281   \n",
       "4    0.880687   -2.398130     0.999373     0.948760     0.173882  103.105125   \n",
       "\n",
       "     jet3_phi      jet1_e       jet2_e       jet3_e  \n",
       "0    1.954158  312.403442   561.495178  1378.422119  \n",
       "1   -2.950332  162.035049   365.411346   389.538452  \n",
       "2 -999.000000  304.269562    49.994984  -999.000000  \n",
       "3    2.931939  320.741150  4055.874268   240.681366  \n",
       "4    0.585539  708.648315   189.009872   861.765381  \n",
       "\n",
       "[5 rows x 30 columns]"
      ]
     },
     "execution_count": 36,
     "metadata": {},
     "output_type": "execute_result"
    }
   ],
   "source": [
    "\n",
    "signal_Tprime1200.head()"
   ]
  },
  {
   "cell_type": "code",
   "execution_count": 37,
   "metadata": {},
   "outputs": [
    {
     "data": {
      "text/plain": [
       "(107628, 30)"
      ]
     },
     "execution_count": 37,
     "metadata": {},
     "output_type": "execute_result"
    }
   ],
   "source": [
    "signal_Tprime1200.shape"
   ]
  },
  {
   "cell_type": "code",
   "execution_count": 38,
   "metadata": {},
   "outputs": [
    {
     "data": {
      "text/plain": [
       "(78921,)"
      ]
     },
     "execution_count": 38,
     "metadata": {},
     "output_type": "execute_result"
    }
   ],
   "source": [
    "y_test.shape"
   ]
  },
  {
   "cell_type": "code",
   "execution_count": 39,
   "metadata": {},
   "outputs": [],
   "source": [
    "df = signal_Tprime1200.loc[:78920].copy()"
   ]
  },
  {
   "cell_type": "code",
   "execution_count": 40,
   "metadata": {},
   "outputs": [
    {
     "data": {
      "text/plain": [
       "(78921, 30)"
      ]
     },
     "execution_count": 40,
     "metadata": {},
     "output_type": "execute_result"
    }
   ],
   "source": [
    "df.shape"
   ]
  },
  {
   "cell_type": "code",
   "execution_count": 41,
   "metadata": {},
   "outputs": [
    {
     "name": "stdout",
     "output_type": "stream",
     "text": [
      "78921/78921 [==============================] - 4s 53us/step\n"
     ]
    }
   ],
   "source": [
    "loaded_model.compile(loss='binary_crossentropy', optimizer='adam', metrics=['accuracy'])\n",
    "score = loaded_model.evaluate(df, y_test)"
   ]
  },
  {
   "cell_type": "code",
   "execution_count": 42,
   "metadata": {},
   "outputs": [
    {
     "name": "stdout",
     "output_type": "stream",
     "text": [
      "Accuracy: 56.89%\n"
     ]
    }
   ],
   "source": [
    "# Final evaluation of the model for DNN\n",
    "# Testing Outputs\n",
    "scores = clf.evaluate(df, y_test, verbose=0)\n",
    "print(\"Accuracy: %.2f%%\" % (scores[1]*100))"
   ]
  },
  {
   "cell_type": "code",
   "execution_count": 43,
   "metadata": {},
   "outputs": [
    {
     "data": {
      "image/png": "[encoded data removed]",
      "text/plain": [
       "<Figure size 432x288 with 1 Axes>"
      ]
     },
     "metadata": {},
     "output_type": "display_data"
    }
   ],
   "source": [
    "from sklearn.metrics import roc_curve, auc\n",
    "\n",
    "decisions = clf.predict(X_test)\n",
    "\n",
    "# Compute ROC curve and area under the curve\n",
    "fpr, tpr, thresholds = roc_curve(y_test, decisions)\n",
    "roc_auc = auc(fpr, tpr)\n",
    "plt.plot(fpr, tpr, lw=1, label='ROC (area = %0.2f)'%(roc_auc))\n",
    "\n",
    "plt.plot([0, 1], [0, 1], '--', color=(0.6, 0.6, 0.6), label='Luck')\n",
    "plt.xlim([-0.05, 1.05])\n",
    "plt.ylim([-0.05, 1.05])\n",
    "plt.xlabel('False Positive Rate')\n",
    "plt.ylabel('True Positive Rate')\n",
    "plt.title('Receiver operating characteristic')\n",
    "plt.legend(loc=\"lower right\")\n",
    "plt.grid()\n",
    "# plt.savefig(\"ROC_curve.png\")\n",
    "plt.show()"
   ]
  },
  {
   "cell_type": "code",
   "execution_count": 44,
   "metadata": {},
   "outputs": [
    {
     "data": {
      "image/png": "[encoded data removed]",
      "text/plain": [
       "<Figure size 432x288 with 1 Axes>"
      ]
     },
     "metadata": {},
     "output_type": "display_data"
    }
   ],
   "source": [
    "import matplotlib\n",
    "plt.figure()                                     # new window\n",
    "matplotlib.rcParams.update({'font.size':14})     # set all font sizes\n",
    "tTest = clf.predict(X_test)\n",
    "# if hasattr(clf, \"decision_function\"):\n",
    "#     tTest = clf.decision_function(X_test)        # if available use decision_function\n",
    "# else:\n",
    "#     tTest = clf.predict_proba(X_test)[:,1]       # for e.g. MLP need to use predict_proba\n",
    "tBkg = tTest[y_test==0]\n",
    "tSig = tTest[y_test==1]\n",
    "nBins = 20\n",
    "tMin = np.floor(np.min(tTest))\n",
    "tMax = np.ceil(np.max(tTest))\n",
    "bins = np.linspace(tMin, tMax, nBins+1)\n",
    "# plt.title('Multilayer perceptron')\n",
    "plt.xlabel(' $DNN$', labelpad=3)\n",
    "plt.ylabel('$Probability density$', labelpad=40)\n",
    "n, bins, patches = plt.hist(tSig, bins=bins, density=True, histtype='step', fill=False, color ='dodgerblue' ,edgecolor = 'blue', hatch = 'XX',label='Tprime_600')\n",
    "n, bins, patches = plt.hist(tBkg, bins=bins, density=True, histtype='step', fill=False,color = 'red' ,alpha=0.5, edgecolor = 'green', hatch='++', label = 'All Background(-thq)')\n",
    "plt.grid(color = 'b', alpha = 0.5, linestyle = 'dashed')\n",
    "plt.legend(loc='center')\n",
    "# plt.savefig('/eos/home-s/sraj/M.Sc._Thesis/Plot/''output_TPrime_ttgg.png')\n",
    "plt.show()"
   ]
  },
  {
   "cell_type": "code",
   "execution_count": 45,
   "metadata": {},
   "outputs": [
    {
     "data": {
      "image/png": "[encoded data removed]",
      "text/plain": [
       "<Figure size 432x288 with 1 Axes>"
      ]
     },
     "metadata": {},
     "output_type": "display_data"
    }
   ],
   "source": [
    "from sklearn.metrics import roc_curve, auc\n",
    "\n",
    "decisions = clf.predict(df)\n",
    "\n",
    "# Compute ROC curve and area under the curve\n",
    "fpr, tpr, thresholds = roc_curve(y_test, decisions)\n",
    "roc_auc = auc(fpr, tpr)\n",
    "plt.plot(fpr, tpr, lw=1, label='ROC (area = %0.2f)'%(roc_auc))\n",
    "\n",
    "plt.plot([0, 1], [0, 1], '--', color=(0.6, 0.6, 0.6), label='Luck')\n",
    "plt.xlim([-0.05, 1.05])\n",
    "plt.ylim([-0.05, 1.05])\n",
    "plt.xlabel('False Positive Rate')\n",
    "plt.ylabel('True Positive Rate')\n",
    "plt.title('Receiver operating characteristic')\n",
    "plt.legend(loc=\"lower right\")\n",
    "plt.grid()\n",
    "# plt.savefig(\"ROC_curve.png\")\n",
    "plt.show()"
   ]
  },
  {
   "cell_type": "code",
   "execution_count": 46,
   "metadata": {},
   "outputs": [
    {
     "data": {
      "image/png": "[encoded data removed]",
      "text/plain": [
       "<Figure size 432x288 with 1 Axes>"
      ]
     },
     "metadata": {},
     "output_type": "display_data"
    }
   ],
   "source": [
    "plt.figure()                                     # new window\n",
    "matplotlib.rcParams.update({'font.size':14})     # set all font sizes\n",
    "tTest = clf.predict(df)\n",
    "# if hasattr(clf, \"decision_function\"):\n",
    "#     tTest = clf.decision_function(X_test)        # if available use decision_function\n",
    "# else:\n",
    "#     tTest = clf.predict_proba(X_test)[:,1]       # for e.g. MLP need to use predict_proba\n",
    "tBkg = tTest[y_test==0]\n",
    "tSig = tTest[y_test==1]\n",
    "nBins = 20\n",
    "tMin = np.floor(np.min(tTest))\n",
    "tMax = np.ceil(np.max(tTest))\n",
    "bins = np.linspace(tMin, tMax, nBins+1)\n",
    "# plt.title('Multilayer perceptron')\n",
    "plt.xlabel(' $DNN$', labelpad=3)\n",
    "plt.ylabel('$Probability density$', labelpad=40)\n",
    "n, bins, patches = plt.hist(tSig, bins=bins, density=True, histtype='step', fill=False, color ='dodgerblue' ,edgecolor = 'blue', hatch = 'XX',label='Tprime_1200')\n",
    "n, bins, patches = plt.hist(tBkg, bins=bins, density=True, histtype='step', fill=False,color = 'red' ,alpha=0.5, edgecolor = 'green', hatch='++', label = 'All Background')\n",
    "plt.grid(color = 'b', alpha = 0.5, linestyle = 'dashed')\n",
    "plt.legend(loc='center')\n",
    "plt.title('TPrime_1200 output after TPrime_600 Training with all background ')\n",
    "# plt.savefig('/eos/home-s/sraj/M.Sc._Thesis/Plot_M.Sc._thesis/Plot_with_HDF5_files/''output_TPrime1200_all_background.png')\n",
    "plt.show()"
   ]
  },
  {
   "cell_type": "code",
   "execution_count": null,
   "metadata": {},
   "outputs": [],
   "source": []
  },
  {
   "cell_type": "code",
   "execution_count": null,
   "metadata": {},
   "outputs": [],
   "source": []
  },
  {
   "cell_type": "markdown",
   "metadata": {},
   "source": [
    "# Other Way"
   ]
  },
  {
   "cell_type": "code",
   "execution_count": 47,
   "metadata": {},
   "outputs": [],
   "source": [
    "X_1 = np.concatenate((signal_Tprime1200, backgr))\n",
    "y_1 = np.concatenate((np.ones(signal_Tprime1200.shape[0]),\n",
    "                    np.zeros(backgr.shape[0])))"
   ]
  },
  {
   "cell_type": "code",
   "execution_count": 48,
   "metadata": {},
   "outputs": [
    {
     "data": {
      "text/plain": [
       "(265769,)"
      ]
     },
     "execution_count": 48,
     "metadata": {},
     "output_type": "execute_result"
    }
   ],
   "source": [
    "y_1.shape"
   ]
  },
  {
   "cell_type": "code",
   "execution_count": 49,
   "metadata": {},
   "outputs": [],
   "source": [
    "X_1_train,X_1_test, y_1_train, y_1_test = train_test_split(X_1, y_1, test_size=0.33, random_state =5)\n"
   ]
  },
  {
   "cell_type": "code",
   "execution_count": 50,
   "metadata": {},
   "outputs": [
    {
     "data": {
      "text/plain": [
       "(178065, 30)"
      ]
     },
     "execution_count": 50,
     "metadata": {},
     "output_type": "execute_result"
    }
   ],
   "source": [
    "X_1_train.shape\n"
   ]
  },
  {
   "cell_type": "code",
   "execution_count": 51,
   "metadata": {},
   "outputs": [
    {
     "data": {
      "text/plain": [
       "(87704, 30)"
      ]
     },
     "execution_count": 51,
     "metadata": {},
     "output_type": "execute_result"
    }
   ],
   "source": [
    "X_1_test.shape"
   ]
  },
  {
   "cell_type": "code",
   "execution_count": 52,
   "metadata": {},
   "outputs": [
    {
     "data": {
      "text/plain": [
       "(87704,)"
      ]
     },
     "execution_count": 52,
     "metadata": {},
     "output_type": "execute_result"
    }
   ],
   "source": [
    "y_1_test.shape"
   ]
  },
  {
   "cell_type": "code",
   "execution_count": 53,
   "metadata": {},
   "outputs": [
    {
     "name": "stdout",
     "output_type": "stream",
     "text": [
      "87704/87704 [==============================] - 5s 52us/step\n"
     ]
    }
   ],
   "source": [
    "loaded_model.compile(loss='binary_crossentropy', optimizer='adam', metrics=['accuracy'])\n",
    "score = loaded_model.evaluate(X_1_test, y_1_test)"
   ]
  },
  {
   "cell_type": "code",
   "execution_count": 54,
   "metadata": {},
   "outputs": [
    {
     "name": "stdout",
     "output_type": "stream",
     "text": [
      "Accuracy: 65.44%\n"
     ]
    }
   ],
   "source": [
    "# Final evaluation of the model for DNN\n",
    "# Testing Outputs\n",
    "scores = clf.evaluate(X_1_test, y_1_test, verbose=0)\n",
    "print(\"Accuracy: %.2f%%\" % (scores[1]*100))"
   ]
  },
  {
   "cell_type": "code",
   "execution_count": 55,
   "metadata": {},
   "outputs": [
    {
     "data": {
      "image/png": "[encoded data removed]",
      "text/plain": [
       "<Figure size 432x288 with 1 Axes>"
      ]
     },
     "metadata": {},
     "output_type": "display_data"
    }
   ],
   "source": [
    "from sklearn.metrics import roc_curve, auc\n",
    "\n",
    "decisions = clf.predict(X_1_test)\n",
    "\n",
    "# Compute ROC curve and area under the curve\n",
    "fpr, tpr, thresholds = roc_curve(y_1_test, decisions)\n",
    "roc_auc = auc(fpr, tpr)\n",
    "plt.plot(fpr, tpr, lw=1, label='ROC (area = %0.2f)'%(roc_auc))\n",
    "\n",
    "plt.plot([0, 1], [0, 1], '--', color=(0.6, 0.6, 0.6), label='Luck')\n",
    "plt.xlim([-0.05, 1.05])\n",
    "plt.ylim([-0.05, 1.05])\n",
    "plt.xlabel('False Positive Rate')\n",
    "plt.ylabel('True Positive Rate')\n",
    "plt.title('Receiver operating characteristic')\n",
    "plt.legend(loc=\"lower right\")\n",
    "plt.grid()\n",
    "# plt.savefig(\"ROC_curve.png\")\n",
    "plt.show()"
   ]
  },
  {
   "cell_type": "code",
   "execution_count": 56,
   "metadata": {},
   "outputs": [
    {
     "data": {
      "image/png": "[encoded data removed]",
      "text/plain": [
       "<Figure size 432x288 with 1 Axes>"
      ]
     },
     "metadata": {},
     "output_type": "display_data"
    }
   ],
   "source": [
    "import matplotlib\n",
    "plt.figure()                                     # new window\n",
    "matplotlib.rcParams.update({'font.size':14})     # set all font sizes\n",
    "tTest = clf.predict(X_1_test)\n",
    "# if hasattr(clf, \"decision_function\"):\n",
    "#     tTest = clf.decision_function(X_test)        # if available use decision_function\n",
    "# else:\n",
    "#     tTest = clf.predict_proba(X_test)[:,1]       # for e.g. MLP need to use predict_proba\n",
    "tBkg = tTest[y_1_test==0]\n",
    "tSig = tTest[y_1_test==1]\n",
    "nBins = 20\n",
    "tMin = np.floor(np.min(tTest))\n",
    "tMax = np.ceil(np.max(tTest))\n",
    "bins = np.linspace(tMin, tMax, nBins+1)\n",
    "# plt.title('Multilayer perceptron')\n",
    "plt.xlabel(' $DNN$', labelpad=3)\n",
    "plt.ylabel('$Probability density$', labelpad=40)\n",
    "n, bins, patches = plt.hist(tSig, bins=bins, density=True, histtype='step', fill=False, color ='dodgerblue' ,edgecolor = 'blue', hatch = 'XX',label='Tprime_1200')\n",
    "n, bins, patches = plt.hist(tBkg, bins=bins, density=True, histtype='step', fill=False,color = 'red' ,alpha=0.5, edgecolor = 'green', hatch='++', label = 'All Background')\n",
    "plt.grid(color = 'b', alpha = 0.5, linestyle = 'dashed')\n",
    "plt.legend(loc='center')\n",
    "plt.title('TPrime_1200 output after TPrime_600 Training with all background ')\n",
    "# plt.savefig('/eos/home-s/sraj/M.Sc._Thesis/Plot_M.Sc._thesis/Plot_with_HDF5_files/''output_TPrime1200_all_background.png')\n",
    "plt.show()"
   ]
  },
  {
   "cell_type": "code",
   "execution_count": 58,
   "metadata": {},
   "outputs": [
    {
     "data": {
      "image/png": "[encoded data removed]",
      "text/plain": [
       "<Figure size 432x288 with 1 Axes>"
      ]
     },
     "metadata": {},
     "output_type": "display_data"
    }
   ],
   "source": [
    "from sklearn.metrics import roc_curve, auc\n",
    "\n",
    "decisions = clf.predict(X_test)\n",
    "\n",
    "# Compute ROC curve and area under the curve\n",
    "fpr, tpr, thresholds = roc_curve(y_test, decisions)\n",
    "roc_auc = auc(fpr, tpr)\n",
    "plt.plot(fpr, tpr, lw=1, label='ROC (area = %0.2f)'%(roc_auc))\n",
    "\n",
    "\n",
    "plt.plot([0, 1], [0, 1], '--', color=(0.6, 0.6, 0.6), label='Luck')\n",
    "plt.xlim([-0.05, 1.05])\n",
    "plt.ylim([-0.05, 1.05])\n",
    "plt.xlabel('False Positive Rate')\n",
    "plt.ylabel('True Positive Rate')\n",
    "plt.title('Receiver operating characteristic')\n",
    "plt.legend(loc=\"lower right\")\n",
    "plt.grid()\n",
    "# plt.savefig(\"ROC_curve.png\")\n",
    "plt.show()"
   ]
  },
  {
   "cell_type": "code",
   "execution_count": 59,
   "metadata": {},
   "outputs": [
    {
     "data": {
      "image/png": "[encoded data removed]",
      "text/plain": [
       "<Figure size 432x288 with 1 Axes>"
      ]
     },
     "metadata": {},
     "output_type": "display_data"
    }
   ],
   "source": [
    "import matplotlib\n",
    "plt.figure()                                     # new window\n",
    "matplotlib.rcParams.update({'font.size':14})     # set all font sizes\n",
    "tTest = clf.predict(X_test)\n",
    "# if hasattr(clf, \"decision_function\"):\n",
    "#     tTest = clf.decision_function(X_test)        # if available use decision_function\n",
    "# else:\n",
    "#     tTest = clf.predict_proba(X_test)[:,1]       # for e.g. MLP need to use predict_proba\n",
    "tBkg_1 = tTest[y_test==0]\n",
    "tSig_1 = tTest[y_test==1]\n",
    "nBins = 20\n",
    "tMin = np.floor(np.min(tTest))\n",
    "tMax = np.ceil(np.max(tTest))\n",
    "bins = np.linspace(tMin, tMax, nBins+1)\n",
    "# plt.title('Multilayer perceptron')\n",
    "plt.xlabel(' $DNN$', labelpad=3)\n",
    "plt.ylabel('$Probability density$', labelpad=40)\n",
    "n, bins, patches = plt.hist(tSig_1, bins=bins, density=True, histtype='step', fill=False, color ='dodgerblue' ,edgecolor = 'blue', hatch = 'XX',label='Tprime_1200')\n",
    "n, bins, patches = plt.hist(tBkg_1, bins=bins, density=True, histtype='step', fill=False,color = 'red' ,alpha=0.5, edgecolor = 'green', hatch='++', label = 'All Background')\n",
    "plt.grid(color = 'b', alpha = 0.5, linestyle = 'dashed')\n",
    "plt.legend(loc='center')\n",
    "plt.title('TPrime_1200 output after TPrime_600 Training with all background ')\n",
    "# plt.savefig('/eos/home-s/sraj/M.Sc._Thesis/Plot_M.Sc._thesis/Plot_with_HDF5_files/''output_TPrime1200_all_background.png')\n",
    "plt.show()"
   ]
  },
  {
   "cell_type": "code",
   "execution_count": null,
   "metadata": {},
   "outputs": [],
   "source": [
    "from ROOT import TCanvas, TPad, TFormula, TF1, TPaveLabel, TH1F, TFile,TH1D\n",
    "from ROOT import gROOT, gBenchmark"
   ]
  },
  {
   "cell_type": "code",
   "execution_count": null,
   "metadata": {},
   "outputs": [],
   "source": [
    "f = TFile(\"/eos/home-s/sraj/M.Sc._Thesis/Plot_M.Sc._thesis/ROOT_output/MyrootFile_after_training_Tprime_600_all_five_background_test_excpet_thq_with_TPrime1200.root\", \"RECREATE\")\n",
    "# tree = TTree(\"root\",  )\n",
    "# How do we get that to create and fill with the background and signal\n",
    "h_bak = TH1D(\"background\", \"background\", 100, 0,1)\n",
    "h_sig = TH1D(\"signal\", \"signal\", 100, 0, 1)\n",
    "h_sum_all = TH1D(\"data_obs\", \"data_obs\", 100, 0, 1)\n",
    "for i in tBkg:\n",
    "    h_bak.Fill(i)\n",
    "for j in tSig:\n",
    "    h_sig.Fill(j)\n",
    "h_sum_all.Add(h_bak) \n",
    "h_sum_all.Add(h_sig)\n",
    "\n",
    "\n",
    "\n",
    "f.Write()\n",
    "f.Close()"
   ]
  },
  {
   "cell_type": "markdown",
   "metadata": {},
   "source": [
    "Here, The output from the Ist method is not as good as the 2nd one."
   ]
  },
  {
   "cell_type": "code",
   "execution_count": null,
   "metadata": {},
   "outputs": [],
   "source": []
  },
  {
   "cell_type": "code",
   "execution_count": null,
   "metadata": {},
   "outputs": [],
   "source": []
  },
  {
   "cell_type": "code",
   "execution_count": null,
   "metadata": {},
   "outputs": [],
   "source": []
  },
  {
   "cell_type": "code",
   "execution_count": null,
   "metadata": {},
   "outputs": [],
   "source": []
  }
 ],
 "metadata": {
  "kernelspec": {
   "display_name": "Python 3",
   "language": "python",
   "name": "python3"
  },
  "language_info": {
   "codemirror_mode": {
    "name": "ipython",
    "version": 3
   },
   "file_extension": ".py",
   "mimetype": "text/x-python",
   "name": "python",
   "nbconvert_exporter": "python",
   "pygments_lexer": "ipython3",
   "version": "3.7.6"
  }
 },
 "nbformat": 4,
 "nbformat_minor": 2
}
