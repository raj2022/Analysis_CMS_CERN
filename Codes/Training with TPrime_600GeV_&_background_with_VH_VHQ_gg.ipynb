{
 "cells": [
  {
   "cell_type": "markdown",
   "metadata": {},
   "source": [
    "## Training with TPrime_600GeV_&_all_five_As_ background_with_VH_VHQ_gg\n",
    ">This is the training of signal and bacgrund to get the output as a HDF5 file. The output file futher used to test on the TPrime at 1200GeV as signal.\n"
   ]
  },
  {
   "cell_type": "markdown",
   "metadata": {},
   "source": [
    "Here, The input files are Signal with Tprime and background file used here are ttgg. Both have been used with the same number of input varaibles.'dipho_pt','dipho_phi', 'dipho_eta','dipho_e','dipho_mass','dipho_leadPt', 'dipho_leadEt','dipho_leadEta','dipho_leadPhi', 'dipho_subleadEta','bjet1_pt','bjet2_pt','bjet1_eta', 'bjet2_eta', 'jet1_pt','jet2_pt', 'jet1_eta', 'n_jets', 'n_bjets', 'bjet2_phi', 'bjet3_phi', 'bjet1_discr','bjet2_discr', 'bjet3_discr', 'jet3_pt', 'jet3_phi', 'jet1_e', 'jet2_e', 'jet3_e'."
   ]
  },
  {
   "cell_type": "code",
   "execution_count": 1,
   "metadata": {},
   "outputs": [
    {
     "name": "stderr",
     "output_type": "stream",
     "text": [
      "Using TensorFlow backend.\n"
     ]
    },
    {
     "name": "stdout",
     "output_type": "stream",
     "text": [
      "Welcome to JupyROOT 6.20/06\n"
     ]
    }
   ],
   "source": [
    "import pandas as pd\n",
    "import numpy as np\n",
    "import math\n",
    "import glob\n",
    "import matplotlib.pyplot as plt\n",
    "import seaborn as sns\n",
    "import keras\n",
    "from keras.models import Sequential, load_model\n",
    "from keras.layers import Dense, Activation\n",
    "from keras.callbacks import EarlyStopping, ModelCheckpoint, Callback\n",
    "from keras.optimizers import adam, adadelta, adagrad\n",
    "\n",
    "sns.set(color_codes = True)\n",
    "sns.set_palette(sns.color_palette(\"muted\"))\n",
    "\n",
    "from itertools import tee, islice\n",
    "from ROOT import TFile, TCanvas, TPad, TPaveLabel, TPaveText, TTree, TH1F, TF1\n",
    "from root_numpy import root2array, tree2array, array2tree, array2root\n",
    "import sys\n",
    "from ROOT import gROOT, AddressOf\n",
    "from root_numpy import root2array, rec2array\n",
    "from sklearn import datasets\n",
    "from sklearn.tree import DecisionTreeClassifier\n",
    "from sklearn.ensemble import AdaBoostClassifier\n",
    "from sklearn.metrics import classification_report, roc_auc_score\n",
    "import matplotlib.ticker as ticker\n",
    "from sklearn.neural_network import MLPClassifier\n",
    "from sklearn.model_selection import train_test_split\n",
    "from sklearn import metrics\n",
    "from sklearn.discriminant_analysis import LinearDiscriminantAnalysis as LDA\n",
    "from sklearn.neural_network import MLPClassifier\n",
    "from sklearn.svm import SVC\n",
    "from sklearn import tree"
   ]
  },
  {
   "cell_type": "markdown",
   "metadata": {},
   "source": [
    "## Import the datasets"
   ]
  },
  {
   "cell_type": "markdown",
   "metadata": {},
   "source": [
    ">Import all the signal and the backgrounds \n",
    " * Signals \n",
    "     signal_TPrime_600 = /eos/user/p/prsaha/for_Shivam/output_TprimeBToTH_Hgg_M-600_LH_TuneCP5_PSweights_13TeV-madgraph_pythia8.root\n",
    "        "
   ]
  },
  {
   "cell_type": "code",
   "execution_count": 2,
   "metadata": {},
   "outputs": [],
   "source": [
    "signal = '/eos/home-s/sraj/M.Sc._Thesis/data_files/output_TprimeBToTH_Hgg_M-600_LH_TuneCP5_PSweights_13TeV-madgraph_pythia8.root'\n",
    "back_1 = '/eos/home-s/sraj/M.Sc._Thesis/data_files/output_TTGG_0Jets_TuneCP5_13TeV_amcatnlo_madspin_pythia8.root'\n",
    "back_01= '/eos/home-s/sraj/M.Sc._Thesis/data_files/output_ttHJetToGG_M125_13TeV_amcatnloFXFX_madspin_pythia8.root'\n",
    "back_02 = '/eos/home-s/sraj/M.Sc._Thesis/data_files/output_VBFHToGG_M125_13TeV_amcatnlo_pythia8.root'\n",
    "back_03 = '/eos/home-s/sraj/M.Sc._Thesis/data_files/output_VHToGG_M125_13TeV_amcatnloFXFX_madspin_pythia8.root'\n",
    "back_04 = '/eos/home-s/sraj/M.Sc._Thesis/data_files/output_THQ_ctcvcp_HToGG_M125_13TeV-madgraph-pythia8.root'\n",
    "back_05= '/eos/home-s/sraj/M.Sc._Thesis/data_files/output_GluGluHToGG_M125_TuneCP5_13TeV-amcatnloFXFX-pythia8.root'"
   ]
  },
  {
   "cell_type": "code",
   "execution_count": 3,
   "metadata": {},
   "outputs": [],
   "source": [
    "treeName_back_1 =\"tagsDumper/trees/ttgg_13TeV_THQLeptonicTag\" \n",
    "treeName_signal = \"tagsDumper/trees/Tprime_600_13TeV_THQLeptonicTag\"\n",
    "treeName_back_05 = \"tagsDumper/trees/ggh_125_13TeV_THQLeptonicTag\"\n",
    "treeName_back_04 = \"tagsDumper/trees/thq_125_13TeV_THQLeptonicTag\"\n",
    "treeName_back_03 = \"tagsDumper/trees/vh_125_13TeV_THQLeptonicTag\"\n",
    "treeName_back_02 = 'tagsDumper/trees/vbf_125_13TeV_THQLeptonicTag'\n",
    "treeName_back_01 = \"tagsDumper/trees/tth_125_13TeV_THQLeptonicTag\"\n"
   ]
  },
  {
   "cell_type": "code",
   "execution_count": 4,
   "metadata": {},
   "outputs": [],
   "source": [
    "columns = ['dipho_leadPt',\n",
    "             'dipho_mass',\n",
    "             'dipho_leadEta',\n",
    "             'dipho_subleadEta',\n",
    "             'dipho_leadIDMVA',\n",
    "             'dipho_subleadIDMVA',\n",
    "             'dipho_lead_haspixelseed',\n",
    "             'dipho_sublead_haspixelseed',\n",
    "             'n_jets',\n",
    "             'n_bjets',\n",
    "             'n_centraljets',\n",
    "             'lepton_charge',\n",
    "             'lepton_leadPt',\n",
    "             'lepton_leadEta',\n",
    "             'fwdjet1_pt',\n",
    "             'fwdjet1_eta',\n",
    "             'fwdjet1_discr',\n",
    "             'top_mt',\n",
    "             'dr_tHchainfwdjet',\n",
    "             'dr_leptonbjet',\n",
    "             'dr_leptonfwdjet',\n",
    "             'dr_bjetfwdjet',\n",
    "             'dr_leadphofwdjet',\n",
    "             'dr_subleadphofwdjet',\n",
    "             'bjet1_pt',\n",
    "             'bjet2_pt',\n",
    "             'bjet3_pt',\n",
    "             'bjet1_eta',\n",
    "             'bjet2_eta',\n",
    "             'bjet3_eta',\n",
    "             'bjet1_discr',\n",
    "             'bjet2_discr',\n",
    "             'bjet3_discr',\n",
    "             'jet1_pt',\n",
    "             'jet2_pt',\n",
    "             'jet3_pt',\n",
    "             'jet1_eta',\n",
    "             'jet2_eta',\n",
    "             'jet3_eta',\n",
    "             'jet1_discr',\n",
    "             'jet2_discr',\n",
    "             'jet3_discr']\n",
    "             "
   ]
  },
  {
   "cell_type": "code",
   "execution_count": 5,
   "metadata": {},
   "outputs": [],
   "source": [
    "signal_Tprime600 = root2array(signal, treeName_signal, columns)   #Signal TPrime at 600TeV\n",
    "back_ttgg = root2array(back_1, treeName_back_1, columns)     # ttgg background(Not using this)\n",
    "back_tth = root2array(back_01, treeName_back_01, columns)      \n",
    "back_vbf = root2array(back_02, treeName_back_02, columns)\n",
    "back_vh = root2array(back_03, treeName_back_03, columns)\n",
    "back_thq = root2array(back_04, treeName_back_04, columns)\n",
    "back_ggh = root2array(back_05, treeName_back_05, columns)\n"
   ]
  },
  {
   "cell_type": "code",
   "execution_count": 6,
   "metadata": {},
   "outputs": [],
   "source": [
    "signal_Tprime600 = pd.DataFrame(signal_Tprime600)            #Signal for the testing\n",
    "back_tth = pd.DataFrame(back_tth)          #tth background dataframe \n",
    "back_vbf = pd.DataFrame(back_vbf)             #vbf background dataframe \n",
    "back_vh = pd.DataFrame(back_vh)             #vh background dataframe \n",
    "back_thq = pd.DataFrame(back_thq) #thq background dataframe \n",
    "back_ggh = pd.DataFrame(back_ggh) #ggh background dataframe \n",
    "back_ttgg = pd.DataFrame(back_ttgg)"
   ]
  },
  {
   "cell_type": "code",
   "execution_count": 7,
   "metadata": {},
   "outputs": [
    {
     "data": {
      "text/html": [
       "<div>\n",
       "<style scoped>\n",
       "    .dataframe tbody tr th:only-of-type {\n",
       "        vertical-align: middle;\n",
       "    }\n",
       "\n",
       "    .dataframe tbody tr th {\n",
       "        vertical-align: top;\n",
       "    }\n",
       "\n",
       "    .dataframe thead th {\n",
       "        text-align: right;\n",
       "    }\n",
       "</style>\n",
       "<table border=\"1\" class=\"dataframe\">\n",
       "  <thead>\n",
       "    <tr style=\"text-align: right;\">\n",
       "      <th></th>\n",
       "      <th>dipho_leadPt</th>\n",
       "      <th>dipho_mass</th>\n",
       "      <th>dipho_leadEta</th>\n",
       "      <th>dipho_subleadEta</th>\n",
       "      <th>dipho_leadIDMVA</th>\n",
       "      <th>dipho_subleadIDMVA</th>\n",
       "      <th>dipho_lead_haspixelseed</th>\n",
       "      <th>dipho_sublead_haspixelseed</th>\n",
       "      <th>n_jets</th>\n",
       "      <th>n_bjets</th>\n",
       "      <th>...</th>\n",
       "      <th>bjet3_discr</th>\n",
       "      <th>jet1_pt</th>\n",
       "      <th>jet2_pt</th>\n",
       "      <th>jet3_pt</th>\n",
       "      <th>jet1_eta</th>\n",
       "      <th>jet2_eta</th>\n",
       "      <th>jet3_eta</th>\n",
       "      <th>jet1_discr</th>\n",
       "      <th>jet2_discr</th>\n",
       "      <th>jet3_discr</th>\n",
       "    </tr>\n",
       "  </thead>\n",
       "  <tbody>\n",
       "    <tr>\n",
       "      <th>0</th>\n",
       "      <td>199.472260</td>\n",
       "      <td>126.641273</td>\n",
       "      <td>0.084015</td>\n",
       "      <td>1.195149</td>\n",
       "      <td>0.957987</td>\n",
       "      <td>0.687579</td>\n",
       "      <td>0.0</td>\n",
       "      <td>0.0</td>\n",
       "      <td>3.0</td>\n",
       "      <td>1.0</td>\n",
       "      <td>...</td>\n",
       "      <td>-999.0</td>\n",
       "      <td>84.649239</td>\n",
       "      <td>74.393456</td>\n",
       "      <td>32.669273</td>\n",
       "      <td>-0.487586</td>\n",
       "      <td>-3.465604</td>\n",
       "      <td>-2.688962</td>\n",
       "      <td>0.542797</td>\n",
       "      <td>-2.000000</td>\n",
       "      <td>-2.0</td>\n",
       "    </tr>\n",
       "    <tr>\n",
       "      <th>1</th>\n",
       "      <td>217.392303</td>\n",
       "      <td>124.014992</td>\n",
       "      <td>-0.121357</td>\n",
       "      <td>-0.101361</td>\n",
       "      <td>0.872169</td>\n",
       "      <td>0.967785</td>\n",
       "      <td>0.0</td>\n",
       "      <td>0.0</td>\n",
       "      <td>2.0</td>\n",
       "      <td>1.0</td>\n",
       "      <td>...</td>\n",
       "      <td>-999.0</td>\n",
       "      <td>112.434402</td>\n",
       "      <td>84.011833</td>\n",
       "      <td>-999.000000</td>\n",
       "      <td>0.293124</td>\n",
       "      <td>2.278897</td>\n",
       "      <td>-999.000000</td>\n",
       "      <td>0.638937</td>\n",
       "      <td>0.721447</td>\n",
       "      <td>-999.0</td>\n",
       "    </tr>\n",
       "    <tr>\n",
       "      <th>2</th>\n",
       "      <td>121.089691</td>\n",
       "      <td>123.836288</td>\n",
       "      <td>0.842742</td>\n",
       "      <td>1.373165</td>\n",
       "      <td>0.888976</td>\n",
       "      <td>0.919611</td>\n",
       "      <td>0.0</td>\n",
       "      <td>0.0</td>\n",
       "      <td>4.0</td>\n",
       "      <td>1.0</td>\n",
       "      <td>...</td>\n",
       "      <td>-999.0</td>\n",
       "      <td>91.825996</td>\n",
       "      <td>62.056263</td>\n",
       "      <td>38.143219</td>\n",
       "      <td>3.149675</td>\n",
       "      <td>-3.128838</td>\n",
       "      <td>4.403498</td>\n",
       "      <td>-2.000000</td>\n",
       "      <td>-2.000000</td>\n",
       "      <td>-2.0</td>\n",
       "    </tr>\n",
       "    <tr>\n",
       "      <th>3</th>\n",
       "      <td>158.326920</td>\n",
       "      <td>122.239555</td>\n",
       "      <td>0.202652</td>\n",
       "      <td>0.260665</td>\n",
       "      <td>0.956062</td>\n",
       "      <td>0.762749</td>\n",
       "      <td>0.0</td>\n",
       "      <td>0.0</td>\n",
       "      <td>2.0</td>\n",
       "      <td>1.0</td>\n",
       "      <td>...</td>\n",
       "      <td>-999.0</td>\n",
       "      <td>87.551056</td>\n",
       "      <td>85.922279</td>\n",
       "      <td>-999.000000</td>\n",
       "      <td>1.111560</td>\n",
       "      <td>2.848130</td>\n",
       "      <td>-999.000000</td>\n",
       "      <td>0.991427</td>\n",
       "      <td>-2.000000</td>\n",
       "      <td>-999.0</td>\n",
       "    </tr>\n",
       "    <tr>\n",
       "      <th>4</th>\n",
       "      <td>139.716736</td>\n",
       "      <td>123.026970</td>\n",
       "      <td>0.194240</td>\n",
       "      <td>0.534833</td>\n",
       "      <td>0.163151</td>\n",
       "      <td>0.361930</td>\n",
       "      <td>0.0</td>\n",
       "      <td>0.0</td>\n",
       "      <td>4.0</td>\n",
       "      <td>1.0</td>\n",
       "      <td>...</td>\n",
       "      <td>-999.0</td>\n",
       "      <td>177.258102</td>\n",
       "      <td>169.389847</td>\n",
       "      <td>27.921988</td>\n",
       "      <td>-0.204870</td>\n",
       "      <td>0.046312</td>\n",
       "      <td>-2.416145</td>\n",
       "      <td>0.998264</td>\n",
       "      <td>0.043448</td>\n",
       "      <td>-2.0</td>\n",
       "    </tr>\n",
       "  </tbody>\n",
       "</table>\n",
       "<p>5 rows × 42 columns</p>\n",
       "</div>"
      ],
      "text/plain": [
       "   dipho_leadPt  dipho_mass  dipho_leadEta  dipho_subleadEta  dipho_leadIDMVA  \\\n",
       "0    199.472260  126.641273       0.084015          1.195149         0.957987   \n",
       "1    217.392303  124.014992      -0.121357         -0.101361         0.872169   \n",
       "2    121.089691  123.836288       0.842742          1.373165         0.888976   \n",
       "3    158.326920  122.239555       0.202652          0.260665         0.956062   \n",
       "4    139.716736  123.026970       0.194240          0.534833         0.163151   \n",
       "\n",
       "   dipho_subleadIDMVA  dipho_lead_haspixelseed  dipho_sublead_haspixelseed  \\\n",
       "0            0.687579                      0.0                         0.0   \n",
       "1            0.967785                      0.0                         0.0   \n",
       "2            0.919611                      0.0                         0.0   \n",
       "3            0.762749                      0.0                         0.0   \n",
       "4            0.361930                      0.0                         0.0   \n",
       "\n",
       "   n_jets  n_bjets  ...  bjet3_discr     jet1_pt     jet2_pt     jet3_pt  \\\n",
       "0     3.0      1.0  ...       -999.0   84.649239   74.393456   32.669273   \n",
       "1     2.0      1.0  ...       -999.0  112.434402   84.011833 -999.000000   \n",
       "2     4.0      1.0  ...       -999.0   91.825996   62.056263   38.143219   \n",
       "3     2.0      1.0  ...       -999.0   87.551056   85.922279 -999.000000   \n",
       "4     4.0      1.0  ...       -999.0  177.258102  169.389847   27.921988   \n",
       "\n",
       "   jet1_eta  jet2_eta    jet3_eta  jet1_discr  jet2_discr  jet3_discr  \n",
       "0 -0.487586 -3.465604   -2.688962    0.542797   -2.000000        -2.0  \n",
       "1  0.293124  2.278897 -999.000000    0.638937    0.721447      -999.0  \n",
       "2  3.149675 -3.128838    4.403498   -2.000000   -2.000000        -2.0  \n",
       "3  1.111560  2.848130 -999.000000    0.991427   -2.000000      -999.0  \n",
       "4 -0.204870  0.046312   -2.416145    0.998264    0.043448        -2.0  \n",
       "\n",
       "[5 rows x 42 columns]"
      ]
     },
     "execution_count": 7,
     "metadata": {},
     "output_type": "execute_result"
    }
   ],
   "source": [
    "signal_Tprime600.head()"
   ]
  },
  {
   "cell_type": "code",
   "execution_count": 8,
   "metadata": {},
   "outputs": [
    {
     "data": {
      "text/plain": [
       "(81013, 42)"
      ]
     },
     "execution_count": 8,
     "metadata": {},
     "output_type": "execute_result"
    }
   ],
   "source": [
    "\n",
    "\n",
    "\n",
    "signal_Tprime600.shape"
   ]
  },
  {
   "cell_type": "code",
   "execution_count": 9,
   "metadata": {},
   "outputs": [
    {
     "data": {
      "text/plain": [
       "81013"
      ]
     },
     "execution_count": 9,
     "metadata": {},
     "output_type": "execute_result"
    }
   ],
   "source": [
    "len(signal_Tprime600)"
   ]
  },
  {
   "cell_type": "code",
   "execution_count": 10,
   "metadata": {},
   "outputs": [
    {
     "name": "stdout",
     "output_type": "stream",
     "text": [
      "<class 'pandas.core.frame.DataFrame'>\n",
      "RangeIndex: 81013 entries, 0 to 81012\n",
      "Data columns (total 42 columns):\n",
      "dipho_leadPt                  81013 non-null float32\n",
      "dipho_mass                    81013 non-null float32\n",
      "dipho_leadEta                 81013 non-null float32\n",
      "dipho_subleadEta              81013 non-null float32\n",
      "dipho_leadIDMVA               81013 non-null float32\n",
      "dipho_subleadIDMVA            81013 non-null float32\n",
      "dipho_lead_haspixelseed       81013 non-null float32\n",
      "dipho_sublead_haspixelseed    81013 non-null float32\n",
      "n_jets                        81013 non-null float32\n",
      "n_bjets                       81013 non-null float32\n",
      "n_centraljets                 81013 non-null float32\n",
      "lepton_charge                 81013 non-null float32\n",
      "lepton_leadPt                 81013 non-null float32\n",
      "lepton_leadEta                81013 non-null float32\n",
      "fwdjet1_pt                    81013 non-null float32\n",
      "fwdjet1_eta                   81013 non-null float32\n",
      "fwdjet1_discr                 81013 non-null float32\n",
      "top_mt                        81013 non-null float32\n",
      "dr_tHchainfwdjet              81013 non-null float32\n",
      "dr_leptonbjet                 81013 non-null float32\n",
      "dr_leptonfwdjet               81013 non-null float32\n",
      "dr_bjetfwdjet                 81013 non-null float32\n",
      "dr_leadphofwdjet              81013 non-null float32\n",
      "dr_subleadphofwdjet           81013 non-null float32\n",
      "bjet1_pt                      81013 non-null float32\n",
      "bjet2_pt                      81013 non-null float32\n",
      "bjet3_pt                      81013 non-null float32\n",
      "bjet1_eta                     81013 non-null float32\n",
      "bjet2_eta                     81013 non-null float32\n",
      "bjet3_eta                     81013 non-null float32\n",
      "bjet1_discr                   81013 non-null float32\n",
      "bjet2_discr                   81013 non-null float32\n",
      "bjet3_discr                   81013 non-null float32\n",
      "jet1_pt                       81013 non-null float32\n",
      "jet2_pt                       81013 non-null float32\n",
      "jet3_pt                       81013 non-null float32\n",
      "jet1_eta                      81013 non-null float32\n",
      "jet2_eta                      81013 non-null float32\n",
      "jet3_eta                      81013 non-null float32\n",
      "jet1_discr                    81013 non-null float32\n",
      "jet2_discr                    81013 non-null float32\n",
      "jet3_discr                    81013 non-null float32\n",
      "dtypes: float32(42)\n",
      "memory usage: 13.0 MB\n"
     ]
    }
   ],
   "source": [
    "signal_Tprime600.info()"
   ]
  },
  {
   "cell_type": "code",
   "execution_count": 11,
   "metadata": {},
   "outputs": [],
   "source": [
    "assert signal_Tprime600.isnull().sum().sum() == 0"
   ]
  },
  {
   "cell_type": "code",
   "execution_count": 13,
   "metadata": {},
   "outputs": [
    {
     "name": "stderr",
     "output_type": "stream",
     "text": [
      "/cvmfs/sft.cern.ch/lcg/views/LCG_97apython3/x86_64-centos7-gcc8-opt/lib/python3.7/site-packages/numpy/lib/histograms.py:893: RuntimeWarning: invalid value encountered in true_divide\n",
      "  return n/db/n.sum(), bin_edges\n",
      "/cvmfs/sft.cern.ch/lcg/views/LCG_97apython3/x86_64-centos7-gcc8-opt/lib/python3.7/site-packages/numpy/lib/histograms.py:893: RuntimeWarning: invalid value encountered in true_divide\n",
      "  return n/db/n.sum(), bin_edges\n"
     ]
    },
    {
     "data": {
      "image/png": "[encoded data removed]",
      "text/plain": [
       "<Figure size 432x288 with 1 Axes>"
      ]
     },
     "metadata": {
      "needs_background": "light"
     },
     "output_type": "display_data"
    }
   ],
   "source": [
    "low_high=(0,1)\n",
    "signal_Tprime600['top_mt'].plot.hist( alpha = 1, fill= False,\n",
    "                                        histtype = 'step', edgecolor = 'g', density=True, range=low_high, label = 'Signal')\n",
    "back_ggh['top_mt'].plot.hist( alpha = 1, fill= False,\n",
    "                                        histtype = 'step', edgecolor = 'r', density=True, range=low_high, label = 'Background')\n",
    "plt.legend(bbox_to_anchor=(1.01, 1), loc=\"upper left\")\n",
    "plt.show()\n"
   ]
  },
  {
   "cell_type": "code",
   "execution_count": 15,
   "metadata": {},
   "outputs": [],
   "source": [
    "signal = signal_Tprime600\n",
    "backgr = pd.concat(( back_ggh, back_vbf, back_vh, back_ttgg), axis=0)"
   ]
  },
  {
   "cell_type": "code",
   "execution_count": 16,
   "metadata": {},
   "outputs": [],
   "source": [
    "X = np.concatenate((signal_Tprime600, backgr))\n",
    "y = np.concatenate((np.ones(signal_Tprime600.shape[0]),\n",
    "                    np.zeros(backgr.shape[0])))"
   ]
  },
  {
   "cell_type": "code",
   "execution_count": 17,
   "metadata": {},
   "outputs": [
    {
     "data": {
      "text/plain": [
       "((146668, 42), (146668,))"
      ]
     },
     "execution_count": 17,
     "metadata": {},
     "output_type": "execute_result"
    }
   ],
   "source": [
    "X.shape, y.shape"
   ]
  },
  {
   "cell_type": "code",
   "execution_count": 18,
   "metadata": {},
   "outputs": [],
   "source": [
    "X_train,X_test, y_train, y_test = train_test_split(X, y, test_size=0.33, random_state =5)\n"
   ]
  },
  {
   "cell_type": "code",
   "execution_count": 19,
   "metadata": {},
   "outputs": [
    {
     "data": {
      "text/plain": [
       "((98267, 42), (98267,))"
      ]
     },
     "execution_count": 19,
     "metadata": {},
     "output_type": "execute_result"
    }
   ],
   "source": [
    "X_train.shape, y_train.shape"
   ]
  },
  {
   "cell_type": "code",
   "execution_count": 20,
   "metadata": {},
   "outputs": [
    {
     "data": {
      "text/plain": [
       "((48401, 42), (48401,))"
      ]
     },
     "execution_count": 20,
     "metadata": {},
     "output_type": "execute_result"
    }
   ],
   "source": [
    "X_test.shape, y_test.shape"
   ]
  },
  {
   "cell_type": "code",
   "execution_count": 21,
   "metadata": {},
   "outputs": [],
   "source": [
    "from keras.models import Sequential\n",
    "from keras.layers import Dense\n",
    "import tensorflow as tf\n",
    "import keras\n",
    "from keras.layers import Dropout\n",
    "from keras.constraints import maxnorm\n",
    "from keras.wrappers.scikit_learn import KerasClassifier\n",
    "from keras.constraints import maxnorm\n",
    "from keras.optimizers import SGD\n",
    "from sklearn.model_selection import cross_val_score\n",
    "from sklearn.preprocessing import LabelEncoder\n",
    "from sklearn.model_selection import StratifiedKFold\n",
    "from sklearn.preprocessing import StandardScaler\n",
    "from sklearn.pipeline import Pipeline\n",
    "from keras.utils.vis_utils import plot_model\n",
    "from keras.layers import LSTM\n",
    "from keras.layers.core import Dense, Dropout, Activation\n",
    "from keras.callbacks import EarlyStopping, ModelCheckpoint\n",
    "from keras.layers.normalization import BatchNormalization\n",
    "from keras.optimizers import Adadelta\n",
    "from tensorflow.keras import regularizers\n",
    "from tensorflow.keras.initializers import RandomNormal, Constant"
   ]
  },
  {
   "cell_type": "code",
   "execution_count": 25,
   "metadata": {
    "scrolled": true
   },
   "outputs": [
    {
     "name": "stdout",
     "output_type": "stream",
     "text": [
      "Summary of the built model...\n",
      "_________________________________________________________________\n",
      "Layer (type)                 Output Shape              Param #   \n",
      "=================================================================\n",
      "batch_normalization_11 (Batc (None, 42)                168       \n",
      "_________________________________________________________________\n",
      "dense_1 (Dense)              (None, 256)               11008     \n",
      "_________________________________________________________________\n",
      "batch_normalization_12 (Batc (None, 256)               1024      \n",
      "_________________________________________________________________\n",
      "dropout_9 (Dropout)          (None, 256)               0         \n",
      "_________________________________________________________________\n",
      "dense_2 (Dense)              (None, 256)               65792     \n",
      "_________________________________________________________________\n",
      "dropout_10 (Dropout)         (None, 256)               0         \n",
      "_________________________________________________________________\n",
      "dense_3 (Dense)              (None, 64)                16448     \n",
      "_________________________________________________________________\n",
      "batch_normalization_13 (Batc (None, 64)                256       \n",
      "_________________________________________________________________\n",
      "dropout_11 (Dropout)         (None, 64)                0         \n",
      "_________________________________________________________________\n",
      "dense_4 (Dense)              (None, 64)                4160      \n",
      "_________________________________________________________________\n",
      "batch_normalization_14 (Batc (None, 64)                256       \n",
      "_________________________________________________________________\n",
      "dropout_12 (Dropout)         (None, 64)                0         \n",
      "_________________________________________________________________\n",
      "dense_5 (Dense)              (None, 32)                2080      \n",
      "_________________________________________________________________\n",
      "batch_normalization_15 (Batc (None, 32)                128       \n",
      "_________________________________________________________________\n",
      "output (Dense)               (None, 1)                 33        \n",
      "=================================================================\n",
      "Total params: 101,353\n",
      "Trainable params: 100,437\n",
      "Non-trainable params: 916\n",
      "_________________________________________________________________\n",
      "None\n"
     ]
    }
   ],
   "source": [
    "clf = Sequential()\n",
    "# clf.add(LSTM(1, return_sequences=True ))\n",
    "clf.add(BatchNormalization(input_shape = (42,)))\n",
    "# clf.add(Dropout(3))\n",
    "clf.add(Dense(256, activation = 'relu',kernel_regularizer=regularizers.l2(0.001), kernel_initializer = 'lecun_uniform',name = 'dense_1'))\n",
    "clf.add(BatchNormalization())\n",
    "clf.add(Dropout(0.3))\n",
    "clf.add(Dense(256, activation = 'relu',kernel_regularizer=regularizers.l2(0.001), kernel_initializer = 'lecun_uniform', name = 'dense_2'))\n",
    "clf.add(Dropout(0.3))\n",
    "clf.add(Dense(64, activation = 'relu',kernel_regularizer=regularizers.l2(0.001), kernel_initializer = 'lecun_uniform', name = 'dense_3'))\n",
    "clf.add(BatchNormalization())\n",
    "clf.add(Dropout(0.3))\n",
    "clf.add(Dense(64, activation = 'relu',kernel_regularizer=regularizers.l2(0.001), kernel_initializer = 'lecun_uniform',name = 'dense_4'))\n",
    "clf.add(BatchNormalization())\n",
    "clf.add(Dropout(0.3))\n",
    "clf.add(Dense(32, activation = 'relu',kernel_regularizer=regularizers.l2(0.001), kernel_initializer = 'lecun_uniform', name = 'dense_5'))\n",
    "clf.add(BatchNormalization(momentum=0.99,epsilon=0.001,beta_initializer=RandomNormal(mean=0.0, stddev=0.05),gamma_initializer=Constant(value=0.9)))\n",
    "\n",
    "# Output\n",
    "clf.add(Dense(1, activation = 'sigmoid',kernel_regularizer=regularizers.l2(0.001), kernel_initializer = 'lecun_uniform', name = 'output'))\n",
    "#compile model\n",
    "\n",
    "# opt = SGD(lr=0.01, momentum=0.9)\n",
    "clf.compile(loss = 'binary_crossentropy', \n",
    "            optimizer= 'adam',\n",
    "            metrics=['accuracy'])\n",
    "print('Summary of the built model...')\n",
    "print(clf.summary())\n",
    "# plot_model(clf, to_file='/eos/home-s/sraj/M.Sc._Thesis/Plot/''clf_plot_multiclass___.png', show_shapes=True, show_layer_names=True)"
   ]
  },
  {
   "cell_type": "code",
   "execution_count": 26,
   "metadata": {},
   "outputs": [
    {
     "name": "stdout",
     "output_type": "stream",
     "text": [
      "Train on 68786 samples, validate on 29481 samples\n",
      "Epoch 1/100\n",
      "68786/68786 [==============================] - 4s 58us/step - loss: 1.3457 - acc: 0.5931 - val_loss: 1.1775 - val_acc: 0.7497\n",
      "Epoch 2/100\n",
      "68786/68786 [==============================] - 1s 13us/step - loss: 1.1836 - acc: 0.7334 - val_loss: 1.0589 - val_acc: 0.8028\n",
      "Epoch 3/100\n",
      "68786/68786 [==============================] - 1s 13us/step - loss: 1.0817 - acc: 0.7889 - val_loss: 1.0000 - val_acc: 0.8279\n",
      "Epoch 4/100\n",
      "68786/68786 [==============================] - 1s 12us/step - loss: 1.0118 - acc: 0.8148 - val_loss: 0.9496 - val_acc: 0.8437\n",
      "Epoch 5/100\n",
      "68786/68786 [==============================] - 1s 12us/step - loss: 0.9514 - acc: 0.8320 - val_loss: 0.8916 - val_acc: 0.8562\n",
      "Epoch 6/100\n",
      "68786/68786 [==============================] - 1s 10us/step - loss: 0.8980 - acc: 0.8459 - val_loss: 0.8312 - val_acc: 0.8697\n",
      "Epoch 7/100\n",
      "68786/68786 [==============================] - 1s 11us/step - loss: 0.8432 - acc: 0.8595 - val_loss: 0.7755 - val_acc: 0.8827\n",
      "Epoch 8/100\n",
      "68786/68786 [==============================] - 1s 11us/step - loss: 0.7900 - acc: 0.8715 - val_loss: 0.7270 - val_acc: 0.8936\n",
      "Epoch 9/100\n",
      "68786/68786 [==============================] - 1s 11us/step - loss: 0.7429 - acc: 0.8807 - val_loss: 0.6861 - val_acc: 0.9027\n",
      "Epoch 10/100\n",
      "68786/68786 [==============================] - 1s 11us/step - loss: 0.6973 - acc: 0.8891 - val_loss: 0.6525 - val_acc: 0.9069\n",
      "Epoch 11/100\n",
      "68786/68786 [==============================] - 1s 12us/step - loss: 0.6601 - acc: 0.8940 - val_loss: 0.6227 - val_acc: 0.9101\n",
      "Epoch 12/100\n",
      "68786/68786 [==============================] - 1s 9us/step - loss: 0.6237 - acc: 0.9006 - val_loss: 0.5991 - val_acc: 0.9094\n",
      "Epoch 13/100\n",
      "68786/68786 [==============================] - 1s 9us/step - loss: 0.5923 - acc: 0.9043 - val_loss: 0.5772 - val_acc: 0.9109\n",
      "Epoch 14/100\n",
      "68786/68786 [==============================] - 1s 9us/step - loss: 0.5642 - acc: 0.9077 - val_loss: 0.5561 - val_acc: 0.9116\n",
      "Epoch 15/100\n",
      "68786/68786 [==============================] - 1s 9us/step - loss: 0.5375 - acc: 0.9104 - val_loss: 0.5366 - val_acc: 0.9096\n",
      "Epoch 16/100\n",
      "68786/68786 [==============================] - 1s 10us/step - loss: 0.5140 - acc: 0.9127 - val_loss: 0.5224 - val_acc: 0.9068\n",
      "Epoch 17/100\n",
      "68786/68786 [==============================] - 1s 10us/step - loss: 0.4901 - acc: 0.9151 - val_loss: 0.5125 - val_acc: 0.9026\n",
      "Epoch 18/100\n",
      "68786/68786 [==============================] - 1s 10us/step - loss: 0.4707 - acc: 0.9164 - val_loss: 0.4978 - val_acc: 0.9000\n",
      "Epoch 19/100\n",
      "68786/68786 [==============================] - 1s 10us/step - loss: 0.4518 - acc: 0.9166 - val_loss: 0.4829 - val_acc: 0.8991\n",
      "Epoch 20/100\n",
      "68786/68786 [==============================] - 1s 10us/step - loss: 0.4343 - acc: 0.9181 - val_loss: 0.4858 - val_acc: 0.8887\n",
      "Epoch 21/100\n",
      "68786/68786 [==============================] - 1s 9us/step - loss: 0.4167 - acc: 0.9196 - val_loss: 0.4653 - val_acc: 0.8929\n",
      "Epoch 22/100\n",
      "68786/68786 [==============================] - 1s 9us/step - loss: 0.4017 - acc: 0.9195 - val_loss: 0.4675 - val_acc: 0.8811\n",
      "Epoch 23/100\n",
      "68786/68786 [==============================] - 1s 10us/step - loss: 0.3861 - acc: 0.9217 - val_loss: 0.4589 - val_acc: 0.8793\n",
      "Epoch 24/100\n",
      "68786/68786 [==============================] - 1s 9us/step - loss: 0.3727 - acc: 0.9232 - val_loss: 0.4526 - val_acc: 0.8759\n",
      "Epoch 25/100\n",
      "68786/68786 [==============================] - 1s 10us/step - loss: 0.3612 - acc: 0.9232 - val_loss: 0.4519 - val_acc: 0.8688\n",
      "Epoch 26/100\n",
      "68786/68786 [==============================] - 1s 9us/step - loss: 0.3503 - acc: 0.9227 - val_loss: 0.4434 - val_acc: 0.8685\n",
      "Epoch 27/100\n",
      "68786/68786 [==============================] - 1s 9us/step - loss: 0.3389 - acc: 0.9239 - val_loss: 0.4437 - val_acc: 0.8629\n",
      "Epoch 28/100\n",
      "68786/68786 [==============================] - 1s 12us/step - loss: 0.3299 - acc: 0.9242 - val_loss: 0.4446 - val_acc: 0.8547\n",
      "Epoch 29/100\n",
      "68786/68786 [==============================] - 1s 11us/step - loss: 0.3216 - acc: 0.9254 - val_loss: 0.4378 - val_acc: 0.8560\n",
      "Epoch 30/100\n",
      "68786/68786 [==============================] - 1s 11us/step - loss: 0.3099 - acc: 0.9265 - val_loss: 0.4490 - val_acc: 0.8415\n",
      "Epoch 31/100\n",
      "68786/68786 [==============================] - 1s 11us/step - loss: 0.3020 - acc: 0.9275 - val_loss: 0.4373 - val_acc: 0.8474\n",
      "Epoch 32/100\n",
      "68786/68786 [==============================] - 1s 11us/step - loss: 0.2948 - acc: 0.9273 - val_loss: 0.4339 - val_acc: 0.8466\n",
      "Epoch 33/100\n",
      "68786/68786 [==============================] - 1s 10us/step - loss: 0.2890 - acc: 0.9279 - val_loss: 0.4248 - val_acc: 0.8540\n",
      "Epoch 34/100\n",
      "68786/68786 [==============================] - 1s 11us/step - loss: 0.2821 - acc: 0.9281 - val_loss: 0.4179 - val_acc: 0.8570\n",
      "Epoch 35/100\n",
      "68786/68786 [==============================] - 1s 11us/step - loss: 0.2765 - acc: 0.9281 - val_loss: 0.4149 - val_acc: 0.8585\n",
      "Epoch 36/100\n",
      "68786/68786 [==============================] - 1s 11us/step - loss: 0.2718 - acc: 0.9282 - val_loss: 0.4105 - val_acc: 0.8609\n",
      "Epoch 37/100\n",
      "68786/68786 [==============================] - 1s 10us/step - loss: 0.2647 - acc: 0.9292 - val_loss: 0.4061 - val_acc: 0.8732\n",
      "Epoch 38/100\n",
      "68786/68786 [==============================] - 1s 10us/step - loss: 0.2593 - acc: 0.9307 - val_loss: 0.4050 - val_acc: 0.8706\n",
      "Epoch 39/100\n",
      "68786/68786 [==============================] - 1s 11us/step - loss: 0.2564 - acc: 0.9302 - val_loss: 0.4021 - val_acc: 0.8770\n",
      "Epoch 40/100\n",
      "68786/68786 [==============================] - 1s 11us/step - loss: 0.2504 - acc: 0.9309 - val_loss: 0.3988 - val_acc: 0.8781\n",
      "Epoch 41/100\n",
      "68786/68786 [==============================] - 1s 10us/step - loss: 0.2484 - acc: 0.9306 - val_loss: 0.4035 - val_acc: 0.8851\n",
      "Epoch 42/100\n",
      "68786/68786 [==============================] - 1s 9us/step - loss: 0.2438 - acc: 0.9309 - val_loss: 0.4083 - val_acc: 0.8798\n",
      "Epoch 43/100\n",
      "68786/68786 [==============================] - 1s 9us/step - loss: 0.2406 - acc: 0.9316 - val_loss: 0.3891 - val_acc: 0.9057\n",
      "Epoch 44/100\n",
      "68786/68786 [==============================] - 1s 9us/step - loss: 0.2353 - acc: 0.9319 - val_loss: 0.3947 - val_acc: 0.8996\n",
      "Epoch 45/100\n",
      "68786/68786 [==============================] - 1s 10us/step - loss: 0.2336 - acc: 0.9322 - val_loss: 0.3897 - val_acc: 0.9026\n",
      "Epoch 46/100\n",
      "68786/68786 [==============================] - 1s 11us/step - loss: 0.2300 - acc: 0.9326 - val_loss: 0.3919 - val_acc: 0.8922\n",
      "Epoch 47/100\n",
      "68786/68786 [==============================] - 1s 11us/step - loss: 0.2266 - acc: 0.9331 - val_loss: 0.3847 - val_acc: 0.9013\n",
      "Epoch 48/100\n",
      "68786/68786 [==============================] - 1s 10us/step - loss: 0.2235 - acc: 0.9335 - val_loss: 0.3798 - val_acc: 0.9032\n",
      "Epoch 49/100\n",
      "68786/68786 [==============================] - 1s 11us/step - loss: 0.2206 - acc: 0.9340 - val_loss: 0.3702 - val_acc: 0.9120\n",
      "Epoch 50/100\n",
      "68786/68786 [==============================] - 1s 10us/step - loss: 0.2174 - acc: 0.9347 - val_loss: 0.3813 - val_acc: 0.9154\n",
      "Epoch 51/100\n",
      "68786/68786 [==============================] - 1s 10us/step - loss: 0.2168 - acc: 0.9350 - val_loss: 0.3805 - val_acc: 0.9135\n",
      "Epoch 52/100\n",
      "68786/68786 [==============================] - 1s 10us/step - loss: 0.2136 - acc: 0.9351 - val_loss: 0.3729 - val_acc: 0.9058\n",
      "Epoch 53/100\n",
      "68786/68786 [==============================] - 1s 11us/step - loss: 0.2129 - acc: 0.9358 - val_loss: 0.3705 - val_acc: 0.9235\n",
      "Epoch 54/100\n",
      "68786/68786 [==============================] - 1s 10us/step - loss: 0.2107 - acc: 0.9362 - val_loss: 0.3619 - val_acc: 0.9186\n",
      "Epoch 55/100\n",
      "68786/68786 [==============================] - 1s 11us/step - loss: 0.2072 - acc: 0.9367 - val_loss: 0.3667 - val_acc: 0.9216\n",
      "Epoch 56/100\n",
      "68786/68786 [==============================] - 1s 11us/step - loss: 0.2072 - acc: 0.9356 - val_loss: 0.3551 - val_acc: 0.9254\n",
      "Epoch 57/100\n",
      "68786/68786 [==============================] - 1s 13us/step - loss: 0.2053 - acc: 0.9361 - val_loss: 0.3511 - val_acc: 0.9250\n",
      "Epoch 58/100\n",
      "68786/68786 [==============================] - 1s 12us/step - loss: 0.2019 - acc: 0.9369 - val_loss: 0.3555 - val_acc: 0.9191\n",
      "Epoch 59/100\n",
      "68786/68786 [==============================] - 1s 11us/step - loss: 0.2023 - acc: 0.9371 - val_loss: 0.3328 - val_acc: 0.9257\n"
     ]
    },
    {
     "name": "stdout",
     "output_type": "stream",
     "text": [
      "Epoch 60/100\n",
      "68786/68786 [==============================] - 1s 11us/step - loss: 0.1993 - acc: 0.9380 - val_loss: 0.3288 - val_acc: 0.9281\n",
      "Epoch 61/100\n",
      "68786/68786 [==============================] - 1s 10us/step - loss: 0.2005 - acc: 0.9374 - val_loss: 0.3220 - val_acc: 0.9270\n",
      "Epoch 62/100\n",
      "68786/68786 [==============================] - 1s 11us/step - loss: 0.1972 - acc: 0.9375 - val_loss: 0.3361 - val_acc: 0.9244\n",
      "Epoch 63/100\n",
      "68786/68786 [==============================] - 1s 11us/step - loss: 0.1967 - acc: 0.9389 - val_loss: 0.3193 - val_acc: 0.9254\n",
      "Epoch 64/100\n",
      "68786/68786 [==============================] - 1s 11us/step - loss: 0.1951 - acc: 0.9379 - val_loss: 0.3161 - val_acc: 0.9271\n",
      "Epoch 65/100\n",
      "68786/68786 [==============================] - 1s 11us/step - loss: 0.1929 - acc: 0.9391 - val_loss: 0.2933 - val_acc: 0.9270\n",
      "Epoch 66/100\n",
      "68786/68786 [==============================] - 1s 11us/step - loss: 0.1936 - acc: 0.9384 - val_loss: 0.2990 - val_acc: 0.9269\n",
      "Epoch 67/100\n",
      "68786/68786 [==============================] - 1s 10us/step - loss: 0.1926 - acc: 0.9395 - val_loss: 0.2982 - val_acc: 0.9271\n",
      "Epoch 68/100\n",
      "68786/68786 [==============================] - 1s 10us/step - loss: 0.1903 - acc: 0.9405 - val_loss: 0.2841 - val_acc: 0.9280\n",
      "Epoch 69/100\n",
      "68786/68786 [==============================] - 1s 11us/step - loss: 0.1898 - acc: 0.9393 - val_loss: 0.2847 - val_acc: 0.9268\n",
      "Epoch 70/100\n",
      "68786/68786 [==============================] - 1s 10us/step - loss: 0.1899 - acc: 0.9396 - val_loss: 0.2799 - val_acc: 0.9274\n",
      "Epoch 71/100\n",
      "68786/68786 [==============================] - 1s 12us/step - loss: 0.1877 - acc: 0.9406 - val_loss: 0.2722 - val_acc: 0.9273\n",
      "Epoch 72/100\n",
      "68786/68786 [==============================] - 1s 12us/step - loss: 0.1878 - acc: 0.9398 - val_loss: 0.2759 - val_acc: 0.9274\n",
      "Epoch 73/100\n",
      "68786/68786 [==============================] - 1s 12us/step - loss: 0.1880 - acc: 0.9398 - val_loss: 0.2644 - val_acc: 0.9270\n",
      "Epoch 74/100\n",
      "68786/68786 [==============================] - 1s 12us/step - loss: 0.1847 - acc: 0.9413 - val_loss: 0.2627 - val_acc: 0.9285\n",
      "Epoch 75/100\n",
      "68786/68786 [==============================] - 1s 12us/step - loss: 0.1838 - acc: 0.9413 - val_loss: 0.2661 - val_acc: 0.9263\n",
      "Epoch 76/100\n",
      "68786/68786 [==============================] - 1s 12us/step - loss: 0.1844 - acc: 0.9409 - val_loss: 0.2539 - val_acc: 0.9295\n",
      "Epoch 77/100\n",
      "68786/68786 [==============================] - 1s 11us/step - loss: 0.1838 - acc: 0.9407 - val_loss: 0.2570 - val_acc: 0.9262\n",
      "Epoch 78/100\n",
      "68786/68786 [==============================] - 1s 11us/step - loss: 0.1837 - acc: 0.9405 - val_loss: 0.2490 - val_acc: 0.9277\n",
      "Epoch 79/100\n",
      "68786/68786 [==============================] - 1s 10us/step - loss: 0.1843 - acc: 0.9407 - val_loss: 0.2455 - val_acc: 0.9277\n",
      "Epoch 80/100\n",
      "68786/68786 [==============================] - 1s 11us/step - loss: 0.1804 - acc: 0.9419 - val_loss: 0.2447 - val_acc: 0.9277\n",
      "Epoch 81/100\n",
      "68786/68786 [==============================] - 1s 11us/step - loss: 0.1806 - acc: 0.9416 - val_loss: 0.2459 - val_acc: 0.9289\n",
      "Epoch 82/100\n",
      "68786/68786 [==============================] - 1s 11us/step - loss: 0.1792 - acc: 0.9414 - val_loss: 0.2434 - val_acc: 0.9276\n",
      "Epoch 83/100\n",
      "68786/68786 [==============================] - 1s 10us/step - loss: 0.1802 - acc: 0.9426 - val_loss: 0.2448 - val_acc: 0.9269\n",
      "Epoch 84/100\n",
      "68786/68786 [==============================] - 1s 11us/step - loss: 0.1773 - acc: 0.9432 - val_loss: 0.2438 - val_acc: 0.9280\n",
      "Epoch 85/100\n",
      "68786/68786 [==============================] - 1s 10us/step - loss: 0.1798 - acc: 0.9427 - val_loss: 0.2387 - val_acc: 0.9273\n",
      "Epoch 86/100\n",
      "68786/68786 [==============================] - 1s 9us/step - loss: 0.1762 - acc: 0.9426 - val_loss: 0.2305 - val_acc: 0.9282\n",
      "Epoch 87/100\n",
      "68786/68786 [==============================] - 1s 13us/step - loss: 0.1750 - acc: 0.9441 - val_loss: 0.2383 - val_acc: 0.9278\n",
      "Epoch 88/100\n",
      "68786/68786 [==============================] - 1s 12us/step - loss: 0.1734 - acc: 0.9454 - val_loss: 0.2286 - val_acc: 0.9287\n",
      "Epoch 89/100\n",
      "68786/68786 [==============================] - 1s 12us/step - loss: 0.1739 - acc: 0.9446 - val_loss: 0.2335 - val_acc: 0.9292\n",
      "Epoch 90/100\n",
      "68786/68786 [==============================] - 1s 11us/step - loss: 0.1747 - acc: 0.9437 - val_loss: 0.2326 - val_acc: 0.9290\n",
      "Epoch 91/100\n",
      "68786/68786 [==============================] - 1s 12us/step - loss: 0.1754 - acc: 0.9431 - val_loss: 0.2310 - val_acc: 0.9273\n",
      "Epoch 92/100\n",
      "68786/68786 [==============================] - 1s 12us/step - loss: 0.1746 - acc: 0.9441 - val_loss: 0.2236 - val_acc: 0.9287\n",
      "Epoch 93/100\n",
      "68786/68786 [==============================] - 1s 12us/step - loss: 0.1740 - acc: 0.9440 - val_loss: 0.2247 - val_acc: 0.9276\n",
      "Epoch 94/100\n",
      "68786/68786 [==============================] - 1s 10us/step - loss: 0.1722 - acc: 0.9461 - val_loss: 0.2245 - val_acc: 0.9270\n",
      "Epoch 95/100\n",
      "68786/68786 [==============================] - 1s 10us/step - loss: 0.1723 - acc: 0.9452 - val_loss: 0.2248 - val_acc: 0.9242\n",
      "Epoch 96/100\n",
      "68786/68786 [==============================] - 1s 11us/step - loss: 0.1736 - acc: 0.9443 - val_loss: 0.2187 - val_acc: 0.9278\n",
      "Epoch 97/100\n",
      "68786/68786 [==============================] - 1s 11us/step - loss: 0.1718 - acc: 0.9441 - val_loss: 0.2187 - val_acc: 0.9282\n",
      "Epoch 98/100\n",
      "68786/68786 [==============================] - 1s 11us/step - loss: 0.1705 - acc: 0.9465 - val_loss: 0.2180 - val_acc: 0.9286\n",
      "Epoch 99/100\n",
      "68786/68786 [==============================] - 1s 11us/step - loss: 0.1692 - acc: 0.9460 - val_loss: 0.2174 - val_acc: 0.9286\n",
      "Epoch 100/100\n",
      "68786/68786 [==============================] - 1s 10us/step - loss: 0.1693 - acc: 0.9458 - val_loss: 0.2178 - val_acc: 0.9297\n"
     ]
    },
    {
     "name": "stderr",
     "output_type": "stream",
     "text": [
      "2022-03-15 14:22:13.316428: I tensorflow/core/platform/cpu_feature_guard.cc:142] Your CPU supports instructions that this TensorFlow binary was not compiled to use: SSE4.1 SSE4.2 AVX AVX2 FMA\n",
      "2022-03-15 14:22:13.373841: I tensorflow/core/platform/profile_utils/cpu_utils.cc:94] CPU Frequency: 2194915000 Hz\n",
      "2022-03-15 14:22:13.377915: I tensorflow/compiler/xla/service/service.cc:168] XLA service 0xfb79b40 executing computations on platform Host. Devices:\n",
      "2022-03-15 14:22:13.377954: I tensorflow/compiler/xla/service/service.cc:175]   StreamExecutor device (0): <undefined>, <undefined>\n",
      "2022-03-15 14:22:14.720463: W tensorflow/compiler/jit/mark_for_compilation_pass.cc:1412] (One-time warning): Not using XLA:CPU for cluster because envvar TF_XLA_FLAGS=--tf_xla_cpu_global_jit was not set.  If you want XLA:CPU, either set that envvar, or use experimental_jit_scope to enable XLA:CPU.  To confirm that XLA is active, pass --vmodule=xla_compilation_cache=1 (as a proper command-line flag, not via TF_XLA_FLAGS) or set the envvar XLA_FLAGS=--xla_hlo_profile.\n"
     ]
    }
   ],
   "source": [
    "# simple early stopping\n",
    "es = EarlyStopping(monitor='val_loss', verbose=1, patience =  10, mode = \"auto\", baseline = None)\n",
    "# fit model\n",
    "history = clf.fit(X_train, y_train, validation_split = 0.30, batch_size= 9000, epochs=100, verbose=1)\n",
    "# evaluate the model"
   ]
  },
  {
   "cell_type": "markdown",
   "metadata": {},
   "source": [
    "## Training Outputs\n",
    "The training output of the model is:"
   ]
  },
  {
   "cell_type": "code",
   "execution_count": 31,
   "metadata": {},
   "outputs": [
    {
     "name": "stdout",
     "output_type": "stream",
     "text": [
      "Accuracy of the training: 94.94%\n"
     ]
    }
   ],
   "source": [
    "# Final evaluation of the model for DNN\n",
    "# Testing Outputs\n",
    "scores = clf.evaluate(X_train, y_train, verbose=0)\n",
    "print(\"Accuracy of the training: %.2f%%\" % (scores[1]*100))"
   ]
  },
  {
   "cell_type": "code",
   "execution_count": 32,
   "metadata": {},
   "outputs": [
    {
     "name": "stdout",
     "output_type": "stream",
     "text": [
      "Accuracy for the testing on the: 92.67%\n"
     ]
    }
   ],
   "source": [
    "# Final evaluation of the model for DNN\n",
    "# Testing Outputs\"$\\pm$\"\n",
    "scores = clf.evaluate(X_test, y_test, verbose=0)\n",
    "print(\"Accuracy for the testing on the: %.2f%%\" % (scores[1]*100))"
   ]
  },
  {
   "cell_type": "code",
   "execution_count": 33,
   "metadata": {},
   "outputs": [
    {
     "data": {
      "image/png": "[encoded data removed]",
      "text/plain": [
       "<Figure size 432x288 with 1 Axes>"
      ]
     },
     "metadata": {
      "needs_background": "light"
     },
     "output_type": "display_data"
    },
    {
     "data": {
      "image/png": "[encoded data removed]",
      "text/plain": [
       "<Figure size 432x288 with 1 Axes>"
      ]
     },
     "metadata": {
      "needs_background": "light"
     },
     "output_type": "display_data"
    }
   ],
   "source": [
    "# summarize history for accuracy\n",
    "plt.plot(history.history['acc'])\n",
    "plt.plot(history.history['val_acc'])\n",
    "plt.title('model accuracy')\n",
    "plt.ylabel('accuracy')\n",
    "plt.xlabel('epoch')\n",
    "plt.legend(['train', 'test'], loc='upper left')\n",
    "# plt.savefig('model_accuracy_TPrime_ttgg_&tth&thq.png')\n",
    "plt.show()\n",
    "# summarize history for loss\n",
    "plt.plot(history.history['loss'])\n",
    "plt.plot(history.history['val_loss'])\n",
    "# plt.title('model loss,random_state=5, epoch =100,batch_size =900, verbose=0.25')\n",
    "plt.ylabel('loss')\n",
    "plt.xlabel('epoch')\n",
    "plt.legend(['train', 'test'], loc='upper right')\n",
    "# plt.savefig('loss_TPrime_ttgg_&tth&thq.png')\n",
    "plt.show()"
   ]
  },
  {
   "cell_type": "code",
   "execution_count": 75,
   "metadata": {},
   "outputs": [
    {
     "data": {
      "image/png": "[encoded data removed]",
      "text/plain": [
       "<Figure size 432x288 with 1 Axes>"
      ]
     },
     "metadata": {
      "needs_background": "light"
     },
     "output_type": "display_data"
    }
   ],
   "source": [
    "from sklearn.metrics import roc_curve, auc\n",
    "\n",
    "decisions = clf.predict(X_test)\n",
    "\n",
    "# Compute ROC curve and area under the curve\n",
    "fpr, tpr, thresholds = roc_curve(y_test, decisions)\n",
    "roc_auc = auc(fpr, tpr)\n",
    "plt.plot(fpr, tpr, lw=1, label='ROC (area = %0.2f)'%(roc_auc))\n",
    "\n",
    "\n",
    "plt.plot([0, 1], [0, 1], '--', color=(0.6, 0.6, 0.6), label='Luck')\n",
    "plt.xlim([-0.05, 1.05])\n",
    "plt.ylim([-0.05, 1.05])\n",
    "plt.xlabel('False Positive Rate')\n",
    "plt.ylabel('True Positive Rate')\n",
    "plt.title('Receiver operating characteristic')\n",
    "plt.legend(loc=\"lower right\")\n",
    "plt.grid()\n",
    "# plt.savefig(\"ROC_curve.png\")\n",
    "plt.show()"
   ]
  },
  {
   "cell_type": "code",
   "execution_count": 80,
   "metadata": {},
   "outputs": [
    {
     "data": {
      "image/png": "[encoded data removed]",
      "text/plain": [
       "<Figure size 432x288 with 1 Axes>"
      ]
     },
     "metadata": {
      "needs_background": "light"
     },
     "output_type": "display_data"
    }
   ],
   "source": [
    "import matplotlib\n",
    "plt.figure()                                     # new window\n",
    "matplotlib.rcParams.update({'font.size':14})     # set all font sizes\n",
    "tTest = clf.predict(X_test)\n",
    "# if hasattr(clf, \"decision_function\"):\n",
    "#     tTest = clf.decision_function(X_test)        # if available use decision_function\n",
    "# else:\n",
    "#     tTest = clf.predict_proba(X_test)[:,1]       # for e.g. MLP need to use predict_proba\n",
    "tBkg_1 = tTest[y_test==0]\n",
    "tSig_1 = tTest[y_test==1]\n",
    "nBins = 20\n",
    "tMin = np.floor(np.min(tTest))\n",
    "tMax = np.ceil(np.max(tTest))\n",
    "bins = np.linspace(tMin, tMax, nBins+1)\n",
    "# plt.title('Multilayer perceptron')\n",
    "plt.xlabel(' $DNN$', labelpad=3)\n",
    "plt.ylabel('$Probability density$', labelpad=40)\n",
    "n, bins, patches = plt.hist(tSig_1, bins=bins, density=True, histtype='step', fill=False, color ='dodgerblue' ,edgecolor = 'blue', hatch = 'XX',label='Tprime_600')\n",
    "n, bins, patches = plt.hist(tBkg_1, bins=bins, density=True, histtype='step', fill=False,color = 'red' ,alpha=0.5, edgecolor = 'green', hatch='++', label = 'VH, VHq, gg, ttgg')\n",
    "plt.grid(color = 'b', alpha = 0.5, linestyle = 'dashed')\n",
    "plt.legend(loc='center')\n",
    "plt.title('')\n",
    "# plt.savefig('/eos/home-s/sraj/M.Sc._Thesis/Plot_M.Sc._thesis/Plot_with_HDF5_files/''output_TPrime1200_all_background.png')\n",
    "plt.show()"
   ]
  },
  {
   "cell_type": "code",
   "execution_count": 42,
   "metadata": {},
   "outputs": [
    {
     "name": "stdout",
     "output_type": "stream",
     "text": [
      "CPU times: user 9 µs, sys: 1e+03 ns, total: 10 µs\n",
      "Wall time: 23.1 µs\n"
     ]
    }
   ],
   "source": [
    "%time"
   ]
  },
  {
   "cell_type": "markdown",
   "metadata": {},
   "source": [
    "### Saving the output of the file as a HDF5 file"
   ]
  },
  {
   "cell_type": "code",
   "execution_count": 43,
   "metadata": {},
   "outputs": [],
   "source": [
    "import h5py\n",
    "from keras.models import model_from_json\n",
    "\n",
    "# hf.create_dataset('dataset_1', h)"
   ]
  },
  {
   "cell_type": "code",
   "execution_count": 44,
   "metadata": {},
   "outputs": [
    {
     "name": "stdout",
     "output_type": "stream",
     "text": [
      "saved trained model with combined background and a signal to disk\n"
     ]
    }
   ],
   "source": [
    "model_json = clf.to_json()\n",
    "with open(\"model(with VH,VHQ,gg,ttgg as background and TPrime_600 signal_train).json\", \"w\") as json_file:\n",
    "    json_file.write(model_json)\n",
    "#serialize weights to HDF5\n",
    "clf.save_weights(\"model(with VH,VHQ,gg,ttgg as background and TPrime_600 signal_train).h5\")\n",
    "print(\"saved trained model with combined background and a signal to disk\")"
   ]
  },
  {
   "cell_type": "code",
   "execution_count": 45,
   "metadata": {},
   "outputs": [
    {
     "name": "stdout",
     "output_type": "stream",
     "text": [
      "Loaded model from disk\n"
     ]
    }
   ],
   "source": [
    "# load json and create model\n",
    "json_file = open('model(with VH,VHQ,gg,ttgg as background and TPrime_600 signal_train).json', 'r')\n",
    "loaded_model_json = json_file.read()\n",
    "json_file.close()\n",
    "loaded_model = model_from_json(loaded_model_json)\n",
    "# load weights into new model\n",
    "loaded_model.load_weights(\"model(with VH,VHQ,gg,ttgg as background and TPrime_600 signal_train).h5\")\n",
    "print(\"Loaded model from disk\")"
   ]
  },
  {
   "cell_type": "code",
   "execution_count": 46,
   "metadata": {},
   "outputs": [
    {
     "name": "stdout",
     "output_type": "stream",
     "text": [
      "48401/48401 [==============================] - 3s 65us/step\n"
     ]
    }
   ],
   "source": [
    "# evaluate loaded model on test data of TPrime_600\n",
    "loaded_model.compile(loss='binary_crossentropy', optimizer='adam', metrics=['accuracy'])\n",
    "score = loaded_model.evaluate(X_test, y_test)"
   ]
  },
  {
   "cell_type": "code",
   "execution_count": 47,
   "metadata": {},
   "outputs": [
    {
     "name": "stdout",
     "output_type": "stream",
     "text": [
      "It should be compatible with the previous output from the test dataset: \n",
      "Here the Accuracy ouput is: \n",
      " Accuracy: 92.67%\n"
     ]
    }
   ],
   "source": [
    "# Final evaluation of the model for DNN\n",
    "# Testing Outputs\n",
    "scores = clf.evaluate(X_test, y_test, verbose=0)\n",
    "print('It should be compatible with the previous output from the test dataset: \\n'\"Here the Accuracy ouput is: \\n Accuracy: %.2f%%\" % (scores[1]*100))"
   ]
  },
  {
   "cell_type": "code",
   "execution_count": 48,
   "metadata": {},
   "outputs": [
    {
     "name": "stdout",
     "output_type": "stream",
     "text": [
      "(48401, 42)\n",
      "(48401,)\n"
     ]
    }
   ],
   "source": [
    "print(X_test.shape)\n",
    "print(y_test.shape)"
   ]
  },
  {
   "cell_type": "markdown",
   "metadata": {},
   "source": [
    "### Testing on the Tpime at CMS energy $\\sqrt{s}$ = 900GeV as signal."
   ]
  },
  {
   "cell_type": "code",
   "execution_count": 50,
   "metadata": {},
   "outputs": [],
   "source": [
    "# Loading the corresposnding Testing dataset on $\\sqrt s$ = 900GeV\n",
    "signal_0 = signal = '/eos/home-s/sraj/M.Sc._Thesis/data_files/output_TprimeBToTH_Hgg_M-1200_LH_TuneCP5_PSweights_13TeV-madgraph_pythia8.root'\n",
    "treeName_signal_0 = \"tagsDumper/trees/Tprime_1200_13TeV_THQLeptonicTag\"\n",
    "signal_Tprime1200 = root2array(signal_0, treeName_signal_0, columns)   #Signal TPrime at 600TeV"
   ]
  },
  {
   "cell_type": "code",
   "execution_count": 51,
   "metadata": {},
   "outputs": [],
   "source": [
    "signal_Tprime1200 = pd.DataFrame(signal_Tprime1200)"
   ]
  },
  {
   "cell_type": "code",
   "execution_count": 52,
   "metadata": {},
   "outputs": [
    {
     "data": {
      "text/html": [
       "<div>\n",
       "<style scoped>\n",
       "    .dataframe tbody tr th:only-of-type {\n",
       "        vertical-align: middle;\n",
       "    }\n",
       "\n",
       "    .dataframe tbody tr th {\n",
       "        vertical-align: top;\n",
       "    }\n",
       "\n",
       "    .dataframe thead th {\n",
       "        text-align: right;\n",
       "    }\n",
       "</style>\n",
       "<table border=\"1\" class=\"dataframe\">\n",
       "  <thead>\n",
       "    <tr style=\"text-align: right;\">\n",
       "      <th></th>\n",
       "      <th>dipho_leadPt</th>\n",
       "      <th>dipho_mass</th>\n",
       "      <th>dipho_leadEta</th>\n",
       "      <th>dipho_subleadEta</th>\n",
       "      <th>dipho_leadIDMVA</th>\n",
       "      <th>dipho_subleadIDMVA</th>\n",
       "      <th>dipho_lead_haspixelseed</th>\n",
       "      <th>dipho_sublead_haspixelseed</th>\n",
       "      <th>n_jets</th>\n",
       "      <th>n_bjets</th>\n",
       "      <th>...</th>\n",
       "      <th>bjet3_discr</th>\n",
       "      <th>jet1_pt</th>\n",
       "      <th>jet2_pt</th>\n",
       "      <th>jet3_pt</th>\n",
       "      <th>jet1_eta</th>\n",
       "      <th>jet2_eta</th>\n",
       "      <th>jet3_eta</th>\n",
       "      <th>jet1_discr</th>\n",
       "      <th>jet2_discr</th>\n",
       "      <th>jet3_discr</th>\n",
       "    </tr>\n",
       "  </thead>\n",
       "  <tbody>\n",
       "    <tr>\n",
       "      <th>0</th>\n",
       "      <td>534.582397</td>\n",
       "      <td>125.027214</td>\n",
       "      <td>0.566175</td>\n",
       "      <td>0.996379</td>\n",
       "      <td>0.944314</td>\n",
       "      <td>0.929853</td>\n",
       "      <td>0.0</td>\n",
       "      <td>0.0</td>\n",
       "      <td>5.0</td>\n",
       "      <td>2.0</td>\n",
       "      <td>...</td>\n",
       "      <td>-999.000000</td>\n",
       "      <td>311.581604</td>\n",
       "      <td>144.228638</td>\n",
       "      <td>90.022743</td>\n",
       "      <td>0.048455</td>\n",
       "      <td>-2.035239</td>\n",
       "      <td>3.420674</td>\n",
       "      <td>0.985339</td>\n",
       "      <td>0.047269</td>\n",
       "      <td>-2.000000</td>\n",
       "    </tr>\n",
       "    <tr>\n",
       "      <th>1</th>\n",
       "      <td>287.602081</td>\n",
       "      <td>124.728577</td>\n",
       "      <td>-0.733117</td>\n",
       "      <td>-0.519446</td>\n",
       "      <td>0.959960</td>\n",
       "      <td>0.918737</td>\n",
       "      <td>0.0</td>\n",
       "      <td>0.0</td>\n",
       "      <td>5.0</td>\n",
       "      <td>3.0</td>\n",
       "      <td>...</td>\n",
       "      <td>0.254300</td>\n",
       "      <td>159.142563</td>\n",
       "      <td>93.359550</td>\n",
       "      <td>60.414616</td>\n",
       "      <td>0.157884</td>\n",
       "      <td>-2.040476</td>\n",
       "      <td>2.550436</td>\n",
       "      <td>0.254300</td>\n",
       "      <td>0.030940</td>\n",
       "      <td>0.505706</td>\n",
       "    </tr>\n",
       "    <tr>\n",
       "      <th>2</th>\n",
       "      <td>246.845337</td>\n",
       "      <td>123.324104</td>\n",
       "      <td>-0.460441</td>\n",
       "      <td>-0.968103</td>\n",
       "      <td>0.922660</td>\n",
       "      <td>0.970355</td>\n",
       "      <td>0.0</td>\n",
       "      <td>0.0</td>\n",
       "      <td>2.0</td>\n",
       "      <td>1.0</td>\n",
       "      <td>...</td>\n",
       "      <td>-999.000000</td>\n",
       "      <td>58.944019</td>\n",
       "      <td>48.547359</td>\n",
       "      <td>-999.000000</td>\n",
       "      <td>-2.324409</td>\n",
       "      <td>-0.171253</td>\n",
       "      <td>-999.000000</td>\n",
       "      <td>0.069687</td>\n",
       "      <td>0.999494</td>\n",
       "      <td>-999.000000</td>\n",
       "    </tr>\n",
       "    <tr>\n",
       "      <th>3</th>\n",
       "      <td>530.529053</td>\n",
       "      <td>124.927475</td>\n",
       "      <td>-0.195753</td>\n",
       "      <td>-0.550637</td>\n",
       "      <td>0.968185</td>\n",
       "      <td>0.959774</td>\n",
       "      <td>0.0</td>\n",
       "      <td>0.0</td>\n",
       "      <td>3.0</td>\n",
       "      <td>1.0</td>\n",
       "      <td>...</td>\n",
       "      <td>-999.000000</td>\n",
       "      <td>283.501984</td>\n",
       "      <td>92.928520</td>\n",
       "      <td>29.110281</td>\n",
       "      <td>-0.501745</td>\n",
       "      <td>4.469100</td>\n",
       "      <td>-2.801659</td>\n",
       "      <td>0.998836</td>\n",
       "      <td>-2.000000</td>\n",
       "      <td>-2.000000</td>\n",
       "    </tr>\n",
       "    <tr>\n",
       "      <th>4</th>\n",
       "      <td>421.636475</td>\n",
       "      <td>124.109444</td>\n",
       "      <td>0.551736</td>\n",
       "      <td>0.886035</td>\n",
       "      <td>0.975925</td>\n",
       "      <td>0.969419</td>\n",
       "      <td>0.0</td>\n",
       "      <td>0.0</td>\n",
       "      <td>6.0</td>\n",
       "      <td>3.0</td>\n",
       "      <td>...</td>\n",
       "      <td>0.173882</td>\n",
       "      <td>158.900589</td>\n",
       "      <td>154.219620</td>\n",
       "      <td>103.105125</td>\n",
       "      <td>2.175221</td>\n",
       "      <td>-0.654846</td>\n",
       "      <td>-2.812661</td>\n",
       "      <td>0.999373</td>\n",
       "      <td>0.036432</td>\n",
       "      <td>-2.000000</td>\n",
       "    </tr>\n",
       "  </tbody>\n",
       "</table>\n",
       "<p>5 rows × 42 columns</p>\n",
       "</div>"
      ],
      "text/plain": [
       "   dipho_leadPt  dipho_mass  dipho_leadEta  dipho_subleadEta  dipho_leadIDMVA  \\\n",
       "0    534.582397  125.027214       0.566175          0.996379         0.944314   \n",
       "1    287.602081  124.728577      -0.733117         -0.519446         0.959960   \n",
       "2    246.845337  123.324104      -0.460441         -0.968103         0.922660   \n",
       "3    530.529053  124.927475      -0.195753         -0.550637         0.968185   \n",
       "4    421.636475  124.109444       0.551736          0.886035         0.975925   \n",
       "\n",
       "   dipho_subleadIDMVA  dipho_lead_haspixelseed  dipho_sublead_haspixelseed  \\\n",
       "0            0.929853                      0.0                         0.0   \n",
       "1            0.918737                      0.0                         0.0   \n",
       "2            0.970355                      0.0                         0.0   \n",
       "3            0.959774                      0.0                         0.0   \n",
       "4            0.969419                      0.0                         0.0   \n",
       "\n",
       "   n_jets  n_bjets  ...  bjet3_discr     jet1_pt     jet2_pt     jet3_pt  \\\n",
       "0     5.0      2.0  ...  -999.000000  311.581604  144.228638   90.022743   \n",
       "1     5.0      3.0  ...     0.254300  159.142563   93.359550   60.414616   \n",
       "2     2.0      1.0  ...  -999.000000   58.944019   48.547359 -999.000000   \n",
       "3     3.0      1.0  ...  -999.000000  283.501984   92.928520   29.110281   \n",
       "4     6.0      3.0  ...     0.173882  158.900589  154.219620  103.105125   \n",
       "\n",
       "   jet1_eta  jet2_eta    jet3_eta  jet1_discr  jet2_discr  jet3_discr  \n",
       "0  0.048455 -2.035239    3.420674    0.985339    0.047269   -2.000000  \n",
       "1  0.157884 -2.040476    2.550436    0.254300    0.030940    0.505706  \n",
       "2 -2.324409 -0.171253 -999.000000    0.069687    0.999494 -999.000000  \n",
       "3 -0.501745  4.469100   -2.801659    0.998836   -2.000000   -2.000000  \n",
       "4  2.175221 -0.654846   -2.812661    0.999373    0.036432   -2.000000  \n",
       "\n",
       "[5 rows x 42 columns]"
      ]
     },
     "execution_count": 52,
     "metadata": {},
     "output_type": "execute_result"
    }
   ],
   "source": [
    "\n",
    "signal_Tprime1200.head()"
   ]
  },
  {
   "cell_type": "code",
   "execution_count": 53,
   "metadata": {},
   "outputs": [
    {
     "data": {
      "text/plain": [
       "(107628, 42)"
      ]
     },
     "execution_count": 53,
     "metadata": {},
     "output_type": "execute_result"
    }
   ],
   "source": [
    "signal_Tprime1200.shape"
   ]
  },
  {
   "cell_type": "code",
   "execution_count": 54,
   "metadata": {},
   "outputs": [
    {
     "data": {
      "text/plain": [
       "(48401,)"
      ]
     },
     "execution_count": 54,
     "metadata": {},
     "output_type": "execute_result"
    }
   ],
   "source": [
    "y_test.shape"
   ]
  },
  {
   "cell_type": "markdown",
   "metadata": {},
   "source": [
    "Here, there are two methods to get through the ouput on the testing files, First to directly use the **Testing files** or use with all the given backgrounds you have taken\n",
    "#### Method 1"
   ]
  },
  {
   "cell_type": "code",
   "execution_count": 55,
   "metadata": {},
   "outputs": [
    {
     "ename": "IndexError",
     "evalue": "list index out of range",
     "output_type": "error",
     "traceback": [
      "\u001b[0;31m---------------------------------------------------------------------------\u001b[0m",
      "\u001b[0;31mIndexError\u001b[0m                                Traceback (most recent call last)",
      "\u001b[0;32m<ipython-input-55-aafadcc97aec>\u001b[0m in \u001b[0;36m<module>\u001b[0;34m\u001b[0m\n\u001b[0;32m----> 1\u001b[0;31m \u001b[0mloaded_model\u001b[0m\u001b[0;34m.\u001b[0m\u001b[0mevaluate\u001b[0m\u001b[0;34m(\u001b[0m\u001b[0msignal_Tprime1200\u001b[0m\u001b[0;34m)\u001b[0m\u001b[0;34m\u001b[0m\u001b[0;34m\u001b[0m\u001b[0m\n\u001b[0m",
      "\u001b[0;32m/cvmfs/sft.cern.ch/lcg/views/LCG_97apython3/x86_64-centos7-gcc8-opt/lib/python3.7/site-packages/keras/engine/training.py\u001b[0m in \u001b[0;36mevaluate\u001b[0;34m(self, x, y, batch_size, verbose, sample_weight, steps)\u001b[0m\n\u001b[1;32m   1111\u001b[0m                                          \u001b[0mbatch_size\u001b[0m\u001b[0;34m=\u001b[0m\u001b[0mbatch_size\u001b[0m\u001b[0;34m,\u001b[0m\u001b[0;34m\u001b[0m\u001b[0;34m\u001b[0m\u001b[0m\n\u001b[1;32m   1112\u001b[0m                                          \u001b[0mverbose\u001b[0m\u001b[0;34m=\u001b[0m\u001b[0mverbose\u001b[0m\u001b[0;34m,\u001b[0m\u001b[0;34m\u001b[0m\u001b[0;34m\u001b[0m\u001b[0m\n\u001b[0;32m-> 1113\u001b[0;31m                                          steps=steps)\n\u001b[0m\u001b[1;32m   1114\u001b[0m \u001b[0;34m\u001b[0m\u001b[0m\n\u001b[1;32m   1115\u001b[0m     def predict(self, x,\n",
      "\u001b[0;32m/cvmfs/sft.cern.ch/lcg/views/LCG_97apython3/x86_64-centos7-gcc8-opt/lib/python3.7/site-packages/keras/engine/training_arrays.py\u001b[0m in \u001b[0;36mtest_loop\u001b[0;34m(model, f, ins, batch_size, verbose, steps)\u001b[0m\n\u001b[1;32m    353\u001b[0m     \u001b[0mindices_for_conversion_to_dense\u001b[0m \u001b[0;34m=\u001b[0m \u001b[0;34m[\u001b[0m\u001b[0;34m]\u001b[0m\u001b[0;34m\u001b[0m\u001b[0;34m\u001b[0m\u001b[0m\n\u001b[1;32m    354\u001b[0m     \u001b[0;32mfor\u001b[0m \u001b[0mi\u001b[0m \u001b[0;32min\u001b[0m \u001b[0mrange\u001b[0m\u001b[0;34m(\u001b[0m\u001b[0mlen\u001b[0m\u001b[0;34m(\u001b[0m\u001b[0mfeed\u001b[0m\u001b[0;34m)\u001b[0m\u001b[0;34m)\u001b[0m\u001b[0;34m:\u001b[0m\u001b[0;34m\u001b[0m\u001b[0;34m\u001b[0m\u001b[0m\n\u001b[0;32m--> 355\u001b[0;31m         \u001b[0;32mif\u001b[0m \u001b[0missparse\u001b[0m\u001b[0;34m(\u001b[0m\u001b[0mins\u001b[0m\u001b[0;34m[\u001b[0m\u001b[0mi\u001b[0m\u001b[0;34m]\u001b[0m\u001b[0;34m)\u001b[0m \u001b[0;32mand\u001b[0m \u001b[0;32mnot\u001b[0m \u001b[0mK\u001b[0m\u001b[0;34m.\u001b[0m\u001b[0mis_sparse\u001b[0m\u001b[0;34m(\u001b[0m\u001b[0mfeed\u001b[0m\u001b[0;34m[\u001b[0m\u001b[0mi\u001b[0m\u001b[0;34m]\u001b[0m\u001b[0;34m)\u001b[0m\u001b[0;34m:\u001b[0m\u001b[0;34m\u001b[0m\u001b[0;34m\u001b[0m\u001b[0m\n\u001b[0m\u001b[1;32m    356\u001b[0m             \u001b[0mindices_for_conversion_to_dense\u001b[0m\u001b[0;34m.\u001b[0m\u001b[0mappend\u001b[0m\u001b[0;34m(\u001b[0m\u001b[0mi\u001b[0m\u001b[0;34m)\u001b[0m\u001b[0;34m\u001b[0m\u001b[0;34m\u001b[0m\u001b[0m\n\u001b[1;32m    357\u001b[0m \u001b[0;34m\u001b[0m\u001b[0m\n",
      "\u001b[0;31mIndexError\u001b[0m: list index out of range"
     ]
    }
   ],
   "source": [
    "loaded_model.evaluate(signal_Tprime1200)"
   ]
  },
  {
   "cell_type": "markdown",
   "metadata": {},
   "source": [
    "This is the error due to data mismatch"
   ]
  },
  {
   "cell_type": "code",
   "execution_count": 58,
   "metadata": {},
   "outputs": [],
   "source": [
    "df = signal_Tprime1200.loc[:48400].copy()"
   ]
  },
  {
   "cell_type": "code",
   "execution_count": 59,
   "metadata": {},
   "outputs": [
    {
     "data": {
      "text/plain": [
       "(48401, 42)"
      ]
     },
     "execution_count": 59,
     "metadata": {},
     "output_type": "execute_result"
    }
   ],
   "source": [
    "df.shape"
   ]
  },
  {
   "cell_type": "code",
   "execution_count": 60,
   "metadata": {},
   "outputs": [
    {
     "name": "stdout",
     "output_type": "stream",
     "text": [
      "48401/48401 [==============================] - 5s 102us/step\n"
     ]
    }
   ],
   "source": [
    "loaded_model.compile(loss='binary_crossentropy', optimizer='adam', metrics=['accuracy'])\n",
    "score = loaded_model.evaluate(df, y_test)"
   ]
  },
  {
   "cell_type": "code",
   "execution_count": 61,
   "metadata": {},
   "outputs": [
    {
     "name": "stdout",
     "output_type": "stream",
     "text": [
      "Accuracy: 53.86%\n"
     ]
    }
   ],
   "source": [
    "# # Final evaluation of the model for DNN\n",
    "# # Testing Outputs\n",
    "scores = clf.evaluate(df, y_test, verbose=0)\n",
    "print(\"Accuracy: %.2f%%\" % (scores[1]*100))"
   ]
  },
  {
   "cell_type": "code",
   "execution_count": 43,
   "metadata": {},
   "outputs": [],
   "source": [
    "# from sklearn.metrics import roc_curve, auc\n",
    "\n",
    "# decisions = clf.predict(X_test)\n",
    "\n",
    "# # Compute ROC curve and area under the curve\n",
    "# fpr, tpr, thresholds = roc_curve(y_test, decisions)\n",
    "# roc_auc = auc(fpr, tpr)\n",
    "# plt.plot(fpr, tpr, lw=1, label='ROC (area = %0.2f)'%(roc_auc))\n",
    "\n",
    "# plt.plot([0, 1], [0, 1], '--', color=(0.6, 0.6, 0.6), label='Luck')\n",
    "# plt.xlim([-0.05, 1.05])\n",
    "# plt.ylim([-0.05, 1.05])\n",
    "# plt.xlabel('False Positive Rate')\n",
    "# plt.ylabel('True Positive Rate')\n",
    "# plt.title('Receiver operating characteristic')\n",
    "# plt.legend(loc=\"lower right\")\n",
    "# plt.grid()\n",
    "# # plt.savefig(\"ROC_curve.png\")\n",
    "# plt.show()"
   ]
  },
  {
   "cell_type": "code",
   "execution_count": 44,
   "metadata": {},
   "outputs": [],
   "source": [
    "# import matplotlib\n",
    "# plt.figure()                                     # new window\n",
    "# matplotlib.rcParams.update({'font.size':14})     # set all font sizes\n",
    "# tTest = clf.predict(X_test)\n",
    "# # if hasattr(clf, \"decision_function\"):\n",
    "# #     tTest = clf.decision_function(X_test)        # if available use decision_function\n",
    "# # else:\n",
    "# #     tTest = clf.predict_proba(X_test)[:,1]       # for e.g. MLP need to use predict_proba\n",
    "# tBkg = tTest[y_test==0]\n",
    "# tSig = tTest[y_test==1]\n",
    "# nBins = 20\n",
    "# tMin = np.floor(np.min(tTest))\n",
    "# tMax = np.ceil(np.max(tTest))\n",
    "# bins = np.linspace(tMin, tMax, nBins+1)\n",
    "# # plt.title('Multilayer perceptron')\n",
    "# plt.xlabel(' $DNN$', labelpad=3)\n",
    "# plt.ylabel('$Probability density$', labelpad=40)\n",
    "# n, bins, patches = plt.hist(tSig, bins=bins, density=True, histtype='step', fill=False, color ='dodgerblue' ,edgecolor = 'blue', hatch = 'XX',label='Tprime_600')\n",
    "# n, bins, patches = plt.hist(tBkg, bins=bins, density=True, histtype='step', fill=False,color = 'red' ,alpha=0.5, edgecolor = 'green', hatch='++', label = 'All Background(-thq)')\n",
    "# plt.grid(color = 'b', alpha = 0.5, linestyle = 'dashed')\n",
    "# plt.legend(loc='center')\n",
    "# # plt.savefig('/eos/home-s/sraj/M.Sc._Thesis/Plot/''output_TPrime_ttgg.png')\n",
    "# plt.show()"
   ]
  },
  {
   "cell_type": "code",
   "execution_count": 45,
   "metadata": {},
   "outputs": [],
   "source": [
    "# from sklearn.metrics import roc_curve, auc\n",
    "\n",
    "# decisions = clf.predict(df)\n",
    "\n",
    "# # Compute ROC curve and area under the curve\n",
    "# fpr, tpr, thresholds = roc_curve(y_test, decisions)\n",
    "# roc_auc = auc(fpr, tpr)\n",
    "# plt.plot(fpr, tpr, lw=1, label='ROC (area = %0.2f)'%(roc_auc))\n",
    "\n",
    "# plt.plot([0, 1], [0, 1], '--', color=(0.6, 0.6, 0.6), label='Luck')\n",
    "# plt.xlim([-0.05, 1.05])\n",
    "# plt.ylim([-0.05, 1.05])\n",
    "# plt.xlabel('False Positive Rate')\n",
    "# plt.ylabel('True Positive Rate')\n",
    "# plt.title('Receiver operating characteristic')\n",
    "# plt.legend(loc=\"lower right\")\n",
    "# plt.grid()\n",
    "# # plt.savefig(\"ROC_curve.png\")\n",
    "# plt.show()"
   ]
  },
  {
   "cell_type": "code",
   "execution_count": 46,
   "metadata": {},
   "outputs": [],
   "source": [
    "# plt.figure()                                     # new window\n",
    "# matplotlib.rcParams.update({'font.size':14})     # set all font sizes\n",
    "# tTest = clf.predict(df)\n",
    "# # if hasattr(clf, \"decision_function\"):\n",
    "# #     tTest = clf.decision_function(X_test)        # if available use decision_function\n",
    "# # else:\n",
    "# #     tTest = clf.predict_proba(X_test)[:,1]       # for e.g. MLP need to use predict_proba\n",
    "# tBkg = tTest[y_test==0]\n",
    "# tSig = tTest[y_test==1]\n",
    "# nBins = 20\n",
    "# tMin = np.floor(np.min(tTest))\n",
    "# tMax = np.ceil(np.max(tTest))\n",
    "# bins = np.linspace(tMin, tMax, nBins+1)\n",
    "# # plt.title('Multilayer perceptron')\n",
    "# plt.xlabel(' $DNN$', labelpad=3)\n",
    "# plt.ylabel('$Probability density$', labelpad=40)\n",
    "# n, bins, patches = plt.hist(tSig, bins=bins, density=True, histtype='step', fill=False, color ='dodgerblue' ,edgecolor = 'blue', hatch = 'XX',label='Tprime_1200')\n",
    "# n, bins, patches = plt.hist(tBkg, bins=bins, density=True, histtype='step', fill=False,color = 'red' ,alpha=0.5, edgecolor = 'green', hatch='++', label = 'All Background')\n",
    "# plt.grid(color = 'b', alpha = 0.5, linestyle = 'dashed')\n",
    "# plt.legend(loc='center')\n",
    "# plt.title('TPrime_1200 output after TPrime_600 Training with all background ')\n",
    "# # plt.savefig('/eos/home-s/sraj/M.Sc._Thesis/Plot_M.Sc._thesis/Plot_with_HDF5_files/''output_TPrime1200_all_background.png')\n",
    "# plt.show()"
   ]
  },
  {
   "cell_type": "code",
   "execution_count": null,
   "metadata": {},
   "outputs": [],
   "source": []
  },
  {
   "cell_type": "code",
   "execution_count": null,
   "metadata": {},
   "outputs": [],
   "source": []
  },
  {
   "cell_type": "markdown",
   "metadata": {},
   "source": [
    "#### method 2"
   ]
  },
  {
   "cell_type": "code",
   "execution_count": 62,
   "metadata": {},
   "outputs": [],
   "source": [
    "X_1 = np.concatenate((signal_Tprime1200, backgr))\n",
    "y_1 = np.concatenate((np.ones(signal_Tprime1200.shape[0]),\n",
    "                    np.zeros(backgr.shape[0])))"
   ]
  },
  {
   "cell_type": "code",
   "execution_count": 63,
   "metadata": {},
   "outputs": [
    {
     "data": {
      "text/plain": [
       "(173283,)"
      ]
     },
     "execution_count": 63,
     "metadata": {},
     "output_type": "execute_result"
    }
   ],
   "source": [
    "y_1.shape"
   ]
  },
  {
   "cell_type": "code",
   "execution_count": 64,
   "metadata": {},
   "outputs": [],
   "source": [
    "X_1_train,X_1_test, y_1_train, y_1_test = train_test_split(X_1, y_1, test_size=0.33, random_state =5)\n"
   ]
  },
  {
   "cell_type": "code",
   "execution_count": 65,
   "metadata": {},
   "outputs": [
    {
     "data": {
      "text/plain": [
       "(116099, 42)"
      ]
     },
     "execution_count": 65,
     "metadata": {},
     "output_type": "execute_result"
    }
   ],
   "source": [
    "X_1_train.shape\n"
   ]
  },
  {
   "cell_type": "code",
   "execution_count": 68,
   "metadata": {},
   "outputs": [
    {
     "data": {
      "text/plain": [
       "(116099,)"
      ]
     },
     "execution_count": 68,
     "metadata": {},
     "output_type": "execute_result"
    }
   ],
   "source": [
    "y_1_train.shape"
   ]
  },
  {
   "cell_type": "code",
   "execution_count": 66,
   "metadata": {},
   "outputs": [
    {
     "data": {
      "text/plain": [
       "(57184, 42)"
      ]
     },
     "execution_count": 66,
     "metadata": {},
     "output_type": "execute_result"
    }
   ],
   "source": [
    "X_1_test.shape"
   ]
  },
  {
   "cell_type": "code",
   "execution_count": 67,
   "metadata": {},
   "outputs": [
    {
     "data": {
      "text/plain": [
       "(57184,)"
      ]
     },
     "execution_count": 67,
     "metadata": {},
     "output_type": "execute_result"
    }
   ],
   "source": [
    "y_1_test.shape"
   ]
  },
  {
   "cell_type": "code",
   "execution_count": 69,
   "metadata": {},
   "outputs": [
    {
     "name": "stdout",
     "output_type": "stream",
     "text": [
      "57184/57184 [==============================] - 4s 67us/step\n"
     ]
    }
   ],
   "source": [
    "loaded_model.compile(loss='binary_crossentropy', optimizer='adam', metrics=['accuracy'])\n",
    "score = loaded_model.evaluate(X_1_test, y_1_test)"
   ]
  },
  {
   "cell_type": "code",
   "execution_count": 70,
   "metadata": {},
   "outputs": [
    {
     "name": "stdout",
     "output_type": "stream",
     "text": [
      "Accuracy: 87.02%\n"
     ]
    }
   ],
   "source": [
    "# Final evaluation of the model for DNN\n",
    "# Testing Outputs\n",
    "scores = clf.evaluate(X_1_test, y_1_test, verbose=0)\n",
    "print(\"Accuracy: %.2f%%\" % (scores[1]*100))"
   ]
  },
  {
   "cell_type": "code",
   "execution_count": 71,
   "metadata": {},
   "outputs": [
    {
     "data": {
      "image/png": "[encoded data removed]",
      "text/plain": [
       "<Figure size 432x288 with 1 Axes>"
      ]
     },
     "metadata": {
      "needs_background": "light"
     },
     "output_type": "display_data"
    }
   ],
   "source": [
    "from sklearn.metrics import roc_curve, auc\n",
    "\n",
    "decisions = clf.predict(X_1_test)\n",
    "\n",
    "# Compute ROC curve and area under the curve\n",
    "fpr, tpr, thresholds = roc_curve(y_1_test, decisions)\n",
    "roc_auc = auc(fpr, tpr)\n",
    "plt.plot(fpr, tpr, lw=1, label='ROC (area = %0.2f)'%(roc_auc))\n",
    "\n",
    "plt.plot([0, 1], [0, 1], '--', color=(0.6, 0.6, 0.6), label='Luck')\n",
    "plt.xlim([-0.05, 1.05])\n",
    "plt.ylim([-0.05, 1.05])\n",
    "plt.xlabel('False Positive Rate')\n",
    "plt.ylabel('True Positive Rate')\n",
    "plt.title('Receiver operating characteristic')\n",
    "plt.legend(loc=\"lower right\")\n",
    "plt.grid()\n",
    "# plt.savefig(\"ROC_curve.png\")\n",
    "plt.show()"
   ]
  },
  {
   "cell_type": "code",
   "execution_count": 82,
   "metadata": {},
   "outputs": [
    {
     "data": {
      "image/png": "[encoded data removed]",
      "text/plain": [
       "<Figure size 432x288 with 1 Axes>"
      ]
     },
     "metadata": {
      "needs_background": "light"
     },
     "output_type": "display_data"
    }
   ],
   "source": [
    "import matplotlib\n",
    "plt.figure()                                     # new window\n",
    "matplotlib.rcParams.update({'font.size':14})     # set all font sizes\n",
    "tTest = clf.predict(X_1_test)\n",
    "# if hasattr(clf, \"decision_function\"):\n",
    "#     tTest = clf.decision_function(X_test)        # if available use decision_function\n",
    "# else:\n",
    "#     tTest = clf.predict_proba(X_test)[:,1]       # for e.g. MLP need to use predict_proba\n",
    "tBkg_1 = tTest[y_1_test==0]\n",
    "tSig_1 = tTest[y_1_test==1]\n",
    "nBins = 20\n",
    "tMin = np.floor(np.min(tTest))\n",
    "tMax = np.ceil(np.max(tTest))\n",
    "bins = np.linspace(tMin, tMax, nBins+1)\n",
    "# plt.title('Multilayer perceptron')\n",
    "plt.xlabel(' $DNN$', labelpad=3)\n",
    "plt.ylabel('$Probability density$', labelpad=40)\n",
    "n, bins, patches = plt.hist(tSig, bins=bins, density=True, histtype='step', fill=False, color ='dodgerblue' ,edgecolor = 'blue', hatch = 'XX',label='Tprime_1200')\n",
    "n, bins, patches = plt.hist(tBkg, bins=bins, density=True, histtype='step', fill=False,color = 'red' ,alpha=0.5, edgecolor = 'green', hatch='++', label = 'VH, VHq, gg, ttgg')\n",
    "plt.grid(color = 'b', alpha = 0.5, linestyle = 'dashed')\n",
    "plt.legend(loc='center')\n",
    "plt.title(' ')\n",
    "# plt.savefig('/eos/home-s/sraj/M.Sc._Thesis/Plot_M.Sc._thesis/Plot_with_HDF5_files/''output_TPrime1200_all_background.png')\n",
    "plt.show()"
   ]
  },
  {
   "cell_type": "code",
   "execution_count": 81,
   "metadata": {},
   "outputs": [],
   "source": [
    "from ROOT import TCanvas, TPad, TFormula, TF1, TPaveLabel, TH1F, TFile,TH1D\n",
    "from ROOT import gROOT, gBenchmark"
   ]
  },
  {
   "cell_type": "code",
   "execution_count": 96,
   "metadata": {},
   "outputs": [],
   "source": [
    "f = TFile(\"/eos/home-s/sraj/M.Sc._Thesis/Plot_M.Sc._thesis/ROOT_output/MyrootFile_after_training_Tprime_600_VH_VHq_gg_ttgg_as_background_tested_with_TPrime1200.root\", \"RECREATE\")\n",
    "# tree = TTree(\"root\",  )\n",
    "# How do we get that to create and fill with the background and signal\n",
    "h_bak = TH1D(\"background\", \"background\", 100, 0,1)\n",
    "h_sig = TH1D(\"signal\", \"signal\", 100, 0, 1)\n",
    "h_sum_all = TH1D(\"data_obs\", \"data_obs\", 100, 0, 1)\n",
    "for i in tBkg_1:\n",
    "    h_bak.Fill(i)\n",
    "for j in tSig_1:\n",
    "    h_sig.Fill(j)\n",
    "h_sum_all.Add(h_bak) \n",
    "h_sum_all.Add(h_sig)\n",
    "\n",
    "\n",
    "\n",
    "f.Write()\n",
    "f.Close()"
   ]
  },
  {
   "cell_type": "markdown",
   "metadata": {},
   "source": [
    "Here, The output from the Ist method is not as good as the 2nd one."
   ]
  },
  {
   "cell_type": "markdown",
   "metadata": {},
   "source": [
    "## testing on TPrime_900GeV\n"
   ]
  },
  {
   "cell_type": "code",
   "execution_count": 84,
   "metadata": {},
   "outputs": [],
   "source": [
    "# Load Testing dataset\n",
    "signal_1 = '/eos/user/p/prsaha/for_Shivam/output_TprimeBToTH_Hgg_M-900_LH_TuneCP5_PSweights_13TeV-madgraph_pythia8.root/'\n",
    "treeName_signal_1 = \"tagsDumper/trees/Tprime_900_13TeV_THQLeptonicTag\"\n",
    "signal_Tprime900 = root2array(signal_1, treeName_signal_1, columns)   #Signal TPrime at 600TeV"
   ]
  },
  {
   "cell_type": "code",
   "execution_count": 85,
   "metadata": {},
   "outputs": [],
   "source": [
    "signal_Tprime900;\n",
    "signal_Tprime900 = pd.DataFrame(signal_Tprime900)"
   ]
  },
  {
   "cell_type": "code",
   "execution_count": 86,
   "metadata": {},
   "outputs": [],
   "source": [
    "X_2 = np.concatenate((signal_Tprime900, backgr))\n",
    "y_2 = np.concatenate((np.ones(signal_Tprime900.shape[0]),\n",
    "                    np.zeros(backgr.shape[0])))"
   ]
  },
  {
   "cell_type": "code",
   "execution_count": 87,
   "metadata": {},
   "outputs": [],
   "source": [
    "X_2_train,X_2_test, y_2_train, y_2_test = train_test_split(X_2, y_2, test_size=0.33, random_state =5)\n"
   ]
  },
  {
   "cell_type": "code",
   "execution_count": 88,
   "metadata": {},
   "outputs": [
    {
     "name": "stdout",
     "output_type": "stream",
     "text": [
      "54984/54984 [==============================] - 4s 73us/step\n"
     ]
    }
   ],
   "source": [
    "loaded_model.compile(loss='binary_crossentropy', optimizer='adam', metrics=['accuracy'])\n",
    "score = loaded_model.evaluate(X_2_test, y_2_test)"
   ]
  },
  {
   "cell_type": "code",
   "execution_count": 89,
   "metadata": {},
   "outputs": [
    {
     "name": "stdout",
     "output_type": "stream",
     "text": [
      "Accuracy: 94.65%\n"
     ]
    }
   ],
   "source": [
    "# Final evaluation of the model for DNN\n",
    "# Testing Outputs\n",
    "scores = loaded_model.evaluate(X_2_test, y_2_test, verbose=0)\n",
    "print(\"Accuracy: %.2f%%\" % (scores[1]*100))"
   ]
  },
  {
   "cell_type": "code",
   "execution_count": 90,
   "metadata": {},
   "outputs": [
    {
     "data": {
      "image/png": "[encoded data removed]",
      "text/plain": [
       "<Figure size 432x288 with 1 Axes>"
      ]
     },
     "metadata": {
      "needs_background": "light"
     },
     "output_type": "display_data"
    }
   ],
   "source": [
    "from sklearn.metrics import roc_curve, auc\n",
    "\n",
    "decisions = loaded_model.predict(X_2_test)\n",
    "\n",
    "# Compute ROC curve and area under the curve\n",
    "fpr, tpr, thresholds = roc_curve(y_2_test, decisions)\n",
    "roc_auc = auc(fpr, tpr)\n",
    "plt.plot(fpr, tpr, lw=1, label='ROC (area = %0.2f)'%(roc_auc))\n",
    "\n",
    "plt.plot([0, 1], [0, 1], '--', color=(0.6, 0.6, 0.6), label='Luck')\n",
    "plt.xlim([-0.05, 1.05])\n",
    "plt.ylim([-0.05, 1.05])\n",
    "plt.xlabel('False Positive Rate')\n",
    "plt.ylabel('True Positive Rate')\n",
    "plt.title('Receiver operating characteristic')\n",
    "plt.legend(loc=\"lower right\")\n",
    "\n",
    "plt.grid()\n",
    "# plt.savefig(\"ROC_curve.png\")\n",
    "plt.show()"
   ]
  },
  {
   "cell_type": "code",
   "execution_count": 93,
   "metadata": {},
   "outputs": [
    {
     "data": {
      "image/png": "[encoded data removed]",
      "text/plain": [
       "<Figure size 432x288 with 1 Axes>"
      ]
     },
     "metadata": {
      "needs_background": "light"
     },
     "output_type": "display_data"
    }
   ],
   "source": [
    "import matplotlib\n",
    "plt.figure()                                     # new window\n",
    "matplotlib.rcParams.update({'font.size':14})     # set all font sizes\n",
    "tTest = loaded_model.predict(X_2_test)\n",
    "# if hasattr(clf, \"decision_function\"):\n",
    "#     tTest = clf.decision_function(X_test)        # if available use decision_function\n",
    "# else:\n",
    "#     tTest = clf.predict_proba(X_test)[:,1]       # for e.g. MLP need to use predict_proba\n",
    "tBkg_2 = tTest[y_2_test==0]\n",
    "tSig_2 = tTest[y_2_test==1]\n",
    "nBins = 20\n",
    "tMin = np.floor(np.min(tTest))\n",
    "tMax = np.ceil(np.max(tTest))\n",
    "bins = np.linspace(tMin, tMax, nBins+1)\n",
    "# plt.title('Multilayer perceptron')\n",
    "plt.xlabel(' $DNN$', labelpad=3)\n",
    "plt.ylabel('$Probability density$', labelpad=40)\n",
    "n, bins, patches = plt.hist(tSig, bins=bins, density=True, histtype='step', fill=False, color ='dodgerblue' ,edgecolor = 'blue', hatch = 'XX',label='Tprime_900')\n",
    "n, bins, patches = plt.hist(tBkg, bins=bins, density=True, histtype='step', fill=False,color = 'red' ,alpha=0.5, edgecolor = 'green', hatch='++', label = 'VH, VHq, gg, ttgg')\n",
    "plt.grid(color = 'b', alpha = 0.5, linestyle = 'dashed')\n",
    "plt.legend(loc='center')\n",
    "plt.title('')\n",
    "# plt.savefig('/eos/home-s/sraj/M.Sc._Thesis/Plot_M.Sc._thesis/Plot_with_HDF5_files/''output_TPrime1200_all_background.png')\n",
    "plt.show()"
   ]
  },
  {
   "cell_type": "code",
   "execution_count": 92,
   "metadata": {},
   "outputs": [],
   "source": [
    "from ROOT import TCanvas, TPad, TFormula, TF1, TPaveLabel, TH1F, TFile,TH1D\n",
    "from ROOT import gROOT, gBenchmark"
   ]
  },
  {
   "cell_type": "code",
   "execution_count": 97,
   "metadata": {},
   "outputs": [],
   "source": [
    "f = TFile(\"/eos/home-s/sraj/M.Sc._Thesis/Plot_M.Sc._thesis/ROOT_output/MyrootFile_after_training_Tprime_600_backgrounds_VH_VHq_gg_ttgg_test_with_TPrime900.root\", \"RECREATE\")\n",
    "# tree = TTree(\"root\",  )\n",
    "# How do we get that to create and fill with the background and signal\n",
    "h_bak = TH1D(\"background\", \"background\", 100, 0,1)\n",
    "h_sig = TH1D(\"signal\", \"signal\", 100, 0, 1)\n",
    "h_sum_all = TH1D(\"data_obs\", \"data_obs\", 100, 0, 1)\n",
    "for i in tBkg_2:\n",
    "    h_bak.Fill(i)\n",
    "for j in tSig_2:\n",
    "    h_sig.Fill(j)\n",
    "h_sum_all.Add(h_bak) \n",
    "h_sum_all.Add(h_sig)\n",
    "\n",
    "\n",
    "\n",
    "f.Write()\n",
    "f.Close()"
   ]
  },
  {
   "cell_type": "code",
   "execution_count": null,
   "metadata": {},
   "outputs": [],
   "source": []
  },
  {
   "cell_type": "code",
   "execution_count": null,
   "metadata": {},
   "outputs": [],
   "source": []
  },
  {
   "cell_type": "code",
   "execution_count": null,
   "metadata": {},
   "outputs": [],
   "source": []
  }
 ],
 "metadata": {
  "kernelspec": {
   "display_name": "Python 3",
   "language": "python",
   "name": "python3"
  },
  "language_info": {
   "codemirror_mode": {
    "name": "ipython",
    "version": 3
   },
   "file_extension": ".py",
   "mimetype": "text/x-python",
   "name": "python",
   "nbconvert_exporter": "python",
   "pygments_lexer": "ipython3",
   "version": "3.7.6"
  }
 },
 "nbformat": 4,
 "nbformat_minor": 2
}
